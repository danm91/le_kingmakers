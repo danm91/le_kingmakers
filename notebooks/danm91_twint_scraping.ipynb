{
 "cells": [
  {
   "cell_type": "code",
   "execution_count": 1,
   "id": "04d1d2b8",
   "metadata": {
    "ExecuteTime": {
     "end_time": "2021-06-10T06:56:38.463450Z",
     "start_time": "2021-06-10T06:56:37.670651Z"
    }
   },
   "outputs": [],
   "source": [
    "%load_ext autoreload\n",
    "%autoreload 2\n",
    "import twint\n",
    "import nest_asyncio\n",
    "nest_asyncio.apply()\n",
    "import pandas as pd \n",
    "pd.set_option('display.max_columns', None)\n",
    "from datetime import date, timedelta\n",
    "import matplotlib.pyplot as plt"
   ]
  },
  {
   "cell_type": "code",
   "execution_count": 2,
   "id": "be72b6f6",
   "metadata": {
    "ExecuteTime": {
     "end_time": "2021-06-10T06:56:46.712533Z",
     "start_time": "2021-06-10T06:56:46.675069Z"
    }
   },
   "outputs": [],
   "source": [
    "def twint_scrape(search,location,since,output_file):\n",
    "    \n",
    "    c = twint.Config()\n",
    "\n",
    "    c.Search = search\n",
    "    c.Geo = location\n",
    "    c.Since = since\n",
    "    c.Store_csv = True\n",
    "    c.Lang = 'en'\n",
    "    c.Output = output_file\n",
    "    c.Count = True\n",
    "    c.Hide_output = True\n",
    "    return twint.run.Search(c)"
   ]
  },
  {
   "cell_type": "code",
   "execution_count": 3,
   "id": "5d0e0306",
   "metadata": {
    "ExecuteTime": {
     "end_time": "2021-06-10T06:57:04.407820Z",
     "start_time": "2021-06-10T06:57:04.369441Z"
    }
   },
   "outputs": [
    {
     "data": {
      "text/plain": [
       "'2021-06-03'"
      ]
     },
     "execution_count": 3,
     "metadata": {},
     "output_type": "execute_result"
    }
   ],
   "source": [
    "days_ago = 7\n",
    "since = (date.today()-timedelta(days=days_ago)).strftime('%Y-%m-%d')\n",
    "since"
   ]
  },
  {
   "cell_type": "code",
   "execution_count": 4,
   "id": "15bc6d91",
   "metadata": {
    "ExecuteTime": {
     "end_time": "2021-06-10T06:57:52.152065Z",
     "start_time": "2021-06-10T06:57:52.117370Z"
    }
   },
   "outputs": [],
   "source": [
    "#uk location roughly - most of scotland\n",
    "location = '52.642123,-2.855138,348.739km'"
   ]
  },
  {
   "cell_type": "code",
   "execution_count": 6,
   "id": "f2e387ea",
   "metadata": {
    "ExecuteTime": {
     "end_time": "2021-06-10T06:59:08.287366Z",
     "start_time": "2021-06-10T06:59:08.251528Z"
    }
   },
   "outputs": [],
   "source": [
    "search_terms = ['matthancock','matt hancock']\n",
    "handle = 'MattHancock'"
   ]
  },
  {
   "cell_type": "code",
   "execution_count": 9,
   "id": "d82bcde4",
   "metadata": {
    "ExecuteTime": {
     "end_time": "2021-06-10T07:00:58.507378Z",
     "start_time": "2021-06-10T07:00:58.471076Z"
    }
   },
   "outputs": [
    {
     "data": {
      "text/plain": [
       "'../raw_data/danm91_UK_MattHancock_7_days.csv'"
      ]
     },
     "execution_count": 9,
     "metadata": {},
     "output_type": "execute_result"
    }
   ],
   "source": [
    "output_file = '../raw_data/'+'danm91_'+'UK_'+handle+'_'+str(days_ago)+'_days'+'.csv'\n",
    "output_file"
   ]
  },
  {
   "cell_type": "code",
   "execution_count": 11,
   "id": "b6780845",
   "metadata": {
    "ExecuteTime": {
     "end_time": "2021-06-10T07:10:43.205173Z",
     "start_time": "2021-06-10T07:02:19.256231Z"
    }
   },
   "outputs": [
    {
     "name": "stdout",
     "output_type": "stream",
     "text": [
      "[!] No more data! Scraping will stop now.\n",
      "found 0 deleted tweets in this search.\n",
      "[+] Finished: Successfully collected 18008 Tweets.\n",
      "[!] No more data! Scraping will stop now.\n",
      "found 0 deleted tweets in this search.\n",
      "[+] Finished: Successfully collected 17917 Tweets.\n",
      "CPU times: user 24.7 s, sys: 2.93 s, total: 27.7 s\n",
      "Wall time: 8min 23s\n"
     ]
    }
   ],
   "source": [
    "%%time\n",
    "for term in search_terms:\n",
    "    twint_scrape(term,location,since,output_file)"
   ]
  },
  {
   "cell_type": "code",
   "execution_count": 12,
   "id": "00b0e083",
   "metadata": {
    "ExecuteTime": {
     "end_time": "2021-06-10T07:13:45.770666Z",
     "start_time": "2021-06-10T07:13:45.409126Z"
    }
   },
   "outputs": [],
   "source": [
    "df = pd.read_csv(output_file)"
   ]
  },
  {
   "cell_type": "code",
   "execution_count": 15,
   "id": "264975c2",
   "metadata": {
    "ExecuteTime": {
     "end_time": "2021-06-10T07:14:39.805301Z",
     "start_time": "2021-06-10T07:14:39.593808Z"
    }
   },
   "outputs": [
    {
     "data": {
      "text/plain": [
       "18139"
      ]
     },
     "metadata": {},
     "output_type": "display_data"
    }
   ],
   "source": [
    "display(len(df.drop_duplicates()))\n",
    "df = df.drop_duplicates()"
   ]
  },
  {
   "cell_type": "markdown",
   "id": "8fd5dcdc",
   "metadata": {},
   "source": [
    "### almost not worth doing multiple searches if twitter handle very similar to name "
   ]
  },
  {
   "cell_type": "code",
   "execution_count": 20,
   "id": "ddba5fbb",
   "metadata": {
    "ExecuteTime": {
     "end_time": "2021-06-10T07:16:31.164064Z",
     "start_time": "2021-06-10T07:16:31.126704Z"
    }
   },
   "outputs": [
    {
     "data": {
      "text/plain": [
       "\"@KarenStopHate @MattHancock @openDemocracy Petitions help just wish they would take notice of them more. You also need to opt out by the 23rd, then they can't sell your data regardless. More info in the link but I urge everyone to sign but also make sure you do opt out.  https://t.co/9bTsqKo0Ne\""
      ]
     },
     "execution_count": 20,
     "metadata": {},
     "output_type": "execute_result"
    }
   ],
   "source": [
    "df.sample(1).tweet.values[0]"
   ]
  },
  {
   "cell_type": "code",
   "execution_count": 21,
   "id": "f42409ee",
   "metadata": {
    "ExecuteTime": {
     "end_time": "2021-06-10T07:17:02.665621Z",
     "start_time": "2021-06-10T07:17:02.626824Z"
    }
   },
   "outputs": [],
   "source": [
    "## drop duplicates and then export to output_file location again, remember index=False"
   ]
  },
  {
   "cell_type": "code",
   "execution_count": 22,
   "id": "2c311b2c",
   "metadata": {
    "ExecuteTime": {
     "end_time": "2021-06-10T07:55:26.968567Z",
     "start_time": "2021-06-10T07:55:26.596243Z"
    }
   },
   "outputs": [],
   "source": [
    "df.to_csv(output_file, index=False)"
   ]
  },
  {
   "cell_type": "code",
   "execution_count": 23,
   "id": "57fdb449",
   "metadata": {
    "ExecuteTime": {
     "end_time": "2021-06-10T07:55:37.970983Z",
     "start_time": "2021-06-10T07:55:37.749913Z"
    }
   },
   "outputs": [],
   "source": [
    "df1 = pd.read_csv(output_file)"
   ]
  },
  {
   "cell_type": "code",
   "execution_count": 24,
   "id": "e16c1d07",
   "metadata": {
    "ExecuteTime": {
     "end_time": "2021-06-10T07:55:39.873217Z",
     "start_time": "2021-06-10T07:55:39.835875Z"
    }
   },
   "outputs": [
    {
     "data": {
      "text/plain": [
       "(18139, 36)"
      ]
     },
     "execution_count": 24,
     "metadata": {},
     "output_type": "execute_result"
    }
   ],
   "source": [
    "df1.shape"
   ]
  },
  {
   "cell_type": "code",
   "execution_count": 25,
   "id": "8113c407",
   "metadata": {
    "ExecuteTime": {
     "end_time": "2021-06-10T07:55:49.828855Z",
     "start_time": "2021-06-10T07:55:49.793668Z"
    }
   },
   "outputs": [],
   "source": [
    "## drop duplicates and then export to output_file location again, remember index=False\n",
    "##DONE"
   ]
  },
  {
   "cell_type": "code",
   "execution_count": null,
   "id": "5ffbcbb0",
   "metadata": {},
   "outputs": [],
   "source": []
  }
 ],
 "metadata": {
  "kernelspec": {
   "display_name": "Python 3",
   "language": "python",
   "name": "python3"
  },
  "language_info": {
   "codemirror_mode": {
    "name": "ipython",
    "version": 3
   },
   "file_extension": ".py",
   "mimetype": "text/x-python",
   "name": "python",
   "nbconvert_exporter": "python",
   "pygments_lexer": "ipython3",
   "version": "3.8.6"
  },
  "toc": {
   "base_numbering": 1,
   "nav_menu": {},
   "number_sections": false,
   "sideBar": true,
   "skip_h1_title": false,
   "title_cell": "Table of Contents",
   "title_sidebar": "Contents",
   "toc_cell": false,
   "toc_position": {
    "height": "calc(100% - 180px)",
    "left": "10px",
    "top": "150px",
    "width": "288px"
   },
   "toc_section_display": true,
   "toc_window_display": false
  },
  "varInspector": {
   "cols": {
    "lenName": 16,
    "lenType": 16,
    "lenVar": 40
   },
   "kernels_config": {
    "python": {
     "delete_cmd_postfix": "",
     "delete_cmd_prefix": "del ",
     "library": "var_list.py",
     "varRefreshCmd": "print(var_dic_list())"
    },
    "r": {
     "delete_cmd_postfix": ") ",
     "delete_cmd_prefix": "rm(",
     "library": "var_list.r",
     "varRefreshCmd": "cat(var_dic_list()) "
    }
   },
   "types_to_exclude": [
    "module",
    "function",
    "builtin_function_or_method",
    "instance",
    "_Feature"
   ],
   "window_display": false
  }
 },
 "nbformat": 4,
 "nbformat_minor": 5
}
