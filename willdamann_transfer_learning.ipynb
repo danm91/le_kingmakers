{
  "nbformat": 4,
  "nbformat_minor": 5,
  "metadata": {
    "kernelspec": {
      "display_name": "le_kingmakers",
      "language": "python",
      "name": "le_kingmakers"
    },
    "language_info": {
      "codemirror_mode": {
        "name": "ipython",
        "version": 3
      },
      "file_extension": ".py",
      "mimetype": "text/x-python",
      "name": "python",
      "nbconvert_exporter": "python",
      "pygments_lexer": "ipython3",
      "version": "3.8.6"
    },
    "toc": {
      "base_numbering": 1,
      "nav_menu": {},
      "number_sections": true,
      "sideBar": true,
      "skip_h1_title": false,
      "title_cell": "Table of Contents",
      "title_sidebar": "Contents",
      "toc_cell": false,
      "toc_position": {},
      "toc_section_display": true,
      "toc_window_display": false
    },
    "colab": {
      "name": "willdamann_transfer_learning.ipynb",
      "provenance": [],
      "collapsed_sections": [],
      "machine_shape": "hm",
      "include_colab_link": true
    },
    "accelerator": "GPU"
  },
  "cells": [
    {
      "cell_type": "markdown",
      "metadata": {
        "id": "view-in-github",
        "colab_type": "text"
      },
      "source": [
        "<a href=\"https://colab.research.google.com/github/danm91/le_kingmakers/blob/testing/willdamann_transfer_learning.ipynb\" target=\"_parent\"><img src=\"https://colab.research.google.com/assets/colab-badge.svg\" alt=\"Open In Colab\"/></a>"
      ]
    },
    {
      "cell_type": "code",
      "metadata": {
        "colab": {
          "base_uri": "https://localhost:8080/"
        },
        "id": "zkAF6O8ZQlvW",
        "outputId": "22d68f4f-c4fd-4f94-fe49-52b7f92d61de"
      },
      "source": [
        "from google.colab import drive\n",
        "drive.mount(\"mnt\")"
      ],
      "id": "zkAF6O8ZQlvW",
      "execution_count": 2,
      "outputs": [
        {
          "output_type": "stream",
          "text": [
            "Go to this URL in a browser: https://accounts.google.com/o/oauth2/auth?client_id=947318989803-6bn6qk8qdgf4n4g3pfee6491hc0brc4i.apps.googleusercontent.com&redirect_uri=urn%3aietf%3awg%3aoauth%3a2.0%3aoob&scope=email%20https%3a%2f%2fwww.googleapis.com%2fauth%2fdocs.test%20https%3a%2f%2fwww.googleapis.com%2fauth%2fdrive%20https%3a%2f%2fwww.googleapis.com%2fauth%2fdrive.photos.readonly%20https%3a%2f%2fwww.googleapis.com%2fauth%2fpeopleapi.readonly%20https%3a%2f%2fwww.googleapis.com%2fauth%2fdrive.activity.readonly%20https%3a%2f%2fwww.googleapis.com%2fauth%2fexperimentsandconfigs%20https%3a%2f%2fwww.googleapis.com%2fauth%2fphotos.native&response_type=code\n",
            "\n",
            "Enter your authorization code:\n",
            "4/1AY0e-g5hCkB41svqmnH35AaBbKiBCfVelm-I6FWUNWRt_A75Ky1bnt9Q1UM\n",
            "Mounted at mnt\n"
          ],
          "name": "stdout"
        }
      ]
    },
    {
      "cell_type": "code",
      "metadata": {
        "colab": {
          "base_uri": "https://localhost:8080/"
        },
        "id": "xsDDK-U2TgIe",
        "outputId": "2e614097-6cf8-438f-a6ba-6b7d4fd7c3cd"
      },
      "source": [
        "%cd \"mnt/My Drive/Colab Notebooks\""
      ],
      "id": "xsDDK-U2TgIe",
      "execution_count": 3,
      "outputs": [
        {
          "output_type": "stream",
          "text": [
            "/content/mnt/My Drive/Colab Notebooks\n"
          ],
          "name": "stdout"
        }
      ]
    },
    {
      "cell_type": "code",
      "metadata": {
        "colab": {
          "base_uri": "https://localhost:8080/"
        },
        "id": "5e68cbc6",
        "outputId": "fc4b05b6-2b97-4a98-ed20-51faff1def08"
      },
      "source": [
        "import pandas as pd\n",
        "import re\n",
        "import string\n",
        "import pickle\n",
        "from nltk import tokenize\n",
        "from nltk.tokenize import word_tokenize\n",
        "from nltk.corpus import stopwords\n",
        "from nltk.stem import WordNetLemmatizer\n",
        "from kingmakers.preproc_text import process_tweets\n",
        "from kingmakers.preproc_abbv import abbreviations, convert_abbrev_in_text\n",
        "from sklearn.feature_extraction.text import CountVectorizer\n",
        "from sklearn.model_selection import train_test_split\n",
        "from sklearn.ensemble import RandomForestClassifier\n",
        "from sklearn.model_selection import cross_validate\n",
        "from sklearn.metrics import accuracy_score\n",
        "from sklearn.model_selection import GridSearchCV\n",
        "from sklearn.pipeline import Pipeline\n",
        "import nltk\n",
        "nltk.download('stopwords')\n",
        "nltk.download('punkt')\n",
        "nltk.download('wordnet')\n",
        "import xgboost as xgb"
      ],
      "id": "5e68cbc6",
      "execution_count": 4,
      "outputs": [
        {
          "output_type": "stream",
          "text": [
            "[nltk_data] Downloading package stopwords to /root/nltk_data...\n",
            "[nltk_data]   Unzipping corpora/stopwords.zip.\n",
            "[nltk_data] Downloading package punkt to /root/nltk_data...\n",
            "[nltk_data]   Unzipping tokenizers/punkt.zip.\n",
            "[nltk_data] Downloading package wordnet to /root/nltk_data...\n",
            "[nltk_data]   Unzipping corpora/wordnet.zip.\n"
          ],
          "name": "stdout"
        }
      ]
    },
    {
      "cell_type": "code",
      "metadata": {
        "id": "583cb156"
      },
      "source": [
        ""
      ],
      "id": "583cb156",
      "execution_count": null,
      "outputs": []
    },
    {
      "cell_type": "code",
      "metadata": {
        "id": "937477b1"
      },
      "source": [
        "df = pd.read_csv('kingmakers/training.1600000.processed.noemoticon.csv', encoding='latin', names = ['sentiment','id','date','query','user','tweet'])"
      ],
      "id": "937477b1",
      "execution_count": 5,
      "outputs": []
    },
    {
      "cell_type": "code",
      "metadata": {
        "id": "6c689939"
      },
      "source": [
        "df_test = df.sample(frac = 0.05, random_state=0)[['sentiment', 'tweet']]"
      ],
      "id": "6c689939",
      "execution_count": 6,
      "outputs": []
    },
    {
      "cell_type": "code",
      "metadata": {
        "id": "e17ae144"
      },
      "source": [
        "preprocess = Pipeline([\n",
        "    ('preprocess', TextPreprocess()),\n",
        "    ('abbreviation', TextConvertAbbv())])\n"
      ],
      "id": "e17ae144",
      "execution_count": null,
      "outputs": []
    },
    {
      "cell_type": "code",
      "metadata": {
        "id": "34633ba0"
      },
      "source": [
        "df_test_2 = df_test"
      ],
      "id": "34633ba0",
      "execution_count": null,
      "outputs": []
    },
    {
      "cell_type": "code",
      "metadata": {
        "id": "ab44ee76"
      },
      "source": [
        "df_test_2['tweet'] = preprocess.transform(df_test_2['tweet'])"
      ],
      "id": "ab44ee76",
      "execution_count": null,
      "outputs": []
    },
    {
      "cell_type": "code",
      "metadata": {
        "id": "2da88a25",
        "outputId": "c924954d-02a9-48c6-bf91-7fb6d43d5a0c"
      },
      "source": [
        "df_test_2"
      ],
      "id": "2da88a25",
      "execution_count": null,
      "outputs": [
        {
          "output_type": "execute_result",
          "data": {
            "text/html": [
              "<div>\n",
              "<style scoped>\n",
              "    .dataframe tbody tr th:only-of-type {\n",
              "        vertical-align: middle;\n",
              "    }\n",
              "\n",
              "    .dataframe tbody tr th {\n",
              "        vertical-align: top;\n",
              "    }\n",
              "\n",
              "    .dataframe thead th {\n",
              "        text-align: right;\n",
              "    }\n",
              "</style>\n",
              "<table border=\"1\" class=\"dataframe\">\n",
              "  <thead>\n",
              "    <tr style=\"text-align: right;\">\n",
              "      <th></th>\n",
              "      <th>sentiment</th>\n",
              "      <th>tweet</th>\n",
              "    </tr>\n",
              "  </thead>\n",
              "  <tbody>\n",
              "    <tr>\n",
              "      <th>557138</th>\n",
              "      <td>0</td>\n",
              "      <td>want compete want hard competition want rally ...</td>\n",
              "    </tr>\n",
              "    <tr>\n",
              "      <th>349381</th>\n",
              "      <td>0</td>\n",
              "      <td>seems stuck ground amarillo put ground stop fl...</td>\n",
              "    </tr>\n",
              "    <tr>\n",
              "      <th>182051</th>\n",
              "      <td>0</td>\n",
              "      <td>pinking shear rarararrrarararrbabyproofing cut...</td>\n",
              "    </tr>\n",
              "    <tr>\n",
              "      <th>571236</th>\n",
              "      <td>0</td>\n",
              "      <td>0ff t0 meetin hate people v0lunteer free timegrrr</td>\n",
              "    </tr>\n",
              "    <tr>\n",
              "      <th>1339637</th>\n",
              "      <td>4</td>\n",
              "      <td>reply pls</td>\n",
              "    </tr>\n",
              "    <tr>\n",
              "      <th>...</th>\n",
              "      <td>...</td>\n",
              "      <td>...</td>\n",
              "    </tr>\n",
              "    <tr>\n",
              "      <th>1350300</th>\n",
              "      <td>4</td>\n",
              "      <td>think get raise mommy salary not cavity right ...</td>\n",
              "    </tr>\n",
              "    <tr>\n",
              "      <th>651945</th>\n",
              "      <td>0</td>\n",
              "      <td>heading dmv soon quotlegallyquot ride amp avoi...</td>\n",
              "    </tr>\n",
              "    <tr>\n",
              "      <th>390068</th>\n",
              "      <td>0</td>\n",
              "      <td>discouraged lack time management</td>\n",
              "    </tr>\n",
              "    <tr>\n",
              "      <th>1058149</th>\n",
              "      <td>4</td>\n",
              "      <td>good call sukses dong selalu buat kamu</td>\n",
              "    </tr>\n",
              "    <tr>\n",
              "      <th>956608</th>\n",
              "      <td>4</td>\n",
              "      <td>must watch go lakers</td>\n",
              "    </tr>\n",
              "  </tbody>\n",
              "</table>\n",
              "<p>80000 rows × 2 columns</p>\n",
              "</div>"
            ],
            "text/plain": [
              "         sentiment                                              tweet\n",
              "557138           0  want compete want hard competition want rally ...\n",
              "349381           0  seems stuck ground amarillo put ground stop fl...\n",
              "182051           0  pinking shear rarararrrarararrbabyproofing cut...\n",
              "571236           0  0ff t0 meetin hate people v0lunteer free timegrrr\n",
              "1339637          4                                          reply pls\n",
              "...            ...                                                ...\n",
              "1350300          4  think get raise mommy salary not cavity right ...\n",
              "651945           0  heading dmv soon quotlegallyquot ride amp avoi...\n",
              "390068           0                   discouraged lack time management\n",
              "1058149          4             good call sukses dong selalu buat kamu\n",
              "956608           4                               must watch go lakers\n",
              "\n",
              "[80000 rows x 2 columns]"
            ]
          },
          "metadata": {
            "tags": []
          },
          "execution_count": 50
        }
      ]
    },
    {
      "cell_type": "code",
      "metadata": {
        "id": "0ded3889",
        "outputId": "28a8197e-7e5f-4c02-cd56-74ac53eb22a1"
      },
      "source": [
        "df_test"
      ],
      "id": "0ded3889",
      "execution_count": null,
      "outputs": [
        {
          "output_type": "execute_result",
          "data": {
            "text/html": [
              "<div>\n",
              "<style scoped>\n",
              "    .dataframe tbody tr th:only-of-type {\n",
              "        vertical-align: middle;\n",
              "    }\n",
              "\n",
              "    .dataframe tbody tr th {\n",
              "        vertical-align: top;\n",
              "    }\n",
              "\n",
              "    .dataframe thead th {\n",
              "        text-align: right;\n",
              "    }\n",
              "</style>\n",
              "<table border=\"1\" class=\"dataframe\">\n",
              "  <thead>\n",
              "    <tr style=\"text-align: right;\">\n",
              "      <th></th>\n",
              "      <th>sentiment</th>\n",
              "      <th>tweet</th>\n",
              "    </tr>\n",
              "  </thead>\n",
              "  <tbody>\n",
              "    <tr>\n",
              "      <th>557138</th>\n",
              "      <td>0</td>\n",
              "      <td>want compete want hard competition want rally ...</td>\n",
              "    </tr>\n",
              "    <tr>\n",
              "      <th>349381</th>\n",
              "      <td>0</td>\n",
              "      <td>seems stuck ground amarillo put ground stop fl...</td>\n",
              "    </tr>\n",
              "    <tr>\n",
              "      <th>182051</th>\n",
              "      <td>0</td>\n",
              "      <td>pinking shear rarararrrarararrbabyproofing cut...</td>\n",
              "    </tr>\n",
              "    <tr>\n",
              "      <th>571236</th>\n",
              "      <td>0</td>\n",
              "      <td>0ff t0 meetin hate people v0lunteer free timegrrr</td>\n",
              "    </tr>\n",
              "    <tr>\n",
              "      <th>1339637</th>\n",
              "      <td>4</td>\n",
              "      <td>reply pls</td>\n",
              "    </tr>\n",
              "    <tr>\n",
              "      <th>...</th>\n",
              "      <td>...</td>\n",
              "      <td>...</td>\n",
              "    </tr>\n",
              "    <tr>\n",
              "      <th>1350300</th>\n",
              "      <td>4</td>\n",
              "      <td>think get raise mommy salary not cavity right ...</td>\n",
              "    </tr>\n",
              "    <tr>\n",
              "      <th>651945</th>\n",
              "      <td>0</td>\n",
              "      <td>heading dmv soon quotlegallyquot ride amp avoi...</td>\n",
              "    </tr>\n",
              "    <tr>\n",
              "      <th>390068</th>\n",
              "      <td>0</td>\n",
              "      <td>discouraged lack time management</td>\n",
              "    </tr>\n",
              "    <tr>\n",
              "      <th>1058149</th>\n",
              "      <td>4</td>\n",
              "      <td>good call sukses dong selalu buat kamu</td>\n",
              "    </tr>\n",
              "    <tr>\n",
              "      <th>956608</th>\n",
              "      <td>4</td>\n",
              "      <td>must watch go lakers</td>\n",
              "    </tr>\n",
              "  </tbody>\n",
              "</table>\n",
              "<p>80000 rows × 2 columns</p>\n",
              "</div>"
            ],
            "text/plain": [
              "         sentiment                                              tweet\n",
              "557138           0  want compete want hard competition want rally ...\n",
              "349381           0  seems stuck ground amarillo put ground stop fl...\n",
              "182051           0  pinking shear rarararrrarararrbabyproofing cut...\n",
              "571236           0  0ff t0 meetin hate people v0lunteer free timegrrr\n",
              "1339637          4                                          reply pls\n",
              "...            ...                                                ...\n",
              "1350300          4  think get raise mommy salary not cavity right ...\n",
              "651945           0  heading dmv soon quotlegallyquot ride amp avoi...\n",
              "390068           0                   discouraged lack time management\n",
              "1058149          4             good call sukses dong selalu buat kamu\n",
              "956608           4                               must watch go lakers\n",
              "\n",
              "[80000 rows x 2 columns]"
            ]
          },
          "metadata": {
            "tags": []
          },
          "execution_count": 51
        }
      ]
    },
    {
      "cell_type": "code",
      "metadata": {
        "id": "5f1adc93"
      },
      "source": [
        "df_test_prep = df_test\n",
        "df_test_prep['tweet'] = df_test_prep['tweet'].apply(lambda x: process_tweets(x))\n",
        "df_test_prep['tweet'] = df_test_prep['tweet'].apply(lambda x: convert_abbrev_in_text(x))\n"
      ],
      "id": "5f1adc93",
      "execution_count": 31,
      "outputs": []
    },
    {
      "cell_type": "markdown",
      "metadata": {
        "id": "32f2b993"
      },
      "source": [
        "# Count Vectorizer"
      ],
      "id": "32f2b993"
    },
    {
      "cell_type": "code",
      "metadata": {
        "id": "6800e6a7"
      },
      "source": [
        "from tensorflow.keras.preprocessing.sequence import pad_sequences\n",
        "from tensorflow.keras.preprocessing.text import Tokenizer\n",
        "\n"
      ],
      "id": "6800e6a7",
      "execution_count": 10,
      "outputs": []
    },
    {
      "cell_type": "code",
      "metadata": {
        "id": "519ecf88"
      },
      "source": [
        "X=df_test_prep['tweet']\n",
        "y=df_test_prep['sentiment']\n",
        "X_train1, X_test, y_train1, y_test = train_test_split(X, y, test_size=0.20,random_state=0)\n",
        "X_train, X_val, y_train, y_val = train_test_split(X_train1, y_train1, test_size = 0.2, random_state=0)"
      ],
      "id": "519ecf88",
      "execution_count": 86,
      "outputs": []
    },
    {
      "cell_type": "code",
      "metadata": {
        "id": "786d8171"
      },
      "source": [
        "\n",
        "X_train_token = [word_tokenize(i) for i in X_train]\n",
        "\n",
        "\n",
        "X_test_token = [word_tokenize(i) for i in X_val]"
      ],
      "id": "786d8171",
      "execution_count": 87,
      "outputs": []
    },
    {
      "cell_type": "code",
      "metadata": {
        "colab": {
          "base_uri": "https://localhost:8080/"
        },
        "id": "BM7URG5ON8LF",
        "outputId": "30fda181-b454-4f9d-ebc8-52ba0c2aaf51"
      },
      "source": [
        ""
      ],
      "id": "BM7URG5ON8LF",
      "execution_count": 35,
      "outputs": [
        {
          "output_type": "execute_result",
          "data": {
            "text/plain": [
              "139181     good newsand fridayeven better yeah laugh shal...\n",
              "844880                                     thank going watch\n",
              "1042124    ah see got hopeful determined part going rest ...\n",
              "796702                                            miss skank\n",
              "667179                                 drop toilet like wife\n",
              "                                 ...                        \n",
              "386679     stuck car park docklands manage finish dinner ...\n",
              "811423                  hi nice emeet pretty good hows thing\n",
              "467604     really need sleep seeing not spell right ahhh ...\n",
              "223189                                             next year\n",
              "871289                 awww great way start day old daughter\n",
              "Name: tweet, Length: 51200, dtype: object"
            ]
          },
          "metadata": {
            "tags": []
          },
          "execution_count": 35
        }
      ]
    },
    {
      "cell_type": "code",
      "metadata": {
        "colab": {
          "base_uri": "https://localhost:8080/",
          "height": 354
        },
        "id": "V-yOQ_W4i8JI",
        "outputId": "0b55751e-8f58-4b8d-a63b-6e1cf7588b02"
      },
      "source": [
        "import gensim.downloader as api\n",
        "word2vec_transfer = api.load('glove-twitter-50')"
      ],
      "id": "V-yOQ_W4i8JI",
      "execution_count": 105,
      "outputs": [
        {
          "output_type": "error",
          "ename": "KeyboardInterrupt",
          "evalue": "ignored",
          "traceback": [
            "\u001b[0;31m---------------------------------------------------------------------------\u001b[0m",
            "\u001b[0;31mKeyboardInterrupt\u001b[0m                         Traceback (most recent call last)",
            "\u001b[0;32m<ipython-input-105-a4cb0848e480>\u001b[0m in \u001b[0;36m<module>\u001b[0;34m()\u001b[0m\n\u001b[1;32m      1\u001b[0m \u001b[0;32mimport\u001b[0m \u001b[0mgensim\u001b[0m\u001b[0;34m.\u001b[0m\u001b[0mdownloader\u001b[0m \u001b[0;32mas\u001b[0m \u001b[0mapi\u001b[0m\u001b[0;34m\u001b[0m\u001b[0;34m\u001b[0m\u001b[0m\n\u001b[0;32m----> 2\u001b[0;31m \u001b[0mword2vec_transfer\u001b[0m \u001b[0;34m=\u001b[0m \u001b[0mapi\u001b[0m\u001b[0;34m.\u001b[0m\u001b[0mload\u001b[0m\u001b[0;34m(\u001b[0m\u001b[0;34m'glove-twitter-50'\u001b[0m\u001b[0;34m)\u001b[0m\u001b[0;34m\u001b[0m\u001b[0;34m\u001b[0m\u001b[0m\n\u001b[0m",
            "\u001b[0;32m/usr/local/lib/python3.7/dist-packages/gensim/downloader.py\u001b[0m in \u001b[0;36mload\u001b[0;34m(name, return_path)\u001b[0m\n\u001b[1;32m    422\u001b[0m         \u001b[0msys\u001b[0m\u001b[0;34m.\u001b[0m\u001b[0mpath\u001b[0m\u001b[0;34m.\u001b[0m\u001b[0minsert\u001b[0m\u001b[0;34m(\u001b[0m\u001b[0;36m0\u001b[0m\u001b[0;34m,\u001b[0m \u001b[0mbase_dir\u001b[0m\u001b[0;34m)\u001b[0m\u001b[0;34m\u001b[0m\u001b[0;34m\u001b[0m\u001b[0m\n\u001b[1;32m    423\u001b[0m         \u001b[0mmodule\u001b[0m \u001b[0;34m=\u001b[0m \u001b[0m__import__\u001b[0m\u001b[0;34m(\u001b[0m\u001b[0mname\u001b[0m\u001b[0;34m)\u001b[0m\u001b[0;34m\u001b[0m\u001b[0;34m\u001b[0m\u001b[0m\n\u001b[0;32m--> 424\u001b[0;31m         \u001b[0;32mreturn\u001b[0m \u001b[0mmodule\u001b[0m\u001b[0;34m.\u001b[0m\u001b[0mload_data\u001b[0m\u001b[0;34m(\u001b[0m\u001b[0;34m)\u001b[0m\u001b[0;34m\u001b[0m\u001b[0;34m\u001b[0m\u001b[0m\n\u001b[0m\u001b[1;32m    425\u001b[0m \u001b[0;34m\u001b[0m\u001b[0m\n\u001b[1;32m    426\u001b[0m \u001b[0;34m\u001b[0m\u001b[0m\n",
            "\u001b[0;32m/root/gensim-data/glove-twitter-50/__init__.py\u001b[0m in \u001b[0;36mload_data\u001b[0;34m()\u001b[0m\n\u001b[1;32m      6\u001b[0m \u001b[0;32mdef\u001b[0m \u001b[0mload_data\u001b[0m\u001b[0;34m(\u001b[0m\u001b[0;34m)\u001b[0m\u001b[0;34m:\u001b[0m\u001b[0;34m\u001b[0m\u001b[0;34m\u001b[0m\u001b[0m\n\u001b[1;32m      7\u001b[0m     \u001b[0mpath\u001b[0m \u001b[0;34m=\u001b[0m \u001b[0mos\u001b[0m\u001b[0;34m.\u001b[0m\u001b[0mpath\u001b[0m\u001b[0;34m.\u001b[0m\u001b[0mjoin\u001b[0m\u001b[0;34m(\u001b[0m\u001b[0mbase_dir\u001b[0m\u001b[0;34m,\u001b[0m \u001b[0;34m'glove-twitter-50'\u001b[0m\u001b[0;34m,\u001b[0m \u001b[0;34m'glove-twitter-50.gz'\u001b[0m\u001b[0;34m)\u001b[0m\u001b[0;34m\u001b[0m\u001b[0;34m\u001b[0m\u001b[0m\n\u001b[0;32m----> 8\u001b[0;31m     \u001b[0mmodel\u001b[0m \u001b[0;34m=\u001b[0m \u001b[0mKeyedVectors\u001b[0m\u001b[0;34m.\u001b[0m\u001b[0mload_word2vec_format\u001b[0m\u001b[0;34m(\u001b[0m\u001b[0mpath\u001b[0m\u001b[0;34m)\u001b[0m\u001b[0;34m\u001b[0m\u001b[0;34m\u001b[0m\u001b[0m\n\u001b[0m\u001b[1;32m      9\u001b[0m     \u001b[0;32mreturn\u001b[0m \u001b[0mmodel\u001b[0m\u001b[0;34m\u001b[0m\u001b[0;34m\u001b[0m\u001b[0m\n",
            "\u001b[0;32m/usr/local/lib/python3.7/dist-packages/gensim/models/keyedvectors.py\u001b[0m in \u001b[0;36mload_word2vec_format\u001b[0;34m(cls, fname, fvocab, binary, encoding, unicode_errors, limit, datatype)\u001b[0m\n\u001b[1;32m   1436\u001b[0m         return _load_word2vec_format(\n\u001b[1;32m   1437\u001b[0m             \u001b[0mcls\u001b[0m\u001b[0;34m,\u001b[0m \u001b[0mfname\u001b[0m\u001b[0;34m,\u001b[0m \u001b[0mfvocab\u001b[0m\u001b[0;34m=\u001b[0m\u001b[0mfvocab\u001b[0m\u001b[0;34m,\u001b[0m \u001b[0mbinary\u001b[0m\u001b[0;34m=\u001b[0m\u001b[0mbinary\u001b[0m\u001b[0;34m,\u001b[0m \u001b[0mencoding\u001b[0m\u001b[0;34m=\u001b[0m\u001b[0mencoding\u001b[0m\u001b[0;34m,\u001b[0m \u001b[0municode_errors\u001b[0m\u001b[0;34m=\u001b[0m\u001b[0municode_errors\u001b[0m\u001b[0;34m,\u001b[0m\u001b[0;34m\u001b[0m\u001b[0;34m\u001b[0m\u001b[0m\n\u001b[0;32m-> 1438\u001b[0;31m             limit=limit, datatype=datatype)\n\u001b[0m\u001b[1;32m   1439\u001b[0m \u001b[0;34m\u001b[0m\u001b[0m\n\u001b[1;32m   1440\u001b[0m     \u001b[0;32mdef\u001b[0m \u001b[0mget_keras_embedding\u001b[0m\u001b[0;34m(\u001b[0m\u001b[0mself\u001b[0m\u001b[0;34m,\u001b[0m \u001b[0mtrain_embeddings\u001b[0m\u001b[0;34m=\u001b[0m\u001b[0;32mFalse\u001b[0m\u001b[0;34m)\u001b[0m\u001b[0;34m:\u001b[0m\u001b[0;34m\u001b[0m\u001b[0;34m\u001b[0m\u001b[0m\n",
            "\u001b[0;32m/usr/local/lib/python3.7/dist-packages/gensim/models/utils_any2vec.py\u001b[0m in \u001b[0;36m_load_word2vec_format\u001b[0;34m(cls, fname, fvocab, binary, encoding, unicode_errors, limit, datatype)\u001b[0m\n\u001b[1;32m    221\u001b[0m                     \u001b[0;32mraise\u001b[0m \u001b[0mValueError\u001b[0m\u001b[0;34m(\u001b[0m\u001b[0;34m\"invalid vector on line %s (is this really the text format?)\"\u001b[0m \u001b[0;34m%\u001b[0m \u001b[0mline_no\u001b[0m\u001b[0;34m)\u001b[0m\u001b[0;34m\u001b[0m\u001b[0;34m\u001b[0m\u001b[0m\n\u001b[1;32m    222\u001b[0m                 \u001b[0mword\u001b[0m\u001b[0;34m,\u001b[0m \u001b[0mweights\u001b[0m \u001b[0;34m=\u001b[0m \u001b[0mparts\u001b[0m\u001b[0;34m[\u001b[0m\u001b[0;36m0\u001b[0m\u001b[0;34m]\u001b[0m\u001b[0;34m,\u001b[0m \u001b[0;34m[\u001b[0m\u001b[0mdatatype\u001b[0m\u001b[0;34m(\u001b[0m\u001b[0mx\u001b[0m\u001b[0;34m)\u001b[0m \u001b[0;32mfor\u001b[0m \u001b[0mx\u001b[0m \u001b[0;32min\u001b[0m \u001b[0mparts\u001b[0m\u001b[0;34m[\u001b[0m\u001b[0;36m1\u001b[0m\u001b[0;34m:\u001b[0m\u001b[0;34m]\u001b[0m\u001b[0;34m]\u001b[0m\u001b[0;34m\u001b[0m\u001b[0;34m\u001b[0m\u001b[0m\n\u001b[0;32m--> 223\u001b[0;31m                 \u001b[0madd_word\u001b[0m\u001b[0;34m(\u001b[0m\u001b[0mword\u001b[0m\u001b[0;34m,\u001b[0m \u001b[0mweights\u001b[0m\u001b[0;34m)\u001b[0m\u001b[0;34m\u001b[0m\u001b[0;34m\u001b[0m\u001b[0m\n\u001b[0m\u001b[1;32m    224\u001b[0m     \u001b[0;32mif\u001b[0m \u001b[0mresult\u001b[0m\u001b[0;34m.\u001b[0m\u001b[0mvectors\u001b[0m\u001b[0;34m.\u001b[0m\u001b[0mshape\u001b[0m\u001b[0;34m[\u001b[0m\u001b[0;36m0\u001b[0m\u001b[0;34m]\u001b[0m \u001b[0;34m!=\u001b[0m \u001b[0mlen\u001b[0m\u001b[0;34m(\u001b[0m\u001b[0mresult\u001b[0m\u001b[0;34m.\u001b[0m\u001b[0mvocab\u001b[0m\u001b[0;34m)\u001b[0m\u001b[0;34m:\u001b[0m\u001b[0;34m\u001b[0m\u001b[0;34m\u001b[0m\u001b[0m\n\u001b[1;32m    225\u001b[0m         logger.info(\n",
            "\u001b[0;32m/usr/local/lib/python3.7/dist-packages/gensim/models/utils_any2vec.py\u001b[0m in \u001b[0;36madd_word\u001b[0;34m(word, weights)\u001b[0m\n\u001b[1;32m    193\u001b[0m                 \u001b[0mlogger\u001b[0m\u001b[0;34m.\u001b[0m\u001b[0mwarning\u001b[0m\u001b[0;34m(\u001b[0m\u001b[0;34m\"vocabulary file is incomplete: '%s' is missing\"\u001b[0m\u001b[0;34m,\u001b[0m \u001b[0mword\u001b[0m\u001b[0;34m)\u001b[0m\u001b[0;34m\u001b[0m\u001b[0;34m\u001b[0m\u001b[0m\n\u001b[1;32m    194\u001b[0m                 \u001b[0mresult\u001b[0m\u001b[0;34m.\u001b[0m\u001b[0mvocab\u001b[0m\u001b[0;34m[\u001b[0m\u001b[0mword\u001b[0m\u001b[0;34m]\u001b[0m \u001b[0;34m=\u001b[0m \u001b[0mVocab\u001b[0m\u001b[0;34m(\u001b[0m\u001b[0mindex\u001b[0m\u001b[0;34m=\u001b[0m\u001b[0mword_id\u001b[0m\u001b[0;34m,\u001b[0m \u001b[0mcount\u001b[0m\u001b[0;34m=\u001b[0m\u001b[0;32mNone\u001b[0m\u001b[0;34m)\u001b[0m\u001b[0;34m\u001b[0m\u001b[0;34m\u001b[0m\u001b[0m\n\u001b[0;32m--> 195\u001b[0;31m             \u001b[0mresult\u001b[0m\u001b[0;34m.\u001b[0m\u001b[0mvectors\u001b[0m\u001b[0;34m[\u001b[0m\u001b[0mword_id\u001b[0m\u001b[0;34m]\u001b[0m \u001b[0;34m=\u001b[0m \u001b[0mweights\u001b[0m\u001b[0;34m\u001b[0m\u001b[0;34m\u001b[0m\u001b[0m\n\u001b[0m\u001b[1;32m    196\u001b[0m             \u001b[0mresult\u001b[0m\u001b[0;34m.\u001b[0m\u001b[0mindex2word\u001b[0m\u001b[0;34m.\u001b[0m\u001b[0mappend\u001b[0m\u001b[0;34m(\u001b[0m\u001b[0mword\u001b[0m\u001b[0;34m)\u001b[0m\u001b[0;34m\u001b[0m\u001b[0;34m\u001b[0m\u001b[0m\n\u001b[1;32m    197\u001b[0m \u001b[0;34m\u001b[0m\u001b[0m\n",
            "\u001b[0;31mKeyboardInterrupt\u001b[0m: "
          ]
        }
      ]
    },
    {
      "cell_type": "code",
      "metadata": {
        "id": "Immf_mxfNJ4t"
      },
      "source": [
        "from tensorflow.keras.preprocessing.sequence import pad_sequences\n",
        "import numpy as np"
      ],
      "id": "Immf_mxfNJ4t",
      "execution_count": 88,
      "outputs": []
    },
    {
      "cell_type": "code",
      "metadata": {
        "id": "mVSAWsKaNN_-"
      },
      "source": [
        "def embed_sentence_with_TF(word2vec, sentence):\n",
        "    embedded_sentence = []\n",
        "    for word in sentence:\n",
        "        if word in word2vec:\n",
        "            embedded_sentence.append(word2vec[word])\n",
        "        \n",
        "    return np.array(embedded_sentence)\n",
        "\n",
        "# Function that converts a list of sentences into a list of matrices\n",
        "def embedding(word2vec, sentences):\n",
        "    embed = []\n",
        "    \n",
        "    for sentence in sentences:\n",
        "        embedded_sentence = embed_sentence_with_TF(word2vec, sentence)\n",
        "        embed.append(embedded_sentence)\n",
        "        \n",
        "    return embed\n",
        "\n",
        "# Embed the training and test sentences\n",
        "X_train_embed_2 = embedding(word2vec_transfer, X_train_token)\n",
        "X_test_embed_2 = embedding(word2vec_transfer, X_test_token)"
      ],
      "id": "mVSAWsKaNN_-",
      "execution_count": 106,
      "outputs": []
    },
    {
      "cell_type": "code",
      "metadata": {
        "id": "ghcdyjiCV-_g"
      },
      "source": [
        "maxlen = len(X_train_embed_2[0])\n",
        "for i in X_train_embed_2:\n",
        "  if len(i) > maxlen:\n",
        "    maxlen = len(i) \n",
        "                         "
      ],
      "id": "ghcdyjiCV-_g",
      "execution_count": 107,
      "outputs": []
    },
    {
      "cell_type": "code",
      "metadata": {
        "colab": {
          "base_uri": "https://localhost:8080/"
        },
        "id": "WPh4uvmAWafq",
        "outputId": "caf5a8b4-38f9-41de-bb48-2c06589d2148"
      },
      "source": [
        "maxlen"
      ],
      "id": "WPh4uvmAWafq",
      "execution_count": 108,
      "outputs": [
        {
          "output_type": "execute_result",
          "data": {
            "text/plain": [
              "28"
            ]
          },
          "metadata": {
            "tags": []
          },
          "execution_count": 108
        }
      ]
    },
    {
      "cell_type": "code",
      "metadata": {
        "id": "5cc770bb"
      },
      "source": [
        "X_train_pad_2 = pad_sequences(X_train_embed_2, dtype='float32', padding='post')\n",
        "X_test_pad_2 = pad_sequences(X_test_embed_2, dtype='float32', padding='post')"
      ],
      "id": "5cc770bb",
      "execution_count": 102,
      "outputs": []
    },
    {
      "cell_type": "code",
      "metadata": {
        "id": "H6ZQsi9BkuVO"
      },
      "source": [
        ""
      ],
      "id": "H6ZQsi9BkuVO",
      "execution_count": null,
      "outputs": []
    },
    {
      "cell_type": "code",
      "metadata": {
        "id": "g7_kRavBjtsf"
      },
      "source": [
        "y_train = y_train.map(lambda x: 1 if x==4 else 0)"
      ],
      "id": "g7_kRavBjtsf",
      "execution_count": 121,
      "outputs": []
    },
    {
      "cell_type": "code",
      "metadata": {
        "colab": {
          "base_uri": "https://localhost:8080/"
        },
        "id": "grc301a6by87",
        "outputId": "7d2ddb38-0e00-499e-e2e8-4309ba8bf612"
      },
      "source": [
        "y_train"
      ],
      "id": "grc301a6by87",
      "execution_count": 122,
      "outputs": [
        {
          "output_type": "execute_result",
          "data": {
            "text/plain": [
              "139181     0\n",
              "844880     1\n",
              "1042124    1\n",
              "796702     0\n",
              "667179     0\n",
              "          ..\n",
              "386679     0\n",
              "811423     1\n",
              "467604     0\n",
              "223189     0\n",
              "871289     1\n",
              "Name: sentiment, Length: 51200, dtype: int64"
            ]
          },
          "metadata": {
            "tags": []
          },
          "execution_count": 122
        }
      ]
    },
    {
      "cell_type": "code",
      "metadata": {
        "id": "D4lZXeIqobSb"
      },
      "source": [
        "from tensorflow.keras.layers import Bidirectional"
      ],
      "id": "D4lZXeIqobSb",
      "execution_count": 130,
      "outputs": []
    },
    {
      "cell_type": "code",
      "metadata": {
        "colab": {
          "base_uri": "https://localhost:8080/"
        },
        "id": "oZjtKJf7nOO3",
        "outputId": "be4c383a-458c-4b68-efd9-ec0181d08344"
      },
      "source": [
        "def glove_lstm():\n",
        "    model = Sequential()\n",
        "    \n",
        "    model.add(layers.Masking())\n",
        "    \n",
        "    model.add(Bidirectional(layers.LSTM(\n",
        "        28, \n",
        "        return_sequences = True, \n",
        "        recurrent_dropout=0.2\n",
        "    )))\n",
        "    \n",
        "    model.add(layers.GlobalMaxPool1D())\n",
        "    model.add(layers.BatchNormalization())\n",
        "    model.add(layers.Dropout(0.5))\n",
        "    model.add(layers.Dense(28, activation = \"relu\"))\n",
        "    model.add(layers.Dropout(0.5))\n",
        "    model.add(layers.Dense(28, activation = \"relu\"))\n",
        "    model.add(layers.Dropout(0.5))\n",
        "    model.add(layers.Dense(1, activation = 'sigmoid'))\n",
        "    model.compile(optimizer='rmsprop', loss='binary_crossentropy', metrics=['accuracy'])\n",
        "    \n",
        "    return model\n",
        "\n",
        "model1 = glove_lstm()\n"
      ],
      "id": "oZjtKJf7nOO3",
      "execution_count": 137,
      "outputs": [
        {
          "output_type": "stream",
          "text": [
            "WARNING:tensorflow:Layer lstm_19 will not use cuDNN kernels since it doesn't meet the criteria. It will use a generic GPU kernel as fallback when running on GPU.\n",
            "WARNING:tensorflow:Layer lstm_19 will not use cuDNN kernels since it doesn't meet the criteria. It will use a generic GPU kernel as fallback when running on GPU.\n",
            "WARNING:tensorflow:Layer lstm_19 will not use cuDNN kernels since it doesn't meet the criteria. It will use a generic GPU kernel as fallback when running on GPU.\n"
          ],
          "name": "stdout"
        }
      ]
    },
    {
      "cell_type": "code",
      "metadata": {
        "id": "59c21c13"
      },
      "source": [
        "from tensorflow.keras.callbacks import EarlyStopping\n",
        "\n",
        "es = EarlyStopping(patience=50, restore_best_weights=True)"
      ],
      "id": "59c21c13",
      "execution_count": 124,
      "outputs": []
    },
    {
      "cell_type": "code",
      "metadata": {
        "id": "L58TTQ6fsgLL"
      },
      "source": [
        "from tensorflow.keras import Sequential\n",
        "from tensorflow.keras import layers\n",
        "def init_model():\n",
        "    model = Sequential()\n",
        "    model.add(layers.Masking())\n",
        "    model.add(layers.LSTM(64, activation='tanh'))\n",
        "    model.add(layers.Dense(32, activation='relu'))\n",
        "    model.add(layers.Dense(1, activation='sigmoid'))\n",
        "    model.compile(loss='binary_crossentropy',\n",
        "                  optimizer='rmsprop',\n",
        "                  metrics=['accuracy'])\n",
        "    return model\n",
        "      \n",
        "\n",
        "model = init_model()"
      ],
      "id": "L58TTQ6fsgLL",
      "execution_count": 125,
      "outputs": []
    },
    {
      "cell_type": "code",
      "metadata": {
        "colab": {
          "base_uri": "https://localhost:8080/",
          "height": 1000
        },
        "id": "JaSvQO7IOy5e",
        "outputId": "76e8c64a-bf0d-487b-f03a-1df75fa6adc9"
      },
      "source": [
        "model.fit(X_train_pad_2, y_train, \n",
        "          batch_size = 64,\n",
        "          epochs=100,\n",
        "          validation_split=0.3,\n",
        "          callbacks=[es]\n",
        "         )"
      ],
      "id": "JaSvQO7IOy5e",
      "execution_count": 126,
      "outputs": [
        {
          "output_type": "stream",
          "text": [
            "Epoch 1/100\n",
            "560/560 [==============================] - 13s 17ms/step - loss: 0.5567 - accuracy: 0.7127 - val_loss: 0.5290 - val_accuracy: 0.7307\n",
            "Epoch 2/100\n",
            "560/560 [==============================] - 8s 15ms/step - loss: 0.5143 - accuracy: 0.7437 - val_loss: 0.5176 - val_accuracy: 0.7393\n",
            "Epoch 3/100\n",
            "560/560 [==============================] - 8s 14ms/step - loss: 0.4924 - accuracy: 0.7583 - val_loss: 0.5142 - val_accuracy: 0.7480\n",
            "Epoch 4/100\n",
            "560/560 [==============================] - 8s 15ms/step - loss: 0.4763 - accuracy: 0.7693 - val_loss: 0.5069 - val_accuracy: 0.7473\n",
            "Epoch 5/100\n",
            "560/560 [==============================] - 8s 15ms/step - loss: 0.4636 - accuracy: 0.7773 - val_loss: 0.4905 - val_accuracy: 0.7597\n",
            "Epoch 6/100\n",
            "560/560 [==============================] - 8s 15ms/step - loss: 0.4531 - accuracy: 0.7835 - val_loss: 0.4918 - val_accuracy: 0.7573\n",
            "Epoch 7/100\n",
            "560/560 [==============================] - 8s 15ms/step - loss: 0.4409 - accuracy: 0.7916 - val_loss: 0.4887 - val_accuracy: 0.7611\n",
            "Epoch 8/100\n",
            "560/560 [==============================] - 8s 15ms/step - loss: 0.4304 - accuracy: 0.7988 - val_loss: 0.4897 - val_accuracy: 0.7647\n",
            "Epoch 9/100\n",
            "560/560 [==============================] - 8s 15ms/step - loss: 0.4189 - accuracy: 0.8044 - val_loss: 0.5062 - val_accuracy: 0.7582\n",
            "Epoch 10/100\n",
            "560/560 [==============================] - 8s 15ms/step - loss: 0.4076 - accuracy: 0.8122 - val_loss: 0.5040 - val_accuracy: 0.7609\n",
            "Epoch 11/100\n",
            "560/560 [==============================] - 8s 15ms/step - loss: 0.3960 - accuracy: 0.8164 - val_loss: 0.5106 - val_accuracy: 0.7561\n",
            "Epoch 12/100\n",
            "560/560 [==============================] - 8s 15ms/step - loss: 0.3834 - accuracy: 0.8237 - val_loss: 0.5240 - val_accuracy: 0.7564\n",
            "Epoch 13/100\n",
            "560/560 [==============================] - 8s 15ms/step - loss: 0.3711 - accuracy: 0.8309 - val_loss: 0.5397 - val_accuracy: 0.7508\n",
            "Epoch 14/100\n",
            "560/560 [==============================] - 8s 15ms/step - loss: 0.3589 - accuracy: 0.8384 - val_loss: 0.5411 - val_accuracy: 0.7531\n",
            "Epoch 15/100\n",
            "560/560 [==============================] - 8s 15ms/step - loss: 0.3436 - accuracy: 0.8482 - val_loss: 0.5697 - val_accuracy: 0.7516\n",
            "Epoch 16/100\n",
            "560/560 [==============================] - 8s 15ms/step - loss: 0.3301 - accuracy: 0.8509 - val_loss: 0.5919 - val_accuracy: 0.7522\n",
            "Epoch 17/100\n",
            "560/560 [==============================] - 8s 15ms/step - loss: 0.3177 - accuracy: 0.8587 - val_loss: 0.5954 - val_accuracy: 0.7454\n",
            "Epoch 18/100\n",
            "560/560 [==============================] - 8s 15ms/step - loss: 0.3033 - accuracy: 0.8673 - val_loss: 0.6247 - val_accuracy: 0.7429\n",
            "Epoch 19/100\n",
            "560/560 [==============================] - 8s 15ms/step - loss: 0.2898 - accuracy: 0.8727 - val_loss: 0.6648 - val_accuracy: 0.7462\n",
            "Epoch 20/100\n",
            "560/560 [==============================] - 8s 15ms/step - loss: 0.2777 - accuracy: 0.8792 - val_loss: 0.6710 - val_accuracy: 0.7441\n",
            "Epoch 21/100\n",
            "560/560 [==============================] - 8s 15ms/step - loss: 0.2645 - accuracy: 0.8868 - val_loss: 0.7073 - val_accuracy: 0.7446\n",
            "Epoch 22/100\n",
            "560/560 [==============================] - 8s 15ms/step - loss: 0.2511 - accuracy: 0.8937 - val_loss: 0.7242 - val_accuracy: 0.7402\n",
            "Epoch 23/100\n",
            "560/560 [==============================] - 8s 15ms/step - loss: 0.2389 - accuracy: 0.9016 - val_loss: 0.7685 - val_accuracy: 0.7371\n",
            "Epoch 24/100\n",
            "560/560 [==============================] - 8s 15ms/step - loss: 0.2256 - accuracy: 0.9073 - val_loss: 0.8140 - val_accuracy: 0.7400\n",
            "Epoch 25/100\n",
            "560/560 [==============================] - 9s 15ms/step - loss: 0.2151 - accuracy: 0.9121 - val_loss: 0.8474 - val_accuracy: 0.7331\n",
            "Epoch 26/100\n",
            "560/560 [==============================] - 8s 15ms/step - loss: 0.2021 - accuracy: 0.9176 - val_loss: 0.8565 - val_accuracy: 0.7325\n",
            "Epoch 27/100\n",
            "560/560 [==============================] - 9s 15ms/step - loss: 0.1922 - accuracy: 0.9227 - val_loss: 0.8977 - val_accuracy: 0.7317\n",
            "Epoch 28/100\n",
            "560/560 [==============================] - 9s 15ms/step - loss: 0.1807 - accuracy: 0.9282 - val_loss: 0.9671 - val_accuracy: 0.7296\n",
            "Epoch 29/100\n",
            "560/560 [==============================] - 8s 15ms/step - loss: 0.1697 - accuracy: 0.9320 - val_loss: 1.0141 - val_accuracy: 0.7330\n",
            "Epoch 30/100\n",
            "560/560 [==============================] - 8s 15ms/step - loss: 0.1604 - accuracy: 0.9370 - val_loss: 1.0846 - val_accuracy: 0.7305\n",
            "Epoch 31/100\n",
            "560/560 [==============================] - 8s 15ms/step - loss: 0.1504 - accuracy: 0.9417 - val_loss: 1.1033 - val_accuracy: 0.7245\n",
            "Epoch 32/100\n",
            "560/560 [==============================] - 8s 15ms/step - loss: 0.1418 - accuracy: 0.9463 - val_loss: 1.1944 - val_accuracy: 0.7243\n",
            "Epoch 33/100\n",
            "560/560 [==============================] - 8s 14ms/step - loss: 0.1332 - accuracy: 0.9499 - val_loss: 1.2280 - val_accuracy: 0.7261\n",
            "Epoch 34/100\n",
            "560/560 [==============================] - 8s 15ms/step - loss: 0.1249 - accuracy: 0.9539 - val_loss: 1.2725 - val_accuracy: 0.7243\n",
            "Epoch 35/100\n",
            "560/560 [==============================] - 8s 15ms/step - loss: 0.1164 - accuracy: 0.9561 - val_loss: 1.3444 - val_accuracy: 0.7238\n",
            "Epoch 36/100\n",
            "560/560 [==============================] - 8s 15ms/step - loss: 0.1103 - accuracy: 0.9587 - val_loss: 1.4200 - val_accuracy: 0.7238\n",
            "Epoch 37/100\n",
            "560/560 [==============================] - 8s 15ms/step - loss: 0.1030 - accuracy: 0.9607 - val_loss: 1.4538 - val_accuracy: 0.7170\n",
            "Epoch 38/100\n",
            "560/560 [==============================] - 9s 15ms/step - loss: 0.0976 - accuracy: 0.9635 - val_loss: 1.5415 - val_accuracy: 0.7204\n",
            "Epoch 39/100\n",
            "560/560 [==============================] - 8s 15ms/step - loss: 0.0908 - accuracy: 0.9669 - val_loss: 1.5842 - val_accuracy: 0.7200\n",
            "Epoch 40/100\n",
            "560/560 [==============================] - 8s 15ms/step - loss: 0.0873 - accuracy: 0.9681 - val_loss: 1.6401 - val_accuracy: 0.7199\n",
            "Epoch 41/100\n",
            "560/560 [==============================] - 9s 15ms/step - loss: 0.0804 - accuracy: 0.9708 - val_loss: 1.6660 - val_accuracy: 0.7196\n",
            "Epoch 42/100\n",
            "560/560 [==============================] - 8s 15ms/step - loss: 0.0772 - accuracy: 0.9725 - val_loss: 1.7701 - val_accuracy: 0.7208\n",
            "Epoch 43/100\n",
            "560/560 [==============================] - 8s 15ms/step - loss: 0.0723 - accuracy: 0.9741 - val_loss: 1.8129 - val_accuracy: 0.7182\n",
            "Epoch 44/100\n",
            "560/560 [==============================] - 8s 15ms/step - loss: 0.0682 - accuracy: 0.9761 - val_loss: 1.8950 - val_accuracy: 0.7133\n",
            "Epoch 45/100\n",
            "560/560 [==============================] - 9s 15ms/step - loss: 0.0668 - accuracy: 0.9758 - val_loss: 1.9530 - val_accuracy: 0.7178\n",
            "Epoch 46/100\n",
            "560/560 [==============================] - 8s 15ms/step - loss: 0.0634 - accuracy: 0.9772 - val_loss: 2.0270 - val_accuracy: 0.7107\n",
            "Epoch 47/100\n",
            "560/560 [==============================] - 8s 15ms/step - loss: 0.0598 - accuracy: 0.9789 - val_loss: 2.0748 - val_accuracy: 0.7203\n",
            "Epoch 48/100\n",
            "560/560 [==============================] - 8s 15ms/step - loss: 0.0566 - accuracy: 0.9800 - val_loss: 2.1275 - val_accuracy: 0.7172\n",
            "Epoch 49/100\n",
            "560/560 [==============================] - 8s 15ms/step - loss: 0.0555 - accuracy: 0.9810 - val_loss: 2.2059 - val_accuracy: 0.7176\n",
            "Epoch 50/100\n",
            "560/560 [==============================] - 8s 15ms/step - loss: 0.0535 - accuracy: 0.9810 - val_loss: 2.2021 - val_accuracy: 0.7143\n",
            "Epoch 51/100\n",
            "560/560 [==============================] - 8s 15ms/step - loss: 0.0522 - accuracy: 0.9816 - val_loss: 2.2532 - val_accuracy: 0.7132\n",
            "Epoch 52/100\n",
            "560/560 [==============================] - 8s 15ms/step - loss: 0.0488 - accuracy: 0.9837 - val_loss: 2.3291 - val_accuracy: 0.7156\n",
            "Epoch 53/100\n",
            "560/560 [==============================] - 8s 15ms/step - loss: 0.0492 - accuracy: 0.9830 - val_loss: 2.3712 - val_accuracy: 0.7165\n",
            "Epoch 54/100\n",
            "560/560 [==============================] - 8s 15ms/step - loss: 0.0457 - accuracy: 0.9841 - val_loss: 2.4583 - val_accuracy: 0.7132\n",
            "Epoch 55/100\n",
            "560/560 [==============================] - 8s 15ms/step - loss: 0.0453 - accuracy: 0.9842 - val_loss: 2.5120 - val_accuracy: 0.7158\n",
            "Epoch 56/100\n",
            " 91/560 [===>..........................] - ETA: 5s - loss: 0.0378 - accuracy: 0.9868"
          ],
          "name": "stdout"
        },
        {
          "output_type": "error",
          "ename": "KeyboardInterrupt",
          "evalue": "ignored",
          "traceback": [
            "\u001b[0;31m---------------------------------------------------------------------------\u001b[0m",
            "\u001b[0;31mKeyboardInterrupt\u001b[0m                         Traceback (most recent call last)",
            "\u001b[0;32m<ipython-input-126-879a0d9a75e6>\u001b[0m in \u001b[0;36m<module>\u001b[0;34m()\u001b[0m\n\u001b[1;32m      3\u001b[0m           \u001b[0mepochs\u001b[0m\u001b[0;34m=\u001b[0m\u001b[0;36m100\u001b[0m\u001b[0;34m,\u001b[0m\u001b[0;34m\u001b[0m\u001b[0;34m\u001b[0m\u001b[0m\n\u001b[1;32m      4\u001b[0m           \u001b[0mvalidation_split\u001b[0m\u001b[0;34m=\u001b[0m\u001b[0;36m0.3\u001b[0m\u001b[0;34m,\u001b[0m\u001b[0;34m\u001b[0m\u001b[0;34m\u001b[0m\u001b[0m\n\u001b[0;32m----> 5\u001b[0;31m           \u001b[0mcallbacks\u001b[0m\u001b[0;34m=\u001b[0m\u001b[0;34m[\u001b[0m\u001b[0mes\u001b[0m\u001b[0;34m]\u001b[0m\u001b[0;34m\u001b[0m\u001b[0;34m\u001b[0m\u001b[0m\n\u001b[0m\u001b[1;32m      6\u001b[0m          )\n",
            "\u001b[0;32m/usr/local/lib/python3.7/dist-packages/tensorflow/python/keras/engine/training.py\u001b[0m in \u001b[0;36mfit\u001b[0;34m(self, x, y, batch_size, epochs, verbose, callbacks, validation_split, validation_data, shuffle, class_weight, sample_weight, initial_epoch, steps_per_epoch, validation_steps, validation_batch_size, validation_freq, max_queue_size, workers, use_multiprocessing)\u001b[0m\n\u001b[1;32m   1181\u001b[0m                 _r=1):\n\u001b[1;32m   1182\u001b[0m               \u001b[0mcallbacks\u001b[0m\u001b[0;34m.\u001b[0m\u001b[0mon_train_batch_begin\u001b[0m\u001b[0;34m(\u001b[0m\u001b[0mstep\u001b[0m\u001b[0;34m)\u001b[0m\u001b[0;34m\u001b[0m\u001b[0;34m\u001b[0m\u001b[0m\n\u001b[0;32m-> 1183\u001b[0;31m               \u001b[0mtmp_logs\u001b[0m \u001b[0;34m=\u001b[0m \u001b[0mself\u001b[0m\u001b[0;34m.\u001b[0m\u001b[0mtrain_function\u001b[0m\u001b[0;34m(\u001b[0m\u001b[0miterator\u001b[0m\u001b[0;34m)\u001b[0m\u001b[0;34m\u001b[0m\u001b[0;34m\u001b[0m\u001b[0m\n\u001b[0m\u001b[1;32m   1184\u001b[0m               \u001b[0;32mif\u001b[0m \u001b[0mdata_handler\u001b[0m\u001b[0;34m.\u001b[0m\u001b[0mshould_sync\u001b[0m\u001b[0;34m:\u001b[0m\u001b[0;34m\u001b[0m\u001b[0;34m\u001b[0m\u001b[0m\n\u001b[1;32m   1185\u001b[0m                 \u001b[0mcontext\u001b[0m\u001b[0;34m.\u001b[0m\u001b[0masync_wait\u001b[0m\u001b[0;34m(\u001b[0m\u001b[0;34m)\u001b[0m\u001b[0;34m\u001b[0m\u001b[0;34m\u001b[0m\u001b[0m\n",
            "\u001b[0;32m/usr/local/lib/python3.7/dist-packages/tensorflow/python/eager/def_function.py\u001b[0m in \u001b[0;36m__call__\u001b[0;34m(self, *args, **kwds)\u001b[0m\n\u001b[1;32m    887\u001b[0m \u001b[0;34m\u001b[0m\u001b[0m\n\u001b[1;32m    888\u001b[0m       \u001b[0;32mwith\u001b[0m \u001b[0mOptionalXlaContext\u001b[0m\u001b[0;34m(\u001b[0m\u001b[0mself\u001b[0m\u001b[0;34m.\u001b[0m\u001b[0m_jit_compile\u001b[0m\u001b[0;34m)\u001b[0m\u001b[0;34m:\u001b[0m\u001b[0;34m\u001b[0m\u001b[0;34m\u001b[0m\u001b[0m\n\u001b[0;32m--> 889\u001b[0;31m         \u001b[0mresult\u001b[0m \u001b[0;34m=\u001b[0m \u001b[0mself\u001b[0m\u001b[0;34m.\u001b[0m\u001b[0m_call\u001b[0m\u001b[0;34m(\u001b[0m\u001b[0;34m*\u001b[0m\u001b[0margs\u001b[0m\u001b[0;34m,\u001b[0m \u001b[0;34m**\u001b[0m\u001b[0mkwds\u001b[0m\u001b[0;34m)\u001b[0m\u001b[0;34m\u001b[0m\u001b[0;34m\u001b[0m\u001b[0m\n\u001b[0m\u001b[1;32m    890\u001b[0m \u001b[0;34m\u001b[0m\u001b[0m\n\u001b[1;32m    891\u001b[0m       \u001b[0mnew_tracing_count\u001b[0m \u001b[0;34m=\u001b[0m \u001b[0mself\u001b[0m\u001b[0;34m.\u001b[0m\u001b[0mexperimental_get_tracing_count\u001b[0m\u001b[0;34m(\u001b[0m\u001b[0;34m)\u001b[0m\u001b[0;34m\u001b[0m\u001b[0;34m\u001b[0m\u001b[0m\n",
            "\u001b[0;32m/usr/local/lib/python3.7/dist-packages/tensorflow/python/eager/def_function.py\u001b[0m in \u001b[0;36m_call\u001b[0;34m(self, *args, **kwds)\u001b[0m\n\u001b[1;32m    915\u001b[0m       \u001b[0;31m# In this case we have created variables on the first call, so we run the\u001b[0m\u001b[0;34m\u001b[0m\u001b[0;34m\u001b[0m\u001b[0;34m\u001b[0m\u001b[0m\n\u001b[1;32m    916\u001b[0m       \u001b[0;31m# defunned version which is guaranteed to never create variables.\u001b[0m\u001b[0;34m\u001b[0m\u001b[0;34m\u001b[0m\u001b[0;34m\u001b[0m\u001b[0m\n\u001b[0;32m--> 917\u001b[0;31m       \u001b[0;32mreturn\u001b[0m \u001b[0mself\u001b[0m\u001b[0;34m.\u001b[0m\u001b[0m_stateless_fn\u001b[0m\u001b[0;34m(\u001b[0m\u001b[0;34m*\u001b[0m\u001b[0margs\u001b[0m\u001b[0;34m,\u001b[0m \u001b[0;34m**\u001b[0m\u001b[0mkwds\u001b[0m\u001b[0;34m)\u001b[0m  \u001b[0;31m# pylint: disable=not-callable\u001b[0m\u001b[0;34m\u001b[0m\u001b[0;34m\u001b[0m\u001b[0m\n\u001b[0m\u001b[1;32m    918\u001b[0m     \u001b[0;32melif\u001b[0m \u001b[0mself\u001b[0m\u001b[0;34m.\u001b[0m\u001b[0m_stateful_fn\u001b[0m \u001b[0;32mis\u001b[0m \u001b[0;32mnot\u001b[0m \u001b[0;32mNone\u001b[0m\u001b[0;34m:\u001b[0m\u001b[0;34m\u001b[0m\u001b[0;34m\u001b[0m\u001b[0m\n\u001b[1;32m    919\u001b[0m       \u001b[0;31m# Release the lock early so that multiple threads can perform the call\u001b[0m\u001b[0;34m\u001b[0m\u001b[0;34m\u001b[0m\u001b[0;34m\u001b[0m\u001b[0m\n",
            "\u001b[0;32m/usr/local/lib/python3.7/dist-packages/tensorflow/python/eager/function.py\u001b[0m in \u001b[0;36m__call__\u001b[0;34m(self, *args, **kwargs)\u001b[0m\n\u001b[1;32m   3022\u001b[0m        filtered_flat_args) = self._maybe_define_function(args, kwargs)\n\u001b[1;32m   3023\u001b[0m     return graph_function._call_flat(\n\u001b[0;32m-> 3024\u001b[0;31m         filtered_flat_args, captured_inputs=graph_function.captured_inputs)  # pylint: disable=protected-access\n\u001b[0m\u001b[1;32m   3025\u001b[0m \u001b[0;34m\u001b[0m\u001b[0m\n\u001b[1;32m   3026\u001b[0m   \u001b[0;34m@\u001b[0m\u001b[0mproperty\u001b[0m\u001b[0;34m\u001b[0m\u001b[0;34m\u001b[0m\u001b[0m\n",
            "\u001b[0;32m/usr/local/lib/python3.7/dist-packages/tensorflow/python/eager/function.py\u001b[0m in \u001b[0;36m_call_flat\u001b[0;34m(self, args, captured_inputs, cancellation_manager)\u001b[0m\n\u001b[1;32m   1959\u001b[0m       \u001b[0;31m# No tape is watching; skip to running the function.\u001b[0m\u001b[0;34m\u001b[0m\u001b[0;34m\u001b[0m\u001b[0;34m\u001b[0m\u001b[0m\n\u001b[1;32m   1960\u001b[0m       return self._build_call_outputs(self._inference_function.call(\n\u001b[0;32m-> 1961\u001b[0;31m           ctx, args, cancellation_manager=cancellation_manager))\n\u001b[0m\u001b[1;32m   1962\u001b[0m     forward_backward = self._select_forward_and_backward_functions(\n\u001b[1;32m   1963\u001b[0m         \u001b[0margs\u001b[0m\u001b[0;34m,\u001b[0m\u001b[0;34m\u001b[0m\u001b[0;34m\u001b[0m\u001b[0m\n",
            "\u001b[0;32m/usr/local/lib/python3.7/dist-packages/tensorflow/python/eager/function.py\u001b[0m in \u001b[0;36mcall\u001b[0;34m(self, ctx, args, cancellation_manager)\u001b[0m\n\u001b[1;32m    594\u001b[0m               \u001b[0minputs\u001b[0m\u001b[0;34m=\u001b[0m\u001b[0margs\u001b[0m\u001b[0;34m,\u001b[0m\u001b[0;34m\u001b[0m\u001b[0;34m\u001b[0m\u001b[0m\n\u001b[1;32m    595\u001b[0m               \u001b[0mattrs\u001b[0m\u001b[0;34m=\u001b[0m\u001b[0mattrs\u001b[0m\u001b[0;34m,\u001b[0m\u001b[0;34m\u001b[0m\u001b[0;34m\u001b[0m\u001b[0m\n\u001b[0;32m--> 596\u001b[0;31m               ctx=ctx)\n\u001b[0m\u001b[1;32m    597\u001b[0m         \u001b[0;32melse\u001b[0m\u001b[0;34m:\u001b[0m\u001b[0;34m\u001b[0m\u001b[0;34m\u001b[0m\u001b[0m\n\u001b[1;32m    598\u001b[0m           outputs = execute.execute_with_cancellation(\n",
            "\u001b[0;32m/usr/local/lib/python3.7/dist-packages/tensorflow/python/eager/execute.py\u001b[0m in \u001b[0;36mquick_execute\u001b[0;34m(op_name, num_outputs, inputs, attrs, ctx, name)\u001b[0m\n\u001b[1;32m     58\u001b[0m     \u001b[0mctx\u001b[0m\u001b[0;34m.\u001b[0m\u001b[0mensure_initialized\u001b[0m\u001b[0;34m(\u001b[0m\u001b[0;34m)\u001b[0m\u001b[0;34m\u001b[0m\u001b[0;34m\u001b[0m\u001b[0m\n\u001b[1;32m     59\u001b[0m     tensors = pywrap_tfe.TFE_Py_Execute(ctx._handle, device_name, op_name,\n\u001b[0;32m---> 60\u001b[0;31m                                         inputs, attrs, num_outputs)\n\u001b[0m\u001b[1;32m     61\u001b[0m   \u001b[0;32mexcept\u001b[0m \u001b[0mcore\u001b[0m\u001b[0;34m.\u001b[0m\u001b[0m_NotOkStatusException\u001b[0m \u001b[0;32mas\u001b[0m \u001b[0me\u001b[0m\u001b[0;34m:\u001b[0m\u001b[0;34m\u001b[0m\u001b[0;34m\u001b[0m\u001b[0m\n\u001b[1;32m     62\u001b[0m     \u001b[0;32mif\u001b[0m \u001b[0mname\u001b[0m \u001b[0;32mis\u001b[0m \u001b[0;32mnot\u001b[0m \u001b[0;32mNone\u001b[0m\u001b[0;34m:\u001b[0m\u001b[0;34m\u001b[0m\u001b[0;34m\u001b[0m\u001b[0m\n",
            "\u001b[0;31mKeyboardInterrupt\u001b[0m: "
          ]
        }
      ]
    },
    {
      "cell_type": "code",
      "metadata": {
        "colab": {
          "base_uri": "https://localhost:8080/"
        },
        "id": "AlWnHJlWpEs1",
        "outputId": "9142d1fc-a0bb-4ca9-f5ff-25ba38bdb6ce"
      },
      "source": [
        "model1.fit(X_train_pad_2, y_train, \n",
        "          batch_size = 64,\n",
        "          epochs=100,\n",
        "          validation_split=0.3,\n",
        "          callbacks=[es]\n",
        "         )"
      ],
      "id": "AlWnHJlWpEs1",
      "execution_count": null,
      "outputs": [
        {
          "output_type": "stream",
          "text": [
            "Epoch 1/100\n",
            "560/560 [==============================] - 49s 81ms/step - loss: 0.6941 - accuracy: 0.6008 - val_loss: 0.5866 - val_accuracy: 0.7029\n",
            "Epoch 2/100\n",
            "560/560 [==============================] - 45s 81ms/step - loss: 0.5879 - accuracy: 0.6999 - val_loss: 0.5428 - val_accuracy: 0.7276\n",
            "Epoch 3/100\n",
            "560/560 [==============================] - 45s 81ms/step - loss: 0.5575 - accuracy: 0.7259 - val_loss: 0.5228 - val_accuracy: 0.7432\n",
            "Epoch 4/100\n",
            "560/560 [==============================] - 45s 81ms/step - loss: 0.5426 - accuracy: 0.7379 - val_loss: 0.5108 - val_accuracy: 0.7477\n",
            "Epoch 5/100\n",
            "560/560 [==============================] - 45s 81ms/step - loss: 0.5343 - accuracy: 0.7443 - val_loss: 0.5010 - val_accuracy: 0.7544\n",
            "Epoch 6/100\n",
            "560/560 [==============================] - 45s 81ms/step - loss: 0.5244 - accuracy: 0.7486 - val_loss: 0.4970 - val_accuracy: 0.7556\n",
            "Epoch 7/100\n",
            "560/560 [==============================] - 45s 80ms/step - loss: 0.5210 - accuracy: 0.7549 - val_loss: 0.4964 - val_accuracy: 0.7564\n",
            "Epoch 8/100\n",
            "560/560 [==============================] - 45s 80ms/step - loss: 0.5187 - accuracy: 0.7565 - val_loss: 0.4956 - val_accuracy: 0.7589\n",
            "Epoch 9/100\n",
            "560/560 [==============================] - 45s 81ms/step - loss: 0.5131 - accuracy: 0.7604 - val_loss: 0.4917 - val_accuracy: 0.7611\n",
            "Epoch 10/100\n",
            "560/560 [==============================] - 45s 80ms/step - loss: 0.5067 - accuracy: 0.7642 - val_loss: 0.4892 - val_accuracy: 0.7641\n",
            "Epoch 11/100\n",
            "560/560 [==============================] - 45s 81ms/step - loss: 0.5026 - accuracy: 0.7628 - val_loss: 0.4910 - val_accuracy: 0.7615\n",
            "Epoch 12/100\n",
            "560/560 [==============================] - 45s 81ms/step - loss: 0.5007 - accuracy: 0.7657 - val_loss: 0.4873 - val_accuracy: 0.7644\n",
            "Epoch 13/100\n",
            "560/560 [==============================] - 45s 81ms/step - loss: 0.4970 - accuracy: 0.7678 - val_loss: 0.4845 - val_accuracy: 0.7650\n",
            "Epoch 14/100\n",
            "560/560 [==============================] - 45s 81ms/step - loss: 0.4945 - accuracy: 0.7722 - val_loss: 0.4886 - val_accuracy: 0.7658\n",
            "Epoch 15/100\n",
            "560/560 [==============================] - 45s 80ms/step - loss: 0.4922 - accuracy: 0.7703 - val_loss: 0.4925 - val_accuracy: 0.7653\n",
            "Epoch 16/100\n",
            "560/560 [==============================] - 45s 80ms/step - loss: 0.4879 - accuracy: 0.7719 - val_loss: 0.4848 - val_accuracy: 0.7658\n",
            "Epoch 17/100\n",
            "560/560 [==============================] - 45s 80ms/step - loss: 0.4869 - accuracy: 0.7751 - val_loss: 0.4829 - val_accuracy: 0.7688\n",
            "Epoch 18/100\n",
            "560/560 [==============================] - 45s 81ms/step - loss: 0.4840 - accuracy: 0.7807 - val_loss: 0.4823 - val_accuracy: 0.7702\n",
            "Epoch 19/100\n",
            "560/560 [==============================] - 46s 82ms/step - loss: 0.4817 - accuracy: 0.7799 - val_loss: 0.4871 - val_accuracy: 0.7696\n",
            "Epoch 20/100\n",
            "560/560 [==============================] - 45s 81ms/step - loss: 0.4835 - accuracy: 0.7814 - val_loss: 0.4913 - val_accuracy: 0.7660\n",
            "Epoch 21/100\n",
            "560/560 [==============================] - 45s 81ms/step - loss: 0.4795 - accuracy: 0.7802 - val_loss: 0.4870 - val_accuracy: 0.7691\n",
            "Epoch 22/100\n",
            "560/560 [==============================] - 45s 80ms/step - loss: 0.4755 - accuracy: 0.7828 - val_loss: 0.4821 - val_accuracy: 0.7717\n",
            "Epoch 23/100\n",
            "560/560 [==============================] - 45s 80ms/step - loss: 0.4727 - accuracy: 0.7836 - val_loss: 0.4838 - val_accuracy: 0.7704\n",
            "Epoch 24/100\n",
            "560/560 [==============================] - 45s 80ms/step - loss: 0.4731 - accuracy: 0.7827 - val_loss: 0.4837 - val_accuracy: 0.7695\n",
            "Epoch 25/100\n",
            "560/560 [==============================] - 46s 82ms/step - loss: 0.4692 - accuracy: 0.7869 - val_loss: 0.4897 - val_accuracy: 0.7660\n",
            "Epoch 26/100\n",
            "471/560 [========================>.....] - ETA: 6s - loss: 0.4705 - accuracy: 0.7863"
          ],
          "name": "stdout"
        }
      ]
    }
  ]
}