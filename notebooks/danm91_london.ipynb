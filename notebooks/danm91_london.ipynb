{
 "cells": [
  {
   "cell_type": "code",
   "execution_count": 64,
   "id": "471025a7",
   "metadata": {
    "ExecuteTime": {
     "end_time": "2021-06-08T13:28:08.084636Z",
     "start_time": "2021-06-08T13:28:08.049124Z"
    }
   },
   "outputs": [
    {
     "name": "stdout",
     "output_type": "stream",
     "text": [
      "The autoreload extension is already loaded. To reload it, use:\n",
      "  %reload_ext autoreload\n"
     ]
    }
   ],
   "source": [
    "%load_ext autoreload\n",
    "%autoreload 2"
   ]
  },
  {
   "cell_type": "code",
   "execution_count": 65,
   "id": "0d458c89",
   "metadata": {
    "ExecuteTime": {
     "end_time": "2021-06-08T13:28:08.492294Z",
     "start_time": "2021-06-08T13:28:08.478544Z"
    }
   },
   "outputs": [],
   "source": [
    "import twint\n",
    "import nest_asyncio\n",
    "nest_asyncio.apply()\n",
    "import pandas as pd \n",
    "pd.set_option('display.max_columns', None)\n",
    "from datetime import date, timedelta\n",
    "import matplotlib.pyplot as plt"
   ]
  },
  {
   "cell_type": "code",
   "execution_count": 66,
   "id": "c89a4c5e",
   "metadata": {
    "ExecuteTime": {
     "end_time": "2021-06-08T13:28:10.660124Z",
     "start_time": "2021-06-08T13:28:10.624144Z"
    }
   },
   "outputs": [],
   "source": [
    "def twint_scrape(search,location,since,output_file):\n",
    "    \n",
    "    c = twint.Config()\n",
    "\n",
    "    c.Search = search\n",
    "    c.Geo = location\n",
    "    c.Since = since\n",
    "    c.Store_csv = True\n",
    "    c.Lang = 'en'\n",
    "    c.Output = output_file\n",
    "    c.Count = True\n",
    "    c.Hide_output = True\n",
    "    return twint.run.Search(c)\n",
    "\n",
    "# c.Overwrite = True #this doesnt exist in code - was written by previous group - new search will concat"
   ]
  },
  {
   "cell_type": "code",
   "execution_count": 67,
   "id": "7aca82fe",
   "metadata": {
    "ExecuteTime": {
     "end_time": "2021-06-08T13:28:12.641979Z",
     "start_time": "2021-06-08T13:28:12.606871Z"
    }
   },
   "outputs": [
    {
     "data": {
      "text/plain": [
       "'2021-06-01'"
      ]
     },
     "execution_count": 67,
     "metadata": {},
     "output_type": "execute_result"
    }
   ],
   "source": [
    "###CHANGE THIS###\n",
    "days_ago = 7\n",
    "since = (date.today()-timedelta(days=days_ago)).strftime('%Y-%m-%d')\n",
    "since"
   ]
  },
  {
   "cell_type": "code",
   "execution_count": 68,
   "id": "721b7478",
   "metadata": {
    "ExecuteTime": {
     "end_time": "2021-06-08T13:28:13.276045Z",
     "start_time": "2021-06-08T13:28:13.243691Z"
    }
   },
   "outputs": [],
   "source": [
    "London_loc = '51.509865, -0.118092, 23km'"
   ]
  },
  {
   "cell_type": "code",
   "execution_count": 69,
   "id": "ff4f495c",
   "metadata": {
    "ExecuteTime": {
     "end_time": "2021-06-08T13:28:13.956954Z",
     "start_time": "2021-06-08T13:28:13.922820Z"
    }
   },
   "outputs": [],
   "source": [
    "figure_handles = {'boris_johnson':'BorisJohnson',\n",
    "                 'keir_starmer':'Keir_Starmer',\n",
    "                 'matt_hancock':'MattHancock',\n",
    "                 'jon_ashworth':'JonAshworth'}"
   ]
  },
  {
   "cell_type": "code",
   "execution_count": 70,
   "id": "b3eeee8b",
   "metadata": {
    "ExecuteTime": {
     "end_time": "2021-06-08T13:28:15.002953Z",
     "start_time": "2021-06-08T13:28:14.967948Z"
    }
   },
   "outputs": [
    {
     "data": {
      "text/plain": [
       "dict_values(['BorisJohnson', 'Keir_Starmer', 'MattHancock', 'JonAshworth'])"
      ]
     },
     "execution_count": 70,
     "metadata": {},
     "output_type": "execute_result"
    }
   ],
   "source": [
    "figure_handles.values()"
   ]
  },
  {
   "cell_type": "code",
   "execution_count": 82,
   "id": "6cd3e597",
   "metadata": {
    "ExecuteTime": {
     "end_time": "2021-06-08T13:33:31.692411Z",
     "start_time": "2021-06-08T13:33:31.658333Z"
    }
   },
   "outputs": [],
   "source": [
    "###CHANGE THIS### need to ensure we are using the same search terms - should probs go into dictionary\n",
    "search_terms = ['JonAshworth', 'jon ashworth']"
   ]
  },
  {
   "cell_type": "code",
   "execution_count": 83,
   "id": "4c825f57",
   "metadata": {
    "ExecuteTime": {
     "end_time": "2021-06-08T13:33:32.998120Z",
     "start_time": "2021-06-08T13:33:32.968419Z"
    }
   },
   "outputs": [],
   "source": [
    "handle = 'JonAshworth'"
   ]
  },
  {
   "cell_type": "code",
   "execution_count": 84,
   "id": "c5a50d82",
   "metadata": {
    "ExecuteTime": {
     "end_time": "2021-06-08T13:33:33.365319Z",
     "start_time": "2021-06-08T13:33:33.349773Z"
    }
   },
   "outputs": [
    {
     "data": {
      "text/plain": [
       "'danm91_JonAshworth_7_days.csv'"
      ]
     },
     "execution_count": 84,
     "metadata": {},
     "output_type": "execute_result"
    }
   ],
   "source": [
    "output_file = 'danm91_'+handle+'_'+str(days_ago)+'_days'+'.csv'\n",
    "output_file"
   ]
  },
  {
   "cell_type": "code",
   "execution_count": 85,
   "id": "c1d53c42",
   "metadata": {
    "ExecuteTime": {
     "end_time": "2021-06-08T13:33:38.253118Z",
     "start_time": "2021-06-08T13:33:34.337152Z"
    }
   },
   "outputs": [
    {
     "name": "stdout",
     "output_type": "stream",
     "text": [
      "[!] No more data! Scraping will stop now.\n",
      "found 0 deleted tweets in this search.\n",
      "[+] Finished: Successfully collected 84 Tweets.\n",
      "[!] No more data! Scraping will stop now.\n",
      "found 0 deleted tweets in this search.\n",
      "[+] Finished: Successfully collected 85 Tweets.\n",
      "CPU times: user 184 ms, sys: 31.9 ms, total: 216 ms\n",
      "Wall time: 3.88 s\n"
     ]
    }
   ],
   "source": [
    "%%time\n",
    "for term in search_terms:\n",
    "    twint_scrape(term,London_loc,since,output_file)"
   ]
  },
  {
   "cell_type": "code",
   "execution_count": 86,
   "id": "676ed4a4",
   "metadata": {
    "ExecuteTime": {
     "end_time": "2021-06-08T13:33:52.705280Z",
     "start_time": "2021-06-08T13:33:52.664180Z"
    }
   },
   "outputs": [],
   "source": [
    "df = pd.read_csv(output_file)"
   ]
  },
  {
   "cell_type": "code",
   "execution_count": 87,
   "id": "d68426ab",
   "metadata": {
    "ExecuteTime": {
     "end_time": "2021-06-08T13:33:54.073208Z",
     "start_time": "2021-06-08T13:33:54.039515Z"
    }
   },
   "outputs": [
    {
     "data": {
      "text/plain": [
       "(169, 36)"
      ]
     },
     "execution_count": 87,
     "metadata": {},
     "output_type": "execute_result"
    }
   ],
   "source": [
    "df.shape"
   ]
  },
  {
   "cell_type": "code",
   "execution_count": 88,
   "id": "052d416b",
   "metadata": {
    "ExecuteTime": {
     "end_time": "2021-06-08T13:33:58.447541Z",
     "start_time": "2021-06-08T13:33:58.403465Z"
    }
   },
   "outputs": [
    {
     "data": {
      "text/plain": [
       "85"
      ]
     },
     "metadata": {},
     "output_type": "display_data"
    }
   ],
   "source": [
    "display(len(df.drop_duplicates()))\n",
    "df = df.drop_duplicates()"
   ]
  },
  {
   "cell_type": "code",
   "execution_count": 89,
   "id": "52e25404",
   "metadata": {
    "ExecuteTime": {
     "end_time": "2021-06-08T13:34:47.809308Z",
     "start_time": "2021-06-08T13:34:47.774188Z"
    }
   },
   "outputs": [
    {
     "data": {
      "text/plain": [
       "'JonAshworth'"
      ]
     },
     "execution_count": 89,
     "metadata": {},
     "output_type": "execute_result"
    }
   ],
   "source": [
    "handle"
   ]
  },
  {
   "cell_type": "code",
   "execution_count": 90,
   "id": "a42b606e",
   "metadata": {
    "ExecuteTime": {
     "end_time": "2021-06-08T13:34:49.171289Z",
     "start_time": "2021-06-08T13:34:49.139566Z"
    }
   },
   "outputs": [],
   "source": [
    "df['handle'] = handle"
   ]
  },
  {
   "cell_type": "code",
   "execution_count": 91,
   "id": "205d299d",
   "metadata": {
    "ExecuteTime": {
     "end_time": "2021-06-08T13:34:50.740144Z",
     "start_time": "2021-06-08T13:34:50.698139Z"
    }
   },
   "outputs": [],
   "source": [
    "df.to_csv(output_file)"
   ]
  },
  {
   "cell_type": "code",
   "execution_count": 120,
   "id": "7fed5ece",
   "metadata": {
    "ExecuteTime": {
     "end_time": "2021-06-08T13:41:44.634098Z",
     "start_time": "2021-06-08T13:41:44.325191Z"
    }
   },
   "outputs": [],
   "source": [
    "df1 = pd.read_csv('danm91_JonAshworth_7_days.csv', low_memory=False)\n",
    "df2 = pd.read_csv('danm91_MattHancock_7_days.csv',low_memory=False)\n",
    "df3 = pd.read_csv('danm91_Keir_Starmer_7_days.csv',low_memory=False)\n",
    "df4 = pd.read_csv('danm91_BorisJohnson_7_days.csv',low_memory=False)"
   ]
  },
  {
   "cell_type": "code",
   "execution_count": 121,
   "id": "6b98abf1",
   "metadata": {
    "ExecuteTime": {
     "end_time": "2021-06-08T13:41:45.673783Z",
     "start_time": "2021-06-08T13:41:45.636523Z"
    }
   },
   "outputs": [
    {
     "data": {
      "text/plain": [
       "(85, 37)"
      ]
     },
     "metadata": {},
     "output_type": "display_data"
    },
    {
     "data": {
      "text/plain": [
       "(4293, 37)"
      ]
     },
     "metadata": {},
     "output_type": "display_data"
    },
    {
     "data": {
      "text/plain": [
       "(4251, 37)"
      ]
     },
     "metadata": {},
     "output_type": "display_data"
    },
    {
     "data": {
      "text/plain": [
       "(18713, 37)"
      ]
     },
     "metadata": {},
     "output_type": "display_data"
    }
   ],
   "source": [
    "display(df1.shape,df2.shape,df3.shape,df4.shape)"
   ]
  },
  {
   "cell_type": "code",
   "execution_count": 130,
   "id": "0d480b27",
   "metadata": {
    "ExecuteTime": {
     "end_time": "2021-06-08T13:43:14.012177Z",
     "start_time": "2021-06-08T13:43:13.960905Z"
    }
   },
   "outputs": [],
   "source": [
    "all_df = pd.concat([df1,df2,df3,df4])"
   ]
  },
  {
   "cell_type": "code",
   "execution_count": 131,
   "id": "79d0f33c",
   "metadata": {
    "ExecuteTime": {
     "end_time": "2021-06-08T13:43:18.455057Z",
     "start_time": "2021-06-08T13:43:18.421317Z"
    }
   },
   "outputs": [
    {
     "data": {
      "text/plain": [
       "(27342, 37)"
      ]
     },
     "execution_count": 131,
     "metadata": {},
     "output_type": "execute_result"
    }
   ],
   "source": [
    "all_df.shape"
   ]
  },
  {
   "cell_type": "code",
   "execution_count": 132,
   "id": "b97dc4d8",
   "metadata": {
    "ExecuteTime": {
     "end_time": "2021-06-08T13:43:34.902267Z",
     "start_time": "2021-06-08T13:43:34.396692Z"
    }
   },
   "outputs": [],
   "source": [
    "all_df.to_csv('London_7_days.csv', index=False)"
   ]
  },
  {
   "cell_type": "code",
   "execution_count": 134,
   "id": "91ab31e2",
   "metadata": {
    "ExecuteTime": {
     "end_time": "2021-06-08T14:12:03.231800Z",
     "start_time": "2021-06-08T14:12:03.148826Z"
    }
   },
   "outputs": [],
   "source": [
    "manchester_data = pd.read_csv('manchester_data.csv')"
   ]
  },
  {
   "cell_type": "code",
   "execution_count": 135,
   "id": "f096f9d0",
   "metadata": {
    "ExecuteTime": {
     "end_time": "2021-06-08T14:12:09.126192Z",
     "start_time": "2021-06-08T14:12:09.092398Z"
    }
   },
   "outputs": [
    {
     "data": {
      "text/plain": [
       "(1984, 37)"
      ]
     },
     "execution_count": 135,
     "metadata": {},
     "output_type": "execute_result"
    }
   ],
   "source": [
    "manchester_data.shape"
   ]
  },
  {
   "cell_type": "code",
   "execution_count": 137,
   "id": "bae8bb07",
   "metadata": {
    "ExecuteTime": {
     "end_time": "2021-06-08T14:12:47.633275Z",
     "start_time": "2021-06-08T14:12:47.535871Z"
    }
   },
   "outputs": [],
   "source": [
    "london_manchester = pd.concat([all_df,manchester_data])"
   ]
  },
  {
   "cell_type": "code",
   "execution_count": 148,
   "id": "e440242d",
   "metadata": {
    "ExecuteTime": {
     "end_time": "2021-06-08T14:24:32.219962Z",
     "start_time": "2021-06-08T14:24:32.172271Z"
    }
   },
   "outputs": [
    {
     "data": {
      "text/plain": [
       "Index(['id', 'conversation_id', 'created_at', 'date', 'time', 'timezone',\n",
       "       'user_id', 'username', 'name', 'place', 'tweet', 'language', 'mentions',\n",
       "       'urls', 'photos', 'replies_count', 'retweets_count', 'likes_count',\n",
       "       'hashtags', 'cashtags', 'link', 'retweet', 'quote_url', 'video',\n",
       "       'thumbnail', 'near', 'geo', 'source', 'user_rt_id', 'user_rt',\n",
       "       'retweet_id', 'reply_to', 'retweet_date', 'translate', 'trans_src',\n",
       "       'trans_dest', 'handle'],\n",
       "      dtype='object')"
      ]
     },
     "execution_count": 148,
     "metadata": {},
     "output_type": "execute_result"
    }
   ],
   "source": [
    "london_manchester.columns"
   ]
  },
  {
   "cell_type": "code",
   "execution_count": 152,
   "id": "22db2cea",
   "metadata": {
    "ExecuteTime": {
     "end_time": "2021-06-08T14:25:39.915521Z",
     "start_time": "2021-06-08T14:25:39.846976Z"
    }
   },
   "outputs": [],
   "source": [
    "birmingham = pd.read_csv('seb_birmingham_day2.csv')"
   ]
  },
  {
   "cell_type": "code",
   "execution_count": 154,
   "id": "ad8811c0",
   "metadata": {
    "ExecuteTime": {
     "end_time": "2021-06-08T14:26:48.859815Z",
     "start_time": "2021-06-08T14:26:48.767451Z"
    }
   },
   "outputs": [],
   "source": [
    "ldn_man_brm = pd.concat([london_manchester,birmingham])"
   ]
  },
  {
   "cell_type": "code",
   "execution_count": 156,
   "id": "01c26ee4",
   "metadata": {
    "ExecuteTime": {
     "end_time": "2021-06-08T14:27:28.135695Z",
     "start_time": "2021-06-08T14:27:27.616106Z"
    }
   },
   "outputs": [],
   "source": [
    "ldn_man_brm.to_csv('3_cities_data_7_days.csv')"
   ]
  },
  {
   "cell_type": "code",
   "execution_count": null,
   "id": "09611418",
   "metadata": {},
   "outputs": [],
   "source": []
  }
 ],
 "metadata": {
  "kernelspec": {
   "display_name": "Python 3",
   "language": "python",
   "name": "python3"
  },
  "language_info": {
   "codemirror_mode": {
    "name": "ipython",
    "version": 3
   },
   "file_extension": ".py",
   "mimetype": "text/x-python",
   "name": "python",
   "nbconvert_exporter": "python",
   "pygments_lexer": "ipython3",
   "version": "3.8.6"
  },
  "toc": {
   "base_numbering": 1,
   "nav_menu": {},
   "number_sections": true,
   "sideBar": true,
   "skip_h1_title": false,
   "title_cell": "Table of Contents",
   "title_sidebar": "Contents",
   "toc_cell": false,
   "toc_position": {},
   "toc_section_display": true,
   "toc_window_display": false
  },
  "varInspector": {
   "cols": {
    "lenName": 16,
    "lenType": 16,
    "lenVar": 40
   },
   "kernels_config": {
    "python": {
     "delete_cmd_postfix": "",
     "delete_cmd_prefix": "del ",
     "library": "var_list.py",
     "varRefreshCmd": "print(var_dic_list())"
    },
    "r": {
     "delete_cmd_postfix": ") ",
     "delete_cmd_prefix": "rm(",
     "library": "var_list.r",
     "varRefreshCmd": "cat(var_dic_list()) "
    }
   },
   "types_to_exclude": [
    "module",
    "function",
    "builtin_function_or_method",
    "instance",
    "_Feature"
   ],
   "window_display": false
  }
 },
 "nbformat": 4,
 "nbformat_minor": 5
}
