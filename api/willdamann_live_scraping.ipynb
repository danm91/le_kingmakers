{
 "cells": [
  {
   "cell_type": "code",
   "execution_count": 2,
   "id": "ff0d7ec6",
   "metadata": {},
   "outputs": [],
   "source": [
    "import pandas as pd"
   ]
  },
  {
   "cell_type": "code",
   "execution_count": 3,
   "id": "0b804d5c",
   "metadata": {},
   "outputs": [],
   "source": [
    "import requests\n",
    "import plotly.express as px"
   ]
  },
  {
   "cell_type": "code",
   "execution_count": 16,
   "id": "c12326fe",
   "metadata": {
    "scrolled": true
   },
   "outputs": [
    {
     "data": {
      "text/plain": [
       "'{\"id\":{\"0\":1405449305289228291,\"1\":1405449166981980164,\"2\":1405449009200836608,\"3\":1405448771333365761,\"4\":1405448763762692096,\"5\":1405448558069764101,\"6\":1405448459424079873,\"7\":1405448327714332675,\"8\":1405448306159980545,\"9\":1405447972989456385,\"10\":1405447807436210180,\"11\":1405447527181295616,\"12\":1405447374374420480,\"13\":1405447155003822082,\"14\":1405446968940187652,\"15\":1405446952939032576,\"16\":1405446882634211328,\"17\":1405446375874072576,\"18\":1405446137461489667,\"19\":1405445999301206018,\"20\":1405445833332514820,\"21\":1405445690956734465,\"22\":1405445611550392322,\"23\":1405445507309318147,\"24\":1405445453425090560,\"25\":1405445392599289856,\"26\":1405445274294575109,\"27\":1405444484968509448,\"28\":1405444344232910853,\"29\":1405443910021877760,\"30\":1405443528390553601,\"31\":1405443193194299394,\"32\":1405443099124436992,\"33\":1405443024436539392,\"34\":1405442897684709379,\"35\":1405442633514721285,\"36\":1405442587301875712,\"37\":1405442580339331077,\"38\":1405442303506976772,\"39\":1405442087261290500,\"40\":1405442023205736448,\"41\":1405441864984109061,\"42\":1405441650483023872,\"43\":1405441076110843907,\"44\":1405440857780654082,\"45\":1405440647218221056,\"46\":1405440562795188226,\"47\":1405440237782769671,\"48\":1405440215175553026,\"49\":1405439670830338049,\"50\":1405439435706191874,\"51\":1405439331188215811,\"52\":1405438333497532419,\"53\":1405438332650274816,\"54\":1405438200068247554,\"55\":1405437891279532032,\"56\":1405437498390716417,\"57\":1405437343260020736,\"58\":1405436761510133766,\"59\":1405436422161682433,\"60\":1405436369577512963,\"61\":1405436131852754946,\"62\":1405435794756714500,\"63\":1405435317663027200,\"64\":1405435041488982017,\"65\":1405434575686299649,\"66\":1405434537065299972,\"67\":1405434441531543552,\"68\":1405434367372107777,\"69\":1405434259200905221,\"70\":1405434108415709187,\"71\":1405434042141470725,\"72\":1405433636220932100,\"73\":1405432805820149761,\"74\":1405431369443024896,\"75\":1405431188630781954,\"76\":1405430294014939139,\"77\":1405429811435163649,\"78\":1405429741482614786,\"79\":1405429187633061889,\"80\":1405428912721629185,\"81\":1405428699533430787,\"82\":1405428410009141249,\"83\":1405428202412068865,\"84\":1405428192836567040,\"85\":1405428183726493699,\"86\":1405428060732723200,\"87\":1405427734625480707,\"88\":1405427463749001218,\"89\":1405427305745240064,\"90\":1405427256189763586,\"91\":1405427117421170690,\"92\":1405426893919117315,\"93\":1405426443127967749,\"94\":1405426329458151427,\"95\":1405426183659999234,\"96\":1405425919603400704,\"97\":1405425791261765632,\"98\":1405425728389369856,\"99\":1405425704100106240},\"conversation_id\":{\"0\":1405446308027158529,\"1\":1405449166981980164,\"2\":1405128378894663681,\"3\":1405304903065505796,\"4\":1405448763762692096,\"5\":1405445985690521601,\"6\":1405412699308277761,\"7\":1405448327714332675,\"8\":1405439200363745282,\"9\":1405414181759709185,\"10\":1405223051227242502,\"11\":1405244308782030848,\"12\":1405447374374420480,\"13\":1405447155003822082,\"14\":1405446968940187652,\"15\":1405446952939032576,\"16\":1405209144005738496,\"17\":1405440987288129537,\"18\":1405191842157797379,\"19\":1405433668366131203,\"20\":1405230715332173828,\"21\":1405433302773686275,\"22\":1405445611550392322,\"23\":1405445507309318147,\"24\":1405314805360168962,\"25\":1404798279293059084,\"26\":1405445274294575109,\"27\":1405444484968509448,\"28\":1405299128314200065,\"29\":1405382537967456256,\"30\":1405171346850652163,\"31\":1405205965058813952,\"32\":1405442409065029634,\"33\":1405213999755636741,\"34\":1405404056814768132,\"35\":1405442633514721285,\"36\":1405442587301875712,\"37\":1405441634213367810,\"38\":1405442303506976772,\"39\":1405442087261290500,\"40\":1405435020681093121,\"41\":1405441261146882048,\"42\":1405430822811815938,\"43\":1405395167226433539,\"44\":1353073474441338882,\"45\":1405416268564512772,\"46\":1405440562795188226,\"47\":1405440237782769671,\"48\":1405292953657122819,\"49\":1405439670830338049,\"50\":1405439435706191874,\"51\":1405432834215583744,\"52\":1405320568677625858,\"53\":1405229979693092879,\"54\":1405438200068247554,\"55\":1405413263135887362,\"56\":1405422010088538112,\"57\":1405437343260020736,\"58\":1405423773407494144,\"59\":1405382537967456256,\"60\":1405436369577512963,\"61\":1405235851433492487,\"62\":1405435794756714500,\"63\":1405435317663027200,\"64\":1405435041488982017,\"65\":1405434575686299649,\"66\":1405150341344251906,\"67\":1404798279293059084,\"68\":1405412392507305987,\"69\":1405434259200905221,\"70\":1405432569575923713,\"71\":1404363231624265729,\"72\":1405355488292741120,\"73\":1405422235809193984,\"74\":1405431369443024896,\"75\":1405431188630781954,\"76\":1405430294014939139,\"77\":1405423852943990786,\"78\":1405429741482614786,\"79\":1405429187633061889,\"80\":1405428912721629185,\"81\":1405428699533430787,\"82\":1405425980655738880,\"83\":1405428202412068865,\"84\":1405298233035956230,\"85\":1404798279293059084,\"86\":1405428060732723200,\"87\":1405427734625480707,\"88\":1405427463749001218,\"89\":1405427305745240064,\"90\":1404803699453595655,\"91\":1405421216626888704,\"92\":1405426893919117315,\"93\":1405426443127967749,\"94\":1405386910520922113,\"95\":1405403683131736065,\"96\":1405416866621841411,\"97\":1405425791261765632,\"98\":1405185285688905730,\"99\":1405271310448562179},\"created_at\":{\"0\":\"2021-06-17 09:56:41 BST\",\"1\":\"2021-06-17 09:56:08 BST\",\"2\":\"2021-06-17 09:55:30 BST\",\"3\":\"2021-06-17 09:54:33 BST\",\"4\":\"2021-06-17 09:54:31 BST\",\"5\":\"2021-06-17 09:53:42 BST\",\"6\":\"2021-06-17 09:53:19 BST\",\"7\":\"2021-06-17 09:52:47 BST\",\"8\":\"2021-06-17 09:52:42 BST\",\"9\":\"2021-06-17 09:51:23 BST\",\"10\":\"2021-06-17 09:50:43 BST\",\"11\":\"2021-06-17 09:49:37 BST\",\"12\":\"2021-06-17 09:49:00 BST\",\"13\":\"2021-06-17 09:48:08 BST\",\"14\":\"2021-06-17 09:47:23 BST\",\"15\":\"2021-06-17 09:47:20 BST\",\"16\":\"2021-06-17 09:47:03 BST\",\"17\":\"2021-06-17 09:45:02 BST\",\"18\":\"2021-06-17 09:44:05 BST\",\"19\":\"2021-06-17 09:43:32 BST\",\"20\":\"2021-06-17 09:42:53 BST\",\"21\":\"2021-06-17 09:42:19 BST\",\"22\":\"2021-06-17 09:42:00 BST\",\"23\":\"2021-06-17 09:41:35 BST\",\"24\":\"2021-06-17 09:41:22 BST\",\"25\":\"2021-06-17 09:41:08 BST\",\"26\":\"2021-06-17 09:40:39 BST\",\"27\":\"2021-06-17 09:37:31 BST\",\"28\":\"2021-06-17 09:36:58 BST\",\"29\":\"2021-06-17 09:35:14 BST\",\"30\":\"2021-06-17 09:33:43 BST\",\"31\":\"2021-06-17 09:32:23 BST\",\"32\":\"2021-06-17 09:32:01 BST\",\"33\":\"2021-06-17 09:31:43 BST\",\"34\":\"2021-06-17 09:31:13 BST\",\"35\":\"2021-06-17 09:30:10 BST\",\"36\":\"2021-06-17 09:29:59 BST\",\"37\":\"2021-06-17 09:29:57 BST\",\"38\":\"2021-06-17 09:28:51 BST\",\"39\":\"2021-06-17 09:28:00 BST\",\"40\":\"2021-06-17 09:27:44 BST\",\"41\":\"2021-06-17 09:27:07 BST\",\"42\":\"2021-06-17 09:26:15 BST\",\"43\":\"2021-06-17 09:23:59 BST\",\"44\":\"2021-06-17 09:23:06 BST\",\"45\":\"2021-06-17 09:22:16 BST\",\"46\":\"2021-06-17 09:21:56 BST\",\"47\":\"2021-06-17 09:20:39 BST\",\"48\":\"2021-06-17 09:20:33 BST\",\"49\":\"2021-06-17 09:18:23 BST\",\"50\":\"2021-06-17 09:17:27 BST\",\"51\":\"2021-06-17 09:17:03 BST\",\"52\":\"2021-06-17 09:13:05 BST\",\"53\":\"2021-06-17 09:13:04 BST\",\"54\":\"2021-06-17 09:12:33 BST\",\"55\":\"2021-06-17 09:11:19 BST\",\"56\":\"2021-06-17 09:09:46 BST\",\"57\":\"2021-06-17 09:09:09 BST\",\"58\":\"2021-06-17 09:06:50 BST\",\"59\":\"2021-06-17 09:05:29 BST\",\"60\":\"2021-06-17 09:05:16 BST\",\"61\":\"2021-06-17 09:04:20 BST\",\"62\":\"2021-06-17 09:02:59 BST\",\"63\":\"2021-06-17 09:01:06 BST\",\"64\":\"2021-06-17 09:00:00 BST\",\"65\":\"2021-06-17 08:58:09 BST\",\"66\":\"2021-06-17 08:58:00 BST\",\"67\":\"2021-06-17 08:57:37 BST\",\"68\":\"2021-06-17 08:57:19 BST\",\"69\":\"2021-06-17 08:56:53 BST\",\"70\":\"2021-06-17 08:56:17 BST\",\"71\":\"2021-06-17 08:56:02 BST\",\"72\":\"2021-06-17 08:54:25 BST\",\"73\":\"2021-06-17 08:51:07 BST\",\"74\":\"2021-06-17 08:45:24 BST\",\"75\":\"2021-06-17 08:44:41 BST\",\"76\":\"2021-06-17 08:41:08 BST\",\"77\":\"2021-06-17 08:39:13 BST\",\"78\":\"2021-06-17 08:38:56 BST\",\"79\":\"2021-06-17 08:36:44 BST\",\"80\":\"2021-06-17 08:35:39 BST\",\"81\":\"2021-06-17 08:34:48 BST\",\"82\":\"2021-06-17 08:33:39 BST\",\"83\":\"2021-06-17 08:32:49 BST\",\"84\":\"2021-06-17 08:32:47 BST\",\"85\":\"2021-06-17 08:32:45 BST\",\"86\":\"2021-06-17 08:32:15 BST\",\"87\":\"2021-06-17 08:30:58 BST\",\"88\":\"2021-06-17 08:29:53 BST\",\"89\":\"2021-06-17 08:29:15 BST\",\"90\":\"2021-06-17 08:29:04 BST\",\"91\":\"2021-06-17 08:28:31 BST\",\"92\":\"2021-06-17 08:27:37 BST\",\"93\":\"2021-06-17 08:25:50 BST\",\"94\":\"2021-06-17 08:25:23 BST\",\"95\":\"2021-06-17 08:24:48 BST\",\"96\":\"2021-06-17 08:23:45 BST\",\"97\":\"2021-06-17 08:23:14 BST\",\"98\":\"2021-06-17 08:22:59 BST\",\"99\":\"2021-06-17 08:22:54 BST\"},\"date\":{\"0\":\"2021-06-17\",\"1\":\"2021-06-17\",\"2\":\"2021-06-17\",\"3\":\"2021-06-17\",\"4\":\"2021-06-17\",\"5\":\"2021-06-17\",\"6\":\"2021-06-17\",\"7\":\"2021-06-17\",\"8\":\"2021-06-17\",\"9\":\"2021-06-17\",\"10\":\"2021-06-17\",\"11\":\"2021-06-17\",\"12\":\"2021-06-17\",\"13\":\"2021-06-17\",\"14\":\"2021-06-17\",\"15\":\"2021-06-17\",\"16\":\"2021-06-17\",\"17\":\"2021-06-17\",\"18\":\"2021-06-17\",\"19\":\"2021-06-17\",\"20\":\"2021-06-17\",\"21\":\"2021-06-17\",\"22\":\"2021-06-17\",\"23\":\"2021-06-17\",\"24\":\"2021-06-17\",\"25\":\"2021-06-17\",\"26\":\"2021-06-17\",\"27\":\"2021-06-17\",\"28\":\"2021-06-17\",\"29\":\"2021-06-17\",\"30\":\"2021-06-17\",\"31\":\"2021-06-17\",\"32\":\"2021-06-17\",\"33\":\"2021-06-17\",\"34\":\"2021-06-17\",\"35\":\"2021-06-17\",\"36\":\"2021-06-17\",\"37\":\"2021-06-17\",\"38\":\"2021-06-17\",\"39\":\"2021-06-17\",\"40\":\"2021-06-17\",\"41\":\"2021-06-17\",\"42\":\"2021-06-17\",\"43\":\"2021-06-17\",\"44\":\"2021-06-17\",\"45\":\"2021-06-17\",\"46\":\"2021-06-17\",\"47\":\"2021-06-17\",\"48\":\"2021-06-17\",\"49\":\"2021-06-17\",\"50\":\"2021-06-17\",\"51\":\"2021-06-17\",\"52\":\"2021-06-17\",\"53\":\"2021-06-17\",\"54\":\"2021-06-17\",\"55\":\"2021-06-17\",\"56\":\"2021-06-17\",\"57\":\"2021-06-17\",\"58\":\"2021-06-17\",\"59\":\"2021-06-17\",\"60\":\"2021-06-17\",\"61\":\"2021-06-17\",\"62\":\"2021-06-17\",\"63\":\"2021-06-17\",\"64\":\"2021-06-17\",\"65\":\"2021-06-17\",\"66\":\"2021-06-17\",\"67\":\"2021-06-17\",\"68\":\"2021-06-17\",\"69\":\"2021-06-17\",\"70\":\"2021-06-17\",\"71\":\"2021-06-17\",\"72\":\"2021-06-17\",\"73\":\"2021-06-17\",\"74\":\"2021-06-17\",\"75\":\"2021-06-17\",\"76\":\"2021-06-17\",\"77\":\"2021-06-17\",\"78\":\"2021-06-17\",\"79\":\"2021-06-17\",\"80\":\"2021-06-17\",\"81\":\"2021-06-17\",\"82\":\"2021-06-17\",\"83\":\"2021-06-17\",\"84\":\"2021-06-17\",\"85\":\"2021-06-17\",\"86\":\"2021-06-17\",\"87\":\"2021-06-17\",\"88\":\"2021-06-17\",\"89\":\"2021-06-17\",\"90\":\"2021-06-17\",\"91\":\"2021-06-17\",\"92\":\"2021-06-17\",\"93\":\"2021-06-17\",\"94\":\"2021-06-17\",\"95\":\"2021-06-17\",\"96\":\"2021-06-17\",\"97\":\"2021-06-17\",\"98\":\"2021-06-17\",\"99\":\"2021-06-17\"},\"time\":{\"0\":\"09:56:41\",\"1\":\"09:56:08\",\"2\":\"09:55:30\",\"3\":\"09:54:33\",\"4\":\"09:54:31\",\"5\":\"09:53:42\",\"6\":\"09:53:19\",\"7\":\"09:52:47\",\"8\":\"09:52:42\",\"9\":\"09:51:23\",\"10\":\"09:50:43\",\"11\":\"09:49:37\",\"12\":\"09:49:00\",\"13\":\"09:48:08\",\"14\":\"09:47:23\",\"15\":\"09:47:20\",\"16\":\"09:47:03\",\"17\":\"09:45:02\",\"18\":\"09:44:05\",\"19\":\"09:43:32\",\"20\":\"09:42:53\",\"21\":\"09:42:19\",\"22\":\"09:42:00\",\"23\":\"09:41:35\",\"24\":\"09:41:22\",\"25\":\"09:41:08\",\"26\":\"09:40:39\",\"27\":\"09:37:31\",\"28\":\"09:36:58\",\"29\":\"09:35:14\",\"30\":\"09:33:43\",\"31\":\"09:32:23\",\"32\":\"09:32:01\",\"33\":\"09:31:43\",\"34\":\"09:31:13\",\"35\":\"09:30:10\",\"36\":\"09:29:59\",\"37\":\"09:29:57\",\"38\":\"09:28:51\",\"39\":\"09:28:00\",\"40\":\"09:27:44\",\"41\":\"09:27:07\",\"42\":\"09:26:15\",\"43\":\"09:23:59\",\"44\":\"09:23:06\",\"45\":\"09:22:16\",\"46\":\"09:21:56\",\"47\":\"09:20:39\",\"48\":\"09:20:33\",\"49\":\"09:18:23\",\"50\":\"09:17:27\",\"51\":\"09:17:03\",\"52\":\"09:13:05\",\"53\":\"09:13:04\",\"54\":\"09:12:33\",\"55\":\"09:11:19\",\"56\":\"09:09:46\",\"57\":\"09:09:09\",\"58\":\"09:06:50\",\"59\":\"09:05:29\",\"60\":\"09:05:16\",\"61\":\"09:04:20\",\"62\":\"09:02:59\",\"63\":\"09:01:06\",\"64\":\"09:00:00\",\"65\":\"08:58:09\",\"66\":\"08:58:00\",\"67\":\"08:57:37\",\"68\":\"08:57:19\",\"69\":\"08:56:53\",\"70\":\"08:56:17\",\"71\":\"08:56:02\",\"72\":\"08:54:25\",\"73\":\"08:51:07\",\"74\":\"08:45:24\",\"75\":\"08:44:41\",\"76\":\"08:41:08\",\"77\":\"08:39:13\",\"78\":\"08:38:56\",\"79\":\"08:36:44\",\"80\":\"08:35:39\",\"81\":\"08:34:48\",\"82\":\"08:33:39\",\"83\":\"08:32:49\",\"84\":\"08:32:47\",\"85\":\"08:32:45\",\"86\":\"08:32:15\",\"87\":\"08:30:58\",\"88\":\"08:29:53\",\"89\":\"08:29:15\",\"90\":\"08:29:04\",\"91\":\"08:28:31\",\"92\":\"08:27:37\",\"93\":\"08:25:50\",\"94\":\"08:25:23\",\"95\":\"08:24:48\",\"96\":\"08:23:45\",\"97\":\"08:23:14\",\"98\":\"08:22:59\",\"99\":\"08:22:54\"},\"timezone\":{\"0\":100,\"1\":100,\"2\":100,\"3\":100,\"4\":100,\"5\":100,\"6\":100,\"7\":100,\"8\":100,\"9\":100,\"10\":100,\"11\":100,\"12\":100,\"13\":100,\"14\":100,\"15\":100,\"16\":100,\"17\":100,\"18\":100,\"19\":100,\"20\":100,\"21\":100,\"22\":100,\"23\":100,\"24\":100,\"25\":100,\"26\":100,\"27\":100,\"28\":100,\"29\":100,\"30\":100,\"31\":100,\"32\":100,\"33\":100,\"34\":100,\"35\":100,\"36\":100,\"37\":100,\"38\":100,\"39\":100,\"40\":100,\"41\":100,\"42\":100,\"43\":100,\"44\":100,\"45\":100,\"46\":100,\"47\":100,\"48\":100,\"49\":100,\"50\":100,\"51\":100,\"52\":100,\"53\":100,\"54\":100,\"55\":100,\"56\":100,\"57\":100,\"58\":100,\"59\":100,\"60\":100,\"61\":100,\"62\":100,\"63\":100,\"64\":100,\"65\":100,\"66\":100,\"67\":100,\"68\":100,\"69\":100,\"70\":100,\"71\":100,\"72\":100,\"73\":100,\"74\":100,\"75\":100,\"76\":100,\"77\":100,\"78\":100,\"79\":100,\"80\":100,\"81\":100,\"82\":100,\"83\":100,\"84\":100,\"85\":100,\"86\":100,\"87\":100,\"88\":100,\"89\":100,\"90\":100,\"91\":100,\"92\":100,\"93\":100,\"94\":100,\"95\":100,\"96\":100,\"97\":100,\"98\":100,\"99\":100},\"user_id\":{\"0\":45739022,\"1\":1201829972374999040,\"2\":1236578774851956736,\"3\":1201829972374999040,\"4\":4876794731,\"5\":1201829972374999040,\"6\":1389214307343286274,\"7\":1268813912259977221,\"8\":1313814474487468032,\"9\":235151264,\"10\":1676357408,\"11\":83434170,\"12\":457667405,\"13\":3337925062,\"14\":728894570,\"15\":15384793,\"16\":954708739919155200,\"17\":1373765287,\"18\":1349294209426190336,\"19\":1080531451819495429,\"20\":1253001640745058306,\"21\":1140890362447138816,\"22\":1328045652383846400,\"23\":252287213,\"24\":29078374,\"25\":1147038346381864960,\"26\":831425367223078912,\"27\":134873102,\"28\":772297807671595008,\"29\":1296817014208638976,\"30\":221707851,\"31\":1381904246736584704,\"32\":1062714032153681920,\"33\":1339859974382645249,\"34\":1096929418726043648,\"35\":1129008523973541890,\"36\":820671391506673664,\"37\":39447003,\"38\":3289788089,\"39\":1180153026188910592,\"40\":2457520830,\"41\":815227315143720960,\"42\":1254159488132603904,\"43\":1319516701956870144,\"44\":1361230378149814274,\"45\":532311486,\"46\":274341323,\"47\":1404753356153704455,\"48\":1185702654661541888,\"49\":820671391506673664,\"50\":1277978832616583168,\"51\":1183493429482930176,\"52\":1381566724609351684,\"53\":1333567736568483840,\"54\":1395981923449643009,\"55\":935516699859746816,\"56\":6476512,\"57\":1018478469573824513,\"58\":375579156,\"59\":932629791030857728,\"60\":1333252462275280898,\"61\":1351086846026117120,\"62\":1399408159152869384,\"63\":747364287073689600,\"64\":1358214209813807110,\"65\":577662370,\"66\":718679521176743937,\"67\":285207383,\"68\":20361118,\"69\":1095834428,\"70\":1379736872583376896,\"71\":2359007556,\"72\":1268473530875670529,\"73\":22141238,\"74\":1269571972704460800,\"75\":1311275455782285312,\"76\":521175026,\"77\":1113150797427150848,\"78\":125775685,\"79\":75051571,\"80\":329751853,\"81\":1067104842613583872,\"82\":1281275301457248257,\"83\":396409879,\"84\":1377959216636436483,\"85\":285207383,\"86\":150665167,\"87\":380581341,\"88\":287335493,\"89\":988144143082770432,\"90\":1204374973193822208,\"91\":472475366,\"92\":559332680,\"93\":1714561218,\"94\":998453064662110208,\"95\":190231847,\"96\":2220492158,\"97\":1224152387281047552,\"98\":879003512641814528,\"99\":1235859539968159745},\"username\":{\"0\":\"gingereejit\",\"1\":\"esoyenkecut\",\"2\":\"katriinapunna\",\"3\":\"esoyenkecut\",\"4\":\"erica32c\",\"5\":\"esoyenkecut\",\"6\":\"fraserr83803524\",\"7\":\"dinoodii\",\"8\":\"tedneath\",\"9\":\"warastitik\",\"10\":\"19avgust\",\"11\":\"ste942000\",\"12\":\"parkysteve\",\"13\":\"metalheadjudas\",\"14\":\"iweller_health\",\"15\":\"michaelmeyers\",\"16\":\"grahamd42570926\",\"17\":\"wongserang_\",\"18\":\"crazydaze9\",\"19\":\"frank72027200\",\"20\":\"lornajo46397326\",\"21\":\"_ccandy\",\"22\":\"marshalthewill1\",\"23\":\"pedromakee\",\"24\":\"theunbrokenman\",\"25\":\"violaappleton6\",\"26\":\"pidia05\",\"27\":\"agitarp\",\"28\":\"demit_segoroo\",\"29\":\"keoworld\",\"30\":\"trishandsteve\",\"31\":\"granitewaves\",\"32\":\"jakejoosh\",\"33\":\"ian50018916\",\"34\":\"yourdadsadodo\",\"35\":\"spispispiritual\",\"36\":\"tomedisonprez\",\"37\":\"charisshaf\",\"38\":\"patricktheart\",\"39\":\"cucuyate\",\"40\":\"kang_suswan\",\"41\":\"yourownkanoo\",\"42\":\"donyzeep\",\"43\":\"chocollates_\",\"44\":\"simonsky18\",\"45\":\"daire_nulty\",\"46\":\"anthonylarme\",\"47\":\"laurathepugmom\",\"48\":\"ilidiocarmona\",\"49\":\"tomedisonprez\",\"50\":\"bobjame10303195\",\"51\":\"davidbman2\",\"52\":\"y0rlsalozjbojo8\",\"53\":\"indyautie\",\"54\":\"bojojossie\",\"55\":\"annewya88761901\",\"56\":\"emsquare_d\",\"57\":\"ruthalcuizar\",\"58\":\"nomaxone\",\"59\":\"bojo____\",\"60\":\"mutyajanaryfaye\",\"61\":\"christo09787688\",\"62\":\"offpolitically\",\"63\":\"vervet99\",\"64\":\"bojocovidcfg\",\"65\":\"zillamu\",\"66\":\"neilix1971\",\"67\":\"anthonyharty1\",\"68\":\"jagerbombsortea\",\"69\":\"soleddida\",\"70\":\"rudisbiba\",\"71\":\"mepusel\",\"72\":\"scheelkerstin\",\"73\":\"jacquie11\",\"74\":\"dsbahia1\",\"75\":\"mattproops\",\"76\":\"oreolovesbling2\",\"77\":\"finnmm01\",\"78\":\"tommy210254\",\"79\":\"mdionap\",\"80\":\"ayushbojo\",\"81\":\"yejiapbi\",\"82\":\"sarahaboubi1\",\"83\":\"greagsy\",\"84\":\"bojo90852934\",\"85\":\"anthonyharty1\",\"86\":\"annataft_\",\"87\":\"gunblade79\",\"88\":\"ceebocelia\",\"89\":\"miraindah11\",\"90\":\"bojo80369300\",\"91\":\"domesticschizo\",\"92\":\"sunflwrrrs\",\"93\":\"aekarinauu\",\"94\":\"alfarizi1501\",\"95\":\"hakano1882\",\"96\":\"frazb82\",\"97\":\"somianap\",\"98\":\"redjdunn\",\"99\":\"alx_jms\"},\"name\":{\"0\":\"Simon Morris #FBPE \\\\ud83c\\\\udff4\\\\udb40\\\\udc67\\\\udb40\\\\udc62\\\\udb40\\\\udc73\\\\udb40\\\\udc63\\\\udb40\\\\udc74\\\\udb40\\\\udc7f\\\\ud83c\\\\uddea\\\\ud83c\\\\uddfa\\\\ud83c\\\\uddf3\\\\ud83c\\\\uddff\\\\ud83d\\\\udd77\",\"1\":\"bojo muu\",\"2\":\"Katriina Punna\",\"3\":\"bojo muu\",\"4\":\"Erica Costa\",\"5\":\"bojo muu\",\"6\":\"fraser reid\",\"7\":\"\\\\u064byaya cassano\",\"8\":\"Ted Neath\",\"9\":\"sakjane Aku\",\"10\":\"igor Hribar\",\"11\":\"ste\",\"12\":\"FTT\",\"13\":\"Darren Brown\",\"14\":\"iWeller.com\",\"15\":\"Michael\",\"16\":\"GrahamDickson\",\"17\":\"wongk\\\\u0113n\\\\u0113\",\"18\":\"CrazyDaze\",\"19\":\"Frankie \\\\ud83c\\\\udff4\\\\udb40\\\\udc67\\\\udb40\\\\udc62\\\\udb40\\\\udc73\\\\udb40\\\\udc63\\\\udb40\\\\udc74\\\\udb40\\\\udc7f\",\"20\":\"Lorna Johnson\",\"21\":\"deaa\",\"22\":\"Marshal Williams - Princeling of Filth\",\"23\":\"thenovice#fbpe\",\"24\":\"Stop the World I want to get off\",\"25\":\"Viola Appleton\",\"26\":\"irung gedhe\",\"27\":\"Agita Rizkiana P\",\"28\":\"bojes\",\"29\":\"Keo\",\"30\":\"#ohforgoodnesssake!!\",\"31\":\"GraniteWaves\",\"32\":\"Jake Kian Jooshandeh\",\"33\":\"Ian B\",\"34\":\"Modupe\",\"35\":\"\\\\u98a8\\\\u72c2\\\\u3000\\\\u82f1\\\\u8a9e\\\\u723a\",\"36\":\"Tom Edison\",\"37\":\"Risa\",\"38\":\"Patrick A. Goff\",\"39\":\"Darrell Standing\",\"40\":\"KOPI KOTOK \\\\u2615\\\\ufe0f\",\"41\":\"Mateusz Maszczynski\",\"42\":\"D o n y \\\\u00b0\",\"43\":\"Irene Medvedev\",\"44\":\"Simon\",\"45\":\"D\\\\u00e1ire Nulty\",\"46\":\"Anthony Larme\",\"47\":\"Laura the Pug Mom\",\"48\":\"ilidio carmona\",\"49\":\"Tom Edison\",\"50\":\"Bob James\",\"51\":\"Dave_DMan \\\\ud83d\\\\ude44\",\"52\":\"\\\\u0639\\\\u0627\\\\u062f\\\\u0644\",\"53\":\"Lin\",\"54\":\"Jossie Bojo\",\"55\":\"Anne Wyatt\",\"56\":\"Em-Squared\",\"57\":\"bojo\",\"58\":\"Nomaxone\",\"59\":\"Punishers bojo\",\"60\":\"aye\",\"61\":\"Christopher Murphy\",\"62\":\"Ordinary Guy.\",\"63\":\"Brian M\",\"64\":\"I\\'m (Not!) Prime Minister BoJo\",\"65\":\"\\\\ud83d\\\\ude4b\\\\ud83c\\\\udffb\\\\u200d\\\\u2640\\\\ufe0f\",\"66\":\"Neil\",\"67\":\"Anthony Harty\",\"68\":\"Kmag\",\"69\":\"soled\",\"70\":\"Biba Rudis\",\"71\":\"Mem\",\"72\":\"Kerstin #ProudSewarRat \\\\ud83d\\\\udc79\\\\ud83d\\\\udc00\",\"73\":\"\\\\ud835\\\\udcd9\\\\ud835\\\\udcea\\\\ud835\\\\udcec\\\\ud835\\\\udcfa\\\\ud835\\\\udcfe\\\\ud835\\\\udcf2\\\\ud835\\\\udcee\\\\u2764\\\\ufe0f\\\\ud83c\\\\udf0a\\\\ud83c\\\\udf0a\\\\ud83c\\\\udf0a\\\\ud83c\\\\uddea\\\\ud83c\\\\uddf8\\\\ud83c\\\\uddea\\\\ud83c\\\\uddfa\\\\ud83c\\\\uddec\\\\ud83c\\\\udde7\",\"74\":\"Mr Singh \\\\ud83c\\\\udf38\",\"75\":\"Matt Proops\",\"76\":\"love you BOJO... love you BOBBY\",\"77\":\"FinnM01\",\"78\":\"Thomas Hamilton IV \\\\ud83d\\\\udc99\",\"79\":\"personalized bathroom\",\"80\":\"\\\\u0639\\\\u0632\\\\u0629 \\\\u0633\\\\u0647\\\\u064a\\\\u0644 \\\\u0643\\\\u0648\\\\u0628\\\\u0648\\\\u0646\\\\u0627\\\\u062a \\\\u0627\\\\u0644\\\\u062e\\\\u0644\\\\u064a\\\\u062c \\\\u0627\\\\u0644\\\\u062d\\\\u0635\\\\u0631\\\\u064a\\\\u0629 \\\\ud83c\\\\udff7\\\\ufe0f\",\"81\":\"cik\",\"82\":\"Sara #TakeOffTheDamnMask Haboubi\",\"83\":\"Iain McGregor \\\\ud83c\\\\udff4\\\\udb40\\\\udc67\\\\udb40\\\\udc62\\\\udb40\\\\udc73\\\\udb40\\\\udc63\\\\udb40\\\\udc74\\\\udb40\\\\udc7f\",\"84\":\"BOJO\",\"85\":\"Anthony Harty\",\"86\":\"Anna\",\"87\":\"dennis bojo\",\"88\":\"\\\\ud83d\\\\udc99\\\\ud83d\\\\udc1d\\\\u2b50\\\\ufe0f3.5%\\\\u2b50\\\\ufe0fGov by U-turn\\\\u2b50\\\\ufe0f\",\"89\":\"mira\",\"90\":\"Alex Ross\\\\u00e3\",\"91\":\"TheHousedPodcaster (#YesCymru)\",\"92\":\"\\\\ud83c\\\\udf3b\",\"93\":\"Naura \\\\u30df\\\\u2730\\\\ud83d\\\\udc30\\\\ud83e\\\\udd8b\\\\u2764\\\\ufe0f\",\"94\":\"Kekasih Bayangan\",\"95\":\"Hakano\",\"96\":\"Fraser Burnett\",\"97\":\"Somiya\",\"98\":\"jojo \\\\ud83c\\\\udfcd\\\\ud83c\\\\udfc1\",\"99\":\"AlxJms\"},\"place\":{\"0\":null,\"1\":null,\"2\":null,\"3\":null,\"4\":null,\"5\":null,\"6\":null,\"7\":null,\"8\":null,\"9\":null,\"10\":null,\"11\":null,\"12\":null,\"13\":null,\"14\":null,\"15\":null,\"16\":null,\"17\":null,\"18\":null,\"19\":null,\"20\":null,\"21\":null,\"22\":null,\"23\":null,\"24\":null,\"25\":null,\"26\":null,\"27\":null,\"28\":null,\"29\":null,\"30\":null,\"31\":null,\"32\":null,\"33\":null,\"34\":null,\"35\":null,\"36\":null,\"37\":null,\"38\":null,\"39\":null,\"40\":null,\"41\":null,\"42\":null,\"43\":null,\"44\":null,\"45\":null,\"46\":null,\"47\":null,\"48\":null,\"49\":null,\"50\":null,\"51\":null,\"52\":null,\"53\":null,\"54\":null,\"55\":null,\"56\":null,\"57\":null,\"58\":null,\"59\":null,\"60\":null,\"61\":null,\"62\":null,\"63\":null,\"64\":null,\"65\":null,\"66\":null,\"67\":null,\"68\":null,\"69\":null,\"70\":null,\"71\":null,\"72\":null,\"73\":null,\"74\":null,\"75\":null,\"76\":null,\"77\":null,\"78\":null,\"79\":null,\"80\":null,\"81\":null,\"82\":null,\"83\":null,\"84\":null,\"85\":null,\"86\":null,\"87\":null,\"88\":null,\"89\":null,\"90\":null,\"91\":null,\"92\":null,\"93\":null,\"94\":null,\"95\":null,\"96\":null,\"97\":null,\"98\":null,\"99\":null},\"tweet\":{\"0\":\"@OxfordDiplomat Takes the heat of BoJo... he needs a Fall Guy when the excreta collides with gaseous vortex generator\",\"1\":\"Bagussss yg mana?  https:\\\\/\\\\/t.co\\\\/U4mBNNEooN\",\"2\":\"@BBCBreaking Bojo himself is helpless.\",\"3\":\"@Ayyycaaaa Dasteurrr\",\"4\":\"So I can\\\\u2019t take my children for a break, but this lot can have bbq\\\\u2019s and travel around the world!!! No masks, no social distance, but BOJO wants to extend lockdown! But he is doing what we were supposed this month! One rule for us, none for them #Leaders????  https:\\\\/\\\\/t.co\\\\/bMXK7p4uf4\",\"5\":\"@fajarramadani46 Sidoarjoo\",\"6\":\"@scottish_force @BrianBengal @Scottish_Rebels BoJo tried herd immunity thru no vaccine - what happened? Hundreds of thousands died needlessly - how many have died just because of the Jag but not because of covid? Herd immunity jag pffft.\",\"7\":\"YA ALLAH BOJO KUUUUU \\\\ud83d\\\\ude3b\",\"8\":\"@jones_bobjones @Falcon_Malteser It\\'s very 90s BoJo imo. That kind of flippant, journalistic bullishness where you knock out five hundred words for an ES column on something provocative then continue to bundle on through life like you\\'re owed it. And as you say, she has a literal position of power here.\",\"9\":\"@bungTimoo @Sunda_Fess Wkwkw iyo yo , bojo ku yo tau mikir ngene\",\"10\":\"@idnaAndrej @BogdanSajovic Abranki, pitna voda je na\\\\u0161a in ne od tujih korporacij. Fajonka s tem nima ni\\\\u010d, pa\\\\u010d pa na\\\\u0161i potomci, ki bojo lahko \\\\u017eejni zaradi \\\\\"demokracije!\\\\\" Gre se za izkori\\\\u0161\\\\u010devakski kapitalizem! Si ga \\\\u017eelite?\",\"11\":\"@coachoram @JuliaHB1 people are terrified due to data given by SAGE and Bojo - again do you not think this is unacceptable when it is out of date or incorrect\",\"12\":\"@matthancock   So, why would you want all care workers mandated when there is overwhelming evidence suggesting this would increase absence, leaving the vulnerable even more vulnerable?   Maybe Bojo was right, and you are \\\\u201cf****n useless\\\\u201d  https:\\\\/\\\\/t.co\\\\/bZJ8DYTdGF\",\"13\":\"BoJo and the #Conservative cronies, if you ever wonder why the nation voted to leave the #EU just look at he languages that cover about 7 nationalities catered for at my sons school. All draining local resources and straining #education #BorisJohnson #BrexitBritain #Refugees  https:\\\\/\\\\/t.co\\\\/PtnoywYlyS\",\"14\":\"Life After No 10: BoJo Reportedly \\\\u2018Can\\\\u2019t Wait to Go Back to Writing, Have Fun, Make Money\\\\u2019 - The phrase once used in 1987 by Margaret Thatcher, who served 11 years as UK Prime Minister, has been rehashed by Johnson former chief... -  https:\\\\/\\\\/t.co\\\\/jTLURFyrFR  https:\\\\/\\\\/t.co\\\\/kWeRDZorc5\",\"15\":\"How about just showing up as the opposition rather than being a rubber stamp to Bojo and the cons?\",\"16\":\"@DominicFarrell Bojo should challeng  cummdog to a square go ,box office all proceeds to the NHS !\",\"17\":\"Bojonegare, masa gak tau, itu saya yang jodohin sampe jadi bojo\",\"18\":\"@talkRADIO Let\\'s stop messing about, BoJo is a fake, he and SAGE have no intention of opening up ever,the fraudulent \\'cases\\',made up numbers in ICU BS, the \\\\\"variant is so much more virulent\\\\\",this cannot continue, we need to take our freedom back now, ignore the rules, they can\\'t be trusted.\",\"19\":\"@MartinSLewis Every workplace has people who are winging it and get away with  https:\\\\/\\\\/t.co\\\\/OIkxi176BY is that person.The fact that bojo knows and has kept him in such a high position during a pandemic is criminal.\",\"20\":\"@JeremyVineOn5 Talk about age discrimination. Why should one generation be treated different to another just because bojo dictated who could have the vaccine first. Totally unfair on the younger generations\",\"21\":\"@birkinplease klo km temenan sm aku, pasti recent nya bojo galak\",\"22\":\"Given how Bojo the Bozo loves polls, I genuinely think this is a good idea - even if you haven\\'t been wearing a mask throughout. @hector_drummond   @simon__roberts   @JamesDelingpole   @TheBembridge   @SeanWal33531685   @SamizdatMag\",\"23\":\"whos in charge  ?  Has Bojo any faith in him?\",\"24\":\"@KonstantinKisin A simple test could be done during a job interview.  Have a screen behind the interviewer that at random times displays images that are known to cause mental degradation of the weak of mind. Things like \\\\ud83c\\\\uddec\\\\ud83c\\\\udde7\\\\ud83c\\\\udff4\\\\udb40\\\\udc67\\\\udb40\\\\udc62\\\\udb40\\\\udc65\\\\udb40\\\\udc6e\\\\udb40\\\\udc67\\\\udb40\\\\udc7fthe Queen, Farage and Bojo should do the trick.\",\"25\":\"@oneofeach17 @AnthonyHarty1 @LBC Why because my opinion is different to yours? I don\\'t see BoJo as a credible PM.\",\"26\":\"Tiap hari mikir besok belanja apa yaa, besok masak apa ya hihihi.. Juru masak dengan ilmu dapur pas2an ya beginilah, untung mas bojo ga rewel \\\\ud83d\\\\ude01\\\\ud83d\\\\ude01\\\\ud83d\\\\ude01\",\"27\":\"Eh tapi tenan loh koncoku akih2e lanang \\\\ud83d\\\\ude05, dilalah kampuse sekelas isine ya akih lanange. Ribet yen due konco wedok uakih2 ...tur yen konco cedaak isih jelas penak wedok soyo yen wes due bojo \\\\ud83e\\\\udd23. Konco cedak pun due 3 wes alhamdulillah \\\\ud83e\\\\udd23\",\"28\":\"@Kang_Suswan Dungakno aku oleh rezeki bojo neh \\\\ud83e\\\\udd2d  https:\\\\/\\\\/t.co\\\\/VcPYrmqu3T\",\"29\":\"@blastplayer @bojo____ @bojo____\",\"30\":\"@piersmorgan That\\'s not the kind of chap he is, thought you\\'d found that out in your interview with him. He\\'s a thoughtful, honourable man which is what distances him from Bojo! \\\\ud83e\\\\udd21\",\"31\":\"@Kevin_Maguire The assessment of Labour is the most worrying surely no one was in any doubt about BoJo being a clown including his supporters that\\\\u2019s surely why they voted for him but a strong opposition is needed &amp; a choice at next election\",\"32\":\"Also reaffirms how much the terrible pandemic management was a cross-governmental issue. It\\'s not just about \\'hopeless\\' Hancock or Bojo, but about HMT, Dpt Ed, Home Office and so on\",\"33\":\"@Craig42057719 and the fact hes supported by Bojo and other front Benches show they are dont give a crap about the health and well-being of the UK population. Its all about money and control!\",\"34\":\"@EmmaKennedy As much as I hate to admit it, BoJo seems the lesser of two evils for anyone who might replace him atm\",\"35\":\"Nobody thought BoJo would become the skilled torturer who could make the victims exultant while they are torturing.\",\"36\":\"PP has proven that she is just another bought &amp; paid for PUPPET that should be tossed in the trash along with Bojo, HanKOOK, &amp; the rest of the Saboteurs that R deliberately destroying the UK from within. Visit  https:\\\\/\\\\/t.co\\\\/Z0NcPZm8we &amp; see how U.S.Military is prosecuting Traitors\",\"37\":\"@chocollates_ Bojo kita kurang apa coba Sis, petani dusun, ganteng, pinter, ngga sombong pula. Ugh banget kan \\\\ud83e\\\\udd23\\\\ud83e\\\\udd23\",\"38\":\"Appalling @mariacaulfield - for this Bojo continues to break the economy??? and the NHS hibernates\",\"39\":\"Tengo un amigo que es igual que BoJo. Padrino de uno de mis hijos, claro.\",\"40\":\"@demit_segoroo Koyok\\'e sedeh tinggal bojo\\\\ud83d\\\\ude05\",\"41\":\"I say \\\\u201clead\\\\u201d which obviously isn\\\\u2019t the right term for Bojo\",\"42\":\"@raasa_cokelat Bojo\",\"43\":\"@charisshaf @Gerald20491913 emejing bgt bojo kita yasis\",\"44\":\"@DenisKristan @FiserStanko @Zyrafa5 @HaidaGwaiii @neukrotljiva @cashkee @threeneetee @Julija9Julija @TS30040393 @MarkoV05375327 @bosti0 @camucamuca1 @mgajver @Im_Vladimir_S @ToneCricket @nivelska @KingKob53313520 @MilosBojnec @pa_3_ot142 @nomoreki55 @Domen_G @RMajnik @bozicek22 @marijanli @ajitamxy @BalordaZdravko @DivineIncarnate @dav_s_ @bitbatbat @J_agodka @EnaKranjica @AdHoc91254912 @MPlaninsec @VRUNDRAGICA @jolandab88 @AlesJensterle @dDonnieDrama @GregorKos @JankoKocbek @AndrejKeber @NepovemVilma @nadakoder @SunjenaS @JankoMarin @plakic2 @tomaz762 @MerlinLore @SrbijaMila Ni \\\\u0161ansa ! Bojo morali \\\\u0161e mal polente pojest. Vsaj glede mene\\\\u261d\\\\ufe0f\",\"45\":\"@JamieBrysonCPNI EH, Bojo and Frosty negotiated the Protocol, the NIP was debated, voted by UK elected representatives, although Frosty is an unelected bureaucrat.... It is now international and domestic law... Northern Ireland voted AGAINST BREXIT also\",\"46\":\"\\\\\"I don\\'t believe for one minute bojo\\'s new freedom date they\\'ll try and push it further down the road unless the spineless stand up and say no\\\\\"   https:\\\\/\\\\/t.co\\\\/2Mu1uXpqRa\",\"47\":\"I just love my bojo\\\\ud83d\\\\udc3e\\\\ud83e\\\\udd70 #Pug #puglover #puglife #dogsoftwitter #ThankYouScott #Sixers #love  https:\\\\/\\\\/t.co\\\\/5BNbJA2nUs\",\"48\":\"@tomhfh Big of Tom to show that wetherspoons tv as the full backing of the bojo propaganda machine!!! Not the win he thinks....\",\"49\":\"Even though I\\'m a boy from NYC; my HEART will always VOTE for Jayda bc she has what it takes to be a Great Leader. ALL major British political parties should \\\\\"unite\\\\\" behind this BOLD_Leader who possesses more charisma than all of the MPs combined. STOP voting for jerks like Bojo.\",\"50\":\"Indeed, Governments have taken advantage of hardworking dedicated professionals who work for less money than they would earn in the private sector. Elegantly demonstrated by the BoJo 1% NHS pay offer.\",\"51\":\"@bbclaurak Well done Joe Biden.. one Biden boot up BoJo\\'s backside and we see real progress finally.\",\"52\":\"@SulaimanALF1970 \\\\u0628\\\\u0633\\\\u0628\\\\u0628 \\\\u062d\\\\u0642\\\\u0627\\\\u0631\\\\u0629 \\\\u0628\\\\u0631\\\\u064a\\\\u0637\\\\u0627\\\\u0646\\\\u064a\\\\u0627 \\\\u0648\\\\u0627\\\\u0644\\\\u0623\\\\u0645\\\\u0631\\\\u064a\\\\u0643\\\\u0627\\\\u0646 \\\\u0627\\\\u0644\\\\u0639\\\\u0631\\\\u0627\\\\u0642 \\\\u0641\\\\u064a \\\\u0627\\\\u0633\\\\u0648\\\\u0621 \\\\u062d\\\\u0627\\\\u0644\",\"53\":\"@GUNKLE2 By posting what\\\\u2019s app messsges the public think \\\\u201c awww look BOJO said WTF , he\\\\u2019s one of us after all \\\\u201c it\\\\u2019s been planned from the get go with Hancock as the fall guy.\",\"54\":\" https:\\\\/\\\\/t.co\\\\/nOfubkyUdr\",\"55\":\"@jlo_said Bojo\\\\u2019s timing is dreadful. Self inflicted purdah due to not stopping flights from India.\",\"56\":\"@lita12557 Also a tad pot, kettle, black situation  with Bojo calling anyone useless. Plenty more of the same to fill their places.\",\"57\":\"maling desisyon\",\"58\":\"@nuffniceness @BorisJohnson @CMO_England @GOVUK @MattHancock It makes @10DowningStreet look like a complete incompetent shambles, except for the vaccine rollout. Worse still @UKLabour the weakest most ineffective opposition ever!  Change is required but neither Bojo or Hindsight have a pair of gonads between them to shake things up\\\\ud83e\\\\udd14\\\\ud83d\\\\ude09\",\"59\":\"@blastplayer \\\\u2764\\\\ufe0f\\\\ud83d\\\\udc10\",\"60\":\"Patawa ng patawa si sonny syaka sj bojo mga gagu HAHAHAHHAHA\",\"61\":\"@LimerickLoyali1 Could think of absolutely nothing worse than being ruled by BoJo   Scotland will forge their own future shortly\",\"62\":\"Yes, if Hancock s so hopeless why didn\\'t Bojo replace him at Health department!\",\"63\":\"It doesn\\'t say much for a passive population who are willing to accept this either.  Groveling, cap-touching, obsequious acceptance. \\\\\"Well it\\'s a tough job and our BoJo is doing his best...\\\\\"\",\"64\":\"We sincerely protect until and beyond COVID-19\\'s end, the National Health Service.\",\"65\":\"bawaan nya seharian meweeek teros.. tp lgsg ademm nyess klo mas bojo bilang gapapa semangat\",\"66\":\"@AvonandsomerRob To me, this says a lot more about the character of DC than BoJo\",\"67\":\"@oneofeach17 @ViolaAppleton6 @LBC Not atall. She\\\\u2019s happy in herself, and she dislikes BoJo as much as me\",\"68\":\"@alexwickham In the next poll: CON 48 (+4). England, where I live, is a nation of deluded xenophobic bigots who are fully immersed in the bojo\\\\/tory cult. This story will be forgotten about by tomorrow. Voters get what they deserve.\",\"69\":\"Bismillah mugi ndang intuk bojo engkang jodoh lan isoh gawe omah \\\\ud83d\\\\ude4f\",\"70\":\"@talkRADIO @JuliaHB1 @JuliahB You\\'re inciting harassment here. On top of that it isn\\'t BoJo who will be opening the dirty masks. It will be innocent admin staff. It\\'s not only utterly futile, it\\'s irresponsible Julia!\",\"71\":\"@LogamMuliaAntam #SabarItuEmas ketika ngecek harga emas tiap hari naik-turun.  Semoga tabungannya mas bojo sgr terkumpul biar cepet beli emas buat mahar. Aminnn \\\\ud83d\\\\ude4f\\\\ud83d\\\\ude4f  Yuk ikutan @keneppp @putiktiktikkkk @blueuranuss  #AntamBagiBagiHadiah #mengEMASkan #ANTAMlogammulia  #emasantamHALAL #MelekEmas\",\"72\":\"@DaveMilbo Scomo &amp; Bojo. Make a good clown act.\",\"73\":\"@CeeboCelia Got it.  Tks.  Mind you I would not mind some interference if it could get rid of Macron.  My son lives in Paris and says it has gone further downhill under him.  And I will not mention Bojo.\\\\ud83d\\\\ude2a Spain is corrupt but not as blatently \\\\ud83c\\\\uddea\\\\ud83c\\\\uddf8\\\\ud83c\\\\uddea\\\\ud83c\\\\uddfa\\\\ud83c\\\\uddec\\\\ud83c\\\\udde7\",\"74\":\"Take a mask, write #ImDone on it and send to Bojo, number 10 Downing Street  https:\\\\/\\\\/t.co\\\\/yrCpiAqoq0\",\"75\":\"So - are you suggesting that Bojo can be compared to Baldrick ?  A bit harsh on Baldrick, methinks.\",\"76\":\"Cendol...11th bulan November nanti...sehat sehat ya ndol...  https:\\\\/\\\\/t.co\\\\/6kfYkpTUAc\",\"77\":\"@AlexKane221b This is the kind of agreement Bojo will do well to implement or Sinn Fein\\'s argument will be shouted around the world that he doesn\\'t implement and NI can no longer be governed from WM strengthening case for UI, with the world watching\",\"78\":\"BoJo said more or less the same thing yesterday at PMQS  Whilst frothing like someone possessed\",\"79\":\"Kangen bojo\",\"80\":\"\\\\u0643\\\\u0648\\\\u0628\\\\u0648\\\\u0646\\\\u0627\\\\u062a \\\\u062e\\\\u0635\\\\u0645 \\\\u0642\\\\u0648\\\\u064a\\\\u0647 \\\\u0645\\\\u0646 \\\\u0645\\\\u0627\\\\u0643\\\\u0633 \\\\u0641\\\\u0627\\\\u0634\\\\u0648\\\\u0646 \\\\u0627\\\\u0644\\\\u0625\\\\u0645\\\\u0627\\\\u0631\\\\u0627\\\\u062a \\\\u0648 \\\\u0645\\\\u062a\\\\u0627\\\\u062c\\\\u0631 \\\\u0627\\\\u062e\\\\u0631\\\\u064a  \\\\u0641\\\\u0640\\\\u0648\\\\u063a\\\\u0627 \\\\u0643\\\\u0640\\\\u0644\\\\u0648\\\\u0633\\\\u064a\\\\u062a AWP \\\\u0631\\\\u064a\\\\u0641\\\\u0627 \\\\u0641\\\\u0627\\\\u0634\\\\u0646 YAY175 \\\\u0644\\\\u0627\\\\u0643\\\\u0648\\\\u0633\\\\u062a LCS67 \\\\u0647\\\\u0627\\\\u064a \\\\u0628\\\\u0648\\\\u0628\\\\u064a \\\\u0628\\\\u064a\\\\u0628\\\\u064a \\\\u0647\\\\u0627\\\\u064a\\\\u0628\\\\u0648\\\\u064a MX30 \\\\u0627\\\\u064a\\\\u0646\\\\u0645\\\\u0627 NM92 \\\\u0646\\\\u0645\\\\u0634\\\\u0649 FUN273  \\\\u0643\\\\u0648\\\\u062f \\\\u062e\\\\u0635\\\\u0645 \\\\u0648\\\\u0642\\\\u0633\\\\u0627\\\\u064a\\\\u0645 \\\\u062a\\\\u062e\\\\u0641\\\\u064a\\\\u0636 \\\\u0627\\\\u0644\\\\u0645\\\\u0645\\\\u0644\\\\u0643\\\\u0647 \\\\u0627\\\\u0644\\\\u0633\\\\u0639\\\\u0648\\\\u062f\\\\u064a\\\\u0647 \\\\u0627\\\\u0644\\\\u0627\\\\u0645\\\\u0627\\\\u0631\\\\u0627\\\\u062a \\\\u0627\\\\u0644\\\\u0643\\\\u0648\\\\u064a\\\\u062a\",\"81\":\"Aku harus makasih sama pak Eka, fix. Cuma lewat dia keknya aku sering dapet update an bojo aku di tempat kerja :\\\\\") Makasih pak @BTOB_SEKwang udh kasih update orang yg gak pernah update ini @LeeCS_BTOB\",\"82\":\"@kop2222 I\\\\u2019m assuming that Bojo you were referring to and not me! \\\\ud83d\\\\ude02\",\"83\":\"Not a Daily Star fan but they got this right @MattHancock however maybe they should have added a picture of @BorisJohnson as well Bojo the \\\\ud83e\\\\udd21and his sidekick  https:\\\\/\\\\/t.co\\\\/LxNOifuldG\",\"84\":\"@suzyquiquero I love Brexit and listening to the winging remoaners. It really makes my day thanks to Boris\",\"85\":\"@ViolaAppleton6 @oneofeach17 @LBC My mum could do a better job than BoJo, and she\\\\u2019s got dimentia! At least when she keeps making the same mistakes, she\\\\u2019s got an excuse!\",\"86\":\"Positive news the Bojo might be allowing double jabbed people holidays without quarantine!!!! 1 week borris, make me dreams come true \\\\ud83e\\\\udd28\\\\ud83e\\\\udd28\\\\ud83e\\\\udd23\",\"87\":\"fucking hate the backyardigans... pricks\",\"88\":\"Yet another #sellout by Bojo and his vacuous assistant Truss. \\\\ud83d\\\\udc4f\\\\ud83d\\\\udc4f\\\\ud83d\\\\udc4f\",\"89\":\"Aplikasi bersejarah wkwkwk sesungguhnya aku kenal mas bojo lewat ini aplikasi,  Tapi emg 1 tempat kerjaan, mas bojo resign, aku masuk. Ya Alhamdulillah bisa jd buat alasan kalo ditanya orang, kan ga mungkin dijawab kenal lewat aplikasi.  https:\\\\/\\\\/t.co\\\\/cK5oQUverq\",\"90\":\"@IKEAUKSupport @chris_j_wood Scum scum scum\",\"91\":\"@Roadwarrior29 Well... He won\\'t be going fucking anywhere now. Will he?!? FFS. Cos Bojovian Ceasar (Et Tu Gov) would never ever give Cumming the damn satisfaction.   He was likely right tho, cos replace with Gove? He\\'s waiting for fing Bojo\\'s job... Last thing we need is constant change...\",\"92\":\"Ko jadi sering ujan lagiiii... Untung punya mas bojo\\\\ud83d\\\\ude02\\\\ud83e\\\\udd17\",\"93\":\"Astsgdhdjjjj gak gini juga wkwkwk  Changmin bar dadi bojo ne wong liyo malih tambah ganteng wae\",\"94\":\"@syawasarays rasah nggo obat mba\\', cukup nduwe bojo sek gaweane selingkah lak kuru dewe awake....\\\\ud83d\\\\ude05\\\\ud83d\\\\ude05\\\\ud83d\\\\ude05\",\"95\":\"@Thomasgordon01 @icod_miguel @campbellclaret Surely you\\\\u2019re not advocating that Germany is behind because more daily deaths currently but much less overall despite bigger population? Our bodies piled high early on by the \\\\u2018000s as per BoJo\\\\u2019s wish.\",\"96\":\"@mrjamesob And the problem is, BoJo also isn\\'t worried about any of our own producers, very much like the Australians. We\\'ve seen this behavior from tories over the decades with privatising and selling everything off. This is the same shortsighted nonsense all over again.\",\"97\":\"Kangen bojo :(\",\"98\":\"@Yorkshirebandit Let\\\\u2019s be honest, it\\\\u2019s a lame excuse, given BoJo\\\\u2019s latest announcement it\\\\u2019s got to be linked behind the scenes \\\\u2026.. gutted \\\\ud83d\\\\ude15\",\"99\":\"@FionaHare9 @FordDawe @suzseddon @MattHancock Whole of the cabinet BoJo including! They all lie and have\"},\"language\":{\"0\":\"en\",\"1\":\"in\",\"2\":\"en\",\"3\":\"de\",\"4\":\"en\",\"5\":\"in\",\"6\":\"en\",\"7\":\"in\",\"8\":\"en\",\"9\":\"in\",\"10\":\"sl\",\"11\":\"en\",\"12\":\"en\",\"13\":\"en\",\"14\":\"en\",\"15\":\"en\",\"16\":\"en\",\"17\":\"in\",\"18\":\"en\",\"19\":\"en\",\"20\":\"en\",\"21\":\"in\",\"22\":\"en\",\"23\":\"en\",\"24\":\"en\",\"25\":\"en\",\"26\":\"in\",\"27\":\"in\",\"28\":\"in\",\"29\":\"und\",\"30\":\"en\",\"31\":\"en\",\"32\":\"en\",\"33\":\"en\",\"34\":\"en\",\"35\":\"en\",\"36\":\"en\",\"37\":\"in\",\"38\":\"en\",\"39\":\"es\",\"40\":\"in\",\"41\":\"en\",\"42\":\"in\",\"43\":\"in\",\"44\":\"sl\",\"45\":\"en\",\"46\":\"en\",\"47\":\"en\",\"48\":\"en\",\"49\":\"en\",\"50\":\"en\",\"51\":\"en\",\"52\":\"ar\",\"53\":\"en\",\"54\":\"und\",\"55\":\"en\",\"56\":\"en\",\"57\":\"tl\",\"58\":\"en\",\"59\":\"und\",\"60\":\"tl\",\"61\":\"en\",\"62\":\"en\",\"63\":\"en\",\"64\":\"en\",\"65\":\"in\",\"66\":\"en\",\"67\":\"en\",\"68\":\"en\",\"69\":\"in\",\"70\":\"en\",\"71\":\"in\",\"72\":\"en\",\"73\":\"en\",\"74\":\"en\",\"75\":\"en\",\"76\":\"in\",\"77\":\"en\",\"78\":\"en\",\"79\":\"in\",\"80\":\"ar\",\"81\":\"in\",\"82\":\"en\",\"83\":\"en\",\"84\":\"en\",\"85\":\"en\",\"86\":\"en\",\"87\":\"en\",\"88\":\"en\",\"89\":\"in\",\"90\":\"ro\",\"91\":\"en\",\"92\":\"in\",\"93\":\"in\",\"94\":\"in\",\"95\":\"en\",\"96\":\"en\",\"97\":\"in\",\"98\":\"en\",\"99\":\"en\"},\"mentions\":{\"0\":\"[]\",\"1\":\"[]\",\"2\":\"[]\",\"3\":\"[]\",\"4\":\"[]\",\"5\":\"[]\",\"6\":\"[]\",\"7\":\"[]\",\"8\":\"[]\",\"9\":\"[]\",\"10\":\"[]\",\"11\":\"[]\",\"12\":\"[]\",\"13\":\"[]\",\"14\":\"[]\",\"15\":\"[]\",\"16\":\"[]\",\"17\":\"[]\",\"18\":\"[]\",\"19\":\"[]\",\"20\":\"[]\",\"21\":\"[]\",\"22\":\"[{\\'screen_name\\': \\'hector_drummond\\', \\'name\\': \\'hector drummond\\', \\'id\\': \\'931651609456717827\\'}, {\\'screen_name\\': \\'simon__roberts\\', \\'name\\': \\'simon roberts\\', \\'id\\': \\'1268573159290212356\\'}, {\\'screen_name\\': \\'jamesdelingpole\\', \\'name\\': \\\\\"totally fake \\'president\\' james delingpole\\\\\", \\'id\\': \\'15798091\\'}, {\\'screen_name\\': \\'thebembridge\\', \\'name\\': \\'james bembridge\\', \\'id\\': \\'1061239022952112128\\'}, {\\'screen_name\\': \\'seanwal33531685\\', \\'name\\': \\'sean walsh\\', \\'id\\': \\'1343929205403299843\\'}, {\\'screen_name\\': \\'samizdatmag\\', \\'name\\': \\'samizdat\\', \\'id\\': \\'1232027761906192385\\'}]\",\"23\":\"[]\",\"24\":\"[]\",\"25\":\"[]\",\"26\":\"[]\",\"27\":\"[]\",\"28\":\"[]\",\"29\":\"[]\",\"30\":\"[]\",\"31\":\"[]\",\"32\":\"[]\",\"33\":\"[]\",\"34\":\"[]\",\"35\":\"[]\",\"36\":\"[]\",\"37\":\"[]\",\"38\":\"[{\\'screen_name\\': \\'mariacaulfield\\', \\'name\\': \\'maria caulfield mp #stayalertcontrolthevirus\\', \\'id\\': \\'207697553\\'}]\",\"39\":\"[]\",\"40\":\"[]\",\"41\":\"[]\",\"42\":\"[]\",\"43\":\"[]\",\"44\":\"[]\",\"45\":\"[]\",\"46\":\"[]\",\"47\":\"[]\",\"48\":\"[]\",\"49\":\"[]\",\"50\":\"[]\",\"51\":\"[]\",\"52\":\"[]\",\"53\":\"[]\",\"54\":\"[]\",\"55\":\"[]\",\"56\":\"[]\",\"57\":\"[]\",\"58\":\"[{\\'screen_name\\': \\'10downingstreet\\', \\'name\\': \\'uk prime minister\\', \\'id\\': \\'14224719\\'}, {\\'screen_name\\': \\'uklabour\\', \\'name\\': \\'the labour party\\', \\'id\\': \\'14291684\\'}]\",\"59\":\"[]\",\"60\":\"[]\",\"61\":\"[]\",\"62\":\"[]\",\"63\":\"[]\",\"64\":\"[]\",\"65\":\"[]\",\"66\":\"[]\",\"67\":\"[]\",\"68\":\"[]\",\"69\":\"[]\",\"70\":\"[]\",\"71\":\"[{\\'screen_name\\': \\'keneppp\\', \\'name\\': \\'im okay\\', \\'id\\': \\'1206702214334468096\\'}, {\\'screen_name\\': \\'putiktiktikkkk\\', \\'name\\': \\'putri antikaa\\', \\'id\\': \\'2823257316\\'}, {\\'screen_name\\': \\'blueuranuss\\', \\'name\\': \\'cep\\', \\'id\\': \\'578709618\\'}]\",\"72\":\"[]\",\"73\":\"[]\",\"74\":\"[]\",\"75\":\"[]\",\"76\":\"[]\",\"77\":\"[]\",\"78\":\"[]\",\"79\":\"[]\",\"80\":\"[]\",\"81\":\"[{\\'screen_name\\': \\'btob_sekwang\\', \\'name\\': \\'\\\\uc11c\\\\uc740\\\\uad11\\', \\'id\\': \\'1730918582\\'}, {\\'screen_name\\': \\'leecs_btob\\', \\'name\\': \\'\\\\uc774\\\\ucc3d\\\\uc12d\\', \\'id\\': \\'1721015586\\'}]\",\"82\":\"[]\",\"83\":\"[{\\'screen_name\\': \\'matthancock\\', \\'name\\': \\'matt hancock\\', \\'id\\': \\'19825835\\'}, {\\'screen_name\\': \\'borisjohnson\\', \\'name\\': \\'boris johnson\\', \\'id\\': \\'3131144855\\'}]\",\"84\":\"[]\",\"85\":\"[]\",\"86\":\"[]\",\"87\":\"[]\",\"88\":\"[]\",\"89\":\"[]\",\"90\":\"[]\",\"91\":\"[]\",\"92\":\"[]\",\"93\":\"[]\",\"94\":\"[]\",\"95\":\"[]\",\"96\":\"[]\",\"97\":\"[]\",\"98\":\"[]\",\"99\":\"[]\"},\"urls\":{\"0\":\"[]\",\"1\":\"[]\",\"2\":\"[]\",\"3\":\"[]\",\"4\":\"[]\",\"5\":\"[]\",\"6\":\"[]\",\"7\":\"[]\",\"8\":\"[]\",\"9\":\"[]\",\"10\":\"[]\",\"11\":\"[]\",\"12\":\"[]\",\"13\":\"[]\",\"14\":\"[\\'https:\\\\/\\\\/www.iweller.com\\\\/coronavirus\\\\/life-after-no-10-bojo-reportedly-cant-wait-to-go-back-to-writing-have-fun-make-money\\\\/\\']\",\"15\":\"[]\",\"16\":\"[]\",\"17\":\"[]\",\"18\":\"[]\",\"19\":\"[\\'http:\\\\/\\\\/it.MH\\']\",\"20\":\"[]\",\"21\":\"[]\",\"22\":\"[]\",\"23\":\"[]\",\"24\":\"[]\",\"25\":\"[]\",\"26\":\"[]\",\"27\":\"[]\",\"28\":\"[]\",\"29\":\"[]\",\"30\":\"[]\",\"31\":\"[]\",\"32\":\"[]\",\"33\":\"[]\",\"34\":\"[]\",\"35\":\"[]\",\"36\":\"[\\'http:\\\\/\\\\/realrawnews.com\\']\",\"37\":\"[]\",\"38\":\"[]\",\"39\":\"[]\",\"40\":\"[]\",\"41\":\"[]\",\"42\":\"[]\",\"43\":\"[]\",\"44\":\"[]\",\"45\":\"[]\",\"46\":\"[\\'https:\\\\/\\\\/www.youtube.com\\\\/watch?v=Lpg7NkQXaoI\\']\",\"47\":\"[]\",\"48\":\"[]\",\"49\":\"[]\",\"50\":\"[]\",\"51\":\"[]\",\"52\":\"[]\",\"53\":\"[]\",\"54\":\"[\\'https:\\\\/\\\\/youtube.com\\\\/shorts\\\\/Sj7FT_38MnA?feature=share\\']\",\"55\":\"[]\",\"56\":\"[]\",\"57\":\"[]\",\"58\":\"[]\",\"59\":\"[]\",\"60\":\"[]\",\"61\":\"[]\",\"62\":\"[]\",\"63\":\"[]\",\"64\":\"[]\",\"65\":\"[]\",\"66\":\"[]\",\"67\":\"[]\",\"68\":\"[]\",\"69\":\"[]\",\"70\":\"[]\",\"71\":\"[]\",\"72\":\"[]\",\"73\":\"[]\",\"74\":\"[]\",\"75\":\"[]\",\"76\":\"[]\",\"77\":\"[]\",\"78\":\"[]\",\"79\":\"[]\",\"80\":\"[]\",\"81\":\"[]\",\"82\":\"[]\",\"83\":\"[]\",\"84\":\"[]\",\"85\":\"[]\",\"86\":\"[]\",\"87\":\"[]\",\"88\":\"[]\",\"89\":\"[]\",\"90\":\"[]\",\"91\":\"[]\",\"92\":\"[]\",\"93\":\"[]\",\"94\":\"[]\",\"95\":\"[]\",\"96\":\"[]\",\"97\":\"[]\",\"98\":\"[]\",\"99\":\"[]\"},\"photos\":{\"0\":\"[]\",\"1\":\"[\\'https:\\\\/\\\\/pbs.twimg.com\\\\/media\\\\/E4Eoj6kUUAUyJuY.jpg\\', \\'https:\\\\/\\\\/pbs.twimg.com\\\\/media\\\\/E4EokJOUUAAP3_B.jpg\\']\",\"2\":\"[]\",\"3\":\"[]\",\"4\":\"[\\'https:\\\\/\\\\/pbs.twimg.com\\\\/media\\\\/E4EoMj1WEAYVncg.jpg\\']\",\"5\":\"[]\",\"6\":\"[]\",\"7\":\"[]\",\"8\":\"[]\",\"9\":\"[]\",\"10\":\"[]\",\"11\":\"[]\",\"12\":\"[\\'https:\\\\/\\\\/pbs.twimg.com\\\\/media\\\\/E4Em7-KWQAAqTQ4.jpg\\']\",\"13\":\"[\\'https:\\\\/\\\\/pbs.twimg.com\\\\/media\\\\/E4EmvRnWYAAmm5e.jpg\\']\",\"14\":\"[\\'https:\\\\/\\\\/pbs.twimg.com\\\\/media\\\\/E4EmkeKUYAEN-Zy.jpg\\']\",\"15\":\"[]\",\"16\":\"[]\",\"17\":\"[]\",\"18\":\"[]\",\"19\":\"[]\",\"20\":\"[]\",\"21\":\"[]\",\"22\":\"[]\",\"23\":\"[]\",\"24\":\"[]\",\"25\":\"[]\",\"26\":\"[]\",\"27\":\"[]\",\"28\":\"[]\",\"29\":\"[]\",\"30\":\"[]\",\"31\":\"[]\",\"32\":\"[]\",\"33\":\"[]\",\"34\":\"[]\",\"35\":\"[]\",\"36\":\"[]\",\"37\":\"[]\",\"38\":\"[]\",\"39\":\"[]\",\"40\":\"[]\",\"41\":\"[]\",\"42\":\"[]\",\"43\":\"[]\",\"44\":\"[]\",\"45\":\"[]\",\"46\":\"[]\",\"47\":\"[\\'https:\\\\/\\\\/pbs.twimg.com\\\\/media\\\\/E4EgcpdVkAM2v_B.jpg\\']\",\"48\":\"[]\",\"49\":\"[]\",\"50\":\"[]\",\"51\":\"[]\",\"52\":\"[]\",\"53\":\"[]\",\"54\":\"[]\",\"55\":\"[]\",\"56\":\"[]\",\"57\":\"[]\",\"58\":\"[]\",\"59\":\"[]\",\"60\":\"[]\",\"61\":\"[]\",\"62\":\"[]\",\"63\":\"[]\",\"64\":\"[]\",\"65\":\"[]\",\"66\":\"[]\",\"67\":\"[]\",\"68\":\"[]\",\"69\":\"[]\",\"70\":\"[]\",\"71\":\"[]\",\"72\":\"[]\",\"73\":\"[]\",\"74\":\"[\\'https:\\\\/\\\\/pbs.twimg.com\\\\/media\\\\/E4EYX2sXwAADiQS.jpg\\']\",\"75\":\"[]\",\"76\":\"[\\'https:\\\\/\\\\/pbs.twimg.com\\\\/media\\\\/E4EXZYsVEAE5tup.jpg\\']\",\"77\":\"[]\",\"78\":\"[]\",\"79\":\"[]\",\"80\":\"[]\",\"81\":\"[]\",\"82\":\"[]\",\"83\":\"[\\'https:\\\\/\\\\/pbs.twimg.com\\\\/media\\\\/E4EVfcnWQAIO1jh.jpg\\']\",\"84\":\"[]\",\"85\":\"[]\",\"86\":\"[]\",\"87\":\"[]\",\"88\":\"[]\",\"89\":\"[\\'https:\\\\/\\\\/pbs.twimg.com\\\\/media\\\\/E4EUrGFVIAIXONm.jpg\\']\",\"90\":\"[]\",\"91\":\"[]\",\"92\":\"[]\",\"93\":\"[]\",\"94\":\"[]\",\"95\":\"[]\",\"96\":\"[]\",\"97\":\"[]\",\"98\":\"[]\",\"99\":\"[]\"},\"replies_count\":{\"0\":0,\"1\":0,\"2\":0,\"3\":0,\"4\":0,\"5\":0,\"6\":0,\"7\":0,\"8\":1,\"9\":0,\"10\":0,\"11\":1,\"12\":0,\"13\":0,\"14\":0,\"15\":0,\"16\":0,\"17\":0,\"18\":0,\"19\":0,\"20\":0,\"21\":0,\"22\":0,\"23\":0,\"24\":0,\"25\":0,\"26\":0,\"27\":0,\"28\":0,\"29\":0,\"30\":0,\"31\":0,\"32\":0,\"33\":0,\"34\":0,\"35\":0,\"36\":0,\"37\":1,\"38\":0,\"39\":0,\"40\":1,\"41\":0,\"42\":0,\"43\":1,\"44\":1,\"45\":0,\"46\":1,\"47\":0,\"48\":0,\"49\":0,\"50\":0,\"51\":0,\"52\":0,\"53\":0,\"54\":0,\"55\":0,\"56\":1,\"57\":0,\"58\":0,\"59\":0,\"60\":0,\"61\":1,\"62\":0,\"63\":0,\"64\":0,\"65\":1,\"66\":0,\"67\":1,\"68\":0,\"69\":0,\"70\":4,\"71\":0,\"72\":0,\"73\":0,\"74\":0,\"75\":0,\"76\":0,\"77\":0,\"78\":0,\"79\":0,\"80\":0,\"81\":2,\"82\":1,\"83\":0,\"84\":0,\"85\":1,\"86\":0,\"87\":0,\"88\":0,\"89\":0,\"90\":0,\"91\":0,\"92\":0,\"93\":0,\"94\":1,\"95\":1,\"96\":0,\"97\":0,\"98\":1,\"99\":0},\"retweets_count\":{\"0\":0,\"1\":0,\"2\":0,\"3\":0,\"4\":0,\"5\":0,\"6\":0,\"7\":0,\"8\":0,\"9\":0,\"10\":0,\"11\":0,\"12\":0,\"13\":0,\"14\":0,\"15\":0,\"16\":0,\"17\":0,\"18\":0,\"19\":0,\"20\":0,\"21\":0,\"22\":0,\"23\":0,\"24\":0,\"25\":0,\"26\":0,\"27\":0,\"28\":0,\"29\":0,\"30\":0,\"31\":0,\"32\":0,\"33\":0,\"34\":0,\"35\":0,\"36\":0,\"37\":0,\"38\":0,\"39\":0,\"40\":0,\"41\":0,\"42\":0,\"43\":0,\"44\":0,\"45\":0,\"46\":0,\"47\":0,\"48\":0,\"49\":0,\"50\":0,\"51\":0,\"52\":0,\"53\":0,\"54\":0,\"55\":0,\"56\":0,\"57\":0,\"58\":0,\"59\":0,\"60\":0,\"61\":0,\"62\":0,\"63\":1,\"64\":0,\"65\":0,\"66\":0,\"67\":0,\"68\":0,\"69\":0,\"70\":0,\"71\":0,\"72\":0,\"73\":0,\"74\":0,\"75\":0,\"76\":0,\"77\":0,\"78\":0,\"79\":0,\"80\":0,\"81\":0,\"82\":0,\"83\":0,\"84\":0,\"85\":0,\"86\":0,\"87\":0,\"88\":1,\"89\":0,\"90\":0,\"91\":1,\"92\":0,\"93\":0,\"94\":0,\"95\":0,\"96\":0,\"97\":0,\"98\":0,\"99\":1},\"likes_count\":{\"0\":0,\"1\":0,\"2\":0,\"3\":0,\"4\":0,\"5\":0,\"6\":0,\"7\":0,\"8\":1,\"9\":0,\"10\":0,\"11\":0,\"12\":0,\"13\":0,\"14\":0,\"15\":0,\"16\":0,\"17\":0,\"18\":0,\"19\":1,\"20\":0,\"21\":0,\"22\":1,\"23\":1,\"24\":0,\"25\":0,\"26\":0,\"27\":0,\"28\":0,\"29\":0,\"30\":0,\"31\":0,\"32\":0,\"33\":0,\"34\":0,\"35\":0,\"36\":0,\"37\":0,\"38\":0,\"39\":0,\"40\":1,\"41\":0,\"42\":0,\"43\":0,\"44\":4,\"45\":0,\"46\":0,\"47\":1,\"48\":0,\"49\":0,\"50\":1,\"51\":0,\"52\":1,\"53\":0,\"54\":0,\"55\":0,\"56\":1,\"57\":0,\"58\":0,\"59\":0,\"60\":0,\"61\":0,\"62\":0,\"63\":1,\"64\":0,\"65\":0,\"66\":0,\"67\":0,\"68\":1,\"69\":0,\"70\":0,\"71\":1,\"72\":0,\"73\":1,\"74\":2,\"75\":0,\"76\":0,\"77\":3,\"78\":0,\"79\":0,\"80\":0,\"81\":4,\"82\":1,\"83\":0,\"84\":0,\"85\":1,\"86\":0,\"87\":0,\"88\":1,\"89\":0,\"90\":0,\"91\":2,\"92\":0,\"93\":1,\"94\":0,\"95\":1,\"96\":0,\"97\":0,\"98\":0,\"99\":3},\"hashtags\":{\"0\":\"[]\",\"1\":\"[]\",\"2\":\"[]\",\"3\":\"[]\",\"4\":\"[\\'leaders\\']\",\"5\":\"[]\",\"6\":\"[]\",\"7\":\"[]\",\"8\":\"[]\",\"9\":\"[]\",\"10\":\"[]\",\"11\":\"[]\",\"12\":\"[]\",\"13\":\"[\\'conservative\\', \\'eu\\', \\'education\\', \\'borisjohnson\\', \\'brexitbritain\\', \\'refugees\\']\",\"14\":\"[]\",\"15\":\"[]\",\"16\":\"[]\",\"17\":\"[]\",\"18\":\"[]\",\"19\":\"[]\",\"20\":\"[]\",\"21\":\"[]\",\"22\":\"[]\",\"23\":\"[]\",\"24\":\"[]\",\"25\":\"[]\",\"26\":\"[]\",\"27\":\"[]\",\"28\":\"[]\",\"29\":\"[]\",\"30\":\"[]\",\"31\":\"[]\",\"32\":\"[]\",\"33\":\"[]\",\"34\":\"[]\",\"35\":\"[]\",\"36\":\"[]\",\"37\":\"[]\",\"38\":\"[]\",\"39\":\"[]\",\"40\":\"[]\",\"41\":\"[]\",\"42\":\"[]\",\"43\":\"[]\",\"44\":\"[]\",\"45\":\"[]\",\"46\":\"[]\",\"47\":\"[\\'pug\\', \\'puglover\\', \\'puglife\\', \\'dogsoftwitter\\', \\'thankyouscott\\', \\'sixers\\', \\'love\\']\",\"48\":\"[]\",\"49\":\"[]\",\"50\":\"[]\",\"51\":\"[]\",\"52\":\"[]\",\"53\":\"[]\",\"54\":\"[]\",\"55\":\"[]\",\"56\":\"[]\",\"57\":\"[]\",\"58\":\"[]\",\"59\":\"[]\",\"60\":\"[]\",\"61\":\"[]\",\"62\":\"[]\",\"63\":\"[]\",\"64\":\"[]\",\"65\":\"[]\",\"66\":\"[]\",\"67\":\"[]\",\"68\":\"[]\",\"69\":\"[]\",\"70\":\"[]\",\"71\":\"[\\'sabarituemas\\', \\'antambagibagihadiah\\', \\'mengemaskan\\', \\'antamlogammulia\\', \\'emasantamhalal\\', \\'melekemas\\']\",\"72\":\"[]\",\"73\":\"[]\",\"74\":\"[\\'imdone\\']\",\"75\":\"[]\",\"76\":\"[]\",\"77\":\"[]\",\"78\":\"[]\",\"79\":\"[]\",\"80\":\"[]\",\"81\":\"[]\",\"82\":\"[]\",\"83\":\"[]\",\"84\":\"[]\",\"85\":\"[]\",\"86\":\"[]\",\"87\":\"[]\",\"88\":\"[\\'sellout\\']\",\"89\":\"[]\",\"90\":\"[]\",\"91\":\"[]\",\"92\":\"[]\",\"93\":\"[]\",\"94\":\"[]\",\"95\":\"[]\",\"96\":\"[]\",\"97\":\"[]\",\"98\":\"[]\",\"99\":\"[]\"},\"cashtags\":{\"0\":\"[]\",\"1\":\"[]\",\"2\":\"[]\",\"3\":\"[]\",\"4\":\"[]\",\"5\":\"[]\",\"6\":\"[]\",\"7\":\"[]\",\"8\":\"[]\",\"9\":\"[]\",\"10\":\"[]\",\"11\":\"[]\",\"12\":\"[]\",\"13\":\"[]\",\"14\":\"[]\",\"15\":\"[]\",\"16\":\"[]\",\"17\":\"[]\",\"18\":\"[]\",\"19\":\"[]\",\"20\":\"[]\",\"21\":\"[]\",\"22\":\"[]\",\"23\":\"[]\",\"24\":\"[]\",\"25\":\"[]\",\"26\":\"[]\",\"27\":\"[]\",\"28\":\"[]\",\"29\":\"[]\",\"30\":\"[]\",\"31\":\"[]\",\"32\":\"[]\",\"33\":\"[]\",\"34\":\"[]\",\"35\":\"[]\",\"36\":\"[]\",\"37\":\"[]\",\"38\":\"[]\",\"39\":\"[]\",\"40\":\"[]\",\"41\":\"[]\",\"42\":\"[]\",\"43\":\"[]\",\"44\":\"[]\",\"45\":\"[]\",\"46\":\"[]\",\"47\":\"[]\",\"48\":\"[]\",\"49\":\"[]\",\"50\":\"[]\",\"51\":\"[]\",\"52\":\"[]\",\"53\":\"[]\",\"54\":\"[]\",\"55\":\"[]\",\"56\":\"[]\",\"57\":\"[]\",\"58\":\"[]\",\"59\":\"[]\",\"60\":\"[]\",\"61\":\"[]\",\"62\":\"[]\",\"63\":\"[]\",\"64\":\"[]\",\"65\":\"[]\",\"66\":\"[]\",\"67\":\"[]\",\"68\":\"[]\",\"69\":\"[]\",\"70\":\"[]\",\"71\":\"[]\",\"72\":\"[]\",\"73\":\"[]\",\"74\":\"[]\",\"75\":\"[]\",\"76\":\"[]\",\"77\":\"[]\",\"78\":\"[]\",\"79\":\"[]\",\"80\":\"[]\",\"81\":\"[]\",\"82\":\"[]\",\"83\":\"[]\",\"84\":\"[]\",\"85\":\"[]\",\"86\":\"[]\",\"87\":\"[]\",\"88\":\"[]\",\"89\":\"[]\",\"90\":\"[]\",\"91\":\"[]\",\"92\":\"[]\",\"93\":\"[]\",\"94\":\"[]\",\"95\":\"[]\",\"96\":\"[]\",\"97\":\"[]\",\"98\":\"[]\",\"99\":\"[]\"},\"link\":{\"0\":\"https:\\\\/\\\\/twitter.com\\\\/gingereejit\\\\/status\\\\/1405449305289228291\",\"1\":\"https:\\\\/\\\\/twitter.com\\\\/esoyenkecut\\\\/status\\\\/1405449166981980164\",\"2\":\"https:\\\\/\\\\/twitter.com\\\\/KatriinaPunna\\\\/status\\\\/1405449009200836608\",\"3\":\"https:\\\\/\\\\/twitter.com\\\\/esoyenkecut\\\\/status\\\\/1405448771333365761\",\"4\":\"https:\\\\/\\\\/twitter.com\\\\/erica32c\\\\/status\\\\/1405448763762692096\",\"5\":\"https:\\\\/\\\\/twitter.com\\\\/esoyenkecut\\\\/status\\\\/1405448558069764101\",\"6\":\"https:\\\\/\\\\/twitter.com\\\\/fraserr83803524\\\\/status\\\\/1405448459424079873\",\"7\":\"https:\\\\/\\\\/twitter.com\\\\/dinoodii\\\\/status\\\\/1405448327714332675\",\"8\":\"https:\\\\/\\\\/twitter.com\\\\/TedNeath\\\\/status\\\\/1405448306159980545\",\"9\":\"https:\\\\/\\\\/twitter.com\\\\/warastitik\\\\/status\\\\/1405447972989456385\",\"10\":\"https:\\\\/\\\\/twitter.com\\\\/19avgust\\\\/status\\\\/1405447807436210180\",\"11\":\"https:\\\\/\\\\/twitter.com\\\\/ste942000\\\\/status\\\\/1405447527181295616\",\"12\":\"https:\\\\/\\\\/twitter.com\\\\/ParkySteve\\\\/status\\\\/1405447374374420480\",\"13\":\"https:\\\\/\\\\/twitter.com\\\\/metalheadjudas\\\\/status\\\\/1405447155003822082\",\"14\":\"https:\\\\/\\\\/twitter.com\\\\/iWeller_health\\\\/status\\\\/1405446968940187652\",\"15\":\"https:\\\\/\\\\/twitter.com\\\\/MichaelMeyers\\\\/status\\\\/1405446952939032576\",\"16\":\"https:\\\\/\\\\/twitter.com\\\\/GrahamD42570926\\\\/status\\\\/1405446882634211328\",\"17\":\"https:\\\\/\\\\/twitter.com\\\\/wongserang_\\\\/status\\\\/1405446375874072576\",\"18\":\"https:\\\\/\\\\/twitter.com\\\\/CrazyDaze9\\\\/status\\\\/1405446137461489667\",\"19\":\"https:\\\\/\\\\/twitter.com\\\\/Frank72027200\\\\/status\\\\/1405445999301206018\",\"20\":\"https:\\\\/\\\\/twitter.com\\\\/LornaJo46397326\\\\/status\\\\/1405445833332514820\",\"21\":\"https:\\\\/\\\\/twitter.com\\\\/_ccandy\\\\/status\\\\/1405445690956734465\",\"22\":\"https:\\\\/\\\\/twitter.com\\\\/MarshalTheWill1\\\\/status\\\\/1405445611550392322\",\"23\":\"https:\\\\/\\\\/twitter.com\\\\/pedromakee\\\\/status\\\\/1405445507309318147\",\"24\":\"https:\\\\/\\\\/twitter.com\\\\/TheUnbrokenMan\\\\/status\\\\/1405445453425090560\",\"25\":\"https:\\\\/\\\\/twitter.com\\\\/ViolaAppleton6\\\\/status\\\\/1405445392599289856\",\"26\":\"https:\\\\/\\\\/twitter.com\\\\/pidia05\\\\/status\\\\/1405445274294575109\",\"27\":\"https:\\\\/\\\\/twitter.com\\\\/agitarp\\\\/status\\\\/1405444484968509448\",\"28\":\"https:\\\\/\\\\/twitter.com\\\\/demit_segoroo\\\\/status\\\\/1405444344232910853\",\"29\":\"https:\\\\/\\\\/twitter.com\\\\/KeoWorld\\\\/status\\\\/1405443910021877760\",\"30\":\"https:\\\\/\\\\/twitter.com\\\\/trishandsteve\\\\/status\\\\/1405443528390553601\",\"31\":\"https:\\\\/\\\\/twitter.com\\\\/Granitewaves\\\\/status\\\\/1405443193194299394\",\"32\":\"https:\\\\/\\\\/twitter.com\\\\/JakeJoosh\\\\/status\\\\/1405443099124436992\",\"33\":\"https:\\\\/\\\\/twitter.com\\\\/Ian50018916\\\\/status\\\\/1405443024436539392\",\"34\":\"https:\\\\/\\\\/twitter.com\\\\/yourdadsadodo\\\\/status\\\\/1405442897684709379\",\"35\":\"https:\\\\/\\\\/twitter.com\\\\/spispispiritual\\\\/status\\\\/1405442633514721285\",\"36\":\"https:\\\\/\\\\/twitter.com\\\\/tomedisonprez\\\\/status\\\\/1405442587301875712\",\"37\":\"https:\\\\/\\\\/twitter.com\\\\/charisshaf\\\\/status\\\\/1405442580339331077\",\"38\":\"https:\\\\/\\\\/twitter.com\\\\/patricktheart\\\\/status\\\\/1405442303506976772\",\"39\":\"https:\\\\/\\\\/twitter.com\\\\/cucuyate\\\\/status\\\\/1405442087261290500\",\"40\":\"https:\\\\/\\\\/twitter.com\\\\/Kang_Suswan\\\\/status\\\\/1405442023205736448\",\"41\":\"https:\\\\/\\\\/twitter.com\\\\/yourownkanoo\\\\/status\\\\/1405441864984109061\",\"42\":\"https:\\\\/\\\\/twitter.com\\\\/DonyZeep\\\\/status\\\\/1405441650483023872\",\"43\":\"https:\\\\/\\\\/twitter.com\\\\/chocollates_\\\\/status\\\\/1405441076110843907\",\"44\":\"https:\\\\/\\\\/twitter.com\\\\/Simonsky18\\\\/status\\\\/1405440857780654082\",\"45\":\"https:\\\\/\\\\/twitter.com\\\\/Daire_Nulty\\\\/status\\\\/1405440647218221056\",\"46\":\"https:\\\\/\\\\/twitter.com\\\\/AnthonyLarme\\\\/status\\\\/1405440562795188226\",\"47\":\"https:\\\\/\\\\/twitter.com\\\\/LaurathePugMom\\\\/status\\\\/1405440237782769671\",\"48\":\"https:\\\\/\\\\/twitter.com\\\\/IlidioCarmona\\\\/status\\\\/1405440215175553026\",\"49\":\"https:\\\\/\\\\/twitter.com\\\\/tomedisonprez\\\\/status\\\\/1405439670830338049\",\"50\":\"https:\\\\/\\\\/twitter.com\\\\/BobJame10303195\\\\/status\\\\/1405439435706191874\",\"51\":\"https:\\\\/\\\\/twitter.com\\\\/DavidBMan2\\\\/status\\\\/1405439331188215811\",\"52\":\"https:\\\\/\\\\/twitter.com\\\\/y0rLSalozjBojo8\\\\/status\\\\/1405438333497532419\",\"53\":\"https:\\\\/\\\\/twitter.com\\\\/IndyAutie\\\\/status\\\\/1405438332650274816\",\"54\":\"https:\\\\/\\\\/twitter.com\\\\/BojoJossie\\\\/status\\\\/1405438200068247554\",\"55\":\"https:\\\\/\\\\/twitter.com\\\\/AnneWya88761901\\\\/status\\\\/1405437891279532032\",\"56\":\"https:\\\\/\\\\/twitter.com\\\\/emsquare_d\\\\/status\\\\/1405437498390716417\",\"57\":\"https:\\\\/\\\\/twitter.com\\\\/ruthalcuizar\\\\/status\\\\/1405437343260020736\",\"58\":\"https:\\\\/\\\\/twitter.com\\\\/Nomaxone\\\\/status\\\\/1405436761510133766\",\"59\":\"https:\\\\/\\\\/twitter.com\\\\/bojo____\\\\/status\\\\/1405436422161682433\",\"60\":\"https:\\\\/\\\\/twitter.com\\\\/mutyajanaryfaye\\\\/status\\\\/1405436369577512963\",\"61\":\"https:\\\\/\\\\/twitter.com\\\\/Christo09787688\\\\/status\\\\/1405436131852754946\",\"62\":\"https:\\\\/\\\\/twitter.com\\\\/OffPolitically\\\\/status\\\\/1405435794756714500\",\"63\":\"https:\\\\/\\\\/twitter.com\\\\/vervet99\\\\/status\\\\/1405435317663027200\",\"64\":\"https:\\\\/\\\\/twitter.com\\\\/bojocovidcfg\\\\/status\\\\/1405435041488982017\",\"65\":\"https:\\\\/\\\\/twitter.com\\\\/zillamu\\\\/status\\\\/1405434575686299649\",\"66\":\"https:\\\\/\\\\/twitter.com\\\\/neilix1971\\\\/status\\\\/1405434537065299972\",\"67\":\"https:\\\\/\\\\/twitter.com\\\\/AnthonyHarty1\\\\/status\\\\/1405434441531543552\",\"68\":\"https:\\\\/\\\\/twitter.com\\\\/JagerbombsORtea\\\\/status\\\\/1405434367372107777\",\"69\":\"https:\\\\/\\\\/twitter.com\\\\/SoledDida\\\\/status\\\\/1405434259200905221\",\"70\":\"https:\\\\/\\\\/twitter.com\\\\/RudisBiba\\\\/status\\\\/1405434108415709187\",\"71\":\"https:\\\\/\\\\/twitter.com\\\\/Mepusel\\\\/status\\\\/1405434042141470725\",\"72\":\"https:\\\\/\\\\/twitter.com\\\\/ScheelKerstin\\\\/status\\\\/1405433636220932100\",\"73\":\"https:\\\\/\\\\/twitter.com\\\\/Jacquie11\\\\/status\\\\/1405432805820149761\",\"74\":\"https:\\\\/\\\\/twitter.com\\\\/dsbahia1\\\\/status\\\\/1405431369443024896\",\"75\":\"https:\\\\/\\\\/twitter.com\\\\/MattProops\\\\/status\\\\/1405431188630781954\",\"76\":\"https:\\\\/\\\\/twitter.com\\\\/OreoLovesBling2\\\\/status\\\\/1405430294014939139\",\"77\":\"https:\\\\/\\\\/twitter.com\\\\/FinnMm01\\\\/status\\\\/1405429811435163649\",\"78\":\"https:\\\\/\\\\/twitter.com\\\\/tommy210254\\\\/status\\\\/1405429741482614786\",\"79\":\"https:\\\\/\\\\/twitter.com\\\\/mdionap\\\\/status\\\\/1405429187633061889\",\"80\":\"https:\\\\/\\\\/twitter.com\\\\/AyushBojo\\\\/status\\\\/1405428912721629185\",\"81\":\"https:\\\\/\\\\/twitter.com\\\\/yejiapbi\\\\/status\\\\/1405428699533430787\",\"82\":\"https:\\\\/\\\\/twitter.com\\\\/SaraHaboubi1\\\\/status\\\\/1405428410009141249\",\"83\":\"https:\\\\/\\\\/twitter.com\\\\/greagsy\\\\/status\\\\/1405428202412068865\",\"84\":\"https:\\\\/\\\\/twitter.com\\\\/BOJO90852934\\\\/status\\\\/1405428192836567040\",\"85\":\"https:\\\\/\\\\/twitter.com\\\\/AnthonyHarty1\\\\/status\\\\/1405428183726493699\",\"86\":\"https:\\\\/\\\\/twitter.com\\\\/annataft_\\\\/status\\\\/1405428060732723200\",\"87\":\"https:\\\\/\\\\/twitter.com\\\\/GunBlade79\\\\/status\\\\/1405427734625480707\",\"88\":\"https:\\\\/\\\\/twitter.com\\\\/CeeboCelia\\\\/status\\\\/1405427463749001218\",\"89\":\"https:\\\\/\\\\/twitter.com\\\\/miraindah11\\\\/status\\\\/1405427305745240064\",\"90\":\"https:\\\\/\\\\/twitter.com\\\\/Bojo80369300\\\\/status\\\\/1405427256189763586\",\"91\":\"https:\\\\/\\\\/twitter.com\\\\/DomesticSchizo\\\\/status\\\\/1405427117421170690\",\"92\":\"https:\\\\/\\\\/twitter.com\\\\/Sunflwrrrs\\\\/status\\\\/1405426893919117315\",\"93\":\"https:\\\\/\\\\/twitter.com\\\\/aekarinauu\\\\/status\\\\/1405426443127967749\",\"94\":\"https:\\\\/\\\\/twitter.com\\\\/AlFarizi1501\\\\/status\\\\/1405426329458151427\",\"95\":\"https:\\\\/\\\\/twitter.com\\\\/hakano1882\\\\/status\\\\/1405426183659999234\",\"96\":\"https:\\\\/\\\\/twitter.com\\\\/Frazb82\\\\/status\\\\/1405425919603400704\",\"97\":\"https:\\\\/\\\\/twitter.com\\\\/SOMIanap\\\\/status\\\\/1405425791261765632\",\"98\":\"https:\\\\/\\\\/twitter.com\\\\/RedjDunn\\\\/status\\\\/1405425728389369856\",\"99\":\"https:\\\\/\\\\/twitter.com\\\\/alx_jms\\\\/status\\\\/1405425704100106240\"},\"retweet\":{\"0\":false,\"1\":false,\"2\":false,\"3\":false,\"4\":false,\"5\":false,\"6\":false,\"7\":false,\"8\":false,\"9\":false,\"10\":false,\"11\":false,\"12\":false,\"13\":false,\"14\":false,\"15\":false,\"16\":false,\"17\":false,\"18\":false,\"19\":false,\"20\":false,\"21\":false,\"22\":false,\"23\":false,\"24\":false,\"25\":false,\"26\":false,\"27\":false,\"28\":false,\"29\":false,\"30\":false,\"31\":false,\"32\":false,\"33\":false,\"34\":false,\"35\":false,\"36\":false,\"37\":false,\"38\":false,\"39\":false,\"40\":false,\"41\":false,\"42\":false,\"43\":false,\"44\":false,\"45\":false,\"46\":false,\"47\":false,\"48\":false,\"49\":false,\"50\":false,\"51\":false,\"52\":false,\"53\":false,\"54\":false,\"55\":false,\"56\":false,\"57\":false,\"58\":false,\"59\":false,\"60\":false,\"61\":false,\"62\":false,\"63\":false,\"64\":false,\"65\":false,\"66\":false,\"67\":false,\"68\":false,\"69\":false,\"70\":false,\"71\":false,\"72\":false,\"73\":false,\"74\":false,\"75\":false,\"76\":false,\"77\":false,\"78\":false,\"79\":false,\"80\":false,\"81\":false,\"82\":false,\"83\":false,\"84\":false,\"85\":false,\"86\":false,\"87\":false,\"88\":false,\"89\":false,\"90\":false,\"91\":false,\"92\":false,\"93\":false,\"94\":false,\"95\":false,\"96\":false,\"97\":false,\"98\":false,\"99\":false},\"quote_url\":{\"0\":null,\"1\":null,\"2\":null,\"3\":null,\"4\":null,\"5\":null,\"6\":null,\"7\":\"https:\\\\/\\\\/twitter.com\\\\/miraclechannie\\\\/status\\\\/1405432815164936193\",\"8\":null,\"9\":null,\"10\":null,\"11\":null,\"12\":null,\"13\":null,\"14\":null,\"15\":\"https:\\\\/\\\\/twitter.com\\\\/anneliesedodds\\\\/status\\\\/1405406533601615876\",\"16\":null,\"17\":null,\"18\":null,\"19\":null,\"20\":null,\"21\":null,\"22\":\"https:\\\\/\\\\/twitter.com\\\\/talkRADIO\\\\/status\\\\/1405444440488095747\",\"23\":\"https:\\\\/\\\\/twitter.com\\\\/alan_shaefer\\\\/status\\\\/1405443157525999617\",\"24\":null,\"25\":null,\"26\":null,\"27\":\"https:\\\\/\\\\/twitter.com\\\\/AREAJULID\\\\/status\\\\/1405343372064169985\",\"28\":null,\"29\":null,\"30\":null,\"31\":null,\"32\":null,\"33\":null,\"34\":null,\"35\":\"https:\\\\/\\\\/twitter.com\\\\/borisjohnson_mp\\\\/status\\\\/1269528390278811648\",\"36\":\"https:\\\\/\\\\/twitter.com\\\\/TelegramJf\\\\/status\\\\/1405177251323387910\",\"37\":null,\"38\":\"https:\\\\/\\\\/twitter.com\\\\/battleaxeBrit1\\\\/status\\\\/1405407252450889728\",\"39\":\"https:\\\\/\\\\/twitter.com\\\\/thegallowboob\\\\/status\\\\/1405333603085557761\",\"40\":null,\"41\":null,\"42\":null,\"43\":null,\"44\":null,\"45\":null,\"46\":null,\"47\":null,\"48\":null,\"49\":\"https:\\\\/\\\\/twitter.com\\\\/TelegramJf\\\\/status\\\\/1405239084981932037\",\"50\":\"https:\\\\/\\\\/twitter.com\\\\/coaimpaul\\\\/status\\\\/1405028372674142212\",\"51\":null,\"52\":null,\"53\":null,\"54\":null,\"55\":null,\"56\":null,\"57\":null,\"58\":null,\"59\":null,\"60\":null,\"61\":null,\"62\":null,\"63\":\"https:\\\\/\\\\/twitter.com\\\\/jazzblogz\\\\/status\\\\/1405289766594105344\",\"64\":null,\"65\":null,\"66\":null,\"67\":null,\"68\":null,\"69\":\"https:\\\\/\\\\/twitter.com\\\\/CakBambangelf\\\\/status\\\\/1405088044638560257\",\"70\":null,\"71\":null,\"72\":null,\"73\":null,\"74\":null,\"75\":\"https:\\\\/\\\\/twitter.com\\\\/Ottojizzmark\\\\/status\\\\/1405269398462423042\",\"76\":null,\"77\":null,\"78\":\"https:\\\\/\\\\/twitter.com\\\\/davidschneider\\\\/status\\\\/1405081478279712769\",\"79\":null,\"80\":null,\"81\":null,\"82\":null,\"83\":null,\"84\":null,\"85\":null,\"86\":null,\"87\":null,\"88\":\"https:\\\\/\\\\/twitter.com\\\\/ukiswitheu\\\\/status\\\\/1405056263298424838\",\"89\":null,\"90\":null,\"91\":null,\"92\":null,\"93\":\"https:\\\\/\\\\/twitter.com\\\\/SMTOWNMENFESS\\\\/status\\\\/1405408427002589184\",\"94\":null,\"95\":null,\"96\":null,\"97\":null,\"98\":null,\"99\":null},\"video\":{\"0\":0,\"1\":1,\"2\":0,\"3\":0,\"4\":1,\"5\":0,\"6\":0,\"7\":0,\"8\":0,\"9\":0,\"10\":0,\"11\":0,\"12\":1,\"13\":1,\"14\":1,\"15\":0,\"16\":0,\"17\":0,\"18\":0,\"19\":0,\"20\":0,\"21\":0,\"22\":0,\"23\":0,\"24\":0,\"25\":0,\"26\":0,\"27\":0,\"28\":1,\"29\":0,\"30\":0,\"31\":0,\"32\":0,\"33\":0,\"34\":0,\"35\":0,\"36\":0,\"37\":0,\"38\":0,\"39\":0,\"40\":0,\"41\":0,\"42\":0,\"43\":0,\"44\":0,\"45\":0,\"46\":0,\"47\":1,\"48\":0,\"49\":0,\"50\":0,\"51\":0,\"52\":0,\"53\":0,\"54\":0,\"55\":0,\"56\":0,\"57\":0,\"58\":0,\"59\":0,\"60\":0,\"61\":0,\"62\":0,\"63\":0,\"64\":0,\"65\":0,\"66\":0,\"67\":0,\"68\":0,\"69\":0,\"70\":0,\"71\":0,\"72\":0,\"73\":0,\"74\":1,\"75\":0,\"76\":1,\"77\":0,\"78\":0,\"79\":0,\"80\":0,\"81\":0,\"82\":0,\"83\":1,\"84\":0,\"85\":0,\"86\":0,\"87\":0,\"88\":0,\"89\":1,\"90\":0,\"91\":0,\"92\":0,\"93\":0,\"94\":0,\"95\":0,\"96\":0,\"97\":0,\"98\":0,\"99\":0},\"thumbnail\":{\"0\":null,\"1\":\"https:\\\\/\\\\/pbs.twimg.com\\\\/media\\\\/E4Eoj6kUUAUyJuY.jpg\",\"2\":null,\"3\":null,\"4\":\"https:\\\\/\\\\/pbs.twimg.com\\\\/media\\\\/E4EoMj1WEAYVncg.jpg\",\"5\":null,\"6\":null,\"7\":null,\"8\":null,\"9\":null,\"10\":null,\"11\":null,\"12\":\"https:\\\\/\\\\/pbs.twimg.com\\\\/media\\\\/E4Em7-KWQAAqTQ4.jpg\",\"13\":\"https:\\\\/\\\\/pbs.twimg.com\\\\/media\\\\/E4EmvRnWYAAmm5e.jpg\",\"14\":\"https:\\\\/\\\\/pbs.twimg.com\\\\/media\\\\/E4EmkeKUYAEN-Zy.jpg\",\"15\":null,\"16\":null,\"17\":null,\"18\":null,\"19\":null,\"20\":null,\"21\":null,\"22\":null,\"23\":null,\"24\":null,\"25\":null,\"26\":null,\"27\":null,\"28\":\"https:\\\\/\\\\/pbs.twimg.com\\\\/ext_tw_video_thumb\\\\/1405444310561001474\\\\/pu\\\\/img\\\\/uDSO_EC46iIoL6x1.jpg\",\"29\":null,\"30\":null,\"31\":null,\"32\":null,\"33\":null,\"34\":null,\"35\":null,\"36\":null,\"37\":null,\"38\":null,\"39\":null,\"40\":null,\"41\":null,\"42\":null,\"43\":null,\"44\":null,\"45\":null,\"46\":null,\"47\":\"https:\\\\/\\\\/pbs.twimg.com\\\\/media\\\\/E4EgcpdVkAM2v_B.jpg\",\"48\":null,\"49\":null,\"50\":null,\"51\":null,\"52\":null,\"53\":null,\"54\":null,\"55\":null,\"56\":null,\"57\":null,\"58\":null,\"59\":null,\"60\":null,\"61\":null,\"62\":null,\"63\":null,\"64\":null,\"65\":null,\"66\":null,\"67\":null,\"68\":null,\"69\":null,\"70\":null,\"71\":null,\"72\":null,\"73\":null,\"74\":\"https:\\\\/\\\\/pbs.twimg.com\\\\/media\\\\/E4EYX2sXwAADiQS.jpg\",\"75\":null,\"76\":\"https:\\\\/\\\\/pbs.twimg.com\\\\/media\\\\/E4EXZYsVEAE5tup.jpg\",\"77\":null,\"78\":null,\"79\":null,\"80\":null,\"81\":null,\"82\":null,\"83\":\"https:\\\\/\\\\/pbs.twimg.com\\\\/media\\\\/E4EVfcnWQAIO1jh.jpg\",\"84\":null,\"85\":null,\"86\":null,\"87\":null,\"88\":null,\"89\":\"https:\\\\/\\\\/pbs.twimg.com\\\\/media\\\\/E4EUrGFVIAIXONm.jpg\",\"90\":null,\"91\":null,\"92\":null,\"93\":null,\"94\":null,\"95\":null,\"96\":null,\"97\":null,\"98\":null,\"99\":null},\"near\":{\"0\":null,\"1\":null,\"2\":null,\"3\":null,\"4\":null,\"5\":null,\"6\":null,\"7\":null,\"8\":null,\"9\":null,\"10\":null,\"11\":null,\"12\":null,\"13\":null,\"14\":null,\"15\":null,\"16\":null,\"17\":null,\"18\":null,\"19\":null,\"20\":null,\"21\":null,\"22\":null,\"23\":null,\"24\":null,\"25\":null,\"26\":null,\"27\":null,\"28\":null,\"29\":null,\"30\":null,\"31\":null,\"32\":null,\"33\":null,\"34\":null,\"35\":null,\"36\":null,\"37\":null,\"38\":null,\"39\":null,\"40\":null,\"41\":null,\"42\":null,\"43\":null,\"44\":null,\"45\":null,\"46\":null,\"47\":null,\"48\":null,\"49\":null,\"50\":null,\"51\":null,\"52\":null,\"53\":null,\"54\":null,\"55\":null,\"56\":null,\"57\":null,\"58\":null,\"59\":null,\"60\":null,\"61\":null,\"62\":null,\"63\":null,\"64\":null,\"65\":null,\"66\":null,\"67\":null,\"68\":null,\"69\":null,\"70\":null,\"71\":null,\"72\":null,\"73\":null,\"74\":null,\"75\":null,\"76\":null,\"77\":null,\"78\":null,\"79\":null,\"80\":null,\"81\":null,\"82\":null,\"83\":null,\"84\":null,\"85\":null,\"86\":null,\"87\":null,\"88\":null,\"89\":null,\"90\":null,\"91\":null,\"92\":null,\"93\":null,\"94\":null,\"95\":null,\"96\":null,\"97\":null,\"98\":null,\"99\":null},\"geo\":{\"0\":null,\"1\":null,\"2\":null,\"3\":null,\"4\":null,\"5\":null,\"6\":null,\"7\":null,\"8\":null,\"9\":null,\"10\":null,\"11\":null,\"12\":null,\"13\":null,\"14\":null,\"15\":null,\"16\":null,\"17\":null,\"18\":null,\"19\":null,\"20\":null,\"21\":null,\"22\":null,\"23\":null,\"24\":null,\"25\":null,\"26\":null,\"27\":null,\"28\":null,\"29\":null,\"30\":null,\"31\":null,\"32\":null,\"33\":null,\"34\":null,\"35\":null,\"36\":null,\"37\":null,\"38\":null,\"39\":null,\"40\":null,\"41\":null,\"42\":null,\"43\":null,\"44\":null,\"45\":null,\"46\":null,\"47\":null,\"48\":null,\"49\":null,\"50\":null,\"51\":null,\"52\":null,\"53\":null,\"54\":null,\"55\":null,\"56\":null,\"57\":null,\"58\":null,\"59\":null,\"60\":null,\"61\":null,\"62\":null,\"63\":null,\"64\":null,\"65\":null,\"66\":null,\"67\":null,\"68\":null,\"69\":null,\"70\":null,\"71\":null,\"72\":null,\"73\":null,\"74\":null,\"75\":null,\"76\":null,\"77\":null,\"78\":null,\"79\":null,\"80\":null,\"81\":null,\"82\":null,\"83\":null,\"84\":null,\"85\":null,\"86\":null,\"87\":null,\"88\":null,\"89\":null,\"90\":null,\"91\":null,\"92\":null,\"93\":null,\"94\":null,\"95\":null,\"96\":null,\"97\":null,\"98\":null,\"99\":null},\"source\":{\"0\":null,\"1\":null,\"2\":null,\"3\":null,\"4\":null,\"5\":null,\"6\":null,\"7\":null,\"8\":null,\"9\":null,\"10\":null,\"11\":null,\"12\":null,\"13\":null,\"14\":null,\"15\":null,\"16\":null,\"17\":null,\"18\":null,\"19\":null,\"20\":null,\"21\":null,\"22\":null,\"23\":null,\"24\":null,\"25\":null,\"26\":null,\"27\":null,\"28\":null,\"29\":null,\"30\":null,\"31\":null,\"32\":null,\"33\":null,\"34\":null,\"35\":null,\"36\":null,\"37\":null,\"38\":null,\"39\":null,\"40\":null,\"41\":null,\"42\":null,\"43\":null,\"44\":null,\"45\":null,\"46\":null,\"47\":null,\"48\":null,\"49\":null,\"50\":null,\"51\":null,\"52\":null,\"53\":null,\"54\":null,\"55\":null,\"56\":null,\"57\":null,\"58\":null,\"59\":null,\"60\":null,\"61\":null,\"62\":null,\"63\":null,\"64\":null,\"65\":null,\"66\":null,\"67\":null,\"68\":null,\"69\":null,\"70\":null,\"71\":null,\"72\":null,\"73\":null,\"74\":null,\"75\":null,\"76\":null,\"77\":null,\"78\":null,\"79\":null,\"80\":null,\"81\":null,\"82\":null,\"83\":null,\"84\":null,\"85\":null,\"86\":null,\"87\":null,\"88\":null,\"89\":null,\"90\":null,\"91\":null,\"92\":null,\"93\":null,\"94\":null,\"95\":null,\"96\":null,\"97\":null,\"98\":null,\"99\":null},\"user_rt_id\":{\"0\":null,\"1\":null,\"2\":null,\"3\":null,\"4\":null,\"5\":null,\"6\":null,\"7\":null,\"8\":null,\"9\":null,\"10\":null,\"11\":null,\"12\":null,\"13\":null,\"14\":null,\"15\":null,\"16\":null,\"17\":null,\"18\":null,\"19\":null,\"20\":null,\"21\":null,\"22\":null,\"23\":null,\"24\":null,\"25\":null,\"26\":null,\"27\":null,\"28\":null,\"29\":null,\"30\":null,\"31\":null,\"32\":null,\"33\":null,\"34\":null,\"35\":null,\"36\":null,\"37\":null,\"38\":null,\"39\":null,\"40\":null,\"41\":null,\"42\":null,\"43\":null,\"44\":null,\"45\":null,\"46\":null,\"47\":null,\"48\":null,\"49\":null,\"50\":null,\"51\":null,\"52\":null,\"53\":null,\"54\":null,\"55\":null,\"56\":null,\"57\":null,\"58\":null,\"59\":null,\"60\":null,\"61\":null,\"62\":null,\"63\":null,\"64\":null,\"65\":null,\"66\":null,\"67\":null,\"68\":null,\"69\":null,\"70\":null,\"71\":null,\"72\":null,\"73\":null,\"74\":null,\"75\":null,\"76\":null,\"77\":null,\"78\":null,\"79\":null,\"80\":null,\"81\":null,\"82\":null,\"83\":null,\"84\":null,\"85\":null,\"86\":null,\"87\":null,\"88\":null,\"89\":null,\"90\":null,\"91\":null,\"92\":null,\"93\":null,\"94\":null,\"95\":null,\"96\":null,\"97\":null,\"98\":null,\"99\":null},\"user_rt\":{\"0\":null,\"1\":null,\"2\":null,\"3\":null,\"4\":null,\"5\":null,\"6\":null,\"7\":null,\"8\":null,\"9\":null,\"10\":null,\"11\":null,\"12\":null,\"13\":null,\"14\":null,\"15\":null,\"16\":null,\"17\":null,\"18\":null,\"19\":null,\"20\":null,\"21\":null,\"22\":null,\"23\":null,\"24\":null,\"25\":null,\"26\":null,\"27\":null,\"28\":null,\"29\":null,\"30\":null,\"31\":null,\"32\":null,\"33\":null,\"34\":null,\"35\":null,\"36\":null,\"37\":null,\"38\":null,\"39\":null,\"40\":null,\"41\":null,\"42\":null,\"43\":null,\"44\":null,\"45\":null,\"46\":null,\"47\":null,\"48\":null,\"49\":null,\"50\":null,\"51\":null,\"52\":null,\"53\":null,\"54\":null,\"55\":null,\"56\":null,\"57\":null,\"58\":null,\"59\":null,\"60\":null,\"61\":null,\"62\":null,\"63\":null,\"64\":null,\"65\":null,\"66\":null,\"67\":null,\"68\":null,\"69\":null,\"70\":null,\"71\":null,\"72\":null,\"73\":null,\"74\":null,\"75\":null,\"76\":null,\"77\":null,\"78\":null,\"79\":null,\"80\":null,\"81\":null,\"82\":null,\"83\":null,\"84\":null,\"85\":null,\"86\":null,\"87\":null,\"88\":null,\"89\":null,\"90\":null,\"91\":null,\"92\":null,\"93\":null,\"94\":null,\"95\":null,\"96\":null,\"97\":null,\"98\":null,\"99\":null},\"retweet_id\":{\"0\":null,\"1\":null,\"2\":null,\"3\":null,\"4\":null,\"5\":null,\"6\":null,\"7\":null,\"8\":null,\"9\":null,\"10\":null,\"11\":null,\"12\":null,\"13\":null,\"14\":null,\"15\":null,\"16\":null,\"17\":null,\"18\":null,\"19\":null,\"20\":null,\"21\":null,\"22\":null,\"23\":null,\"24\":null,\"25\":null,\"26\":null,\"27\":null,\"28\":null,\"29\":null,\"30\":null,\"31\":null,\"32\":null,\"33\":null,\"34\":null,\"35\":null,\"36\":null,\"37\":null,\"38\":null,\"39\":null,\"40\":null,\"41\":null,\"42\":null,\"43\":null,\"44\":null,\"45\":null,\"46\":null,\"47\":null,\"48\":null,\"49\":null,\"50\":null,\"51\":null,\"52\":null,\"53\":null,\"54\":null,\"55\":null,\"56\":null,\"57\":null,\"58\":null,\"59\":null,\"60\":null,\"61\":null,\"62\":null,\"63\":null,\"64\":null,\"65\":null,\"66\":null,\"67\":null,\"68\":null,\"69\":null,\"70\":null,\"71\":null,\"72\":null,\"73\":null,\"74\":null,\"75\":null,\"76\":null,\"77\":null,\"78\":null,\"79\":null,\"80\":null,\"81\":null,\"82\":null,\"83\":null,\"84\":null,\"85\":null,\"86\":null,\"87\":null,\"88\":null,\"89\":null,\"90\":null,\"91\":null,\"92\":null,\"93\":null,\"94\":null,\"95\":null,\"96\":null,\"97\":null,\"98\":null,\"99\":null},\"reply_to\":{\"0\":\"[{\\'screen_name\\': \\'OxfordDiplomat\\', \\'name\\': \\'Dr. Jennifer Cassidy\\', \\'id\\': \\'1962626484\\'}]\",\"1\":\"[]\",\"2\":\"[{\\'screen_name\\': \\'BBCBreaking\\', \\'name\\': \\'BBC Breaking News\\', \\'id\\': \\'5402612\\'}]\",\"3\":\"[{\\'screen_name\\': \\'Ayyycaaaa\\', \\'name\\': \\'Aca\\', \\'id\\': \\'1154721355041918976\\'}]\",\"4\":\"[]\",\"5\":\"[{\\'screen_name\\': \\'fajarramadani46\\', \\'name\\': \\'F A J A R\\', \\'id\\': \\'1162570077738131457\\'}]\",\"6\":\"[{\\'screen_name\\': \\'scottish_force\\', \\'name\\': \\'Scottish\\\\ud83c\\\\udff4\\\\\\\\U000e0067\\\\\\\\U000e0062\\\\\\\\U000e0073\\\\\\\\U000e0063\\\\\\\\U000e0074\\\\\\\\U000e007fForce\\\\ud83c\\\\udff4\\\\\\\\U000e0067\\\\\\\\U000e0062\\\\\\\\U000e0073\\\\\\\\U000e0063\\\\\\\\U000e0074\\\\\\\\U000e007fOfficial\\', \\'id\\': \\'1027191739092807680\\'}, {\\'screen_name\\': \\'BrianBengal\\', \\'name\\': \\'BengalBrian #FBSI\\\\ud83c\\\\udff4\\\\\\\\U000e0067\\\\\\\\U000e0062\\\\\\\\U000e0073\\\\\\\\U000e0063\\\\\\\\U000e0074\\\\\\\\U000e007f\\', \\'id\\': \\'854544110119682048\\'}, {\\'screen_name\\': \\'Scottish_Rebels\\', \\'name\\': \\'The Scottish Rebels\\', \\'id\\': \\'1683447859\\'}]\",\"7\":\"[]\",\"8\":\"[{\\'screen_name\\': \\'jones_bobjones\\', \\'name\\': \\'Bob Jones\\', \\'id\\': \\'1190371234959282176\\'}, {\\'screen_name\\': \\'Falcon_Malteser\\', \\'name\\': \\'Falcon Malteser\\', \\'id\\': \\'3246346912\\'}]\",\"9\":\"[{\\'screen_name\\': \\'bungTimoo\\', \\'name\\': \\'\\\\u1d43 \\\\u02e2 \\\\u1d57 \\\\u1d43 \\\\u1d4d \\\\u1d43 \\\\u2122\\', \\'id\\': \\'205719873\\'}, {\\'screen_name\\': \\'Sunda_Fess\\', \\'name\\': \\'Sundafess\\', \\'id\\': \\'1331931236428783617\\'}]\",\"10\":\"[{\\'screen_name\\': \\'idnaAndrej\\', \\'name\\': \\'Andrej \\\\u017dnidar\\\\u010di\\\\u010d\\', \\'id\\': \\'366757554\\'}, {\\'screen_name\\': \\'BogdanSajovic\\', \\'name\\': \\'Bogdan Sajovic\\', \\'id\\': \\'912675858040672261\\'}]\",\"11\":\"[{\\'screen_name\\': \\'coachoram\\', \\'name\\': \\'Steve Oram\\', \\'id\\': \\'737755413341442048\\'}, {\\'screen_name\\': \\'JuliaHB1\\', \\'name\\': \\'Julia Hartley-Brewer\\', \\'id\\': \\'459390022\\'}]\",\"12\":\"[]\",\"13\":\"[]\",\"14\":\"[]\",\"15\":\"[]\",\"16\":\"[{\\'screen_name\\': \\'DominicFarrell\\', \\'name\\': \\'Dominic Farrell\\', \\'id\\': \\'20378642\\'}]\",\"17\":\"[]\",\"18\":\"[{\\'screen_name\\': \\'talkRADIO\\', \\'name\\': \\'talkRADIO\\', \\'id\\': \\'3380282686\\'}]\",\"19\":\"[{\\'screen_name\\': \\'MartinSLewis\\', \\'name\\': \\'Martin Lewis\\', \\'id\\': \\'252569527\\'}]\",\"20\":\"[{\\'screen_name\\': \\'JeremyVineOn5\\', \\'name\\': \\'Jeremy Vine On 5\\', \\'id\\': \\'52360480\\'}]\",\"21\":\"[{\\'screen_name\\': \\'birkinplease\\', \\'name\\': \\'dissy\\', \\'id\\': \\'1296687240052015104\\'}]\",\"22\":\"[]\",\"23\":\"[]\",\"24\":\"[{\\'screen_name\\': \\'KonstantinKisin\\', \\'name\\': \\'Konstantin Kisin\\', \\'id\\': \\'1495726466\\'}]\",\"25\":\"[{\\'screen_name\\': \\'oneofeach17\\', \\'name\\': \\'norman shelby\\', \\'id\\': \\'1345756536765870082\\'}, {\\'screen_name\\': \\'AnthonyHarty1\\', \\'name\\': \\'Anthony Harty\\', \\'id\\': \\'285207383\\'}, {\\'screen_name\\': \\'LBC\\', \\'name\\': \\'LBC\\', \\'id\\': \\'20973388\\'}]\",\"26\":\"[]\",\"27\":\"[]\",\"28\":\"[{\\'screen_name\\': \\'Kang_Suswan\\', \\'name\\': \\'KOPI KOTOK \\\\u2615\\\\ufe0f\\', \\'id\\': \\'2457520830\\'}]\",\"29\":\"[{\\'screen_name\\': \\'blastplayer\\', \\'name\\': \\'Blasty\\', \\'id\\': \\'1296109388705468418\\'}, {\\'screen_name\\': \\'bojo____\\', \\'name\\': \\'Punishers bojo\\', \\'id\\': \\'932629791030857728\\'}]\",\"30\":\"[{\\'screen_name\\': \\'piersmorgan\\', \\'name\\': \\'Piers Morgan\\', \\'id\\': \\'216299334\\'}]\",\"31\":\"[{\\'screen_name\\': \\'Kevin_Maguire\\', \\'name\\': \\'Kevin Maguire\\', \\'id\\': \\'60886384\\'}]\",\"32\":\"[]\",\"33\":\"[{\\'screen_name\\': \\'Craig42057719\\', \\'name\\': \\'Craig\\', \\'id\\': \\'1374250472543023105\\'}]\",\"34\":\"[{\\'screen_name\\': \\'EmmaKennedy\\', \\'name\\': \\'Emma Kennedy\\\\ud83d\\\\udc99\\', \\'id\\': \\'23217907\\'}]\",\"35\":\"[]\",\"36\":\"[]\",\"37\":\"[{\\'screen_name\\': \\'chocollates_\\', \\'name\\': \\'Irene Medvedev\\', \\'id\\': \\'1319516701956870144\\'}]\",\"38\":\"[]\",\"39\":\"[]\",\"40\":\"[{\\'screen_name\\': \\'demit_segoroo\\', \\'name\\': \\'bojes\\', \\'id\\': \\'772297807671595008\\'}]\",\"41\":\"[]\",\"42\":\"[{\\'screen_name\\': \\'raasa_cokelat\\', \\'name\\': \\'Biskuit Selimut\\', \\'id\\': \\'2734530816\\'}]\",\"43\":\"[{\\'screen_name\\': \\'charisshaf\\', \\'name\\': \\'Risa\\', \\'id\\': \\'39447003\\'}, {\\'screen_name\\': \\'Gerald20491913\\', \\'name\\': \\'vampire\\', \\'id\\': \\'1334114684799107072\\'}]\",\"44\":\"[{\\'screen_name\\': \\'DenisKristan\\', \\'name\\': \\'Denis Kristan\\', \\'id\\': \\'1221382902044295168\\'}, {\\'screen_name\\': \\'FiserStanko\\', \\'name\\': \\'Stanko Fiser\\', \\'id\\': \\'1234165116318486528\\'}, {\\'screen_name\\': \\'Zyrafa5\\', \\'name\\': \\'\\\\u017byrafa\\', \\'id\\': \\'1222066923040624640\\'}, {\\'screen_name\\': \\'HaidaGwaiii\\', \\'name\\': \\'Incognito\\', \\'id\\': \\'1066451144598323200\\'}, {\\'screen_name\\': \\'neukrotljiva\\', \\'name\\': \\'Mirna\\', \\'id\\': \\'1162716686\\'}, {\\'screen_name\\': \\'cashkee\\', \\'name\\': \\'Gutsy aka Hrabri\\', \\'id\\': \\'42041374\\'}, {\\'screen_name\\': \\'threeneetee\\', \\'name\\': \\'mistyone\\', \\'id\\': \\'3096880160\\'}, {\\'screen_name\\': \\'Julija9Julija\\', \\'name\\': \\'Julija\\', \\'id\\': \\'21477217\\'}, {\\'screen_name\\': \\'TS30040393\\', \\'name\\': \\'Tatjana Sablatnik\\', \\'id\\': \\'1239118567477522432\\'}, {\\'screen_name\\': \\'MarkoV05375327\\', \\'name\\': \\'Marko V.\\', \\'id\\': \\'1351622489466679297\\'}, {\\'screen_name\\': \\'bosti0\\', \\'name\\': \\'Tony Caker\\', \\'id\\': \\'3324715739\\'}, {\\'screen_name\\': \\'camucamuca1\\', \\'name\\': \\'mucamaca \\\\ud83d\\\\udc08\\\\\\\\u200d\\\\u2b1b\\', \\'id\\': \\'1211959850256588800\\'}, {\\'screen_name\\': \\'mgajver\\', \\'name\\': \\'\\\\u211d\\\\ud835\\\\udd60\\\\ud835\\\\udd53\\\\ud835\\\\udd56\\\\ud835\\\\udd63\\\\ud835\\\\udd65 \\\\ud835\\\\udd3d\\\\ud835\\\\udd5a\\\\ud835\\\\udd64\\\\ud835\\\\udd59 \\\\ud83c\\\\uddf8\\\\ud83c\\\\uddee\\', \\'id\\': \\'810929156896784388\\'}, {\\'screen_name\\': \\'Im_Vladimir_S\\', \\'name\\': \\'Vladimir Slemen\\\\u0161ek\\', \\'id\\': \\'244123825\\'}, {\\'screen_name\\': \\'ToneCricket\\', \\'name\\': \\'Tone Anzlovar Cricket\\', \\'id\\': \\'1221830474911440896\\'}, {\\'screen_name\\': \\'nivelska\\', \\'name\\': \\'Gertruda\\', \\'id\\': \\'61241174\\'}, {\\'screen_name\\': \\'KingKob53313520\\', \\'name\\': \\'King Qobra #AnticepilciVsehDe\\\\u017eelZdru\\\\u017eimoSe\\', \\'id\\': \\'1242951149411618820\\'}, {\\'screen_name\\': \\'MilosBojnec\\', \\'name\\': \\'Milo\\\\u0161 Bojnec \\\\ud83d\\\\udc40\\', \\'id\\': \\'4912788526\\'}, {\\'screen_name\\': \\'pa_3_ot142\\', \\'name\\': \\'Nwtrnc VP1 Za Slovenijo\\\\ud83c\\\\uddf8\\\\ud83c\\\\uddee \\\\ud83c\\\\uddfa\\\\ud83c\\\\uddf8\\', \\'id\\': \\'2463559274\\'}, {\\'screen_name\\': \\'nomoreki55\\', \\'name\\': \\'nomoreki55\\', \\'id\\': \\'1052955702057164801\\'}, {\\'screen_name\\': \\'Domen_G\\', \\'name\\': \\'Domen Gorensek\\', \\'id\\': \\'425134018\\'}, {\\'screen_name\\': \\'RMajnik\\', \\'name\\': \\'Robin Majnik\\', \\'id\\': \\'1013021687019950080\\'}, {\\'screen_name\\': \\'bozicek22\\', \\'name\\': \\'B o \\\\u017e i \\\\u010d e k \\\\ud83c\\\\uddf8\\\\ud83c\\\\uddee\\', \\'id\\': \\'1077207283300515840\\'}, {\\'screen_name\\': \\'marijanli\\', \\'name\\': \\'Marijan Li\\\\u010den\\', \\'id\\': \\'1381959853\\'}, {\\'screen_name\\': \\'ajitamxy\\', \\'name\\': \\'Matija Jegli\\\\u010d\\', \\'id\\': \\'2615799900\\'}, {\\'screen_name\\': \\'BalordaZdravko\\', \\'name\\': \\'Zdravko Balorda\\', \\'id\\': \\'2549861929\\'}, {\\'screen_name\\': \\'DivineIncarnate\\', \\'name\\': \\'WTF Is Happening In The World?\\', \\'id\\': \\'1230177793608040452\\'}, {\\'screen_name\\': \\'dav_s_\\', \\'name\\': \\'\\\\ud835\\\\udc1d\\\\ud835\\\\udc1a\\\\ud835\\\\udc2f\\\\ud835\\\\udc2c\\', \\'id\\': \\'2315406966\\'}, {\\'screen_name\\': \\'bitbatbat\\', \\'name\\': \\'bitbatbat\\', \\'id\\': \\'910775123883511809\\'}, {\\'screen_name\\': \\'J_agodka\\', \\'name\\': \\'Jagodka - 2nd Class Citizen\\', \\'id\\': \\'112707684\\'}, {\\'screen_name\\': \\'EnaKranjica\\', \\'name\\': \\'G_Vera\\', \\'id\\': \\'1224580934\\'}, {\\'screen_name\\': \\'AdHoc91254912\\', \\'name\\': \\'AdHoc\\', \\'id\\': \\'1336814511966261248\\'}, {\\'screen_name\\': \\'MPlaninsec\\', \\'name\\': \\'Matjaz Planinsec\\', \\'id\\': \\'4754017095\\'}, {\\'screen_name\\': \\'VRUNDRAGICA\\', \\'name\\': \\'VRUN\\\\u010c DRAGICA\\', \\'id\\': \\'2520605742\\'}, {\\'screen_name\\': \\'jolandab88\\', \\'name\\': \\'joIanda\\', \\'id\\': \\'325476491\\'}, {\\'screen_name\\': \\'AlesJensterle\\', \\'name\\': \\'Ale\\\\u0161 Jensterle\\', \\'id\\': \\'4185118883\\'}, {\\'screen_name\\': \\'dDonnieDrama\\', \\'name\\': \\'Dark D\\', \\'id\\': \\'3581020336\\'}, {\\'screen_name\\': \\'GregorKos\\', \\'name\\': \\'Gregor Kos\\\\ud83c\\\\udfaf\\', \\'id\\': \\'1054473840213012485\\'}, {\\'screen_name\\': \\'JankoKocbek\\', \\'name\\': \\'Janko Kocbek\\', \\'id\\': \\'1253723785271836673\\'}, {\\'screen_name\\': \\'AndrejKeber\\', \\'name\\': \\'Andrej Keber\\', \\'id\\': \\'63769044\\'}, {\\'screen_name\\': \\'NepovemVilma\\', \\'name\\': \\'Vilma Nepovem\\', \\'id\\': \\'1282906213785702401\\'}, {\\'screen_name\\': \\'nadakoder\\', \\'name\\': \\'nad@\\', \\'id\\': \\'4923055529\\'}, {\\'screen_name\\': \\'SunjenaS\\', \\'name\\': \\'nuSa\\', \\'id\\': \\'142629644\\'}, {\\'screen_name\\': \\'JankoMarin\\', \\'name\\': \\'Janez Marini\\\\u010d\\', \\'id\\': \\'3077676365\\'}, {\\'screen_name\\': \\'plakic2\\', \\'name\\': \\'malt\\', \\'id\\': \\'4599767417\\'}, {\\'screen_name\\': \\'tomaz762\\', \\'name\\': \\'mastermind\\', \\'id\\': \\'33848717\\'}, {\\'screen_name\\': \\'MerlinLore\\', \\'name\\': \\'Merlin\\\\u0e25.\\', \\'id\\': \\'3020633632\\'}, {\\'screen_name\\': \\'SrbijaMila\\', \\'name\\': \\'Dr sci Mila Aleckovic\\', \\'id\\': \\'2914105661\\'}]\",\"45\":\"[{\\'screen_name\\': \\'JamieBrysonCPNI\\', \\'name\\': \\'Jamie Bryson\\', \\'id\\': \\'240214426\\'}]\",\"46\":\"[]\",\"47\":\"[]\",\"48\":\"[{\\'screen_name\\': \\'tomhfh\\', \\'name\\': \\'Tom Harwood\\', \\'id\\': \\'453473029\\'}]\",\"49\":\"[]\",\"50\":\"[]\",\"51\":\"[{\\'screen_name\\': \\'bbclaurak\\', \\'name\\': \\'Laura Kuenssberg\\', \\'id\\': \\'61183568\\'}]\",\"52\":\"[{\\'screen_name\\': \\'SulaimanALF1970\\', \\'name\\': \\'\\\\u0633\\\\u0644\\\\u064a\\\\u0645\\\\u0627\\\\u0646 \\\\u0627\\\\u0644\\\\u0641\\\\u0647\\\\u062f\\', \\'id\\': \\'1327310984621551619\\'}]\",\"53\":\"[{\\'screen_name\\': \\'GUNKLE2\\', \\'name\\': \\'G.U.N.K.L.E \\\\ud83c\\\\udff3\\\\ufe0f\\\\\\\\u200d\\\\ud83c\\\\udf08\\\\ud83d\\\\udc99\\\\ud83c\\\\uddea\\\\ud83c\\\\uddfa\\', \\'id\\': \\'1238445300672614402\\'}]\",\"54\":\"[]\",\"55\":\"[{\\'screen_name\\': \\'jlo_said\\', \\'name\\': \\'Julia Lo Bue-Said\\', \\'id\\': \\'41815007\\'}]\",\"56\":\"[{\\'screen_name\\': \\'lita12557\\', \\'name\\': \\'Lita \\\\u2b50\\\\ufe0f\\\\u2b50\\\\ufe0f\\', \\'id\\': \\'339233587\\'}]\",\"57\":\"[]\",\"58\":\"[{\\'screen_name\\': \\'nuffniceness\\', \\'name\\': \\'Barry Quinnell\\', \\'id\\': \\'80558742\\'}, {\\'screen_name\\': \\'BorisJohnson\\', \\'name\\': \\'Boris Johnson\\', \\'id\\': \\'3131144855\\'}, {\\'screen_name\\': \\'CMO_England\\', \\'name\\': \\'Professor Chris Whitty\\', \\'id\\': \\'1178622443814084608\\'}, {\\'screen_name\\': \\'GOVUK\\', \\'name\\': \\'GOV.UK\\', \\'id\\': \\'17481977\\'}, {\\'screen_name\\': \\'MattHancock\\', \\'name\\': \\'Matt Hancock\\', \\'id\\': \\'19825835\\'}]\",\"59\":\"[{\\'screen_name\\': \\'blastplayer\\', \\'name\\': \\'Blasty\\', \\'id\\': \\'1296109388705468418\\'}]\",\"60\":\"[]\",\"61\":\"[{\\'screen_name\\': \\'LimerickLoyali1\\', \\'name\\': \\'\\\\ud835\\\\udcdb\\\\ud835\\\\udcf2\\\\ud835\\\\udcf6\\\\ud835\\\\udcee\\\\ud835\\\\udcfb\\\\ud835\\\\udcf2\\\\ud835\\\\udcec\\\\ud835\\\\udcf4 \\\\ud835\\\\udcdb\\\\ud835\\\\udcf8\\\\ud835\\\\udd02\\\\ud835\\\\udcea\\\\ud835\\\\udcf5\\', \\'id\\': \\'1275628694485323782\\'}]\",\"62\":\"[]\",\"63\":\"[]\",\"64\":\"[]\",\"65\":\"[]\",\"66\":\"[{\\'screen_name\\': \\'AvonandsomerRob\\', \\'name\\': \\'Rob Boyd, Esq.\\', \\'id\\': \\'734703626099232768\\'}]\",\"67\":\"[{\\'screen_name\\': \\'oneofeach17\\', \\'name\\': \\'norman shelby\\', \\'id\\': \\'1345756536765870082\\'}, {\\'screen_name\\': \\'ViolaAppleton6\\', \\'name\\': \\'Viola Appleton\\', \\'id\\': \\'1147038346381864960\\'}, {\\'screen_name\\': \\'LBC\\', \\'name\\': \\'LBC\\', \\'id\\': \\'20973388\\'}]\",\"68\":\"[{\\'screen_name\\': \\'alexwickham\\', \\'name\\': \\'Alex Wickham\\', \\'id\\': \\'405769757\\'}]\",\"69\":\"[]\",\"70\":\"[{\\'screen_name\\': \\'talkRADIO\\', \\'name\\': \\'talkRADIO\\', \\'id\\': \\'3380282686\\'}, {\\'screen_name\\': \\'JuliaHB1\\', \\'name\\': \\'Julia Hartley-Brewer\\', \\'id\\': \\'459390022\\'}, {\\'screen_name\\': \\'JuliahB\\', \\'name\\': \\'J\\\\u016bli\\\\u0101h (NEW) \\\\ud83d\\\\udc95\\', \\'id\\': \\'1074538021398048768\\'}]\",\"71\":\"[{\\'screen_name\\': \\'LogamMuliaAntam\\', \\'name\\': \\'ANTAM Logam Mulia\\', \\'id\\': \\'377223262\\'}]\",\"72\":\"[{\\'screen_name\\': \\'DaveMilbo\\', \\'name\\': \\'David Milner\\', \\'id\\': \\'4328027000\\'}]\",\"73\":\"[{\\'screen_name\\': \\'CeeboCelia\\', \\'name\\': \\'\\\\ud83d\\\\udc99\\\\ud83d\\\\udc1d\\\\u2b50\\\\ufe0f3.5%\\\\u2b50\\\\ufe0fGov by U-turn\\\\u2b50\\\\ufe0f\\', \\'id\\': \\'287335493\\'}]\",\"74\":\"[]\",\"75\":\"[]\",\"76\":\"[]\",\"77\":\"[{\\'screen_name\\': \\'AlexKane221b\\', \\'name\\': \\'Alex.Kane\\', \\'id\\': \\'624112946\\'}]\",\"78\":\"[]\",\"79\":\"[]\",\"80\":\"[]\",\"81\":\"[]\",\"82\":\"[{\\'screen_name\\': \\'kop2222\\', \\'name\\': \\'ko\\', \\'id\\': \\'203474909\\'}]\",\"83\":\"[]\",\"84\":\"[{\\'screen_name\\': \\'suzyquiquero\\', \\'name\\': \\'Suzy Quiquero \\\\ud83c\\\\uddee\\\\ud83c\\\\uddf9\\\\ud83c\\\\udf39\\', \\'id\\': \\'144478864\\'}]\",\"85\":\"[{\\'screen_name\\': \\'ViolaAppleton6\\', \\'name\\': \\'Viola Appleton\\', \\'id\\': \\'1147038346381864960\\'}, {\\'screen_name\\': \\'oneofeach17\\', \\'name\\': \\'norman shelby\\', \\'id\\': \\'1345756536765870082\\'}, {\\'screen_name\\': \\'LBC\\', \\'name\\': \\'LBC\\', \\'id\\': \\'20973388\\'}]\",\"86\":\"[]\",\"87\":\"[]\",\"88\":\"[]\",\"89\":\"[]\",\"90\":\"[{\\'screen_name\\': \\'IKEAUKSupport\\', \\'name\\': \\'IKEA UK Support\\', \\'id\\': \\'2801997519\\'}, {\\'screen_name\\': \\'chris_j_wood\\', \\'name\\': \\'Chris Wood\\', \\'id\\': \\'164657914\\'}]\",\"91\":\"[{\\'screen_name\\': \\'Roadwarrior29\\', \\'name\\': \\\\\"\\'Oor\\' Axeleyovich Foleyski\\\\ud83d\\\\udc99\\\\\", \\'id\\': \\'336558514\\'}]\",\"92\":\"[]\",\"93\":\"[]\",\"94\":\"[{\\'screen_name\\': \\'syawasarays\\', \\'name\\': \\'Sarah\\', \\'id\\': \\'1191512683717070848\\'}]\",\"95\":\"[{\\'screen_name\\': \\'Thomasgordon01\\', \\'name\\': \\'Thomas Gordon\\', \\'id\\': \\'744959557\\'}, {\\'screen_name\\': \\'icod_miguel\\', \\'name\\': \\'Miguel Icod\\', \\'id\\': \\'1342787950174736387\\'}, {\\'screen_name\\': \\'campbellclaret\\', \\'name\\': \\'ALASTAIR CAMPBELL\\', \\'id\\': \\'19644592\\'}]\",\"96\":\"[{\\'screen_name\\': \\'mrjamesob\\', \\'name\\': \\\\\"James O\\'Brien\\\\\", \\'id\\': \\'152656121\\'}]\",\"97\":\"[]\",\"98\":\"[{\\'screen_name\\': \\'Yorkshirebandit\\', \\'name\\': \\'Mucky Bandit\\\\u00a9\\', \\'id\\': \\'2864098257\\'}]\",\"99\":\"[{\\'screen_name\\': \\'FionaHare9\\', \\'name\\': \\'Fiona Hare\\', \\'id\\': \\'1370302033346060292\\'}, {\\'screen_name\\': \\'FordDawe\\', \\'name\\': \\'The Rt Hon Gifford Esterhase\\', \\'id\\': \\'1158725347602522112\\'}, {\\'screen_name\\': \\'suzseddon\\', \\'name\\': \\'Suzanne Seddon\\', \\'id\\': \\'1470118590\\'}, {\\'screen_name\\': \\'MattHancock\\', \\'name\\': \\'Matt Hancock\\', \\'id\\': \\'19825835\\'}]\"},\"retweet_date\":{\"0\":null,\"1\":null,\"2\":null,\"3\":null,\"4\":null,\"5\":null,\"6\":null,\"7\":null,\"8\":null,\"9\":null,\"10\":null,\"11\":null,\"12\":null,\"13\":null,\"14\":null,\"15\":null,\"16\":null,\"17\":null,\"18\":null,\"19\":null,\"20\":null,\"21\":null,\"22\":null,\"23\":null,\"24\":null,\"25\":null,\"26\":null,\"27\":null,\"28\":null,\"29\":null,\"30\":null,\"31\":null,\"32\":null,\"33\":null,\"34\":null,\"35\":null,\"36\":null,\"37\":null,\"38\":null,\"39\":null,\"40\":null,\"41\":null,\"42\":null,\"43\":null,\"44\":null,\"45\":null,\"46\":null,\"47\":null,\"48\":null,\"49\":null,\"50\":null,\"51\":null,\"52\":null,\"53\":null,\"54\":null,\"55\":null,\"56\":null,\"57\":null,\"58\":null,\"59\":null,\"60\":null,\"61\":null,\"62\":null,\"63\":null,\"64\":null,\"65\":null,\"66\":null,\"67\":null,\"68\":null,\"69\":null,\"70\":null,\"71\":null,\"72\":null,\"73\":null,\"74\":null,\"75\":null,\"76\":null,\"77\":null,\"78\":null,\"79\":null,\"80\":null,\"81\":null,\"82\":null,\"83\":null,\"84\":null,\"85\":null,\"86\":null,\"87\":null,\"88\":null,\"89\":null,\"90\":null,\"91\":null,\"92\":null,\"93\":null,\"94\":null,\"95\":null,\"96\":null,\"97\":null,\"98\":null,\"99\":null},\"translate\":{\"0\":null,\"1\":null,\"2\":null,\"3\":null,\"4\":null,\"5\":null,\"6\":null,\"7\":null,\"8\":null,\"9\":null,\"10\":null,\"11\":null,\"12\":null,\"13\":null,\"14\":null,\"15\":null,\"16\":null,\"17\":null,\"18\":null,\"19\":null,\"20\":null,\"21\":null,\"22\":null,\"23\":null,\"24\":null,\"25\":null,\"26\":null,\"27\":null,\"28\":null,\"29\":null,\"30\":null,\"31\":null,\"32\":null,\"33\":null,\"34\":null,\"35\":null,\"36\":null,\"37\":null,\"38\":null,\"39\":null,\"40\":null,\"41\":null,\"42\":null,\"43\":null,\"44\":null,\"45\":null,\"46\":null,\"47\":null,\"48\":null,\"49\":null,\"50\":null,\"51\":null,\"52\":null,\"53\":null,\"54\":null,\"55\":null,\"56\":null,\"57\":null,\"58\":null,\"59\":null,\"60\":null,\"61\":null,\"62\":null,\"63\":null,\"64\":null,\"65\":null,\"66\":null,\"67\":null,\"68\":null,\"69\":null,\"70\":null,\"71\":null,\"72\":null,\"73\":null,\"74\":null,\"75\":null,\"76\":null,\"77\":null,\"78\":null,\"79\":null,\"80\":null,\"81\":null,\"82\":null,\"83\":null,\"84\":null,\"85\":null,\"86\":null,\"87\":null,\"88\":null,\"89\":null,\"90\":null,\"91\":null,\"92\":null,\"93\":null,\"94\":null,\"95\":null,\"96\":null,\"97\":null,\"98\":null,\"99\":null},\"trans_src\":{\"0\":null,\"1\":null,\"2\":null,\"3\":null,\"4\":null,\"5\":null,\"6\":null,\"7\":null,\"8\":null,\"9\":null,\"10\":null,\"11\":null,\"12\":null,\"13\":null,\"14\":null,\"15\":null,\"16\":null,\"17\":null,\"18\":null,\"19\":null,\"20\":null,\"21\":null,\"22\":null,\"23\":null,\"24\":null,\"25\":null,\"26\":null,\"27\":null,\"28\":null,\"29\":null,\"30\":null,\"31\":null,\"32\":null,\"33\":null,\"34\":null,\"35\":null,\"36\":null,\"37\":null,\"38\":null,\"39\":null,\"40\":null,\"41\":null,\"42\":null,\"43\":null,\"44\":null,\"45\":null,\"46\":null,\"47\":null,\"48\":null,\"49\":null,\"50\":null,\"51\":null,\"52\":null,\"53\":null,\"54\":null,\"55\":null,\"56\":null,\"57\":null,\"58\":null,\"59\":null,\"60\":null,\"61\":null,\"62\":null,\"63\":null,\"64\":null,\"65\":null,\"66\":null,\"67\":null,\"68\":null,\"69\":null,\"70\":null,\"71\":null,\"72\":null,\"73\":null,\"74\":null,\"75\":null,\"76\":null,\"77\":null,\"78\":null,\"79\":null,\"80\":null,\"81\":null,\"82\":null,\"83\":null,\"84\":null,\"85\":null,\"86\":null,\"87\":null,\"88\":null,\"89\":null,\"90\":null,\"91\":null,\"92\":null,\"93\":null,\"94\":null,\"95\":null,\"96\":null,\"97\":null,\"98\":null,\"99\":null},\"trans_dest\":{\"0\":null,\"1\":null,\"2\":null,\"3\":null,\"4\":null,\"5\":null,\"6\":null,\"7\":null,\"8\":null,\"9\":null,\"10\":null,\"11\":null,\"12\":null,\"13\":null,\"14\":null,\"15\":null,\"16\":null,\"17\":null,\"18\":null,\"19\":null,\"20\":null,\"21\":null,\"22\":null,\"23\":null,\"24\":null,\"25\":null,\"26\":null,\"27\":null,\"28\":null,\"29\":null,\"30\":null,\"31\":null,\"32\":null,\"33\":null,\"34\":null,\"35\":null,\"36\":null,\"37\":null,\"38\":null,\"39\":null,\"40\":null,\"41\":null,\"42\":null,\"43\":null,\"44\":null,\"45\":null,\"46\":null,\"47\":null,\"48\":null,\"49\":null,\"50\":null,\"51\":null,\"52\":null,\"53\":null,\"54\":null,\"55\":null,\"56\":null,\"57\":null,\"58\":null,\"59\":null,\"60\":null,\"61\":null,\"62\":null,\"63\":null,\"64\":null,\"65\":null,\"66\":null,\"67\":null,\"68\":null,\"69\":null,\"70\":null,\"71\":null,\"72\":null,\"73\":null,\"74\":null,\"75\":null,\"76\":null,\"77\":null,\"78\":null,\"79\":null,\"80\":null,\"81\":null,\"82\":null,\"83\":null,\"84\":null,\"85\":null,\"86\":null,\"87\":null,\"88\":null,\"89\":null,\"90\":null,\"91\":null,\"92\":null,\"93\":null,\"94\":null,\"95\":null,\"96\":null,\"97\":null,\"98\":null,\"99\":null},\"clean\":{\"0\":\"@user Takes the heat of BoJo... he needs a Fall Guy when the excreta collides with gaseous vortex generator\",\"1\":\"Bagussss yg mana?  http\",\"2\":\"@user Bojo himself is helpless.\",\"3\":\"@user Dasteurrr\",\"4\":\"So I can\\\\u2019t take my children for a break, but this lot can have bbq\\\\u2019s and travel around the world!!! No masks, no social distance, but BOJO wants to extend lockdown! But he is doing what we were supposed this month! One rule for us, none for them #Leaders????  http\",\"5\":\"@user Sidoarjoo\",\"6\":\"@user @user @user BoJo tried herd immunity thru no vaccine - what happened? Hundreds of thousands died needlessly - how many have died just because of the Jag but not because of covid? Herd immunity jag pffft.\",\"7\":\"YA ALLAH BOJO KUUUUU \\\\ud83d\\\\ude3b\",\"8\":\"@user @user It\\'s very 90s BoJo imo. That kind of flippant, journalistic bullishness where you knock out five hundred words for an ES column on something provocative then continue to bundle on through life like you\\'re owed it. And as you say, she has a literal position of power here.\",\"9\":\"@user @user Wkwkw iyo yo , bojo ku yo tau mikir ngene\",\"10\":\"@user @user Abranki, pitna voda je na\\\\u0161a in ne od tujih korporacij. Fajonka s tem nima ni\\\\u010d, pa\\\\u010d pa na\\\\u0161i potomci, ki bojo lahko \\\\u017eejni zaradi \\\\\"demokracije!\\\\\" Gre se za izkori\\\\u0161\\\\u010devakski kapitalizem! Si ga \\\\u017eelite?\",\"11\":\"@user @user people are terrified due to data given by SAGE and Bojo - again do you not think this is unacceptable when it is out of date or incorrect\",\"12\":\"@user   So, why would you want all care workers mandated when there is overwhelming evidence suggesting this would increase absence, leaving the vulnerable even more vulnerable?   Maybe Bojo was right, and you are \\\\u201cf****n useless\\\\u201d  http\",\"13\":\"BoJo and the #Conservative cronies, if you ever wonder why the nation voted to leave the #EU just look at he languages that cover about 7 nationalities catered for at my sons school. All draining local resources and straining #education #BorisJohnson #BrexitBritain #Refugees  http\",\"14\":\"Life After No 10: BoJo Reportedly \\\\u2018Can\\\\u2019t Wait to Go Back to Writing, Have Fun, Make Money\\\\u2019 - The phrase once used in 1987 by Margaret Thatcher, who served 11 years as UK Prime Minister, has been rehashed by Johnson former chief... -  http  http\",\"15\":\"How about just showing up as the opposition rather than being a rubber stamp to Bojo and the cons?\",\"16\":\"@user Bojo should challeng  cummdog to a square go ,box office all proceeds to the NHS !\",\"17\":\"Bojonegare, masa gak tau, itu saya yang jodohin sampe jadi bojo\",\"18\":\"@user Let\\'s stop messing about, BoJo is a fake, he and SAGE have no intention of opening up ever,the fraudulent \\'cases\\',made up numbers in ICU BS, the \\\\\"variant is so much more virulent\\\\\",this cannot continue, we need to take our freedom back now, ignore the rules, they can\\'t be trusted.\",\"19\":\"@user Every workplace has people who are winging it and get away with  http is that person.The fact that bojo knows and has kept him in such a high position during a pandemic is criminal.\",\"20\":\"@user Talk about age discrimination. Why should one generation be treated different to another just because bojo dictated who could have the vaccine first. Totally unfair on the younger generations\",\"21\":\"@user klo km temenan sm aku, pasti recent nya bojo galak\",\"22\":\"Given how Bojo the Bozo loves polls, I genuinely think this is a good idea - even if you haven\\'t been wearing a mask throughout. @user   @user   @user   @user   @user   @user\",\"23\":\"whos in charge  ?  Has Bojo any faith in him?\",\"24\":\"@user A simple test could be done during a job interview.  Have a screen behind the interviewer that at random times displays images that are known to cause mental degradation of the weak of mind. Things like \\\\ud83c\\\\uddec\\\\ud83c\\\\udde7\\\\ud83c\\\\udff4\\\\udb40\\\\udc67\\\\udb40\\\\udc62\\\\udb40\\\\udc65\\\\udb40\\\\udc6e\\\\udb40\\\\udc67\\\\udb40\\\\udc7fthe Queen, Farage and Bojo should do the trick.\",\"25\":\"@user @user @user Why because my opinion is different to yours? I don\\'t see BoJo as a credible PM.\",\"26\":\"Tiap hari mikir besok belanja apa yaa, besok masak apa ya hihihi.. Juru masak dengan ilmu dapur pas2an ya beginilah, untung mas bojo ga rewel \\\\ud83d\\\\ude01\\\\ud83d\\\\ude01\\\\ud83d\\\\ude01\",\"27\":\"Eh tapi tenan loh koncoku akih2e lanang \\\\ud83d\\\\ude05, dilalah kampuse sekelas isine ya akih lanange. Ribet yen due konco wedok uakih2 ...tur yen konco cedaak isih jelas penak wedok soyo yen wes due bojo \\\\ud83e\\\\udd23. Konco cedak pun due 3 wes alhamdulillah \\\\ud83e\\\\udd23\",\"28\":\"@user Dungakno aku oleh rezeki bojo neh \\\\ud83e\\\\udd2d  http\",\"29\":\"@user @user @user\",\"30\":\"@user That\\'s not the kind of chap he is, thought you\\'d found that out in your interview with him. He\\'s a thoughtful, honourable man which is what distances him from Bojo! \\\\ud83e\\\\udd21\",\"31\":\"@user The assessment of Labour is the most worrying surely no one was in any doubt about BoJo being a clown including his supporters that\\\\u2019s surely why they voted for him but a strong opposition is needed &amp; a choice at next election\",\"32\":\"Also reaffirms how much the terrible pandemic management was a cross-governmental issue. It\\'s not just about \\'hopeless\\' Hancock or Bojo, but about HMT, Dpt Ed, Home Office and so on\",\"33\":\"@user and the fact hes supported by Bojo and other front Benches show they are dont give a crap about the health and well-being of the UK population. Its all about money and control!\",\"34\":\"@user As much as I hate to admit it, BoJo seems the lesser of two evils for anyone who might replace him atm\",\"35\":\"Nobody thought BoJo would become the skilled torturer who could make the victims exultant while they are torturing.\",\"36\":\"PP has proven that she is just another bought &amp; paid for PUPPET that should be tossed in the trash along with Bojo, HanKOOK, &amp; the rest of the Saboteurs that R deliberately destroying the UK from within. Visit  http &amp; see how U.S.Military is prosecuting Traitors\",\"37\":\"@user Bojo kita kurang apa coba Sis, petani dusun, ganteng, pinter, ngga sombong pula. Ugh banget kan \\\\ud83e\\\\udd23\\\\ud83e\\\\udd23\",\"38\":\"Appalling @user - for this Bojo continues to break the economy??? and the NHS hibernates\",\"39\":\"Tengo un amigo que es igual que BoJo. Padrino de uno de mis hijos, claro.\",\"40\":\"@user Koyok\\'e sedeh tinggal bojo\\\\ud83d\\\\ude05\",\"41\":\"I say \\\\u201clead\\\\u201d which obviously isn\\\\u2019t the right term for Bojo\",\"42\":\"@user Bojo\",\"43\":\"@user @user emejing bgt bojo kita yasis\",\"44\":\"@user @user @user @user @user @user @user @user @user @user @user @user @user @user @user @user @user @user @user @user @user @user @user @user @user @user @user @user @user @user @user @user @user @user @user @user @user @user @user @user @user @user @user @user @user @user @user @user Ni \\\\u0161ansa ! Bojo morali \\\\u0161e mal polente pojest. Vsaj glede mene\\\\u261d\\\\ufe0f\",\"45\":\"@user EH, Bojo and Frosty negotiated the Protocol, the NIP was debated, voted by UK elected representatives, although Frosty is an unelected bureaucrat.... It is now international and domestic law... Northern Ireland voted AGAINST BREXIT also\",\"46\":\"\\\\\"I don\\'t believe for one minute bojo\\'s new freedom date they\\'ll try and push it further down the road unless the spineless stand up and say no\\\\\"   http\",\"47\":\"I just love my bojo\\\\ud83d\\\\udc3e\\\\ud83e\\\\udd70 #Pug #puglover #puglife #dogsoftwitter #ThankYouScott #Sixers #love  http\",\"48\":\"@user Big of Tom to show that wetherspoons tv as the full backing of the bojo propaganda machine!!! Not the win he thinks....\",\"49\":\"Even though I\\'m a boy from NYC; my HEART will always VOTE for Jayda bc she has what it takes to be a Great Leader. ALL major British political parties should \\\\\"unite\\\\\" behind this BOLD_Leader who possesses more charisma than all of the MPs combined. STOP voting for jerks like Bojo.\",\"50\":\"Indeed, Governments have taken advantage of hardworking dedicated professionals who work for less money than they would earn in the private sector. Elegantly demonstrated by the BoJo 1% NHS pay offer.\",\"51\":\"@user Well done Joe Biden.. one Biden boot up BoJo\\'s backside and we see real progress finally.\",\"52\":\"@user \\\\u0628\\\\u0633\\\\u0628\\\\u0628 \\\\u062d\\\\u0642\\\\u0627\\\\u0631\\\\u0629 \\\\u0628\\\\u0631\\\\u064a\\\\u0637\\\\u0627\\\\u0646\\\\u064a\\\\u0627 \\\\u0648\\\\u0627\\\\u0644\\\\u0623\\\\u0645\\\\u0631\\\\u064a\\\\u0643\\\\u0627\\\\u0646 \\\\u0627\\\\u0644\\\\u0639\\\\u0631\\\\u0627\\\\u0642 \\\\u0641\\\\u064a \\\\u0627\\\\u0633\\\\u0648\\\\u0621 \\\\u062d\\\\u0627\\\\u0644\",\"53\":\"@user By posting what\\\\u2019s app messsges the public think \\\\u201c awww look BOJO said WTF , he\\\\u2019s one of us after all \\\\u201c it\\\\u2019s been planned from the get go with Hancock as the fall guy.\",\"54\":\" http\",\"55\":\"@user Bojo\\\\u2019s timing is dreadful. Self inflicted purdah due to not stopping flights from India.\",\"56\":\"@user Also a tad pot, kettle, black situation  with Bojo calling anyone useless. Plenty more of the same to fill their places.\",\"57\":\"maling desisyon\",\"58\":\"@user @user @user @user @user It makes @user look like a complete incompetent shambles, except for the vaccine rollout. Worse still @user the weakest most ineffective opposition ever!  Change is required but neither Bojo or Hindsight have a pair of gonads between them to shake things up\\\\ud83e\\\\udd14\\\\ud83d\\\\ude09\",\"59\":\"@user \\\\u2764\\\\ufe0f\\\\ud83d\\\\udc10\",\"60\":\"Patawa ng patawa si sonny syaka sj bojo mga gagu HAHAHAHHAHA\",\"61\":\"@user Could think of absolutely nothing worse than being ruled by BoJo   Scotland will forge their own future shortly\",\"62\":\"Yes, if Hancock s so hopeless why didn\\'t Bojo replace him at Health department!\",\"63\":\"It doesn\\'t say much for a passive population who are willing to accept this either.  Groveling, cap-touching, obsequious acceptance. \\\\\"Well it\\'s a tough job and our BoJo is doing his best...\\\\\"\",\"64\":\"We sincerely protect until and beyond COVID-19\\'s end, the National Health Service.\",\"65\":\"bawaan nya seharian meweeek teros.. tp lgsg ademm nyess klo mas bojo bilang gapapa semangat\",\"66\":\"@user To me, this says a lot more about the character of DC than BoJo\",\"67\":\"@user @user @user Not atall. She\\\\u2019s happy in herself, and she dislikes BoJo as much as me\",\"68\":\"@user In the next poll: CON 48 (+4). England, where I live, is a nation of deluded xenophobic bigots who are fully immersed in the bojo\\\\/tory cult. This story will be forgotten about by tomorrow. Voters get what they deserve.\",\"69\":\"Bismillah mugi ndang intuk bojo engkang jodoh lan isoh gawe omah \\\\ud83d\\\\ude4f\",\"70\":\"@user @user @user You\\'re inciting harassment here. On top of that it isn\\'t BoJo who will be opening the dirty masks. It will be innocent admin staff. It\\'s not only utterly futile, it\\'s irresponsible Julia!\",\"71\":\"@user #SabarItuEmas ketika ngecek harga emas tiap hari naik-turun.  Semoga tabungannya mas bojo sgr terkumpul biar cepet beli emas buat mahar. Aminnn \\\\ud83d\\\\ude4f\\\\ud83d\\\\ude4f  Yuk ikutan @user @user @user  #AntamBagiBagiHadiah #mengEMASkan #ANTAMlogammulia  #emasantamHALAL #MelekEmas\",\"72\":\"@user Scomo &amp; Bojo. Make a good clown act.\",\"73\":\"@user Got it.  Tks.  Mind you I would not mind some interference if it could get rid of Macron.  My son lives in Paris and says it has gone further downhill under him.  And I will not mention Bojo.\\\\ud83d\\\\ude2a Spain is corrupt but not as blatently \\\\ud83c\\\\uddea\\\\ud83c\\\\uddf8\\\\ud83c\\\\uddea\\\\ud83c\\\\uddfa\\\\ud83c\\\\uddec\\\\ud83c\\\\udde7\",\"74\":\"Take a mask, write #ImDone on it and send to Bojo, number 10 Downing Street  http\",\"75\":\"So - are you suggesting that Bojo can be compared to Baldrick ?  A bit harsh on Baldrick, methinks.\",\"76\":\"Cendol...11th bulan November nanti...sehat sehat ya ndol...  http\",\"77\":\"@user This is the kind of agreement Bojo will do well to implement or Sinn Fein\\'s argument will be shouted around the world that he doesn\\'t implement and NI can no longer be governed from WM strengthening case for UI, with the world watching\",\"78\":\"BoJo said more or less the same thing yesterday at PMQS  Whilst frothing like someone possessed\",\"79\":\"Kangen bojo\",\"80\":\"\\\\u0643\\\\u0648\\\\u0628\\\\u0648\\\\u0646\\\\u0627\\\\u062a \\\\u062e\\\\u0635\\\\u0645 \\\\u0642\\\\u0648\\\\u064a\\\\u0647 \\\\u0645\\\\u0646 \\\\u0645\\\\u0627\\\\u0643\\\\u0633 \\\\u0641\\\\u0627\\\\u0634\\\\u0648\\\\u0646 \\\\u0627\\\\u0644\\\\u0625\\\\u0645\\\\u0627\\\\u0631\\\\u0627\\\\u062a \\\\u0648 \\\\u0645\\\\u062a\\\\u0627\\\\u062c\\\\u0631 \\\\u0627\\\\u062e\\\\u0631\\\\u064a  \\\\u0641\\\\u0640\\\\u0648\\\\u063a\\\\u0627 \\\\u0643\\\\u0640\\\\u0644\\\\u0648\\\\u0633\\\\u064a\\\\u062a AWP \\\\u0631\\\\u064a\\\\u0641\\\\u0627 \\\\u0641\\\\u0627\\\\u0634\\\\u0646 YAY175 \\\\u0644\\\\u0627\\\\u0643\\\\u0648\\\\u0633\\\\u062a LCS67 \\\\u0647\\\\u0627\\\\u064a \\\\u0628\\\\u0648\\\\u0628\\\\u064a \\\\u0628\\\\u064a\\\\u0628\\\\u064a \\\\u0647\\\\u0627\\\\u064a\\\\u0628\\\\u0648\\\\u064a MX30 \\\\u0627\\\\u064a\\\\u0646\\\\u0645\\\\u0627 NM92 \\\\u0646\\\\u0645\\\\u0634\\\\u0649 FUN273  \\\\u0643\\\\u0648\\\\u062f \\\\u062e\\\\u0635\\\\u0645 \\\\u0648\\\\u0642\\\\u0633\\\\u0627\\\\u064a\\\\u0645 \\\\u062a\\\\u062e\\\\u0641\\\\u064a\\\\u0636 \\\\u0627\\\\u0644\\\\u0645\\\\u0645\\\\u0644\\\\u0643\\\\u0647 \\\\u0627\\\\u0644\\\\u0633\\\\u0639\\\\u0648\\\\u062f\\\\u064a\\\\u0647 \\\\u0627\\\\u0644\\\\u0627\\\\u0645\\\\u0627\\\\u0631\\\\u0627\\\\u062a \\\\u0627\\\\u0644\\\\u0643\\\\u0648\\\\u064a\\\\u062a\",\"81\":\"Aku harus makasih sama pak Eka, fix. Cuma lewat dia keknya aku sering dapet update an bojo aku di tempat kerja :\\\\\") Makasih pak @user udh kasih update orang yg gak pernah update ini @user\",\"82\":\"@user I\\\\u2019m assuming that Bojo you were referring to and not me! \\\\ud83d\\\\ude02\",\"83\":\"Not a Daily Star fan but they got this right @user however maybe they should have added a picture of @user as well Bojo the \\\\ud83e\\\\udd21and his sidekick  http\",\"84\":\"@user I love Brexit and listening to the winging remoaners. It really makes my day thanks to Boris\",\"85\":\"@user @user @user My mum could do a better job than BoJo, and she\\\\u2019s got dimentia! At least when she keeps making the same mistakes, she\\\\u2019s got an excuse!\",\"86\":\"Positive news the Bojo might be allowing double jabbed people holidays without quarantine!!!! 1 week borris, make me dreams come true \\\\ud83e\\\\udd28\\\\ud83e\\\\udd28\\\\ud83e\\\\udd23\",\"87\":\"fucking hate the backyardigans... pricks\",\"88\":\"Yet another #sellout by Bojo and his vacuous assistant Truss. \\\\ud83d\\\\udc4f\\\\ud83d\\\\udc4f\\\\ud83d\\\\udc4f\",\"89\":\"Aplikasi bersejarah wkwkwk sesungguhnya aku kenal mas bojo lewat ini aplikasi,  Tapi emg 1 tempat kerjaan, mas bojo resign, aku masuk. Ya Alhamdulillah bisa jd buat alasan kalo ditanya orang, kan ga mungkin dijawab kenal lewat aplikasi.  http\",\"90\":\"@user @user Scum scum scum\",\"91\":\"@user Well... He won\\'t be going fucking anywhere now. Will he?!? FFS. Cos Bojovian Ceasar (Et Tu Gov) would never ever give Cumming the damn satisfaction.   He was likely right tho, cos replace with Gove? He\\'s waiting for fing Bojo\\'s job... Last thing we need is constant change...\",\"92\":\"Ko jadi sering ujan lagiiii... Untung punya mas bojo\\\\ud83d\\\\ude02\\\\ud83e\\\\udd17\",\"93\":\"Astsgdhdjjjj gak gini juga wkwkwk  Changmin bar dadi bojo ne wong liyo malih tambah ganteng wae\",\"94\":\"@user rasah nggo obat mba\\', cukup nduwe bojo sek gaweane selingkah lak kuru dewe awake....\\\\ud83d\\\\ude05\\\\ud83d\\\\ude05\\\\ud83d\\\\ude05\",\"95\":\"@user @user @user Surely you\\\\u2019re not advocating that Germany is behind because more daily deaths currently but much less overall despite bigger population? Our bodies piled high early on by the \\\\u2018000s as per BoJo\\\\u2019s wish.\",\"96\":\"@user And the problem is, BoJo also isn\\'t worried about any of our own producers, very much like the Australians. We\\'ve seen this behavior from tories over the decades with privatising and selling everything off. This is the same shortsighted nonsense all over again.\",\"97\":\"Kangen bojo :(\",\"98\":\"@user Let\\\\u2019s be honest, it\\\\u2019s a lame excuse, given BoJo\\\\u2019s latest announcement it\\\\u2019s got to be linked behind the scenes \\\\u2026.. gutted \\\\ud83d\\\\ude15\",\"99\":\"@user @user @user @user Whole of the cabinet BoJo including! They all lie and have\"},\"scores\":{\"0\":0.001159437,\"1\":-0.1469109058,\"2\":-0.5931715369,\"3\":-0.0597301275,\"4\":-0.3155553639,\"5\":-0.0050657094,\"6\":-0.9198532701,\"7\":0.5201485157,\"8\":-0.37523067,\"9\":-0.0415389352,\"10\":-0.0498817228,\"11\":-0.8800958991,\"12\":-0.902875483,\"13\":-0.7662756443,\"14\":0.1675621569,\"15\":-0.2454988062,\"16\":0.0454391837,\"17\":-0.1051609591,\"18\":-0.93536973,\"19\":-0.756739378,\"20\":-0.8681868315,\"21\":-0.0466826074,\"22\":0.7999689579,\"23\":-0.2380456179,\"24\":-0.7363404632,\"25\":-0.6541281939,\"26\":-0.1313482523,\"27\":-0.1435162425,\"28\":-0.16152969,\"29\":0.0533183962,\"30\":-0.5787749887,\"31\":-0.6288824677,\"32\":-0.5823955536,\"33\":-0.7516890764,\"34\":-0.6207193136,\"35\":-0.8612499833,\"36\":-0.9601245522,\"37\":-0.4134370983,\"38\":-0.9233711958,\"39\":0.0880176127,\"40\":0.095973514,\"41\":-0.6385962367,\"42\":0.0708747804,\"43\":-0.0071699768,\"44\":0.0650177374,\"45\":-0.1831778288,\"46\":-0.6261912584,\"47\":0.9896327257,\"48\":-0.6927592754,\"49\":0.9396252632,\"50\":-0.359041065,\"51\":0.860937953,\"52\":-0.1736935079,\"53\":-0.5178088546,\"54\":0.0318688154,\"55\":-0.8816944957,\"56\":-0.6055656672,\"57\":-0.1235815734,\"58\":-0.947776556,\"59\":0.8545553088,\"60\":0.1501452327,\"61\":-0.5653933287,\"62\":-0.6371164322,\"63\":-0.4481522739,\"64\":0.6124283671,\"65\":-0.0979675427,\"66\":-0.0959754214,\"67\":-0.4564865232,\"68\":-0.8400706053,\"69\":0.3618279994,\"70\":-0.9243788719,\"71\":-0.1504118741,\"72\":0.6731786728,\"73\":-0.7672909498,\"74\":-0.0708115399,\"75\":-0.4753069878,\"76\":-0.0559220053,\"77\":-0.1212461591,\"78\":-0.2804040909,\"79\":0.0082105696,\"80\":-0.1723230481,\"81\":-0.1257730871,\"82\":-0.0176680535,\"83\":-0.0617436618,\"84\":0.9777910113,\"85\":-0.2773771882,\"86\":0.9175823331,\"87\":-0.9745253325,\"88\":-0.8633563519,\"89\":-0.2059088051,\"90\":-0.9422262907,\"91\":-0.819594264,\"92\":0.5556107759,\"93\":-0.1094198748,\"94\":-0.010351494,\"95\":-0.6246982217,\"96\":-0.8955251575,\"97\":-0.6657665968,\"98\":-0.6884775758,\"99\":-0.8794967532}}'"
      ]
     },
     "execution_count": 16,
     "metadata": {},
     "output_type": "execute_result"
    }
   ],
   "source": [
    "r = requests.get('http://127.0.0.1:8000/scrapeandpredict', params={'search': 'bojo'})\n",
    "output = r.json()\n",
    "output"
   ]
  },
  {
   "cell_type": "code",
   "execution_count": 23,
   "id": "9fb84d6a",
   "metadata": {},
   "outputs": [],
   "source": []
  },
  {
   "cell_type": "code",
   "execution_count": 33,
   "id": "64367b26",
   "metadata": {},
   "outputs": [],
   "source": [
    "df[df['figure'] == 'borisjohnson' | df['figure'] == 'pritipatel' | df['figure'] == 'matthancock']"
   ]
  },
  {
   "cell_type": "code",
   "execution_count": 29,
   "id": "09904503",
   "metadata": {},
   "outputs": [],
   "source": []
  },
  {
   "cell_type": "code",
   "execution_count": 34,
   "id": "44bcaaff",
   "metadata": {},
   "outputs": [],
   "source": [
    "grouped = pd.read_json(grouped)"
   ]
  },
  {
   "cell_type": "code",
   "execution_count": 9,
   "id": "dce41d67",
   "metadata": {},
   "outputs": [
    {
     "data": {
      "application/vnd.plotly.v1+json": {
       "config": {
        "plotlyServerURL": "https://plot.ly"
       },
       "data": [
        {
         "hovertemplate": "created_at=%{x}<br>count=%{y}<extra></extra>",
         "legendgroup": "",
         "line": {
          "color": "#636efa",
          "dash": "solid"
         },
         "mode": "lines",
         "name": "",
         "orientation": "v",
         "showlegend": false,
         "type": "scatter",
         "x": [
          "2021-06-17T09:30:00",
          "2021-06-17T09:31:00",
          "2021-06-17T09:32:00"
         ],
         "xaxis": "x",
         "y": [
          25.5,
          48,
          11
         ],
         "yaxis": "y"
        }
       ],
       "layout": {
        "legend": {
         "tracegroupgap": 0
        },
        "margin": {
         "t": 60
        },
        "template": {
         "data": {
          "bar": [
           {
            "error_x": {
             "color": "#2a3f5f"
            },
            "error_y": {
             "color": "#2a3f5f"
            },
            "marker": {
             "line": {
              "color": "#E5ECF6",
              "width": 0.5
             }
            },
            "type": "bar"
           }
          ],
          "barpolar": [
           {
            "marker": {
             "line": {
              "color": "#E5ECF6",
              "width": 0.5
             }
            },
            "type": "barpolar"
           }
          ],
          "carpet": [
           {
            "aaxis": {
             "endlinecolor": "#2a3f5f",
             "gridcolor": "white",
             "linecolor": "white",
             "minorgridcolor": "white",
             "startlinecolor": "#2a3f5f"
            },
            "baxis": {
             "endlinecolor": "#2a3f5f",
             "gridcolor": "white",
             "linecolor": "white",
             "minorgridcolor": "white",
             "startlinecolor": "#2a3f5f"
            },
            "type": "carpet"
           }
          ],
          "choropleth": [
           {
            "colorbar": {
             "outlinewidth": 0,
             "ticks": ""
            },
            "type": "choropleth"
           }
          ],
          "contour": [
           {
            "colorbar": {
             "outlinewidth": 0,
             "ticks": ""
            },
            "colorscale": [
             [
              0,
              "#0d0887"
             ],
             [
              0.1111111111111111,
              "#46039f"
             ],
             [
              0.2222222222222222,
              "#7201a8"
             ],
             [
              0.3333333333333333,
              "#9c179e"
             ],
             [
              0.4444444444444444,
              "#bd3786"
             ],
             [
              0.5555555555555556,
              "#d8576b"
             ],
             [
              0.6666666666666666,
              "#ed7953"
             ],
             [
              0.7777777777777778,
              "#fb9f3a"
             ],
             [
              0.8888888888888888,
              "#fdca26"
             ],
             [
              1,
              "#f0f921"
             ]
            ],
            "type": "contour"
           }
          ],
          "contourcarpet": [
           {
            "colorbar": {
             "outlinewidth": 0,
             "ticks": ""
            },
            "type": "contourcarpet"
           }
          ],
          "heatmap": [
           {
            "colorbar": {
             "outlinewidth": 0,
             "ticks": ""
            },
            "colorscale": [
             [
              0,
              "#0d0887"
             ],
             [
              0.1111111111111111,
              "#46039f"
             ],
             [
              0.2222222222222222,
              "#7201a8"
             ],
             [
              0.3333333333333333,
              "#9c179e"
             ],
             [
              0.4444444444444444,
              "#bd3786"
             ],
             [
              0.5555555555555556,
              "#d8576b"
             ],
             [
              0.6666666666666666,
              "#ed7953"
             ],
             [
              0.7777777777777778,
              "#fb9f3a"
             ],
             [
              0.8888888888888888,
              "#fdca26"
             ],
             [
              1,
              "#f0f921"
             ]
            ],
            "type": "heatmap"
           }
          ],
          "heatmapgl": [
           {
            "colorbar": {
             "outlinewidth": 0,
             "ticks": ""
            },
            "colorscale": [
             [
              0,
              "#0d0887"
             ],
             [
              0.1111111111111111,
              "#46039f"
             ],
             [
              0.2222222222222222,
              "#7201a8"
             ],
             [
              0.3333333333333333,
              "#9c179e"
             ],
             [
              0.4444444444444444,
              "#bd3786"
             ],
             [
              0.5555555555555556,
              "#d8576b"
             ],
             [
              0.6666666666666666,
              "#ed7953"
             ],
             [
              0.7777777777777778,
              "#fb9f3a"
             ],
             [
              0.8888888888888888,
              "#fdca26"
             ],
             [
              1,
              "#f0f921"
             ]
            ],
            "type": "heatmapgl"
           }
          ],
          "histogram": [
           {
            "marker": {
             "colorbar": {
              "outlinewidth": 0,
              "ticks": ""
             }
            },
            "type": "histogram"
           }
          ],
          "histogram2d": [
           {
            "colorbar": {
             "outlinewidth": 0,
             "ticks": ""
            },
            "colorscale": [
             [
              0,
              "#0d0887"
             ],
             [
              0.1111111111111111,
              "#46039f"
             ],
             [
              0.2222222222222222,
              "#7201a8"
             ],
             [
              0.3333333333333333,
              "#9c179e"
             ],
             [
              0.4444444444444444,
              "#bd3786"
             ],
             [
              0.5555555555555556,
              "#d8576b"
             ],
             [
              0.6666666666666666,
              "#ed7953"
             ],
             [
              0.7777777777777778,
              "#fb9f3a"
             ],
             [
              0.8888888888888888,
              "#fdca26"
             ],
             [
              1,
              "#f0f921"
             ]
            ],
            "type": "histogram2d"
           }
          ],
          "histogram2dcontour": [
           {
            "colorbar": {
             "outlinewidth": 0,
             "ticks": ""
            },
            "colorscale": [
             [
              0,
              "#0d0887"
             ],
             [
              0.1111111111111111,
              "#46039f"
             ],
             [
              0.2222222222222222,
              "#7201a8"
             ],
             [
              0.3333333333333333,
              "#9c179e"
             ],
             [
              0.4444444444444444,
              "#bd3786"
             ],
             [
              0.5555555555555556,
              "#d8576b"
             ],
             [
              0.6666666666666666,
              "#ed7953"
             ],
             [
              0.7777777777777778,
              "#fb9f3a"
             ],
             [
              0.8888888888888888,
              "#fdca26"
             ],
             [
              1,
              "#f0f921"
             ]
            ],
            "type": "histogram2dcontour"
           }
          ],
          "mesh3d": [
           {
            "colorbar": {
             "outlinewidth": 0,
             "ticks": ""
            },
            "type": "mesh3d"
           }
          ],
          "parcoords": [
           {
            "line": {
             "colorbar": {
              "outlinewidth": 0,
              "ticks": ""
             }
            },
            "type": "parcoords"
           }
          ],
          "pie": [
           {
            "automargin": true,
            "type": "pie"
           }
          ],
          "scatter": [
           {
            "marker": {
             "colorbar": {
              "outlinewidth": 0,
              "ticks": ""
             }
            },
            "type": "scatter"
           }
          ],
          "scatter3d": [
           {
            "line": {
             "colorbar": {
              "outlinewidth": 0,
              "ticks": ""
             }
            },
            "marker": {
             "colorbar": {
              "outlinewidth": 0,
              "ticks": ""
             }
            },
            "type": "scatter3d"
           }
          ],
          "scattercarpet": [
           {
            "marker": {
             "colorbar": {
              "outlinewidth": 0,
              "ticks": ""
             }
            },
            "type": "scattercarpet"
           }
          ],
          "scattergeo": [
           {
            "marker": {
             "colorbar": {
              "outlinewidth": 0,
              "ticks": ""
             }
            },
            "type": "scattergeo"
           }
          ],
          "scattergl": [
           {
            "marker": {
             "colorbar": {
              "outlinewidth": 0,
              "ticks": ""
             }
            },
            "type": "scattergl"
           }
          ],
          "scattermapbox": [
           {
            "marker": {
             "colorbar": {
              "outlinewidth": 0,
              "ticks": ""
             }
            },
            "type": "scattermapbox"
           }
          ],
          "scatterpolar": [
           {
            "marker": {
             "colorbar": {
              "outlinewidth": 0,
              "ticks": ""
             }
            },
            "type": "scatterpolar"
           }
          ],
          "scatterpolargl": [
           {
            "marker": {
             "colorbar": {
              "outlinewidth": 0,
              "ticks": ""
             }
            },
            "type": "scatterpolargl"
           }
          ],
          "scatterternary": [
           {
            "marker": {
             "colorbar": {
              "outlinewidth": 0,
              "ticks": ""
             }
            },
            "type": "scatterternary"
           }
          ],
          "surface": [
           {
            "colorbar": {
             "outlinewidth": 0,
             "ticks": ""
            },
            "colorscale": [
             [
              0,
              "#0d0887"
             ],
             [
              0.1111111111111111,
              "#46039f"
             ],
             [
              0.2222222222222222,
              "#7201a8"
             ],
             [
              0.3333333333333333,
              "#9c179e"
             ],
             [
              0.4444444444444444,
              "#bd3786"
             ],
             [
              0.5555555555555556,
              "#d8576b"
             ],
             [
              0.6666666666666666,
              "#ed7953"
             ],
             [
              0.7777777777777778,
              "#fb9f3a"
             ],
             [
              0.8888888888888888,
              "#fdca26"
             ],
             [
              1,
              "#f0f921"
             ]
            ],
            "type": "surface"
           }
          ],
          "table": [
           {
            "cells": {
             "fill": {
              "color": "#EBF0F8"
             },
             "line": {
              "color": "white"
             }
            },
            "header": {
             "fill": {
              "color": "#C8D4E3"
             },
             "line": {
              "color": "white"
             }
            },
            "type": "table"
           }
          ]
         },
         "layout": {
          "annotationdefaults": {
           "arrowcolor": "#2a3f5f",
           "arrowhead": 0,
           "arrowwidth": 1
          },
          "autotypenumbers": "strict",
          "coloraxis": {
           "colorbar": {
            "outlinewidth": 0,
            "ticks": ""
           }
          },
          "colorscale": {
           "diverging": [
            [
             0,
             "#8e0152"
            ],
            [
             0.1,
             "#c51b7d"
            ],
            [
             0.2,
             "#de77ae"
            ],
            [
             0.3,
             "#f1b6da"
            ],
            [
             0.4,
             "#fde0ef"
            ],
            [
             0.5,
             "#f7f7f7"
            ],
            [
             0.6,
             "#e6f5d0"
            ],
            [
             0.7,
             "#b8e186"
            ],
            [
             0.8,
             "#7fbc41"
            ],
            [
             0.9,
             "#4d9221"
            ],
            [
             1,
             "#276419"
            ]
           ],
           "sequential": [
            [
             0,
             "#0d0887"
            ],
            [
             0.1111111111111111,
             "#46039f"
            ],
            [
             0.2222222222222222,
             "#7201a8"
            ],
            [
             0.3333333333333333,
             "#9c179e"
            ],
            [
             0.4444444444444444,
             "#bd3786"
            ],
            [
             0.5555555555555556,
             "#d8576b"
            ],
            [
             0.6666666666666666,
             "#ed7953"
            ],
            [
             0.7777777777777778,
             "#fb9f3a"
            ],
            [
             0.8888888888888888,
             "#fdca26"
            ],
            [
             1,
             "#f0f921"
            ]
           ],
           "sequentialminus": [
            [
             0,
             "#0d0887"
            ],
            [
             0.1111111111111111,
             "#46039f"
            ],
            [
             0.2222222222222222,
             "#7201a8"
            ],
            [
             0.3333333333333333,
             "#9c179e"
            ],
            [
             0.4444444444444444,
             "#bd3786"
            ],
            [
             0.5555555555555556,
             "#d8576b"
            ],
            [
             0.6666666666666666,
             "#ed7953"
            ],
            [
             0.7777777777777778,
             "#fb9f3a"
            ],
            [
             0.8888888888888888,
             "#fdca26"
            ],
            [
             1,
             "#f0f921"
            ]
           ]
          },
          "colorway": [
           "#636efa",
           "#EF553B",
           "#00cc96",
           "#ab63fa",
           "#FFA15A",
           "#19d3f3",
           "#FF6692",
           "#B6E880",
           "#FF97FF",
           "#FECB52"
          ],
          "font": {
           "color": "#2a3f5f"
          },
          "geo": {
           "bgcolor": "white",
           "lakecolor": "white",
           "landcolor": "#E5ECF6",
           "showlakes": true,
           "showland": true,
           "subunitcolor": "white"
          },
          "hoverlabel": {
           "align": "left"
          },
          "hovermode": "closest",
          "mapbox": {
           "style": "light"
          },
          "paper_bgcolor": "white",
          "plot_bgcolor": "#E5ECF6",
          "polar": {
           "angularaxis": {
            "gridcolor": "white",
            "linecolor": "white",
            "ticks": ""
           },
           "bgcolor": "#E5ECF6",
           "radialaxis": {
            "gridcolor": "white",
            "linecolor": "white",
            "ticks": ""
           }
          },
          "scene": {
           "xaxis": {
            "backgroundcolor": "#E5ECF6",
            "gridcolor": "white",
            "gridwidth": 2,
            "linecolor": "white",
            "showbackground": true,
            "ticks": "",
            "zerolinecolor": "white"
           },
           "yaxis": {
            "backgroundcolor": "#E5ECF6",
            "gridcolor": "white",
            "gridwidth": 2,
            "linecolor": "white",
            "showbackground": true,
            "ticks": "",
            "zerolinecolor": "white"
           },
           "zaxis": {
            "backgroundcolor": "#E5ECF6",
            "gridcolor": "white",
            "gridwidth": 2,
            "linecolor": "white",
            "showbackground": true,
            "ticks": "",
            "zerolinecolor": "white"
           }
          },
          "shapedefaults": {
           "line": {
            "color": "#2a3f5f"
           }
          },
          "ternary": {
           "aaxis": {
            "gridcolor": "white",
            "linecolor": "white",
            "ticks": ""
           },
           "baxis": {
            "gridcolor": "white",
            "linecolor": "white",
            "ticks": ""
           },
           "bgcolor": "#E5ECF6",
           "caxis": {
            "gridcolor": "white",
            "linecolor": "white",
            "ticks": ""
           }
          },
          "title": {
           "x": 0.05
          },
          "xaxis": {
           "automargin": true,
           "gridcolor": "white",
           "linecolor": "white",
           "ticks": "",
           "title": {
            "standoff": 15
           },
           "zerolinecolor": "white",
           "zerolinewidth": 2
          },
          "yaxis": {
           "automargin": true,
           "gridcolor": "white",
           "linecolor": "white",
           "ticks": "",
           "title": {
            "standoff": 15
           },
           "zerolinecolor": "white",
           "zerolinewidth": 2
          }
         }
        },
        "xaxis": {
         "anchor": "y",
         "domain": [
          0,
          1
         ],
         "title": {
          "text": "created_at"
         }
        },
        "yaxis": {
         "anchor": "x",
         "domain": [
          0,
          1
         ],
         "title": {
          "text": "count"
         }
        }
       }
      },
      "text/html": [
       "<div>                            <div id=\"c7d08874-9709-419f-86aa-66b1c0b70241\" class=\"plotly-graph-div\" style=\"height:525px; width:100%;\"></div>            <script type=\"text/javascript\">                require([\"plotly\"], function(Plotly) {                    window.PLOTLYENV=window.PLOTLYENV || {};                                    if (document.getElementById(\"c7d08874-9709-419f-86aa-66b1c0b70241\")) {                    Plotly.newPlot(                        \"c7d08874-9709-419f-86aa-66b1c0b70241\",                        [{\"hovertemplate\": \"created_at=%{x}<br>count=%{y}<extra></extra>\", \"legendgroup\": \"\", \"line\": {\"color\": \"#636efa\", \"dash\": \"solid\"}, \"mode\": \"lines\", \"name\": \"\", \"orientation\": \"v\", \"showlegend\": false, \"type\": \"scatter\", \"x\": [\"2021-06-17T09:30:00\", \"2021-06-17T09:31:00\", \"2021-06-17T09:32:00\"], \"xaxis\": \"x\", \"y\": [25.5, 48.0, 11.0], \"yaxis\": \"y\"}],                        {\"legend\": {\"tracegroupgap\": 0}, \"margin\": {\"t\": 60}, \"template\": {\"data\": {\"bar\": [{\"error_x\": {\"color\": \"#2a3f5f\"}, \"error_y\": {\"color\": \"#2a3f5f\"}, \"marker\": {\"line\": {\"color\": \"#E5ECF6\", \"width\": 0.5}}, \"type\": \"bar\"}], \"barpolar\": [{\"marker\": {\"line\": {\"color\": \"#E5ECF6\", \"width\": 0.5}}, \"type\": \"barpolar\"}], \"carpet\": [{\"aaxis\": {\"endlinecolor\": \"#2a3f5f\", \"gridcolor\": \"white\", \"linecolor\": \"white\", \"minorgridcolor\": \"white\", \"startlinecolor\": \"#2a3f5f\"}, \"baxis\": {\"endlinecolor\": \"#2a3f5f\", \"gridcolor\": \"white\", \"linecolor\": \"white\", \"minorgridcolor\": \"white\", \"startlinecolor\": \"#2a3f5f\"}, \"type\": \"carpet\"}], \"choropleth\": [{\"colorbar\": {\"outlinewidth\": 0, \"ticks\": \"\"}, \"type\": \"choropleth\"}], \"contour\": [{\"colorbar\": {\"outlinewidth\": 0, \"ticks\": \"\"}, \"colorscale\": [[0.0, \"#0d0887\"], [0.1111111111111111, \"#46039f\"], [0.2222222222222222, \"#7201a8\"], [0.3333333333333333, \"#9c179e\"], [0.4444444444444444, \"#bd3786\"], [0.5555555555555556, \"#d8576b\"], [0.6666666666666666, \"#ed7953\"], [0.7777777777777778, \"#fb9f3a\"], [0.8888888888888888, \"#fdca26\"], [1.0, \"#f0f921\"]], \"type\": \"contour\"}], \"contourcarpet\": [{\"colorbar\": {\"outlinewidth\": 0, \"ticks\": \"\"}, \"type\": \"contourcarpet\"}], \"heatmap\": [{\"colorbar\": {\"outlinewidth\": 0, \"ticks\": \"\"}, \"colorscale\": [[0.0, \"#0d0887\"], [0.1111111111111111, \"#46039f\"], [0.2222222222222222, \"#7201a8\"], [0.3333333333333333, \"#9c179e\"], [0.4444444444444444, \"#bd3786\"], [0.5555555555555556, \"#d8576b\"], [0.6666666666666666, \"#ed7953\"], [0.7777777777777778, \"#fb9f3a\"], [0.8888888888888888, \"#fdca26\"], [1.0, \"#f0f921\"]], \"type\": \"heatmap\"}], \"heatmapgl\": [{\"colorbar\": {\"outlinewidth\": 0, \"ticks\": \"\"}, \"colorscale\": [[0.0, \"#0d0887\"], [0.1111111111111111, \"#46039f\"], [0.2222222222222222, \"#7201a8\"], [0.3333333333333333, \"#9c179e\"], [0.4444444444444444, \"#bd3786\"], [0.5555555555555556, \"#d8576b\"], [0.6666666666666666, \"#ed7953\"], [0.7777777777777778, \"#fb9f3a\"], [0.8888888888888888, \"#fdca26\"], [1.0, \"#f0f921\"]], \"type\": \"heatmapgl\"}], \"histogram\": [{\"marker\": {\"colorbar\": {\"outlinewidth\": 0, \"ticks\": \"\"}}, \"type\": \"histogram\"}], \"histogram2d\": [{\"colorbar\": {\"outlinewidth\": 0, \"ticks\": \"\"}, \"colorscale\": [[0.0, \"#0d0887\"], [0.1111111111111111, \"#46039f\"], [0.2222222222222222, \"#7201a8\"], [0.3333333333333333, \"#9c179e\"], [0.4444444444444444, \"#bd3786\"], [0.5555555555555556, \"#d8576b\"], [0.6666666666666666, \"#ed7953\"], [0.7777777777777778, \"#fb9f3a\"], [0.8888888888888888, \"#fdca26\"], [1.0, \"#f0f921\"]], \"type\": \"histogram2d\"}], \"histogram2dcontour\": [{\"colorbar\": {\"outlinewidth\": 0, \"ticks\": \"\"}, \"colorscale\": [[0.0, \"#0d0887\"], [0.1111111111111111, \"#46039f\"], [0.2222222222222222, \"#7201a8\"], [0.3333333333333333, \"#9c179e\"], [0.4444444444444444, \"#bd3786\"], [0.5555555555555556, \"#d8576b\"], [0.6666666666666666, \"#ed7953\"], [0.7777777777777778, \"#fb9f3a\"], [0.8888888888888888, \"#fdca26\"], [1.0, \"#f0f921\"]], \"type\": \"histogram2dcontour\"}], \"mesh3d\": [{\"colorbar\": {\"outlinewidth\": 0, \"ticks\": \"\"}, \"type\": \"mesh3d\"}], \"parcoords\": [{\"line\": {\"colorbar\": {\"outlinewidth\": 0, \"ticks\": \"\"}}, \"type\": \"parcoords\"}], \"pie\": [{\"automargin\": true, \"type\": \"pie\"}], \"scatter\": [{\"marker\": {\"colorbar\": {\"outlinewidth\": 0, \"ticks\": \"\"}}, \"type\": \"scatter\"}], \"scatter3d\": [{\"line\": {\"colorbar\": {\"outlinewidth\": 0, \"ticks\": \"\"}}, \"marker\": {\"colorbar\": {\"outlinewidth\": 0, \"ticks\": \"\"}}, \"type\": \"scatter3d\"}], \"scattercarpet\": [{\"marker\": {\"colorbar\": {\"outlinewidth\": 0, \"ticks\": \"\"}}, \"type\": \"scattercarpet\"}], \"scattergeo\": [{\"marker\": {\"colorbar\": {\"outlinewidth\": 0, \"ticks\": \"\"}}, \"type\": \"scattergeo\"}], \"scattergl\": [{\"marker\": {\"colorbar\": {\"outlinewidth\": 0, \"ticks\": \"\"}}, \"type\": \"scattergl\"}], \"scattermapbox\": [{\"marker\": {\"colorbar\": {\"outlinewidth\": 0, \"ticks\": \"\"}}, \"type\": \"scattermapbox\"}], \"scatterpolar\": [{\"marker\": {\"colorbar\": {\"outlinewidth\": 0, \"ticks\": \"\"}}, \"type\": \"scatterpolar\"}], \"scatterpolargl\": [{\"marker\": {\"colorbar\": {\"outlinewidth\": 0, \"ticks\": \"\"}}, \"type\": \"scatterpolargl\"}], \"scatterternary\": [{\"marker\": {\"colorbar\": {\"outlinewidth\": 0, \"ticks\": \"\"}}, \"type\": \"scatterternary\"}], \"surface\": [{\"colorbar\": {\"outlinewidth\": 0, \"ticks\": \"\"}, \"colorscale\": [[0.0, \"#0d0887\"], [0.1111111111111111, \"#46039f\"], [0.2222222222222222, \"#7201a8\"], [0.3333333333333333, \"#9c179e\"], [0.4444444444444444, \"#bd3786\"], [0.5555555555555556, \"#d8576b\"], [0.6666666666666666, \"#ed7953\"], [0.7777777777777778, \"#fb9f3a\"], [0.8888888888888888, \"#fdca26\"], [1.0, \"#f0f921\"]], \"type\": \"surface\"}], \"table\": [{\"cells\": {\"fill\": {\"color\": \"#EBF0F8\"}, \"line\": {\"color\": \"white\"}}, \"header\": {\"fill\": {\"color\": \"#C8D4E3\"}, \"line\": {\"color\": \"white\"}}, \"type\": \"table\"}]}, \"layout\": {\"annotationdefaults\": {\"arrowcolor\": \"#2a3f5f\", \"arrowhead\": 0, \"arrowwidth\": 1}, \"autotypenumbers\": \"strict\", \"coloraxis\": {\"colorbar\": {\"outlinewidth\": 0, \"ticks\": \"\"}}, \"colorscale\": {\"diverging\": [[0, \"#8e0152\"], [0.1, \"#c51b7d\"], [0.2, \"#de77ae\"], [0.3, \"#f1b6da\"], [0.4, \"#fde0ef\"], [0.5, \"#f7f7f7\"], [0.6, \"#e6f5d0\"], [0.7, \"#b8e186\"], [0.8, \"#7fbc41\"], [0.9, \"#4d9221\"], [1, \"#276419\"]], \"sequential\": [[0.0, \"#0d0887\"], [0.1111111111111111, \"#46039f\"], [0.2222222222222222, \"#7201a8\"], [0.3333333333333333, \"#9c179e\"], [0.4444444444444444, \"#bd3786\"], [0.5555555555555556, \"#d8576b\"], [0.6666666666666666, \"#ed7953\"], [0.7777777777777778, \"#fb9f3a\"], [0.8888888888888888, \"#fdca26\"], [1.0, \"#f0f921\"]], \"sequentialminus\": [[0.0, \"#0d0887\"], [0.1111111111111111, \"#46039f\"], [0.2222222222222222, \"#7201a8\"], [0.3333333333333333, \"#9c179e\"], [0.4444444444444444, \"#bd3786\"], [0.5555555555555556, \"#d8576b\"], [0.6666666666666666, \"#ed7953\"], [0.7777777777777778, \"#fb9f3a\"], [0.8888888888888888, \"#fdca26\"], [1.0, \"#f0f921\"]]}, \"colorway\": [\"#636efa\", \"#EF553B\", \"#00cc96\", \"#ab63fa\", \"#FFA15A\", \"#19d3f3\", \"#FF6692\", \"#B6E880\", \"#FF97FF\", \"#FECB52\"], \"font\": {\"color\": \"#2a3f5f\"}, \"geo\": {\"bgcolor\": \"white\", \"lakecolor\": \"white\", \"landcolor\": \"#E5ECF6\", \"showlakes\": true, \"showland\": true, \"subunitcolor\": \"white\"}, \"hoverlabel\": {\"align\": \"left\"}, \"hovermode\": \"closest\", \"mapbox\": {\"style\": \"light\"}, \"paper_bgcolor\": \"white\", \"plot_bgcolor\": \"#E5ECF6\", \"polar\": {\"angularaxis\": {\"gridcolor\": \"white\", \"linecolor\": \"white\", \"ticks\": \"\"}, \"bgcolor\": \"#E5ECF6\", \"radialaxis\": {\"gridcolor\": \"white\", \"linecolor\": \"white\", \"ticks\": \"\"}}, \"scene\": {\"xaxis\": {\"backgroundcolor\": \"#E5ECF6\", \"gridcolor\": \"white\", \"gridwidth\": 2, \"linecolor\": \"white\", \"showbackground\": true, \"ticks\": \"\", \"zerolinecolor\": \"white\"}, \"yaxis\": {\"backgroundcolor\": \"#E5ECF6\", \"gridcolor\": \"white\", \"gridwidth\": 2, \"linecolor\": \"white\", \"showbackground\": true, \"ticks\": \"\", \"zerolinecolor\": \"white\"}, \"zaxis\": {\"backgroundcolor\": \"#E5ECF6\", \"gridcolor\": \"white\", \"gridwidth\": 2, \"linecolor\": \"white\", \"showbackground\": true, \"ticks\": \"\", \"zerolinecolor\": \"white\"}}, \"shapedefaults\": {\"line\": {\"color\": \"#2a3f5f\"}}, \"ternary\": {\"aaxis\": {\"gridcolor\": \"white\", \"linecolor\": \"white\", \"ticks\": \"\"}, \"baxis\": {\"gridcolor\": \"white\", \"linecolor\": \"white\", \"ticks\": \"\"}, \"bgcolor\": \"#E5ECF6\", \"caxis\": {\"gridcolor\": \"white\", \"linecolor\": \"white\", \"ticks\": \"\"}}, \"title\": {\"x\": 0.05}, \"xaxis\": {\"automargin\": true, \"gridcolor\": \"white\", \"linecolor\": \"white\", \"ticks\": \"\", \"title\": {\"standoff\": 15}, \"zerolinecolor\": \"white\", \"zerolinewidth\": 2}, \"yaxis\": {\"automargin\": true, \"gridcolor\": \"white\", \"linecolor\": \"white\", \"ticks\": \"\", \"title\": {\"standoff\": 15}, \"zerolinecolor\": \"white\", \"zerolinewidth\": 2}}}, \"xaxis\": {\"anchor\": \"y\", \"domain\": [0.0, 1.0], \"title\": {\"text\": \"created_at\"}}, \"yaxis\": {\"anchor\": \"x\", \"domain\": [0.0, 1.0], \"title\": {\"text\": \"count\"}}},                        {\"responsive\": true}                    ).then(function(){\n",
       "                            \n",
       "var gd = document.getElementById('c7d08874-9709-419f-86aa-66b1c0b70241');\n",
       "var x = new MutationObserver(function (mutations, observer) {{\n",
       "        var display = window.getComputedStyle(gd).display;\n",
       "        if (!display || display === 'none') {{\n",
       "            console.log([gd, 'removed!']);\n",
       "            Plotly.purge(gd);\n",
       "            observer.disconnect();\n",
       "        }}\n",
       "}});\n",
       "\n",
       "// Listen for the removal of the full notebook cells\n",
       "var notebookContainer = gd.closest('#notebook-container');\n",
       "if (notebookContainer) {{\n",
       "    x.observe(notebookContainer, {childList: true});\n",
       "}}\n",
       "\n",
       "// Listen for the clearing of the current output cell\n",
       "var outputEl = gd.closest('.output');\n",
       "if (outputEl) {{\n",
       "    x.observe(outputEl, {childList: true});\n",
       "}}\n",
       "\n",
       "                        })                };                });            </script>        </div>"
      ]
     },
     "metadata": {},
     "output_type": "display_data"
    }
   ],
   "source": [
    "px.line(grouped, x='created_at', y='count')"
   ]
  },
  {
   "cell_type": "code",
   "execution_count": null,
   "id": "48a5f1f4",
   "metadata": {},
   "outputs": [],
   "source": []
  }
 ],
 "metadata": {
  "kernelspec": {
   "display_name": "le_kingmakers",
   "language": "python",
   "name": "le_kingmakers"
  },
  "language_info": {
   "codemirror_mode": {
    "name": "ipython",
    "version": 3
   },
   "file_extension": ".py",
   "mimetype": "text/x-python",
   "name": "python",
   "nbconvert_exporter": "python",
   "pygments_lexer": "ipython3",
   "version": "3.8.6"
  },
  "toc": {
   "base_numbering": 1,
   "nav_menu": {},
   "number_sections": true,
   "sideBar": true,
   "skip_h1_title": false,
   "title_cell": "Table of Contents",
   "title_sidebar": "Contents",
   "toc_cell": false,
   "toc_position": {},
   "toc_section_display": true,
   "toc_window_display": false
  }
 },
 "nbformat": 4,
 "nbformat_minor": 5
}
