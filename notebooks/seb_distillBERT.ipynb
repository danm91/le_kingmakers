{
 "cells": [
  {
   "cell_type": "markdown",
   "id": "8c31a429",
   "metadata": {},
   "source": [
    "# DistillBERT Model"
   ]
  },
  {
   "cell_type": "markdown",
   "id": "e9bb96f5",
   "metadata": {},
   "source": [
    "## Imports"
   ]
  },
  {
   "cell_type": "code",
   "execution_count": 1,
   "id": "ce4ab27a",
   "metadata": {},
   "outputs": [],
   "source": [
    "%load_ext autoreload\n",
    "%autoreload 2"
   ]
  },
  {
   "cell_type": "code",
   "execution_count": 2,
   "id": "4f5cda52",
   "metadata": {},
   "outputs": [],
   "source": [
    "%matplotlib inline"
   ]
  },
  {
   "cell_type": "code",
   "execution_count": 18,
   "id": "aa02d273",
   "metadata": {},
   "outputs": [],
   "source": [
    "import pandas as pd\n",
    "import numpy as np\n",
    "import os\n",
    "# os.environ['CUDA_DEVICE_ORDER']='PCI_BUS_ID'\n",
    "# os.environ['CUDA_VISIBLE_DEVICES']='0'\n",
    "\n",
    "from preproc_text import process_tweets\n",
    "from preproc_abbv import abbreviations\n",
    "from preproc_class import TextPreprocess\n",
    "\n",
    "from tensorflow.keras.preprocessing.text import text_to_word_sequence\n",
    "\n",
    "from sklearn.model_selection import train_test_split\n",
    "\n",
    "import ktrain\n",
    "from ktrain import text"
   ]
  },
  {
   "cell_type": "markdown",
   "id": "7000d9db",
   "metadata": {},
   "source": [
    "## Import Data"
   ]
  },
  {
   "cell_type": "code",
   "execution_count": 4,
   "id": "df4d6d24",
   "metadata": {},
   "outputs": [],
   "source": [
    "# importing data from hard disk\n",
    "csv_path = os.path.join('/home/sbyhung/code/danm91/le_kingmakers/raw_data','training.1600000.processed.noemoticon.csv')\n",
    "df = pd.read_csv(csv_path, header=None)\n",
    "df = df.copy()"
   ]
  },
  {
   "cell_type": "code",
   "execution_count": 27,
   "id": "3c450f66",
   "metadata": {},
   "outputs": [
    {
     "data": {
      "text/plain": [
       "(160, 6)"
      ]
     },
     "execution_count": 27,
     "metadata": {},
     "output_type": "execute_result"
    }
   ],
   "source": [
    "# get sample for testing\n",
    "sample_size = int(df.shape[0] * 0.0001)\n",
    "data_sample = df.sample(sample_size, random_state=0)\n",
    "data_sample.shape"
   ]
  },
  {
   "cell_type": "code",
   "execution_count": 28,
   "id": "881953ff",
   "metadata": {},
   "outputs": [
    {
     "data": {
      "text/plain": [
       "(160,)"
      ]
     },
     "metadata": {},
     "output_type": "display_data"
    },
    {
     "data": {
      "text/plain": [
       "(160,)"
      ]
     },
     "metadata": {},
     "output_type": "display_data"
    }
   ],
   "source": [
    "# splitting data into X & y\n",
    "X = data_sample.iloc[:, 5]\n",
    "y = data_sample.iloc[:, 0]\n",
    "display(X.shape)\n",
    "display(y.shape)"
   ]
  },
  {
   "cell_type": "code",
   "execution_count": 29,
   "id": "f4cb6884",
   "metadata": {},
   "outputs": [],
   "source": [
    "# changing positive values from 4 to 1\n",
    "y = y.map({0: 0, 4:1})"
   ]
  },
  {
   "cell_type": "code",
   "execution_count": 30,
   "id": "b539453e",
   "metadata": {},
   "outputs": [],
   "source": [
    "# cleaning with bespoke classes\n",
    "X = X.apply(process_tweets)"
   ]
  },
  {
   "cell_type": "code",
   "execution_count": 31,
   "id": "070de074",
   "metadata": {},
   "outputs": [
    {
     "data": {
      "text/plain": [
       "(96,)"
      ]
     },
     "metadata": {},
     "output_type": "display_data"
    },
    {
     "data": {
      "text/plain": [
       "(32,)"
      ]
     },
     "metadata": {},
     "output_type": "display_data"
    },
    {
     "data": {
      "text/plain": [
       "(32,)"
      ]
     },
     "metadata": {},
     "output_type": "display_data"
    },
    {
     "data": {
      "text/plain": [
       "(96,)"
      ]
     },
     "metadata": {},
     "output_type": "display_data"
    },
    {
     "data": {
      "text/plain": [
       "(32,)"
      ]
     },
     "metadata": {},
     "output_type": "display_data"
    },
    {
     "data": {
      "text/plain": [
       "(32,)"
      ]
     },
     "metadata": {},
     "output_type": "display_data"
    }
   ],
   "source": [
    "# splitting data train:test:val = 60:20:20\n",
    "X_temp, X_test, y_temp, y_test = train_test_split(X, y, test_size=0.2, random_state=0, stratify=y)\n",
    "X_train, X_val, y_train, y_val = train_test_split(X_temp, y_temp, test_size=0.25, random_state=0, stratify=y_temp)\n",
    "display(X_train.shape)\n",
    "display(X_test.shape)\n",
    "display(X_val.shape)\n",
    "display(y_train.shape)\n",
    "display(y_test.shape)\n",
    "display(y_val.shape)"
   ]
  },
  {
   "cell_type": "code",
   "execution_count": 32,
   "id": "e1c6506d",
   "metadata": {},
   "outputs": [],
   "source": [
    "# change pd series to array\n",
    "X_train = np.array(X_train)\n",
    "X_test = np.array(X_test)\n",
    "X_val = np.array(X_val)\n",
    "y_train = np.array(y_train)\n",
    "y_test = np.array(y_test)\n",
    "y_val = np.array(y_val)"
   ]
  },
  {
   "cell_type": "code",
   "execution_count": 33,
   "id": "3653d5df",
   "metadata": {},
   "outputs": [
    {
     "data": {
      "text/plain": [
       "(96,)"
      ]
     },
     "metadata": {},
     "output_type": "display_data"
    },
    {
     "data": {
      "text/plain": [
       "(32,)"
      ]
     },
     "metadata": {},
     "output_type": "display_data"
    },
    {
     "data": {
      "text/plain": [
       "(32,)"
      ]
     },
     "metadata": {},
     "output_type": "display_data"
    },
    {
     "data": {
      "text/plain": [
       "(96,)"
      ]
     },
     "metadata": {},
     "output_type": "display_data"
    },
    {
     "data": {
      "text/plain": [
       "(32,)"
      ]
     },
     "metadata": {},
     "output_type": "display_data"
    },
    {
     "data": {
      "text/plain": [
       "(32,)"
      ]
     },
     "metadata": {},
     "output_type": "display_data"
    }
   ],
   "source": [
    "# check dimensions\n",
    "display(X_train.shape)\n",
    "display(X_test.shape)\n",
    "display(X_val.shape)\n",
    "display(y_train.shape)\n",
    "display(y_test.shape)\n",
    "display(y_val.shape)"
   ]
  },
  {
   "cell_type": "markdown",
   "id": "855a3ab5",
   "metadata": {},
   "source": [
    "## Processing Data"
   ]
  },
  {
   "cell_type": "code",
   "execution_count": 34,
   "id": "dbc37653",
   "metadata": {},
   "outputs": [],
   "source": [
    "#### Tokenise words"
   ]
  },
  {
   "cell_type": "code",
   "execution_count": 35,
   "id": "8691ef98",
   "metadata": {},
   "outputs": [
    {
     "data": {
      "text/plain": [
       "array([0, 1])"
      ]
     },
     "execution_count": 35,
     "metadata": {},
     "output_type": "execute_result"
    }
   ],
   "source": [
    "y.unique()"
   ]
  },
  {
   "cell_type": "markdown",
   "id": "a7488cf8",
   "metadata": {},
   "source": [
    "## Define Model & Preprocess Data"
   ]
  },
  {
   "cell_type": "code",
   "execution_count": 36,
   "id": "2efedd2e",
   "metadata": {},
   "outputs": [],
   "source": [
    "# model name & class name\n",
    "model_name = 'distilbert-base-uncased'\n",
    "class_names = y.unique()"
   ]
  },
  {
   "cell_type": "code",
   "execution_count": 37,
   "id": "95d3444d",
   "metadata": {},
   "outputs": [],
   "source": [
    "# transformer\n",
    "trans = text.Transformer(model_name, maxlen=512, class_names=class_names)\n"
   ]
  },
  {
   "cell_type": "code",
   "execution_count": 39,
   "id": "fd3e67ff",
   "metadata": {},
   "outputs": [
    {
     "name": "stdout",
     "output_type": "stream",
     "text": [
      "preprocessing train...\n",
      "language: en\n",
      "train sequence lengths:\n",
      "\tmean : 7\n",
      "\t95percentile : 13\n",
      "\t99percentile : 15\n"
     ]
    },
    {
     "data": {
      "text/html": [],
      "text/plain": [
       "<IPython.core.display.HTML object>"
      ]
     },
     "metadata": {},
     "output_type": "display_data"
    },
    {
     "name": "stdout",
     "output_type": "stream",
     "text": [
      "Is Multi-Label? False\n",
      "preprocessing test...\n",
      "language: en\n",
      "test sequence lengths:\n",
      "\tmean : 7\n",
      "\t95percentile : 14\n",
      "\t99percentile : 15\n"
     ]
    },
    {
     "data": {
      "text/html": [],
      "text/plain": [
       "<IPython.core.display.HTML object>"
      ]
     },
     "metadata": {},
     "output_type": "display_data"
    },
    {
     "name": "stdout",
     "output_type": "stream",
     "text": [
      "preprocessing test...\n",
      "language: en\n",
      "test sequence lengths:\n",
      "\tmean : 6\n",
      "\t95percentile : 11\n",
      "\t99percentile : 13\n"
     ]
    },
    {
     "data": {
      "text/html": [],
      "text/plain": [
       "<IPython.core.display.HTML object>"
      ]
     },
     "metadata": {},
     "output_type": "display_data"
    }
   ],
   "source": [
    "# preprocessing data\n",
    "train_data = trans.preprocess_train(X_train, y_train)\n",
    "test_data = trans.preprocess_test(X_test, y_test)\n",
    "val_data = trans.preprocess_test(X_val, y_val)"
   ]
  },
  {
   "cell_type": "markdown",
   "id": "a450881b",
   "metadata": {},
   "source": [
    "## Instantiate Model & Find Learning Rate & Fit"
   ]
  },
  {
   "cell_type": "code",
   "execution_count": 40,
   "id": "a7bf3432",
   "metadata": {},
   "outputs": [
    {
     "data": {
      "application/vnd.jupyter.widget-view+json": {
       "model_id": "2ad7503c2d694b5099f141a622d6b211",
       "version_major": 2,
       "version_minor": 0
      },
      "text/plain": [
       "Downloading:   0%|          | 0.00/363M [00:00<?, ?B/s]"
      ]
     },
     "metadata": {},
     "output_type": "display_data"
    }
   ],
   "source": [
    "# instantiate model using get classifer\n",
    "model = trans.get_classifier()"
   ]
  },
  {
   "cell_type": "code",
   "execution_count": 41,
   "id": "b02101e1",
   "metadata": {},
   "outputs": [],
   "source": [
    "# set learner\n",
    "learner = ktrain.get_learner(model, train_data=train_data, val_data=val_data, batch_size=16)"
   ]
  },
  {
   "cell_type": "code",
   "execution_count": 42,
   "id": "7390547a",
   "metadata": {},
   "outputs": [
    {
     "name": "stdout",
     "output_type": "stream",
     "text": [
      "simulating training for different learning rates... this may take a few moments...\n",
      "Epoch 1/10\n",
      "2/6 [=========>....................] - ETA: 20:54 - loss: 0.6854 - accuracy: 0.6562"
     ]
    }
   ],
   "source": [
    "# fine best learning rate\n",
    "learner.lr_find(show_plot=True, max_epochs=10)"
   ]
  },
  {
   "cell_type": "code",
   "execution_count": null,
   "id": "633335e1",
   "metadata": {},
   "outputs": [],
   "source": [
    "learner.fit_onecycle(le-4, 1)"
   ]
  },
  {
   "cell_type": "markdown",
   "id": "d91bae97",
   "metadata": {},
   "source": [
    "## Evaluate Model Performance"
   ]
  },
  {
   "cell_type": "code",
   "execution_count": null,
   "id": "cafe3534",
   "metadata": {},
   "outputs": [],
   "source": [
    "# Get performance of model\n",
    "learner.validate(class_names=class_names)"
   ]
  },
  {
   "cell_type": "code",
   "execution_count": null,
   "id": "52450c66",
   "metadata": {},
   "outputs": [],
   "source": [
    "# View data points with bigget losses\n",
    "learner.view_top_losses(n=5, preproc=trans)"
   ]
  },
  {
   "cell_type": "markdown",
   "id": "d40282c0",
   "metadata": {},
   "source": [
    "## Predictions"
   ]
  },
  {
   "cell_type": "code",
   "execution_count": null,
   "id": "969f87c7",
   "metadata": {},
   "outputs": [],
   "source": [
    "# define predictor function\n",
    "predictor = ktrain.get_predictor(learner.model, preproc=trans)"
   ]
  },
  {
   "cell_type": "code",
   "execution_count": null,
   "id": "b097cd04",
   "metadata": {},
   "outputs": [],
   "source": [
    "# state prediction\n",
    "test_string = \"\"\"some example string to be evaluated\"\"\""
   ]
  },
  {
   "cell_type": "code",
   "execution_count": null,
   "id": "b51e687c",
   "metadata": {},
   "outputs": [],
   "source": [
    "# get prediction result\n",
    "predictor.predict(test_string)"
   ]
  },
  {
   "cell_type": "markdown",
   "id": "cd13e729",
   "metadata": {},
   "source": [
    "## Saving Model"
   ]
  },
  {
   "cell_type": "code",
   "execution_count": null,
   "id": "9bf9b2e9",
   "metadata": {},
   "outputs": [],
   "source": [
    "#######  NEED TO ENTER THE FOLLOWING TEXT ######"
   ]
  },
  {
   "cell_type": "code",
   "execution_count": null,
   "id": "1075ee30",
   "metadata": {},
   "outputs": [],
   "source": [
    "# run the text below NB. It is very large 00s of MB\n",
    "predictor.save('name_of_model')"
   ]
  },
  {
   "cell_type": "code",
   "execution_count": null,
   "id": "e58ca2b4",
   "metadata": {},
   "outputs": [],
   "source": []
  }
 ],
 "metadata": {
  "kernelspec": {
   "display_name": "le_kingmakers",
   "language": "python",
   "name": "le_kingmakers"
  },
  "language_info": {
   "codemirror_mode": {
    "name": "ipython",
    "version": 3
   },
   "file_extension": ".py",
   "mimetype": "text/x-python",
   "name": "python",
   "nbconvert_exporter": "python",
   "pygments_lexer": "ipython3",
   "version": "3.8.6"
  },
  "toc": {
   "base_numbering": 1,
   "nav_menu": {},
   "number_sections": true,
   "sideBar": true,
   "skip_h1_title": false,
   "title_cell": "Table of Contents",
   "title_sidebar": "Contents",
   "toc_cell": false,
   "toc_position": {},
   "toc_section_display": true,
   "toc_window_display": false
  }
 },
 "nbformat": 4,
 "nbformat_minor": 5
}
