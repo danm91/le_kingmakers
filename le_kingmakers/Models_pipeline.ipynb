{
 "cells": [
  {
   "cell_type": "code",
   "execution_count": 1,
   "id": "89e4184e",
   "metadata": {
    "ExecuteTime": {
     "end_time": "2021-06-09T15:03:36.711225Z",
     "start_time": "2021-06-09T15:03:36.690086Z"
    }
   },
   "outputs": [],
   "source": [
    "%load_ext autoreload\n",
    "%autoreload 2"
   ]
  },
  {
   "cell_type": "code",
   "execution_count": 2,
   "id": "21eff2d2",
   "metadata": {
    "ExecuteTime": {
     "end_time": "2021-06-09T15:03:38.021746Z",
     "start_time": "2021-06-09T15:03:37.227897Z"
    }
   },
   "outputs": [],
   "source": [
    "import pandas as pd\n",
    "import re\n",
    "import string\n",
    "import pickle\n",
    "from nltk.tokenize import word_tokenize\n",
    "from nltk.corpus import stopwords\n",
    "from nltk.stem import WordNetLemmatizer\n",
    "from sklearn.feature_extraction.text import CountVectorizer\n",
    "from sklearn.pipeline import Pipeline\n",
    "from sklearn.preprocessing import FunctionTransformer\n",
    "from sklearn.naive_bayes import MultinomialNB"
   ]
  },
  {
   "cell_type": "code",
   "execution_count": 3,
   "id": "e571285e",
   "metadata": {
    "ExecuteTime": {
     "end_time": "2021-06-09T15:03:38.169101Z",
     "start_time": "2021-06-09T15:03:38.154683Z"
    }
   },
   "outputs": [],
   "source": [
    "from preproc_text import process_tweets\n",
    "from preproc_abbv import convert_abbrev_in_text"
   ]
  },
  {
   "cell_type": "code",
   "execution_count": 4,
   "id": "a951d55a",
   "metadata": {
    "ExecuteTime": {
     "end_time": "2021-06-09T15:03:38.313615Z",
     "start_time": "2021-06-09T15:03:38.300797Z"
    }
   },
   "outputs": [],
   "source": [
    "from sklearn.model_selection import train_test_split"
   ]
  },
  {
   "cell_type": "markdown",
   "id": "a77237e3",
   "metadata": {},
   "source": [
    "### This has been read in without the encoding='latin'"
   ]
  },
  {
   "cell_type": "code",
   "execution_count": 5,
   "id": "058e57cc",
   "metadata": {
    "ExecuteTime": {
     "end_time": "2021-06-09T15:03:41.877583Z",
     "start_time": "2021-06-09T15:03:39.044551Z"
    }
   },
   "outputs": [],
   "source": [
    "df = pd.read_csv('../raw_data/kaggle.csv', names = ['sentiment','2','3','4','5','tweet'])"
   ]
  },
  {
   "cell_type": "code",
   "execution_count": 6,
   "id": "b2870538",
   "metadata": {
    "ExecuteTime": {
     "end_time": "2021-06-09T15:03:42.152705Z",
     "start_time": "2021-06-09T15:03:42.037965Z"
    }
   },
   "outputs": [],
   "source": [
    "df = df.sample(frac=0.05, random_state=0).copy()"
   ]
  },
  {
   "cell_type": "code",
   "execution_count": 7,
   "id": "c52ac1f9",
   "metadata": {
    "ExecuteTime": {
     "end_time": "2021-06-09T15:03:42.354794Z",
     "start_time": "2021-06-09T15:03:42.304772Z"
    }
   },
   "outputs": [
    {
     "data": {
      "text/html": [
       "<div>\n",
       "<style scoped>\n",
       "    .dataframe tbody tr th:only-of-type {\n",
       "        vertical-align: middle;\n",
       "    }\n",
       "\n",
       "    .dataframe tbody tr th {\n",
       "        vertical-align: top;\n",
       "    }\n",
       "\n",
       "    .dataframe thead th {\n",
       "        text-align: right;\n",
       "    }\n",
       "</style>\n",
       "<table border=\"1\" class=\"dataframe\">\n",
       "  <thead>\n",
       "    <tr style=\"text-align: right;\">\n",
       "      <th></th>\n",
       "      <th>tweet</th>\n",
       "      <th>sentiment</th>\n",
       "    </tr>\n",
       "  </thead>\n",
       "  <tbody>\n",
       "    <tr>\n",
       "      <th>557138</th>\n",
       "      <td>wants to compete! i want hard competition! i w...</td>\n",
       "      <td>0</td>\n",
       "    </tr>\n",
       "    <tr>\n",
       "      <th>349381</th>\n",
       "      <td>It seems we are stuck on the ground in Amarill...</td>\n",
       "      <td>0</td>\n",
       "    </tr>\n",
       "    <tr>\n",
       "      <th>182051</th>\n",
       "      <td>where the f are my pinking shears? rarararrrar...</td>\n",
       "      <td>0</td>\n",
       "    </tr>\n",
       "    <tr>\n",
       "      <th>571236</th>\n",
       "      <td>0ff t0 tHE MEEtiN..  i HAtE WhEN PPl V0lUNtEER...</td>\n",
       "      <td>0</td>\n",
       "    </tr>\n",
       "    <tr>\n",
       "      <th>1339637</th>\n",
       "      <td>@ reply me pls</td>\n",
       "      <td>4</td>\n",
       "    </tr>\n",
       "  </tbody>\n",
       "</table>\n",
       "</div>"
      ],
      "text/plain": [
       "                                                     tweet  sentiment\n",
       "557138   wants to compete! i want hard competition! i w...          0\n",
       "349381   It seems we are stuck on the ground in Amarill...          0\n",
       "182051   where the f are my pinking shears? rarararrrar...          0\n",
       "571236   0ff t0 tHE MEEtiN..  i HAtE WhEN PPl V0lUNtEER...          0\n",
       "1339637                                    @ reply me pls           4"
      ]
     },
     "execution_count": 7,
     "metadata": {},
     "output_type": "execute_result"
    }
   ],
   "source": [
    "df = df[['tweet','sentiment']]\n",
    "df.head()"
   ]
  },
  {
   "cell_type": "code",
   "execution_count": 8,
   "id": "898e3ddb",
   "metadata": {
    "ExecuteTime": {
     "end_time": "2021-06-09T15:03:42.541355Z",
     "start_time": "2021-06-09T15:03:42.508747Z"
    }
   },
   "outputs": [],
   "source": [
    "X_train, X_test, y_train, y_test = train_test_split(df['tweet'],df['sentiment'],test_size=0.2, stratify=df['sentiment'])"
   ]
  },
  {
   "cell_type": "code",
   "execution_count": 9,
   "id": "a71adee2",
   "metadata": {
    "ExecuteTime": {
     "end_time": "2021-06-09T15:03:42.734491Z",
     "start_time": "2021-06-09T15:03:42.705637Z"
    }
   },
   "outputs": [],
   "source": [
    "X_train, X_val, y_train, y_val = train_test_split(X_train,y_train,test_size=0.25,stratify=y_train)"
   ]
  },
  {
   "cell_type": "markdown",
   "id": "c149b1b4",
   "metadata": {},
   "source": [
    "# Processing of tweets"
   ]
  },
  {
   "cell_type": "code",
   "execution_count": 10,
   "id": "bbce4489",
   "metadata": {
    "ExecuteTime": {
     "end_time": "2021-06-09T15:03:45.363410Z",
     "start_time": "2021-06-09T15:03:45.323379Z"
    }
   },
   "outputs": [],
   "source": [
    "from preproc_class import TextPreprocess\n",
    "from convert_class import TextConvertAbbv"
   ]
  },
  {
   "cell_type": "code",
   "execution_count": 11,
   "id": "a147ed12",
   "metadata": {
    "ExecuteTime": {
     "end_time": "2021-06-09T15:03:45.571574Z",
     "start_time": "2021-06-09T15:03:45.557144Z"
    }
   },
   "outputs": [],
   "source": [
    "preprocess_pipe = Pipeline([('clean_text', TextPreprocess()),('convert_text',TextConvertAbbv())])"
   ]
  },
  {
   "cell_type": "code",
   "execution_count": 12,
   "id": "3ea54881",
   "metadata": {
    "ExecuteTime": {
     "end_time": "2021-06-09T15:03:46.599095Z",
     "start_time": "2021-06-09T15:03:46.559911Z"
    }
   },
   "outputs": [],
   "source": [
    "final_pipe = Pipeline([('preprocess',preprocess_pipe),('vectorizer', CountVectorizer()), ('model', MultinomialNB())])"
   ]
  },
  {
   "cell_type": "markdown",
   "id": "10772b9d",
   "metadata": {},
   "source": [
    "## Baseline score on validation set with no parameter tuning:"
   ]
  },
  {
   "cell_type": "code",
   "execution_count": 16,
   "id": "e9aa5d1e",
   "metadata": {
    "ExecuteTime": {
     "end_time": "2021-06-09T15:06:06.094263Z",
     "start_time": "2021-06-09T15:05:50.615878Z"
    }
   },
   "outputs": [
    {
     "name": "stdout",
     "output_type": "stream",
     "text": [
      "CPU times: user 3 µs, sys: 0 ns, total: 3 µs\n",
      "Wall time: 4.77 µs\n"
     ]
    },
    {
     "data": {
      "text/plain": [
       "Pipeline(steps=[('preprocess',\n",
       "                 Pipeline(steps=[('clean_text', TextPreprocess()),\n",
       "                                 ('convert_text', TextConvertAbbv())])),\n",
       "                ('vectorizer', CountVectorizer()), ('model', MultinomialNB())])"
      ]
     },
     "execution_count": 16,
     "metadata": {},
     "output_type": "execute_result"
    }
   ],
   "source": [
    "%time\n",
    "final_pipe.fit(X_train,y_train)"
   ]
  },
  {
   "cell_type": "markdown",
   "id": "9817ac6d",
   "metadata": {
    "ExecuteTime": {
     "end_time": "2021-06-09T15:05:22.251555Z",
     "start_time": "2021-06-09T15:05:22.239331Z"
    }
   },
   "source": [
    "## Score on trained set:"
   ]
  },
  {
   "cell_type": "code",
   "execution_count": 14,
   "id": "5df8e060",
   "metadata": {
    "ExecuteTime": {
     "end_time": "2021-06-09T15:05:22.049791Z",
     "start_time": "2021-06-09T15:05:06.505523Z"
    }
   },
   "outputs": [
    {
     "data": {
      "text/plain": [
       "0.8562291666666667"
      ]
     },
     "execution_count": 14,
     "metadata": {},
     "output_type": "execute_result"
    }
   ],
   "source": [
    "final_pipe.score(X_train,y_train)"
   ]
  },
  {
   "cell_type": "code",
   "execution_count": 13,
   "id": "d03e36e0",
   "metadata": {
    "ExecuteTime": {
     "end_time": "2021-06-09T15:04:10.867830Z",
     "start_time": "2021-06-09T15:03:49.239054Z"
    }
   },
   "outputs": [
    {
     "name": "stdout",
     "output_type": "stream",
     "text": [
      "CPU times: user 3 µs, sys: 1 µs, total: 4 µs\n",
      "Wall time: 6.91 µs\n"
     ]
    },
    {
     "data": {
      "text/plain": [
       "0.754"
      ]
     },
     "execution_count": 13,
     "metadata": {},
     "output_type": "execute_result"
    }
   ],
   "source": [
    "final_pipe.score(X_val,y_val)"
   ]
  },
  {
   "cell_type": "markdown",
   "id": "5ad99844",
   "metadata": {},
   "source": [
    "## Pipeline for parameter tuning\n",
    "\n",
    "#### The things to try here are:\n",
    "- Bag of Words\n",
    "- Tf-Idf\n",
    "- N-grams"
   ]
  },
  {
   "cell_type": "code",
   "execution_count": 17,
   "id": "03b9cfb0",
   "metadata": {
    "ExecuteTime": {
     "end_time": "2021-06-09T15:06:35.171532Z",
     "start_time": "2021-06-09T15:06:35.129584Z"
    }
   },
   "outputs": [],
   "source": [
    "from sklearn.feature_extraction.text import TfidfVectorizer\n",
    "from sklearn.model_selection import GridSearchCV"
   ]
  },
  {
   "cell_type": "code",
   "execution_count": 18,
   "id": "6609b326",
   "metadata": {
    "ExecuteTime": {
     "end_time": "2021-06-09T15:06:35.874817Z",
     "start_time": "2021-06-09T15:06:35.832417Z"
    }
   },
   "outputs": [
    {
     "data": {
      "text/plain": [
       "{'memory': None,\n",
       " 'steps': [('preprocess',\n",
       "   Pipeline(steps=[('clean_text', TextPreprocess()),\n",
       "                   ('convert_text', TextConvertAbbv())])),\n",
       "  ('vectorizer', CountVectorizer()),\n",
       "  ('model', MultinomialNB())],\n",
       " 'verbose': False,\n",
       " 'preprocess': Pipeline(steps=[('clean_text', TextPreprocess()),\n",
       "                 ('convert_text', TextConvertAbbv())]),\n",
       " 'vectorizer': CountVectorizer(),\n",
       " 'model': MultinomialNB(),\n",
       " 'preprocess__memory': None,\n",
       " 'preprocess__steps': [('clean_text', TextPreprocess()),\n",
       "  ('convert_text', TextConvertAbbv())],\n",
       " 'preprocess__verbose': False,\n",
       " 'preprocess__clean_text': TextPreprocess(),\n",
       " 'preprocess__convert_text': TextConvertAbbv(),\n",
       " 'vectorizer__analyzer': 'word',\n",
       " 'vectorizer__binary': False,\n",
       " 'vectorizer__decode_error': 'strict',\n",
       " 'vectorizer__dtype': numpy.int64,\n",
       " 'vectorizer__encoding': 'utf-8',\n",
       " 'vectorizer__input': 'content',\n",
       " 'vectorizer__lowercase': True,\n",
       " 'vectorizer__max_df': 1.0,\n",
       " 'vectorizer__max_features': None,\n",
       " 'vectorizer__min_df': 1,\n",
       " 'vectorizer__ngram_range': (1, 1),\n",
       " 'vectorizer__preprocessor': None,\n",
       " 'vectorizer__stop_words': None,\n",
       " 'vectorizer__strip_accents': None,\n",
       " 'vectorizer__token_pattern': '(?u)\\\\b\\\\w\\\\w+\\\\b',\n",
       " 'vectorizer__tokenizer': None,\n",
       " 'vectorizer__vocabulary': None,\n",
       " 'model__alpha': 1.0,\n",
       " 'model__class_prior': None,\n",
       " 'model__fit_prior': True}"
      ]
     },
     "execution_count": 18,
     "metadata": {},
     "output_type": "execute_result"
    }
   ],
   "source": [
    "final_pipe.get_params()"
   ]
  },
  {
   "cell_type": "code",
   "execution_count": 19,
   "id": "5d950952",
   "metadata": {
    "ExecuteTime": {
     "end_time": "2021-06-09T15:06:39.856222Z",
     "start_time": "2021-06-09T15:06:39.813918Z"
    }
   },
   "outputs": [],
   "source": [
    "grid_search = GridSearchCV(\n",
    "    final_pipe, \n",
    "    param_grid={\n",
    "        # Access any component of the pipeline, as far back as you want\n",
    "#         'vectorizer': [CountVectorizer(), TfidfVectorizer()],\n",
    "        'vectorizer__ngram_range': [(1,1),(1,2),(2,2)],\n",
    "        'vectorizer__max_df':[0.6,0.7,0.8,1],\n",
    "        'vectorizer__min_df':[1,3]},\n",
    "    cv=5,\n",
    "    scoring='accuracy',\n",
    "    n_jobs=-1,\n",
    "    verbose=True)"
   ]
  },
  {
   "cell_type": "markdown",
   "id": "aa996a5c",
   "metadata": {
    "ExecuteTime": {
     "end_time": "2021-06-09T14:40:38.179787Z",
     "start_time": "2021-06-09T14:40:38.115808Z"
    }
   },
   "source": [
    "# Random sample of X_train to prevent it from taking all day..."
   ]
  },
  {
   "cell_type": "code",
   "execution_count": 20,
   "id": "c1e88dab",
   "metadata": {
    "ExecuteTime": {
     "end_time": "2021-06-09T15:06:42.047688Z",
     "start_time": "2021-06-09T15:06:41.996039Z"
    }
   },
   "outputs": [],
   "source": [
    "X_samp = X_train.sample(5000, random_state=0)\n",
    "y_samp = y_train.sample(5000, random_state=0)"
   ]
  },
  {
   "cell_type": "code",
   "execution_count": 21,
   "id": "b267132b",
   "metadata": {
    "ExecuteTime": {
     "end_time": "2021-06-09T15:07:35.277035Z",
     "start_time": "2021-06-09T15:06:44.537123Z"
    }
   },
   "outputs": [
    {
     "name": "stdout",
     "output_type": "stream",
     "text": [
      "Fitting 5 folds for each of 24 candidates, totalling 120 fits\n"
     ]
    },
    {
     "name": "stderr",
     "output_type": "stream",
     "text": [
      "/Users/danielmarron/.pyenv/versions/3.8.6/envs/le_kingmakers/lib/python3.8/site-packages/sklearn/model_selection/_search.py:922: UserWarning: One or more of the test scores are non-finite: [0.7016 0.709  0.5782 0.7046 0.707  0.5442 0.7016 0.709  0.5782 0.7046\n",
      " 0.707  0.5442 0.7016 0.709  0.5782 0.7046 0.707  0.5442 0.5104 0.5336\n",
      " 0.5326    nan    nan    nan]\n",
      "  warnings.warn(\n"
     ]
    },
    {
     "data": {
      "text/plain": [
       "GridSearchCV(cv=5,\n",
       "             estimator=Pipeline(steps=[('preprocess',\n",
       "                                        Pipeline(steps=[('clean_text',\n",
       "                                                         TextPreprocess()),\n",
       "                                                        ('convert_text',\n",
       "                                                         TextConvertAbbv())])),\n",
       "                                       ('vectorizer', CountVectorizer()),\n",
       "                                       ('model', MultinomialNB())]),\n",
       "             n_jobs=-1,\n",
       "             param_grid={'vectorizer__max_df': [0.6, 0.7, 0.8, 1],\n",
       "                         'vectorizer__min_df': [1, 3],\n",
       "                         'vectorizer__ngram_range': [(1, 1), (1, 2), (2, 2)]},\n",
       "             scoring='accuracy', verbose=True)"
      ]
     },
     "execution_count": 21,
     "metadata": {},
     "output_type": "execute_result"
    }
   ],
   "source": [
    "grid_search.fit(X_samp,y_samp)"
   ]
  },
  {
   "cell_type": "code",
   "execution_count": 24,
   "id": "ffda21a4",
   "metadata": {
    "ExecuteTime": {
     "end_time": "2021-06-09T15:08:48.909300Z",
     "start_time": "2021-06-09T15:08:48.871836Z"
    }
   },
   "outputs": [
    {
     "data": {
      "text/plain": [
       "{'vectorizer__max_df': 0.6,\n",
       " 'vectorizer__min_df': 1,\n",
       " 'vectorizer__ngram_range': (1, 2)}"
      ]
     },
     "execution_count": 24,
     "metadata": {},
     "output_type": "execute_result"
    }
   ],
   "source": [
    "grid_search.best_params_"
   ]
  },
  {
   "cell_type": "code",
   "execution_count": 25,
   "id": "09f5d490",
   "metadata": {
    "ExecuteTime": {
     "end_time": "2021-06-09T15:08:52.113573Z",
     "start_time": "2021-06-09T15:08:52.074803Z"
    }
   },
   "outputs": [],
   "source": [
    "best_NB = grid_search.best_estimator_"
   ]
  },
  {
   "cell_type": "markdown",
   "id": "bdf44139",
   "metadata": {},
   "source": [
    "## Fit on all train set again before doing the score"
   ]
  },
  {
   "cell_type": "code",
   "execution_count": 30,
   "id": "e3505230",
   "metadata": {
    "ExecuteTime": {
     "end_time": "2021-06-09T15:11:30.389074Z",
     "start_time": "2021-06-09T15:11:14.505661Z"
    }
   },
   "outputs": [
    {
     "data": {
      "text/plain": [
       "Pipeline(steps=[('preprocess',\n",
       "                 Pipeline(steps=[('clean_text', TextPreprocess()),\n",
       "                                 ('convert_text', TextConvertAbbv())])),\n",
       "                ('vectorizer', CountVectorizer(max_df=0.6, ngram_range=(1, 2))),\n",
       "                ('model', MultinomialNB())])"
      ]
     },
     "execution_count": 30,
     "metadata": {},
     "output_type": "execute_result"
    }
   ],
   "source": [
    "best_NB.fit(X_train,y_train)"
   ]
  },
  {
   "cell_type": "code",
   "execution_count": 31,
   "id": "23d82057",
   "metadata": {
    "ExecuteTime": {
     "end_time": "2021-06-09T15:11:49.910877Z",
     "start_time": "2021-06-09T15:11:34.379102Z"
    }
   },
   "outputs": [
    {
     "data": {
      "text/plain": [
       "0.963375"
      ]
     },
     "execution_count": 31,
     "metadata": {},
     "output_type": "execute_result"
    }
   ],
   "source": [
    "best_NB.score(X_train,y_train)"
   ]
  },
  {
   "cell_type": "code",
   "execution_count": 32,
   "id": "2aa3edbc",
   "metadata": {
    "ExecuteTime": {
     "end_time": "2021-06-09T15:11:57.724108Z",
     "start_time": "2021-06-09T15:11:52.504317Z"
    }
   },
   "outputs": [
    {
     "data": {
      "text/plain": [
       "0.757625"
      ]
     },
     "execution_count": 32,
     "metadata": {},
     "output_type": "execute_result"
    }
   ],
   "source": [
    "best_NB.score(X_val,y_val)"
   ]
  },
  {
   "cell_type": "code",
   "execution_count": 33,
   "id": "0c0f8d3a",
   "metadata": {
    "ExecuteTime": {
     "end_time": "2021-06-09T15:12:44.411004Z",
     "start_time": "2021-06-09T15:12:39.198341Z"
    }
   },
   "outputs": [
    {
     "data": {
      "text/plain": [
       "0.75625"
      ]
     },
     "execution_count": 33,
     "metadata": {},
     "output_type": "execute_result"
    }
   ],
   "source": [
    "best_NB.score(X_test,y_test)"
   ]
  }
 ],
 "metadata": {
  "kernelspec": {
   "display_name": "Python 3",
   "language": "python",
   "name": "python3"
  },
  "language_info": {
   "codemirror_mode": {
    "name": "ipython",
    "version": 3
   },
   "file_extension": ".py",
   "mimetype": "text/x-python",
   "name": "python",
   "nbconvert_exporter": "python",
   "pygments_lexer": "ipython3",
   "version": "3.8.6"
  },
  "toc": {
   "base_numbering": 1,
   "nav_menu": {},
   "number_sections": false,
   "sideBar": true,
   "skip_h1_title": false,
   "title_cell": "Table of Contents",
   "title_sidebar": "Contents",
   "toc_cell": false,
   "toc_position": {},
   "toc_section_display": true,
   "toc_window_display": false
  },
  "varInspector": {
   "cols": {
    "lenName": 16,
    "lenType": 16,
    "lenVar": 40
   },
   "kernels_config": {
    "python": {
     "delete_cmd_postfix": "",
     "delete_cmd_prefix": "del ",
     "library": "var_list.py",
     "varRefreshCmd": "print(var_dic_list())"
    },
    "r": {
     "delete_cmd_postfix": ") ",
     "delete_cmd_prefix": "rm(",
     "library": "var_list.r",
     "varRefreshCmd": "cat(var_dic_list()) "
    }
   },
   "types_to_exclude": [
    "module",
    "function",
    "builtin_function_or_method",
    "instance",
    "_Feature"
   ],
   "window_display": false
  }
 },
 "nbformat": 4,
 "nbformat_minor": 5
}
