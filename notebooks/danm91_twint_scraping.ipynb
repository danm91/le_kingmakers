{
 "cells": [
  {
   "cell_type": "code",
   "execution_count": 1,
   "id": "04d1d2b8",
   "metadata": {
    "ExecuteTime": {
     "end_time": "2021-06-15T11:48:17.222202Z",
     "start_time": "2021-06-15T11:48:16.087787Z"
    }
   },
   "outputs": [],
   "source": [
    "%load_ext autoreload\n",
    "%autoreload 2\n",
    "import twint\n",
    "import nest_asyncio\n",
    "nest_asyncio.apply()\n",
    "import pandas as pd \n",
    "pd.set_option('display.max_columns', None)\n",
    "from datetime import date, timedelta\n",
    "import matplotlib.pyplot as plt"
   ]
  },
  {
   "cell_type": "code",
   "execution_count": 2,
   "id": "be72b6f6",
   "metadata": {
    "ExecuteTime": {
     "end_time": "2021-06-15T11:48:18.139162Z",
     "start_time": "2021-06-15T11:48:18.111161Z"
    }
   },
   "outputs": [],
   "source": [
    "def twint_scrape(search,location,since,output_file):\n",
    "    \n",
    "    c = twint.Config()\n",
    "\n",
    "    c.Search = search\n",
    "    c.Geo = location\n",
    "    c.Since = since\n",
    "    c.Store_csv = True\n",
    "    c.Lang = 'en'\n",
    "    c.Output = output_file\n",
    "    c.Count = True\n",
    "    c.Hide_output = True\n",
    "\n",
    "    return twint.run.Search(c)"
   ]
  },
  {
   "cell_type": "code",
   "execution_count": 18,
   "id": "5d0e0306",
   "metadata": {
    "ExecuteTime": {
     "end_time": "2021-06-11T15:35:56.145520Z",
     "start_time": "2021-06-11T15:35:56.102611Z"
    }
   },
   "outputs": [
    {
     "data": {
      "text/plain": [
       "'2021-06-04'"
      ]
     },
     "execution_count": 18,
     "metadata": {},
     "output_type": "execute_result"
    }
   ],
   "source": [
    "# days_ago = 7\n",
    "# since = (date.today()-timedelta(days=days_ago)).strftime('%Y-%m-%d')\n",
    "# since"
   ]
  },
  {
   "cell_type": "code",
   "execution_count": 13,
   "id": "bae59f3a",
   "metadata": {
    "ExecuteTime": {
     "end_time": "2021-06-15T13:03:34.343514Z",
     "start_time": "2021-06-15T13:03:34.272292Z"
    }
   },
   "outputs": [],
   "source": [
    "locations = {'North East (England)': '55.127663,-1.473992,70km',\n",
    " 'North West (England)': '53.786177,-2.94986,80km',\n",
    " 'Yorkshire and The Humber': '54.054663,-0.916311,56km',\n",
    " 'East Midlands (England)': '53.240963,-0.799282,60km',\n",
    " 'West Midlands (England)': '52.557403,-2.081606,60km',\n",
    " 'East of England': '52.318458,0.802540,82km',\n",
    " 'London': '51.485280,-0.165762,30km',\n",
    " 'South East (England)': '50.696906,-0.397168,58km',\n",
    " 'South West (England)': '50.207629,-3.951667,122km',\n",
    " 'Wales': '52.325072,-3.932561,115km',\n",
    " 'Scotland': '56.553386,-3.471093,157km',\n",
    " 'Northern Ireland': '54.658571,-6.415764,71km'}"
   ]
  },
  {
   "cell_type": "code",
   "execution_count": 16,
   "id": "1a744ed8",
   "metadata": {
    "ExecuteTime": {
     "end_time": "2021-06-12T12:19:00.507273Z",
     "start_time": "2021-06-12T12:19:00.473163Z"
    }
   },
   "outputs": [],
   "source": [
    "# locations = {'SW':'50.540176,-3.401552,128.61612km',\n",
    "#             'SE':'51.219442,0.007482,110.97009km',\n",
    "#             'Wales':'52.308407,-4.184044,103.89385km',\n",
    "#             'E':'52.505440,0.935452,70.29115km',\n",
    "#             'Mid':'52.584523,-1.284716,61.4968km',\n",
    "#             'NW':'53.688576,-2.467244 ,92.91998km',\n",
    "#             'NE':'55.092211,-1.272652,78.99957km',\n",
    "#             'Scotland':'56.391056,-4.206108,169.73168km'}"
   ]
  },
  {
   "cell_type": "code",
   "execution_count": 14,
   "id": "67da7b9c",
   "metadata": {
    "ExecuteTime": {
     "end_time": "2021-06-15T13:03:36.012259Z",
     "start_time": "2021-06-15T13:03:35.981468Z"
    }
   },
   "outputs": [
    {
     "data": {
      "text/plain": [
       "['55.127663,-1.473992,70km',\n",
       " '53.786177,-2.94986,80km',\n",
       " '54.054663,-0.916311,56km',\n",
       " '53.240963,-0.799282,60km',\n",
       " '52.557403,-2.081606,60km',\n",
       " '52.318458,0.802540,82km',\n",
       " '51.485280,-0.165762,30km',\n",
       " '50.696906,-0.397168,58km',\n",
       " '50.207629,-3.951667,122km',\n",
       " '52.325072,-3.932561,115km',\n",
       " '56.553386,-3.471093,157km',\n",
       " '54.658571,-6.415764,71km']"
      ]
     },
     "execution_count": 14,
     "metadata": {},
     "output_type": "execute_result"
    }
   ],
   "source": [
    "list(locations.values())"
   ]
  },
  {
   "cell_type": "code",
   "execution_count": 20,
   "id": "f2e387ea",
   "metadata": {
    "ExecuteTime": {
     "end_time": "2021-06-15T13:17:52.169038Z",
     "start_time": "2021-06-15T13:11:48.718584Z"
    }
   },
   "outputs": [
    {
     "name": "stdout",
     "output_type": "stream",
     "text": [
      "[!] No more data! Scraping will stop now.\n",
      "found 0 deleted tweets in this search.\n",
      "[+] Finished: Successfully collected 470 Tweets.\n",
      "[!] No more data! Scraping will stop now.\n",
      "found 0 deleted tweets in this search.\n",
      "[+] Finished: Successfully collected 1825 Tweets.\n",
      "[!] No more data! Scraping will stop now.\n",
      "found 0 deleted tweets in this search.\n",
      "[+] Finished: Successfully collected 117 Tweets.\n",
      "[!] No more data! Scraping will stop now.\n",
      "found 0 deleted tweets in this search.\n",
      "[+] Finished: Successfully collected 462 Tweets.\n",
      "[!] No more data! Scraping will stop now.\n",
      "found 0 deleted tweets in this search.\n",
      "[+] Finished: Successfully collected 709 Tweets.\n",
      "[!] No more data! Scraping will stop now.\n",
      "found 0 deleted tweets in this search.\n",
      "[+] Finished: Successfully collected 303 Tweets.\n",
      "[!] No more data! Scraping will stop now.\n",
      "found 0 deleted tweets in this search.\n",
      "[+] Finished: Successfully collected 3082 Tweets.\n",
      "[!] No more data! Scraping will stop now.\n",
      "found 0 deleted tweets in this search.\n",
      "[+] Finished: Successfully collected 240 Tweets.\n",
      "[!] No more data! Scraping will stop now.\n",
      "found 0 deleted tweets in this search.\n",
      "[+] Finished: Successfully collected 278 Tweets.\n",
      "[!] No more data! Scraping will stop now.\n",
      "found 0 deleted tweets in this search.\n",
      "[+] Finished: Successfully collected 185 Tweets.\n",
      "[!] No more data! Scraping will stop now.\n",
      "found 0 deleted tweets in this search.\n",
      "[+] Finished: Successfully collected 549 Tweets.\n",
      "[!] No more data! Scraping will stop now.\n",
      "found 0 deleted tweets in this search.\n",
      "[+] Finished: Successfully collected 138 Tweets.\n",
      "[!] No more data! Scraping will stop now.\n",
      "found 0 deleted tweets in this search.\n",
      "[+] Finished: Successfully collected 323 Tweets.\n",
      "[!] No more data! Scraping will stop now.\n",
      "found 0 deleted tweets in this search.\n",
      "[+] Finished: Successfully collected 389 Tweets.\n",
      "[!] No more data! Scraping will stop now.\n",
      "found 0 deleted tweets in this search.\n",
      "[+] Finished: Successfully collected 58 Tweets.\n",
      "[!] No more data! Scraping will stop now.\n",
      "found 0 deleted tweets in this search.\n",
      "[+] Finished: Successfully collected 160 Tweets.\n",
      "[!] No more data! Scraping will stop now.\n",
      "found 0 deleted tweets in this search.\n",
      "[+] Finished: Successfully collected 255 Tweets.\n",
      "[!] No more data! Scraping will stop now.\n",
      "found 0 deleted tweets in this search.\n",
      "[+] Finished: Successfully collected 263 Tweets.\n",
      "[!] No more data! Scraping will stop now.\n",
      "found 0 deleted tweets in this search.\n",
      "[+] Finished: Successfully collected 1835 Tweets.\n",
      "[!] No more data! Scraping will stop now.\n",
      "found 0 deleted tweets in this search.\n",
      "[+] Finished: Successfully collected 120 Tweets.\n",
      "[!] No more data! Scraping will stop now.\n",
      "found 0 deleted tweets in this search.\n",
      "[+] Finished: Successfully collected 103 Tweets.\n",
      "[!] No more data! Scraping will stop now.\n",
      "found 0 deleted tweets in this search.\n",
      "[+] Finished: Successfully collected 85 Tweets.\n",
      "[!] No more data! Scraping will stop now.\n",
      "found 0 deleted tweets in this search.\n",
      "[+] Finished: Successfully collected 366 Tweets.\n",
      "[!] No more data! Scraping will stop now.\n",
      "found 0 deleted tweets in this search.\n",
      "[+] Finished: Successfully collected 69 Tweets.\n",
      "[!] No more data! Scraping will stop now.\n",
      "found 0 deleted tweets in this search.\n",
      "[+] Finished: Successfully collected 729 Tweets.\n",
      "[!] No more data! Scraping will stop now.\n",
      "found 0 deleted tweets in this search.\n",
      "[+] Finished: Successfully collected 560 Tweets.\n",
      "[!] No more data! Scraping will stop now.\n",
      "found 0 deleted tweets in this search.\n",
      "[+] Finished: Successfully collected 78 Tweets.\n",
      "[!] No more data! Scraping will stop now.\n",
      "found 0 deleted tweets in this search.\n",
      "[+] Finished: Successfully collected 226 Tweets.\n",
      "[!] No more data! Scraping will stop now.\n",
      "found 0 deleted tweets in this search.\n",
      "[+] Finished: Successfully collected 304 Tweets.\n",
      "[!] No more data! Scraping will stop now.\n",
      "found 0 deleted tweets in this search.\n",
      "[+] Finished: Successfully collected 195 Tweets.\n",
      "[!] No more data! Scraping will stop now.\n",
      "found 0 deleted tweets in this search.\n",
      "[+] Finished: Successfully collected 1250 Tweets.\n",
      "[!] No more data! Scraping will stop now.\n",
      "found 0 deleted tweets in this search.\n",
      "[+] Finished: Successfully collected 145 Tweets.\n",
      "[!] No more data! Scraping will stop now.\n",
      "found 0 deleted tweets in this search.\n",
      "[+] Finished: Successfully collected 132 Tweets.\n",
      "[!] No more data! Scraping will stop now.\n",
      "found 0 deleted tweets in this search.\n",
      "[+] Finished: Successfully collected 143 Tweets.\n",
      "[!] No more data! Scraping will stop now.\n",
      "found 0 deleted tweets in this search.\n",
      "[+] Finished: Successfully collected 837 Tweets.\n",
      "[!] No more data! Scraping will stop now.\n",
      "found 0 deleted tweets in this search.\n",
      "[+] Finished: Successfully collected 216 Tweets.\n",
      "[!] No more data! Scraping will stop now.\n",
      "found 0 deleted tweets in this search.\n",
      "[+] Finished: Successfully collected 394 Tweets.\n",
      "[!] No more data! Scraping will stop now.\n",
      "found 0 deleted tweets in this search.\n",
      "[+] Finished: Successfully collected 1041 Tweets.\n",
      "[!] No more data! Scraping will stop now.\n",
      "found 0 deleted tweets in this search.\n",
      "[+] Finished: Successfully collected 106 Tweets.\n",
      "[!] No more data! Scraping will stop now.\n",
      "found 0 deleted tweets in this search.\n",
      "[+] Finished: Successfully collected 344 Tweets.\n",
      "[!] No more data! Scraping will stop now.\n",
      "found 0 deleted tweets in this search.\n",
      "[+] Finished: Successfully collected 572 Tweets.\n",
      "[!] No more data! Scraping will stop now.\n",
      "found 0 deleted tweets in this search.\n",
      "[+] Finished: Successfully collected 277 Tweets.\n",
      "[!] No more data! Scraping will stop now.\n",
      "found 0 deleted tweets in this search.\n",
      "[+] Finished: Successfully collected 1666 Tweets.\n",
      "[!] No more data! Scraping will stop now.\n",
      "found 0 deleted tweets in this search.\n",
      "[+] Finished: Successfully collected 131 Tweets.\n",
      "[!] No more data! Scraping will stop now.\n",
      "found 0 deleted tweets in this search.\n",
      "[+] Finished: Successfully collected 147 Tweets.\n",
      "[!] No more data! Scraping will stop now.\n",
      "found 0 deleted tweets in this search.\n",
      "[+] Finished: Successfully collected 142 Tweets.\n",
      "[!] No more data! Scraping will stop now.\n",
      "found 0 deleted tweets in this search.\n",
      "[+] Finished: Successfully collected 324 Tweets.\n",
      "[!] No more data! Scraping will stop now.\n",
      "found 0 deleted tweets in this search.\n",
      "[+] Finished: Successfully collected 53 Tweets.\n",
      "[!] No more data! Scraping will stop now.\n",
      "found 0 deleted tweets in this search.\n",
      "[+] Finished: Successfully collected 49 Tweets.\n",
      "[!] No more data! Scraping will stop now.\n",
      "found 0 deleted tweets in this search.\n",
      "[+] Finished: Successfully collected 99 Tweets.\n",
      "[!] No more data! Scraping will stop now.\n",
      "found 0 deleted tweets in this search.\n",
      "[+] Finished: Successfully collected 19 Tweets.\n",
      "[!] No more data! Scraping will stop now.\n",
      "found 0 deleted tweets in this search.\n",
      "[+] Finished: Successfully collected 78 Tweets.\n",
      "[!] No more data! Scraping will stop now.\n",
      "found 0 deleted tweets in this search.\n",
      "[+] Finished: Successfully collected 81 Tweets.\n",
      "[!] No more data! Scraping will stop now.\n",
      "found 0 deleted tweets in this search.\n",
      "[+] Finished: Successfully collected 47 Tweets.\n",
      "[!] No more data! Scraping will stop now.\n",
      "found 0 deleted tweets in this search.\n",
      "[+] Finished: Successfully collected 331 Tweets.\n",
      "[!] No more data! Scraping will stop now.\n",
      "found 0 deleted tweets in this search.\n",
      "[+] Finished: Successfully collected 25 Tweets.\n",
      "[!] No more data! Scraping will stop now.\n",
      "found 0 deleted tweets in this search.\n",
      "[+] Finished: Successfully collected 20 Tweets.\n",
      "[!] No more data! Scraping will stop now.\n",
      "found 0 deleted tweets in this search.\n",
      "[+] Finished: Successfully collected 14 Tweets.\n",
      "[!] No more data! Scraping will stop now.\n",
      "found 0 deleted tweets in this search.\n",
      "[+] Finished: Successfully collected 77 Tweets.\n",
      "[!] No more data! Scraping will stop now.\n",
      "found 0 deleted tweets in this search.\n",
      "[+] Finished: Successfully collected 8 Tweets.\n"
     ]
    }
   ],
   "source": [
    "#jeremycorbyn, \n",
    "searches = ['jeremycorbyn', 'dominicraab', 'michaelgove', 'angelarayner', 'ed_miliband']\n",
    "for search in searches:\n",
    "    output_file = '2021_'+ search+'.csv'\n",
    "    for loc in location:\n",
    "        twint_scrape(search,loc,'2021-01-01',output_file)\n",
    "    df = pd.read_csv(output_file)\n",
    "    df['figure'] = search\n",
    "    df.to_csv(output_file,index=False)\n",
    "\n"
   ]
  },
  {
   "cell_type": "code",
   "execution_count": null,
   "id": "bbf79398",
   "metadata": {},
   "outputs": [],
   "source": [
    "# cat *csv > combined.csv"
   ]
  },
  {
   "cell_type": "code",
   "execution_count": 21,
   "id": "6ef15942",
   "metadata": {
    "ExecuteTime": {
     "end_time": "2021-06-15T13:22:58.783441Z",
     "start_time": "2021-06-15T13:22:58.170174Z"
    }
   },
   "outputs": [],
   "source": [
    "combined = pd.read_csv('combined.csv')"
   ]
  },
  {
   "cell_type": "code",
   "execution_count": 23,
   "id": "2d5c2fc7",
   "metadata": {
    "ExecuteTime": {
     "end_time": "2021-06-15T13:23:07.416509Z",
     "start_time": "2021-06-15T13:23:07.381027Z"
    }
   },
   "outputs": [
    {
     "data": {
      "text/plain": [
       "(23248, 37)"
      ]
     },
     "execution_count": 23,
     "metadata": {},
     "output_type": "execute_result"
    }
   ],
   "source": [
    "combined.shape"
   ]
  },
  {
   "cell_type": "markdown",
   "id": "0d1658ac",
   "metadata": {},
   "source": [
    "## Processing to:\n",
    "- keep only english tweets\n",
    "- drop duplicates based on id\n",
    "- reverse map locations at the end"
   ]
  },
  {
   "cell_type": "code",
   "execution_count": 26,
   "id": "5a44d5d4",
   "metadata": {
    "ExecuteTime": {
     "end_time": "2021-06-15T13:29:00.168396Z",
     "start_time": "2021-06-15T13:28:59.965541Z"
    }
   },
   "outputs": [],
   "source": [
    "combined = combined[combined['language'] == 'en']\n",
    "combined = combined.drop_duplicates('id')"
   ]
  },
  {
   "cell_type": "code",
   "execution_count": 27,
   "id": "ca05171e",
   "metadata": {
    "ExecuteTime": {
     "end_time": "2021-06-15T13:29:09.660373Z",
     "start_time": "2021-06-15T13:29:09.624517Z"
    }
   },
   "outputs": [
    {
     "data": {
      "text/plain": [
       "{'55.127663,-1.473992,70km': 'North East (England)',\n",
       " '53.786177,-2.94986,80km': 'North West (England)',\n",
       " '54.054663,-0.916311,56km': 'Yorkshire and The Humber',\n",
       " '53.240963,-0.799282,60km': 'East Midlands (England)',\n",
       " '52.557403,-2.081606,60km': 'West Midlands (England)',\n",
       " '52.318458,0.802540,82km': 'East of England',\n",
       " '51.485280,-0.165762,30km': 'London',\n",
       " '50.696906,-0.397168,58km': 'South East (England)',\n",
       " '50.207629,-3.951667,122km': 'South West (England)',\n",
       " '52.325072,-3.932561,115km': 'Wales',\n",
       " '56.553386,-3.471093,157km': 'Scotland',\n",
       " '54.658571,-6.415764,71km': 'Northern Ireland'}"
      ]
     },
     "execution_count": 27,
     "metadata": {},
     "output_type": "execute_result"
    }
   ],
   "source": [
    "reverse_locations = {}\n",
    "for i in locations.items():\n",
    "    reverse_locations[i[1]] = i[0]\n",
    "reverse_locations"
   ]
  },
  {
   "cell_type": "code",
   "execution_count": 29,
   "id": "e3a1596e",
   "metadata": {
    "ExecuteTime": {
     "end_time": "2021-06-15T13:29:42.100102Z",
     "start_time": "2021-06-15T13:29:42.062055Z"
    }
   },
   "outputs": [],
   "source": [
    "combined['geo'] = combined['geo'].map(reverse_locations)"
   ]
  },
  {
   "cell_type": "code",
   "execution_count": 30,
   "id": "3b7ee6d5",
   "metadata": {
    "ExecuteTime": {
     "end_time": "2021-06-15T13:29:47.605581Z",
     "start_time": "2021-06-15T13:29:47.567290Z"
    }
   },
   "outputs": [
    {
     "data": {
      "text/plain": [
       "Index(['id', 'conversation_id', 'created_at', 'date', 'time', 'timezone',\n",
       "       'user_id', 'username', 'name', 'place', 'tweet', 'language', 'mentions',\n",
       "       'urls', 'photos', 'replies_count', 'retweets_count', 'likes_count',\n",
       "       'hashtags', 'cashtags', 'link', 'retweet', 'quote_url', 'video',\n",
       "       'thumbnail', 'near', 'geo', 'source', 'user_rt_id', 'user_rt',\n",
       "       'retweet_id', 'reply_to', 'retweet_date', 'translate', 'trans_src',\n",
       "       'trans_dest', 'figure'],\n",
       "      dtype='object')"
      ]
     },
     "execution_count": 30,
     "metadata": {},
     "output_type": "execute_result"
    }
   ],
   "source": [
    "combined.columns"
   ]
  },
  {
   "cell_type": "code",
   "execution_count": 36,
   "id": "8b444c71",
   "metadata": {
    "ExecuteTime": {
     "end_time": "2021-06-15T13:31:16.460039Z",
     "start_time": "2021-06-15T13:31:16.424026Z"
    }
   },
   "outputs": [],
   "source": [
    "keep_columns = ['id', 'date', 'tweet', 'replies_count', 'retweets_count', 'likes_count','hashtags','geo','figure']"
   ]
  },
  {
   "cell_type": "code",
   "execution_count": 38,
   "id": "f65da59e",
   "metadata": {
    "ExecuteTime": {
     "end_time": "2021-06-15T13:31:24.940640Z",
     "start_time": "2021-06-15T13:31:24.903445Z"
    }
   },
   "outputs": [],
   "source": [
    "combined = combined[keep_columns]"
   ]
  },
  {
   "cell_type": "markdown",
   "id": "e38d0f61",
   "metadata": {},
   "source": [
    "## Read file back into df"
   ]
  },
  {
   "cell_type": "code",
   "execution_count": 43,
   "id": "882b193c",
   "metadata": {
    "ExecuteTime": {
     "end_time": "2021-06-15T13:32:02.503513Z",
     "start_time": "2021-06-15T13:32:02.336464Z"
    }
   },
   "outputs": [],
   "source": [
    "combined.to_csv('danm91_combined.csv')"
   ]
  },
  {
   "cell_type": "code",
   "execution_count": 44,
   "id": "57f26eb5",
   "metadata": {
    "ExecuteTime": {
     "end_time": "2021-06-15T13:32:03.682415Z",
     "start_time": "2021-06-15T13:32:03.646373Z"
    }
   },
   "outputs": [
    {
     "data": {
      "text/plain": [
       "(20818, 9)"
      ]
     },
     "execution_count": 44,
     "metadata": {},
     "output_type": "execute_result"
    }
   ],
   "source": [
    "combined.shape"
   ]
  },
  {
   "cell_type": "markdown",
   "id": "bf54a879",
   "metadata": {},
   "source": [
    "# Ignore things from here below"
   ]
  },
  {
   "cell_type": "code",
   "execution_count": 200,
   "id": "9c45c003",
   "metadata": {
    "ExecuteTime": {
     "end_time": "2021-06-12T13:52:25.203905Z",
     "start_time": "2021-06-12T13:52:25.167153Z"
    }
   },
   "outputs": [],
   "source": [
    "df['figure'] = search"
   ]
  },
  {
   "cell_type": "markdown",
   "id": "c269c420",
   "metadata": {},
   "source": [
    "# Drop null value columns Explicitly list drop columns"
   ]
  },
  {
   "cell_type": "code",
   "execution_count": 201,
   "id": "83e03902",
   "metadata": {
    "ExecuteTime": {
     "end_time": "2021-06-12T13:52:28.344816Z",
     "start_time": "2021-06-12T13:52:28.286457Z"
    }
   },
   "outputs": [],
   "source": [
    "df = df.dropna(axis=1)"
   ]
  },
  {
   "cell_type": "code",
   "execution_count": 202,
   "id": "925de511",
   "metadata": {
    "ExecuteTime": {
     "end_time": "2021-06-12T13:52:29.293163Z",
     "start_time": "2021-06-12T13:52:29.257849Z"
    }
   },
   "outputs": [
    {
     "data": {
      "text/plain": [
       "Index(['id', 'conversation_id', 'created_at', 'date', 'time', 'timezone',\n",
       "       'user_id', 'username', 'name', 'tweet', 'language', 'mentions', 'urls',\n",
       "       'photos', 'replies_count', 'retweets_count', 'likes_count', 'hashtags',\n",
       "       'cashtags', 'link', 'retweet', 'video', 'geo', 'reply_to', 'figure'],\n",
       "      dtype='object')"
      ]
     },
     "execution_count": 202,
     "metadata": {},
     "output_type": "execute_result"
    }
   ],
   "source": [
    "df.columns"
   ]
  },
  {
   "cell_type": "code",
   "execution_count": 203,
   "id": "a586f65b",
   "metadata": {
    "ExecuteTime": {
     "end_time": "2021-06-12T13:52:47.641469Z",
     "start_time": "2021-06-12T13:52:47.606684Z"
    }
   },
   "outputs": [
    {
     "data": {
      "text/plain": [
       "(8214, 25)"
      ]
     },
     "execution_count": 203,
     "metadata": {},
     "output_type": "execute_result"
    }
   ],
   "source": [
    "df.shape"
   ]
  },
  {
   "cell_type": "markdown",
   "id": "deb0b219",
   "metadata": {},
   "source": [
    "### Drop other irrelevant columns"
   ]
  },
  {
   "cell_type": "code",
   "execution_count": 204,
   "id": "9d957728",
   "metadata": {
    "ExecuteTime": {
     "end_time": "2021-06-12T13:53:18.964421Z",
     "start_time": "2021-06-12T13:53:18.929515Z"
    }
   },
   "outputs": [],
   "source": [
    "columns_drop = ['timezone','username','urls','photos','cashtags','link','retweet','video','reply_to', \n",
    "                'mentions', 'name']"
   ]
  },
  {
   "cell_type": "code",
   "execution_count": 205,
   "id": "5ee7ae6d",
   "metadata": {
    "ExecuteTime": {
     "end_time": "2021-06-12T13:53:19.691098Z",
     "start_time": "2021-06-12T13:53:19.651930Z"
    }
   },
   "outputs": [],
   "source": [
    "df = df.drop(columns=columns_drop)"
   ]
  },
  {
   "cell_type": "code",
   "execution_count": 206,
   "id": "ea92114a",
   "metadata": {
    "ExecuteTime": {
     "end_time": "2021-06-12T13:53:20.752856Z",
     "start_time": "2021-06-12T13:53:20.718624Z"
    }
   },
   "outputs": [
    {
     "data": {
      "text/plain": [
       "(8214, 14)"
      ]
     },
     "execution_count": 206,
     "metadata": {},
     "output_type": "execute_result"
    }
   ],
   "source": [
    "df.shape"
   ]
  },
  {
   "cell_type": "markdown",
   "id": "67f0bd1f",
   "metadata": {},
   "source": [
    "### Keep only english tweets"
   ]
  },
  {
   "cell_type": "code",
   "execution_count": 207,
   "id": "6e61abed",
   "metadata": {
    "ExecuteTime": {
     "end_time": "2021-06-12T13:53:22.237766Z",
     "start_time": "2021-06-12T13:53:22.201389Z"
    }
   },
   "outputs": [],
   "source": [
    "df = df[df.language == 'en']"
   ]
  },
  {
   "cell_type": "markdown",
   "id": "4fe35024",
   "metadata": {},
   "source": [
    "### Reverse the location coords"
   ]
  },
  {
   "cell_type": "code",
   "execution_count": 33,
   "id": "ae301da3",
   "metadata": {
    "ExecuteTime": {
     "end_time": "2021-06-12T12:22:42.120686Z",
     "start_time": "2021-06-12T12:22:42.084622Z"
    }
   },
   "outputs": [
    {
     "data": {
      "text/plain": [
       "{'50.540176,-3.401552,128.61612km': 'SW',\n",
       " '51.219442,0.007482,110.97009km': 'SE',\n",
       " '52.308407,-4.184044,103.89385km': 'Wales',\n",
       " '52.505440,0.935452,70.29115km': 'E',\n",
       " '52.584523,-1.284716,61.4968km': 'Mid',\n",
       " '53.688576,-2.467244 ,92.91998km': 'NW',\n",
       " '55.092211,-1.272652,78.99957km': 'NE',\n",
       " '56.391056,-4.206108,169.73168km': 'Scotland'}"
      ]
     },
     "execution_count": 33,
     "metadata": {},
     "output_type": "execute_result"
    }
   ],
   "source": [
    "reverse_locations = {}\n",
    "for i in locations.items():\n",
    "    reverse_locations[i[1]] = i[0]\n",
    "reverse_locations"
   ]
  },
  {
   "cell_type": "code",
   "execution_count": 208,
   "id": "c06abc1d",
   "metadata": {
    "ExecuteTime": {
     "end_time": "2021-06-12T13:53:25.229039Z",
     "start_time": "2021-06-12T13:53:25.190543Z"
    }
   },
   "outputs": [],
   "source": [
    "df['geo'] = df['geo'].map(reverse_locations)"
   ]
  },
  {
   "cell_type": "code",
   "execution_count": 209,
   "id": "b9a21d29",
   "metadata": {
    "ExecuteTime": {
     "end_time": "2021-06-12T13:53:26.234168Z",
     "start_time": "2021-06-12T13:53:26.199004Z"
    }
   },
   "outputs": [
    {
     "data": {
      "text/plain": [
       "(7618, 14)"
      ]
     },
     "execution_count": 209,
     "metadata": {},
     "output_type": "execute_result"
    }
   ],
   "source": [
    "df.shape"
   ]
  },
  {
   "cell_type": "code",
   "execution_count": 210,
   "id": "c9eb9815",
   "metadata": {
    "ExecuteTime": {
     "end_time": "2021-06-12T13:53:29.961904Z",
     "start_time": "2021-06-12T13:53:29.921142Z"
    }
   },
   "outputs": [],
   "source": [
    "#get rid of tweets which have slipped through without an associated location\n",
    "df = df[df['geo'].isnull()!=True]"
   ]
  },
  {
   "cell_type": "code",
   "execution_count": 191,
   "id": "0c535b4a",
   "metadata": {
    "ExecuteTime": {
     "end_time": "2021-06-12T13:46:30.213203Z",
     "start_time": "2021-06-12T13:46:30.172786Z"
    }
   },
   "outputs": [
    {
     "data": {
      "text/plain": [
       "id                 0\n",
       "conversation_id    0\n",
       "created_at         0\n",
       "date               0\n",
       "time               0\n",
       "user_id            0\n",
       "tweet              0\n",
       "language           0\n",
       "replies_count      0\n",
       "retweets_count     0\n",
       "likes_count        0\n",
       "hashtags           0\n",
       "geo                0\n",
       "figure             0\n",
       "dtype: int64"
      ]
     },
     "execution_count": 191,
     "metadata": {},
     "output_type": "execute_result"
    }
   ],
   "source": [
    "df.isnull().sum()"
   ]
  },
  {
   "cell_type": "code",
   "execution_count": 211,
   "id": "03d6a734",
   "metadata": {
    "ExecuteTime": {
     "end_time": "2021-06-12T13:53:31.931772Z",
     "start_time": "2021-06-12T13:53:31.897927Z"
    }
   },
   "outputs": [
    {
     "data": {
      "text/plain": [
       "(5267, 14)"
      ]
     },
     "execution_count": 211,
     "metadata": {},
     "output_type": "execute_result"
    }
   ],
   "source": [
    "df.shape"
   ]
  },
  {
   "cell_type": "markdown",
   "id": "d317be62",
   "metadata": {},
   "source": [
    "## Send back as csv, cleaned and ready to use"
   ]
  },
  {
   "cell_type": "code",
   "execution_count": 212,
   "id": "00b0e083",
   "metadata": {
    "ExecuteTime": {
     "end_time": "2021-06-12T13:53:33.542048Z",
     "start_time": "2021-06-12T13:53:33.447212Z"
    }
   },
   "outputs": [],
   "source": [
    "df.to_csv(output_file,index=False)"
   ]
  },
  {
   "cell_type": "markdown",
   "id": "e6ca1a5a",
   "metadata": {},
   "source": [
    "### read back in to check"
   ]
  },
  {
   "cell_type": "code",
   "execution_count": 213,
   "id": "264975c2",
   "metadata": {
    "ExecuteTime": {
     "end_time": "2021-06-12T13:53:35.487453Z",
     "start_time": "2021-06-12T13:53:35.414624Z"
    }
   },
   "outputs": [],
   "source": [
    "check_df = pd.read_csv(output_file)"
   ]
  },
  {
   "cell_type": "code",
   "execution_count": 214,
   "id": "d3e42147",
   "metadata": {
    "ExecuteTime": {
     "end_time": "2021-06-12T13:53:36.171654Z",
     "start_time": "2021-06-12T13:53:36.135679Z"
    }
   },
   "outputs": [
    {
     "data": {
      "text/plain": [
       "True"
      ]
     },
     "execution_count": 214,
     "metadata": {},
     "output_type": "execute_result"
    }
   ],
   "source": [
    "check_df.shape==df.shape"
   ]
  },
  {
   "cell_type": "code",
   "execution_count": 215,
   "id": "3456a835",
   "metadata": {
    "ExecuteTime": {
     "end_time": "2021-06-12T13:53:37.058251Z",
     "start_time": "2021-06-12T13:53:37.018473Z"
    }
   },
   "outputs": [
    {
     "data": {
      "text/plain": [
       "0       2021-06-12 14:02:58 BST\n",
       "1       2021-06-12 13:46:59 BST\n",
       "2       2021-06-12 12:40:06 BST\n",
       "3       2021-06-12 12:33:14 BST\n",
       "4       2021-06-12 11:35:14 BST\n",
       "                 ...           \n",
       "5262    2021-01-04 09:25:46 GMT\n",
       "5263    2021-01-02 23:57:43 GMT\n",
       "5264    2021-01-02 20:19:09 GMT\n",
       "5265    2021-01-02 02:33:21 GMT\n",
       "5266    2021-01-01 07:31:13 GMT\n",
       "Name: created_at, Length: 5267, dtype: object"
      ]
     },
     "execution_count": 215,
     "metadata": {},
     "output_type": "execute_result"
    }
   ],
   "source": [
    "check_df.created_at"
   ]
  },
  {
   "cell_type": "code",
   "execution_count": null,
   "id": "37386faa",
   "metadata": {},
   "outputs": [],
   "source": []
  }
 ],
 "metadata": {
  "kernelspec": {
   "display_name": "Python 3",
   "language": "python",
   "name": "python3"
  },
  "language_info": {
   "codemirror_mode": {
    "name": "ipython",
    "version": 3
   },
   "file_extension": ".py",
   "mimetype": "text/x-python",
   "name": "python",
   "nbconvert_exporter": "python",
   "pygments_lexer": "ipython3",
   "version": "3.8.6"
  },
  "toc": {
   "base_numbering": 1,
   "nav_menu": {},
   "number_sections": false,
   "sideBar": true,
   "skip_h1_title": false,
   "title_cell": "Table of Contents",
   "title_sidebar": "Contents",
   "toc_cell": false,
   "toc_position": {
    "height": "calc(100% - 180px)",
    "left": "10px",
    "top": "150px",
    "width": "288px"
   },
   "toc_section_display": true,
   "toc_window_display": false
  },
  "varInspector": {
   "cols": {
    "lenName": 16,
    "lenType": 16,
    "lenVar": 40
   },
   "kernels_config": {
    "python": {
     "delete_cmd_postfix": "",
     "delete_cmd_prefix": "del ",
     "library": "var_list.py",
     "varRefreshCmd": "print(var_dic_list())"
    },
    "r": {
     "delete_cmd_postfix": ") ",
     "delete_cmd_prefix": "rm(",
     "library": "var_list.r",
     "varRefreshCmd": "cat(var_dic_list()) "
    }
   },
   "types_to_exclude": [
    "module",
    "function",
    "builtin_function_or_method",
    "instance",
    "_Feature"
   ],
   "window_display": false
  }
 },
 "nbformat": 4,
 "nbformat_minor": 5
}
