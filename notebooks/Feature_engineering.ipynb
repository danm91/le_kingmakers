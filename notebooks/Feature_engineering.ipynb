{
 "cells": [
  {
   "cell_type": "code",
   "execution_count": 1,
   "id": "620a0f54",
   "metadata": {
    "ExecuteTime": {
     "end_time": "2021-06-11T16:12:23.243939Z",
     "start_time": "2021-06-11T16:12:22.506563Z"
    }
   },
   "outputs": [],
   "source": [
    "%load_ext autoreload\n",
    "%autoreload 2\n",
    "import twint\n",
    "import nest_asyncio\n",
    "nest_asyncio.apply()\n",
    "import pandas as pd \n",
    "pd.set_option('display.max_columns', None)\n",
    "from datetime import date, timedelta\n",
    "import matplotlib.pyplot as plt"
   ]
  },
  {
   "cell_type": "code",
   "execution_count": 2,
   "id": "6cfad277",
   "metadata": {
    "ExecuteTime": {
     "end_time": "2021-06-11T16:12:23.291812Z",
     "start_time": "2021-06-11T16:12:23.276461Z"
    }
   },
   "outputs": [],
   "source": [
    "locations = {'SW':'50.540176,-3.401552,128.61612km',\n",
    "            'SE':'51.219442,0.007482,110.97009km',\n",
    "            'Wales':'52.308407,-4.184044,103.89385km',\n",
    "            'E':'52.505440,0.935452,70.29115km',\n",
    "            'Mid':'52.584523,-1.284716,61.4968km',\n",
    "            'NW':'53.688576,-2.467244 ,92.91998km',\n",
    "            'NE':'55.092211,-1.272652,78.99957km',\n",
    "            'Scotland':'56.391056,-4.206108,169.73168km'}"
   ]
  },
  {
   "cell_type": "code",
   "execution_count": 3,
   "id": "170ebe0f",
   "metadata": {
    "ExecuteTime": {
     "end_time": "2021-06-11T16:12:23.623300Z",
     "start_time": "2021-06-11T16:12:23.593082Z"
    }
   },
   "outputs": [],
   "source": [
    "import pandas as pd"
   ]
  },
  {
   "cell_type": "code",
   "execution_count": 111,
   "id": "c085eb61",
   "metadata": {
    "ExecuteTime": {
     "end_time": "2021-06-11T16:38:10.586144Z",
     "start_time": "2021-06-11T16:38:10.349686Z"
    }
   },
   "outputs": [],
   "source": [
    "df = pd.read_csv('test.csv')"
   ]
  },
  {
   "cell_type": "code",
   "execution_count": 5,
   "id": "c9f81602",
   "metadata": {
    "ExecuteTime": {
     "end_time": "2021-06-11T16:12:25.208911Z",
     "start_time": "2021-06-11T16:12:25.175178Z"
    }
   },
   "outputs": [
    {
     "data": {
      "text/plain": [
       "{'50.540176,-3.401552,128.61612km': 'SW',\n",
       " '51.219442,0.007482,110.97009km': 'SE',\n",
       " '52.308407,-4.184044,103.89385km': 'Wales',\n",
       " '52.505440,0.935452,70.29115km': 'E',\n",
       " '52.584523,-1.284716,61.4968km': 'Mid',\n",
       " '53.688576,-2.467244 ,92.91998km': 'NW',\n",
       " '55.092211,-1.272652,78.99957km': 'NE',\n",
       " '56.391056,-4.206108,169.73168km': 'Scotland'}"
      ]
     },
     "execution_count": 5,
     "metadata": {},
     "output_type": "execute_result"
    }
   ],
   "source": [
    "reverse_locations = {}\n",
    "for i in locations.items():\n",
    "    reverse_locations[i[1]] = i[0]\n",
    "reverse_locations"
   ]
  },
  {
   "cell_type": "markdown",
   "id": "20228903",
   "metadata": {},
   "source": [
    "### Reverse mapping of locations"
   ]
  },
  {
   "cell_type": "code",
   "execution_count": 112,
   "id": "19899e31",
   "metadata": {
    "ExecuteTime": {
     "end_time": "2021-06-11T16:38:13.193242Z",
     "start_time": "2021-06-11T16:38:13.154785Z"
    }
   },
   "outputs": [],
   "source": [
    "df['geo'] = df.geo.map(reverse_locations)"
   ]
  },
  {
   "cell_type": "markdown",
   "id": "8ea00ba1",
   "metadata": {},
   "source": [
    "### Dropping null columns"
   ]
  },
  {
   "cell_type": "code",
   "execution_count": 113,
   "id": "ecc08449",
   "metadata": {
    "ExecuteTime": {
     "end_time": "2021-06-11T16:38:14.796581Z",
     "start_time": "2021-06-11T16:38:14.744627Z"
    }
   },
   "outputs": [],
   "source": [
    "df = df.dropna(axis=1)"
   ]
  },
  {
   "cell_type": "markdown",
   "id": "b2a3fedd",
   "metadata": {},
   "source": [
    "### Keeping only english tweets"
   ]
  },
  {
   "cell_type": "code",
   "execution_count": 114,
   "id": "bb55759c",
   "metadata": {
    "ExecuteTime": {
     "end_time": "2021-06-11T16:38:15.559193Z",
     "start_time": "2021-06-11T16:38:15.513615Z"
    }
   },
   "outputs": [],
   "source": [
    "df = df[df.language == 'en']"
   ]
  },
  {
   "cell_type": "markdown",
   "id": "62a9dd46",
   "metadata": {},
   "source": [
    "### Drop remaining columns"
   ]
  },
  {
   "cell_type": "code",
   "execution_count": 115,
   "id": "b49e45c1",
   "metadata": {
    "ExecuteTime": {
     "end_time": "2021-06-11T16:38:16.460738Z",
     "start_time": "2021-06-11T16:38:16.423421Z"
    }
   },
   "outputs": [],
   "source": [
    "#dropped because they are not unique, for privacy, can't process or are not relevant\n",
    "columns_drop = ['timezone','username','name','urls','photos','cashtags','link','retweet','video','reply_to', 'mentions']"
   ]
  },
  {
   "cell_type": "code",
   "execution_count": 116,
   "id": "9d3e1774",
   "metadata": {
    "ExecuteTime": {
     "end_time": "2021-06-11T16:38:17.461606Z",
     "start_time": "2021-06-11T16:38:17.424219Z"
    }
   },
   "outputs": [],
   "source": [
    "df = df.drop(columns=columns_drop)"
   ]
  },
  {
   "cell_type": "markdown",
   "id": "6fc1c86f",
   "metadata": {},
   "source": [
    "### Add figure searched for"
   ]
  },
  {
   "cell_type": "code",
   "execution_count": 117,
   "id": "3a6ccb3c",
   "metadata": {
    "ExecuteTime": {
     "end_time": "2021-06-11T16:38:19.320331Z",
     "start_time": "2021-06-11T16:38:19.284088Z"
    }
   },
   "outputs": [],
   "source": [
    "df['figure'] = 'matthancock'"
   ]
  },
  {
   "cell_type": "code",
   "execution_count": 118,
   "id": "f5222669",
   "metadata": {
    "ExecuteTime": {
     "end_time": "2021-06-11T16:38:21.073773Z",
     "start_time": "2021-06-11T16:38:21.032967Z"
    }
   },
   "outputs": [
    {
     "data": {
      "text/html": [
       "<div>\n",
       "<style scoped>\n",
       "    .dataframe tbody tr th:only-of-type {\n",
       "        vertical-align: middle;\n",
       "    }\n",
       "\n",
       "    .dataframe tbody tr th {\n",
       "        vertical-align: top;\n",
       "    }\n",
       "\n",
       "    .dataframe thead th {\n",
       "        text-align: right;\n",
       "    }\n",
       "</style>\n",
       "<table border=\"1\" class=\"dataframe\">\n",
       "  <thead>\n",
       "    <tr style=\"text-align: right;\">\n",
       "      <th></th>\n",
       "      <th>id</th>\n",
       "      <th>conversation_id</th>\n",
       "      <th>created_at</th>\n",
       "      <th>date</th>\n",
       "      <th>time</th>\n",
       "      <th>user_id</th>\n",
       "      <th>tweet</th>\n",
       "      <th>language</th>\n",
       "      <th>replies_count</th>\n",
       "      <th>retweets_count</th>\n",
       "      <th>likes_count</th>\n",
       "      <th>hashtags</th>\n",
       "      <th>figure</th>\n",
       "    </tr>\n",
       "  </thead>\n",
       "  <tbody>\n",
       "    <tr>\n",
       "      <th>0</th>\n",
       "      <td>1403375621342908416</td>\n",
       "      <td>1403117579057643526</td>\n",
       "      <td>2021-06-11 16:36:36 BST</td>\n",
       "      <td>2021-06-11</td>\n",
       "      <td>16:36:36</td>\n",
       "      <td>2518781326</td>\n",
       "      <td>@WelshDalaiLama @MattHancock back in your box ...</td>\n",
       "      <td>en</td>\n",
       "      <td>0</td>\n",
       "      <td>0</td>\n",
       "      <td>0</td>\n",
       "      <td>[]</td>\n",
       "      <td>matthancock</td>\n",
       "    </tr>\n",
       "    <tr>\n",
       "      <th>1</th>\n",
       "      <td>1403372248149499904</td>\n",
       "      <td>1402923308362960896</td>\n",
       "      <td>2021-06-11 16:23:12 BST</td>\n",
       "      <td>2021-06-11</td>\n",
       "      <td>16:23:12</td>\n",
       "      <td>148712066</td>\n",
       "      <td>@marky_edwards @AllisonPearson @Iromg @MattHan...</td>\n",
       "      <td>en</td>\n",
       "      <td>0</td>\n",
       "      <td>0</td>\n",
       "      <td>0</td>\n",
       "      <td>[]</td>\n",
       "      <td>matthancock</td>\n",
       "    </tr>\n",
       "  </tbody>\n",
       "</table>\n",
       "</div>"
      ],
      "text/plain": [
       "                    id      conversation_id               created_at  \\\n",
       "0  1403375621342908416  1403117579057643526  2021-06-11 16:36:36 BST   \n",
       "1  1403372248149499904  1402923308362960896  2021-06-11 16:23:12 BST   \n",
       "\n",
       "         date      time     user_id  \\\n",
       "0  2021-06-11  16:36:36  2518781326   \n",
       "1  2021-06-11  16:23:12   148712066   \n",
       "\n",
       "                                               tweet language  replies_count  \\\n",
       "0  @WelshDalaiLama @MattHancock back in your box ...       en              0   \n",
       "1  @marky_edwards @AllisonPearson @Iromg @MattHan...       en              0   \n",
       "\n",
       "   retweets_count  likes_count hashtags       figure  \n",
       "0               0            0       []  matthancock  \n",
       "1               0            0       []  matthancock  "
      ]
     },
     "execution_count": 118,
     "metadata": {},
     "output_type": "execute_result"
    }
   ],
   "source": [
    "df.head(2)"
   ]
  },
  {
   "cell_type": "markdown",
   "id": "aeb3b7d5",
   "metadata": {},
   "source": [
    "## Import models"
   ]
  },
  {
   "cell_type": "code",
   "execution_count": 11,
   "id": "83a5a212",
   "metadata": {
    "ExecuteTime": {
     "end_time": "2021-06-11T16:14:12.701473Z",
     "start_time": "2021-06-11T16:14:12.577346Z"
    }
   },
   "outputs": [],
   "source": [
    "import joblib"
   ]
  },
  {
   "cell_type": "code",
   "execution_count": 12,
   "id": "bb38f9fa",
   "metadata": {
    "ExecuteTime": {
     "end_time": "2021-06-11T16:15:38.779607Z",
     "start_time": "2021-06-11T16:15:37.296285Z"
    }
   },
   "outputs": [],
   "source": [
    "model = joblib.load('../le_kingmakers/model2.joblib')"
   ]
  },
  {
   "cell_type": "code",
   "execution_count": 90,
   "id": "86f475bd",
   "metadata": {
    "ExecuteTime": {
     "end_time": "2021-06-11T16:32:13.541613Z",
     "start_time": "2021-06-11T16:32:13.500396Z"
    }
   },
   "outputs": [
    {
     "data": {
      "text/plain": [
       "Pipeline(steps=[('preprocess',\n",
       "                 Pipeline(steps=[('clean_text', TextPreprocess()),\n",
       "                                 ('convert_text', TextConvertAbbv())])),\n",
       "                ('vectorizer', TfidfVectorizer(max_df=0.2, ngram_range=(1, 2))),\n",
       "                ('model', MultinomialNB())])"
      ]
     },
     "execution_count": 90,
     "metadata": {},
     "output_type": "execute_result"
    }
   ],
   "source": [
    "model"
   ]
  },
  {
   "cell_type": "code",
   "execution_count": 70,
   "id": "5efc9660",
   "metadata": {
    "ExecuteTime": {
     "end_time": "2021-06-11T16:23:05.139780Z",
     "start_time": "2021-06-11T16:23:05.104142Z"
    }
   },
   "outputs": [
    {
     "data": {
      "text/plain": [
       "pandas.core.series.Series"
      ]
     },
     "execution_count": 70,
     "metadata": {},
     "output_type": "execute_result"
    }
   ],
   "source": [
    "test_sample = df['tweet'].sample()\n",
    "type(test_sample)"
   ]
  },
  {
   "cell_type": "code",
   "execution_count": 71,
   "id": "50a52143",
   "metadata": {
    "ExecuteTime": {
     "end_time": "2021-06-11T16:23:05.420666Z",
     "start_time": "2021-06-11T16:23:05.382569Z"
    }
   },
   "outputs": [
    {
     "name": "stdout",
     "output_type": "stream",
     "text": [
      "['@lhdimport @BorisJohnson @MattHancock How can’t you buy a suit? Everywheres open']\n"
     ]
    },
    {
     "data": {
      "text/plain": [
       "(None, array([0]))"
      ]
     },
     "execution_count": 71,
     "metadata": {},
     "output_type": "execute_result"
    }
   ],
   "source": [
    "print(test_sample.values), model.predict(test_sample)"
   ]
  },
  {
   "cell_type": "code",
   "execution_count": 119,
   "id": "6319c371",
   "metadata": {
    "ExecuteTime": {
     "end_time": "2021-06-11T16:38:39.867027Z",
     "start_time": "2021-06-11T16:38:33.855257Z"
    }
   },
   "outputs": [],
   "source": [
    "df['prediction'] = model.predict(df['tweet'])"
   ]
  },
  {
   "cell_type": "code",
   "execution_count": 120,
   "id": "e5b60e6b",
   "metadata": {
    "ExecuteTime": {
     "end_time": "2021-06-11T16:38:39.961653Z",
     "start_time": "2021-06-11T16:38:39.942071Z"
    }
   },
   "outputs": [],
   "source": [
    "sentiment_map = {0:-1, 4:1}"
   ]
  },
  {
   "cell_type": "code",
   "execution_count": 121,
   "id": "595d40c1",
   "metadata": {
    "ExecuteTime": {
     "end_time": "2021-06-11T16:38:40.057578Z",
     "start_time": "2021-06-11T16:38:40.035958Z"
    }
   },
   "outputs": [],
   "source": [
    "df['prediction'] = df['prediction'].map(sentiment_map)"
   ]
  },
  {
   "cell_type": "code",
   "execution_count": 123,
   "id": "8487603c",
   "metadata": {
    "ExecuteTime": {
     "end_time": "2021-06-11T16:38:41.354603Z",
     "start_time": "2021-06-11T16:38:41.317102Z"
    }
   },
   "outputs": [
    {
     "data": {
      "text/plain": [
       "-1    7919\n",
       " 1    5570\n",
       "Name: prediction, dtype: int64"
      ]
     },
     "execution_count": 123,
     "metadata": {},
     "output_type": "execute_result"
    }
   ],
   "source": [
    "df.prediction.value_counts()"
   ]
  },
  {
   "cell_type": "code",
   "execution_count": 124,
   "id": "9f9655cd",
   "metadata": {
    "ExecuteTime": {
     "end_time": "2021-06-11T16:38:45.676020Z",
     "start_time": "2021-06-11T16:38:45.624729Z"
    }
   },
   "outputs": [
    {
     "data": {
      "text/html": [
       "<div>\n",
       "<style scoped>\n",
       "    .dataframe tbody tr th:only-of-type {\n",
       "        vertical-align: middle;\n",
       "    }\n",
       "\n",
       "    .dataframe tbody tr th {\n",
       "        vertical-align: top;\n",
       "    }\n",
       "\n",
       "    .dataframe thead th {\n",
       "        text-align: right;\n",
       "    }\n",
       "</style>\n",
       "<table border=\"1\" class=\"dataframe\">\n",
       "  <thead>\n",
       "    <tr style=\"text-align: right;\">\n",
       "      <th></th>\n",
       "      <th>id</th>\n",
       "      <th>conversation_id</th>\n",
       "      <th>user_id</th>\n",
       "      <th>replies_count</th>\n",
       "      <th>retweets_count</th>\n",
       "      <th>likes_count</th>\n",
       "      <th>prediction</th>\n",
       "    </tr>\n",
       "    <tr>\n",
       "      <th>date</th>\n",
       "      <th></th>\n",
       "      <th></th>\n",
       "      <th></th>\n",
       "      <th></th>\n",
       "      <th></th>\n",
       "      <th></th>\n",
       "      <th></th>\n",
       "    </tr>\n",
       "  </thead>\n",
       "  <tbody>\n",
       "    <tr>\n",
       "      <th>2021-06-04</th>\n",
       "      <td>1.629151e+21</td>\n",
       "      <td>1.626364e+21</td>\n",
       "      <td>5.014634e+20</td>\n",
       "      <td>1121.0</td>\n",
       "      <td>3130.0</td>\n",
       "      <td>9159.0</td>\n",
       "      <td>-197.0</td>\n",
       "    </tr>\n",
       "    <tr>\n",
       "      <th>2021-06-05</th>\n",
       "      <td>1.227421e+21</td>\n",
       "      <td>1.226206e+21</td>\n",
       "      <td>3.672029e+20</td>\n",
       "      <td>1361.0</td>\n",
       "      <td>4228.0</td>\n",
       "      <td>11276.0</td>\n",
       "      <td>-102.0</td>\n",
       "    </tr>\n",
       "    <tr>\n",
       "      <th>2021-06-06</th>\n",
       "      <td>2.696541e+21</td>\n",
       "      <td>2.694573e+21</td>\n",
       "      <td>7.653694e+20</td>\n",
       "      <td>5733.0</td>\n",
       "      <td>18841.0</td>\n",
       "      <td>55447.0</td>\n",
       "      <td>-460.0</td>\n",
       "    </tr>\n",
       "    <tr>\n",
       "      <th>2021-06-07</th>\n",
       "      <td>2.376239e+21</td>\n",
       "      <td>2.373832e+21</td>\n",
       "      <td>6.389583e+20</td>\n",
       "      <td>4095.0</td>\n",
       "      <td>9617.0</td>\n",
       "      <td>43541.0</td>\n",
       "      <td>-325.0</td>\n",
       "    </tr>\n",
       "    <tr>\n",
       "      <th>2021-06-08</th>\n",
       "      <td>2.299692e+21</td>\n",
       "      <td>2.298750e+21</td>\n",
       "      <td>6.129865e+20</td>\n",
       "      <td>1733.0</td>\n",
       "      <td>3976.0</td>\n",
       "      <td>13468.0</td>\n",
       "      <td>-234.0</td>\n",
       "    </tr>\n",
       "    <tr>\n",
       "      <th>2021-06-09</th>\n",
       "      <td>1.618634e+21</td>\n",
       "      <td>1.617075e+21</td>\n",
       "      <td>4.973307e+20</td>\n",
       "      <td>1258.0</td>\n",
       "      <td>6595.0</td>\n",
       "      <td>23629.0</td>\n",
       "      <td>-160.0</td>\n",
       "    </tr>\n",
       "    <tr>\n",
       "      <th>2021-06-10</th>\n",
       "      <td>5.415521e+21</td>\n",
       "      <td>5.413974e+21</td>\n",
       "      <td>1.201411e+21</td>\n",
       "      <td>10329.0</td>\n",
       "      <td>33175.0</td>\n",
       "      <td>128201.0</td>\n",
       "      <td>-624.0</td>\n",
       "    </tr>\n",
       "    <tr>\n",
       "      <th>2021-06-11</th>\n",
       "      <td>1.651658e+21</td>\n",
       "      <td>1.650607e+21</td>\n",
       "      <td>4.283404e+20</td>\n",
       "      <td>513.0</td>\n",
       "      <td>2245.0</td>\n",
       "      <td>5937.0</td>\n",
       "      <td>-247.0</td>\n",
       "    </tr>\n",
       "  </tbody>\n",
       "</table>\n",
       "</div>"
      ],
      "text/plain": [
       "                      id  conversation_id       user_id  replies_count  \\\n",
       "date                                                                     \n",
       "2021-06-04  1.629151e+21     1.626364e+21  5.014634e+20         1121.0   \n",
       "2021-06-05  1.227421e+21     1.226206e+21  3.672029e+20         1361.0   \n",
       "2021-06-06  2.696541e+21     2.694573e+21  7.653694e+20         5733.0   \n",
       "2021-06-07  2.376239e+21     2.373832e+21  6.389583e+20         4095.0   \n",
       "2021-06-08  2.299692e+21     2.298750e+21  6.129865e+20         1733.0   \n",
       "2021-06-09  1.618634e+21     1.617075e+21  4.973307e+20         1258.0   \n",
       "2021-06-10  5.415521e+21     5.413974e+21  1.201411e+21        10329.0   \n",
       "2021-06-11  1.651658e+21     1.650607e+21  4.283404e+20          513.0   \n",
       "\n",
       "            retweets_count  likes_count  prediction  \n",
       "date                                                 \n",
       "2021-06-04          3130.0       9159.0      -197.0  \n",
       "2021-06-05          4228.0      11276.0      -102.0  \n",
       "2021-06-06         18841.0      55447.0      -460.0  \n",
       "2021-06-07          9617.0      43541.0      -325.0  \n",
       "2021-06-08          3976.0      13468.0      -234.0  \n",
       "2021-06-09          6595.0      23629.0      -160.0  \n",
       "2021-06-10         33175.0     128201.0      -624.0  \n",
       "2021-06-11          2245.0       5937.0      -247.0  "
      ]
     },
     "execution_count": 124,
     "metadata": {},
     "output_type": "execute_result"
    }
   ],
   "source": [
    "test_df = df.groupby(by = 'date').sum('prediction')\n",
    "test_df"
   ]
  },
  {
   "cell_type": "code",
   "execution_count": 127,
   "id": "1a980a84",
   "metadata": {
    "ExecuteTime": {
     "end_time": "2021-06-11T16:39:06.473455Z",
     "start_time": "2021-06-11T16:39:06.343161Z"
    }
   },
   "outputs": [
    {
     "data": {
      "text/plain": [
       "[<matplotlib.lines.Line2D at 0x13cb99310>]"
      ]
     },
     "execution_count": 127,
     "metadata": {},
     "output_type": "execute_result"
    },
    {
     "data": {
      "image/png": "[encoded data removed]",
      "text/plain": [
       "<Figure size 720x432 with 1 Axes>"
      ]
     },
     "metadata": {
      "needs_background": "light"
     },
     "output_type": "display_data"
    }
   ],
   "source": [
    "plt.figure(figsize=(10,6))\n",
    "plt.plot(test_df.index,test_df.prediction)"
   ]
  },
  {
   "cell_type": "code",
   "execution_count": null,
   "id": "93c3031a",
   "metadata": {},
   "outputs": [],
   "source": []
  }
 ],
 "metadata": {
  "kernelspec": {
   "display_name": "le_kingmakers",
   "language": "python",
   "name": "le_kingmakers"
  },
  "language_info": {
   "codemirror_mode": {
    "name": "ipython",
    "version": 3
   },
   "file_extension": ".py",
   "mimetype": "text/x-python",
   "name": "python",
   "nbconvert_exporter": "python",
   "pygments_lexer": "ipython3",
   "version": "3.8.6"
  },
  "toc": {
   "base_numbering": 1,
   "nav_menu": {},
   "number_sections": true,
   "sideBar": true,
   "skip_h1_title": false,
   "title_cell": "Table of Contents",
   "title_sidebar": "Contents",
   "toc_cell": false,
   "toc_position": {},
   "toc_section_display": true,
   "toc_window_display": false
  },
  "varInspector": {
   "cols": {
    "lenName": 16,
    "lenType": 16,
    "lenVar": 40
   },
   "kernels_config": {
    "python": {
     "delete_cmd_postfix": "",
     "delete_cmd_prefix": "del ",
     "library": "var_list.py",
     "varRefreshCmd": "print(var_dic_list())"
    },
    "r": {
     "delete_cmd_postfix": ") ",
     "delete_cmd_prefix": "rm(",
     "library": "var_list.r",
     "varRefreshCmd": "cat(var_dic_list()) "
    }
   },
   "types_to_exclude": [
    "module",
    "function",
    "builtin_function_or_method",
    "instance",
    "_Feature"
   ],
   "window_display": false
  }
 },
 "nbformat": 4,
 "nbformat_minor": 5
}
