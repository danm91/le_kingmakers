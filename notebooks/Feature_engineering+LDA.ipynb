{
 "cells": [
  {
   "cell_type": "code",
   "execution_count": 1,
   "id": "e28c4208",
   "metadata": {
    "ExecuteTime": {
     "end_time": "2021-06-15T08:32:21.610517Z",
     "start_time": "2021-06-15T08:32:21.574238Z"
    }
   },
   "outputs": [],
   "source": [
    "%load_ext autoreload\n",
    "%autoreload 2"
   ]
  },
  {
   "cell_type": "code",
   "execution_count": 2,
   "id": "0f6630ec",
   "metadata": {
    "ExecuteTime": {
     "end_time": "2021-06-15T08:32:22.691240Z",
     "start_time": "2021-06-15T08:32:21.812678Z"
    }
   },
   "outputs": [],
   "source": [
    "import pandas as pd\n",
    "import matplotlib.pyplot as plt\n",
    "import seaborn as sns"
   ]
  },
  {
   "cell_type": "code",
   "execution_count": 3,
   "id": "7475c6e4",
   "metadata": {
    "ExecuteTime": {
     "end_time": "2021-06-15T08:32:23.382361Z",
     "start_time": "2021-06-15T08:32:22.707582Z"
    }
   },
   "outputs": [
    {
     "name": "stderr",
     "output_type": "stream",
     "text": [
      "/Users/danielmarron/.pyenv/versions/le_kingmakers/lib/python3.8/site-packages/IPython/core/interactiveshell.py:3169: DtypeWarning: Columns (0,1,5,8,9,10) have mixed types.Specify dtype option on import or set low_memory=False.\n",
      "  has_raised = await self.run_ast_nodes(code_ast.body, cell_name,\n"
     ]
    }
   ],
   "source": [
    "df = pd.read_csv('2021_master.csv')"
   ]
  },
  {
   "cell_type": "markdown",
   "id": "7eb01c5c",
   "metadata": {},
   "source": [
    "## drop duplicates for id - multiple tweets picked up under searches for different figures where they are all mentioned"
   ]
  },
  {
   "cell_type": "code",
   "execution_count": 4,
   "id": "30fc4798",
   "metadata": {
    "ExecuteTime": {
     "end_time": "2021-06-15T08:32:25.479275Z",
     "start_time": "2021-06-15T08:32:25.371756Z"
    }
   },
   "outputs": [],
   "source": [
    "df = df.drop_duplicates('id').reset_index(drop=True)"
   ]
  },
  {
   "cell_type": "code",
   "execution_count": 5,
   "id": "705f7675",
   "metadata": {
    "ExecuteTime": {
     "end_time": "2021-06-15T08:32:25.769505Z",
     "start_time": "2021-06-15T08:32:25.711478Z"
    }
   },
   "outputs": [],
   "source": [
    "# at row 3384 somehow the headers have crept in... needs to be removed, addressed in this notebook for now\n",
    "df = df.drop(index=3384)"
   ]
  },
  {
   "cell_type": "code",
   "execution_count": 6,
   "id": "1ba43417",
   "metadata": {
    "ExecuteTime": {
     "end_time": "2021-06-15T08:32:26.016716Z",
     "start_time": "2021-06-15T08:32:25.979568Z"
    }
   },
   "outputs": [
    {
     "data": {
      "text/plain": [
       "(120635, 14)"
      ]
     },
     "execution_count": 6,
     "metadata": {},
     "output_type": "execute_result"
    }
   ],
   "source": [
    "df.shape"
   ]
  },
  {
   "cell_type": "code",
   "execution_count": 7,
   "id": "3c1dc4da",
   "metadata": {
    "ExecuteTime": {
     "end_time": "2021-06-15T08:32:26.390091Z",
     "start_time": "2021-06-15T08:32:26.315587Z"
    },
    "scrolled": true
   },
   "outputs": [],
   "source": [
    "#for some reason appears to be reading in the 'date' title and trying to convert... ignore for now\n",
    "df['date'] = pd.to_datetime(df['date'], format = '%Y-%m-%d')"
   ]
  },
  {
   "cell_type": "code",
   "execution_count": 8,
   "id": "8f09e9c2",
   "metadata": {
    "ExecuteTime": {
     "end_time": "2021-06-15T08:32:27.645395Z",
     "start_time": "2021-06-15T08:32:27.613559Z"
    }
   },
   "outputs": [],
   "source": [
    "int_types = ['replies_count', 'retweets_count', 'likes_count']"
   ]
  },
  {
   "cell_type": "code",
   "execution_count": 9,
   "id": "ce7c51ba",
   "metadata": {
    "ExecuteTime": {
     "end_time": "2021-06-15T08:32:27.932535Z",
     "start_time": "2021-06-15T08:32:27.834608Z"
    }
   },
   "outputs": [],
   "source": [
    "df[int_types] = df[int_types].astype(int)"
   ]
  },
  {
   "cell_type": "code",
   "execution_count": 10,
   "id": "950c3687",
   "metadata": {
    "ExecuteTime": {
     "end_time": "2021-06-15T08:32:28.040901Z",
     "start_time": "2021-06-15T08:32:28.022904Z"
    }
   },
   "outputs": [
    {
     "data": {
      "text/plain": [
       "id                         object\n",
       "conversation_id            object\n",
       "created_at                 object\n",
       "date               datetime64[ns]\n",
       "time                       object\n",
       "user_id                    object\n",
       "tweet                      object\n",
       "language                   object\n",
       "replies_count               int64\n",
       "retweets_count              int64\n",
       "likes_count                 int64\n",
       "hashtags                   object\n",
       "geo                        object\n",
       "figure                     object\n",
       "dtype: object"
      ]
     },
     "execution_count": 10,
     "metadata": {},
     "output_type": "execute_result"
    }
   ],
   "source": [
    "df.dtypes"
   ]
  },
  {
   "cell_type": "markdown",
   "id": "aeb3b7d5",
   "metadata": {},
   "source": [
    "## Import models"
   ]
  },
  {
   "cell_type": "code",
   "execution_count": 11,
   "id": "83a5a212",
   "metadata": {
    "ExecuteTime": {
     "end_time": "2021-06-15T08:32:30.998197Z",
     "start_time": "2021-06-15T08:32:30.927483Z"
    }
   },
   "outputs": [],
   "source": [
    "import joblib"
   ]
  },
  {
   "cell_type": "code",
   "execution_count": 12,
   "id": "bb38f9fa",
   "metadata": {
    "ExecuteTime": {
     "end_time": "2021-06-15T08:32:32.239074Z",
     "start_time": "2021-06-15T08:32:31.155330Z"
    }
   },
   "outputs": [],
   "source": [
    "model = joblib.load('../le_kingmakers/model2.joblib')"
   ]
  },
  {
   "cell_type": "code",
   "execution_count": 13,
   "id": "86f475bd",
   "metadata": {
    "ExecuteTime": {
     "end_time": "2021-06-15T08:32:32.291776Z",
     "start_time": "2021-06-15T08:32:32.272263Z"
    }
   },
   "outputs": [
    {
     "data": {
      "text/plain": [
       "Pipeline(steps=[('preprocess',\n",
       "                 Pipeline(steps=[('clean_text', TextPreprocess()),\n",
       "                                 ('convert_text', TextConvertAbbv())])),\n",
       "                ('vectorizer', TfidfVectorizer(max_df=0.2, ngram_range=(1, 2))),\n",
       "                ('model', MultinomialNB())])"
      ]
     },
     "execution_count": 13,
     "metadata": {},
     "output_type": "execute_result"
    }
   ],
   "source": [
    "model"
   ]
  },
  {
   "cell_type": "code",
   "execution_count": 14,
   "id": "6319c371",
   "metadata": {
    "ExecuteTime": {
     "end_time": "2021-06-15T08:33:26.589829Z",
     "start_time": "2021-06-15T08:32:34.980542Z"
    }
   },
   "outputs": [
    {
     "name": "stdout",
     "output_type": "stream",
     "text": [
      "CPU times: user 2 µs, sys: 0 ns, total: 2 µs\n",
      "Wall time: 6.91 µs\n"
     ]
    }
   ],
   "source": [
    "%time\n",
    "df['prediction'] = model.predict(df['tweet'])"
   ]
  },
  {
   "cell_type": "code",
   "execution_count": 15,
   "id": "e5b60e6b",
   "metadata": {
    "ExecuteTime": {
     "end_time": "2021-06-15T08:33:26.641964Z",
     "start_time": "2021-06-15T08:33:26.625553Z"
    }
   },
   "outputs": [],
   "source": [
    "#the bayes model predicts 0 or 4\n",
    "sentiment_map = {0:-1, 4:1}"
   ]
  },
  {
   "cell_type": "code",
   "execution_count": 16,
   "id": "595d40c1",
   "metadata": {
    "ExecuteTime": {
     "end_time": "2021-06-15T08:33:26.692176Z",
     "start_time": "2021-06-15T08:33:26.669252Z"
    }
   },
   "outputs": [],
   "source": [
    "df['prediction'] = df['prediction'].map(sentiment_map)"
   ]
  },
  {
   "cell_type": "code",
   "execution_count": 17,
   "id": "8487603c",
   "metadata": {
    "ExecuteTime": {
     "end_time": "2021-06-15T08:33:26.739347Z",
     "start_time": "2021-06-15T08:33:26.721304Z"
    }
   },
   "outputs": [
    {
     "data": {
      "text/plain": [
       "-1    66602\n",
       " 1    54033\n",
       "Name: prediction, dtype: int64"
      ]
     },
     "execution_count": 17,
     "metadata": {},
     "output_type": "execute_result"
    }
   ],
   "source": [
    "df.prediction.value_counts()"
   ]
  },
  {
   "cell_type": "markdown",
   "id": "926117ce",
   "metadata": {},
   "source": [
    "### new class needs to be created for the table that is going to be just days, figure, predictions...\n",
    "- need a get tweet function? to get the id of the tweet and print whats been said, return the retweets count\n"
   ]
  },
  {
   "cell_type": "markdown",
   "id": "40c998b8",
   "metadata": {},
   "source": [
    "## Generating a popularity formula"
   ]
  },
  {
   "cell_type": "markdown",
   "id": "86f36792",
   "metadata": {},
   "source": [
    "### Formula is:\n"
   ]
  },
  {
   "cell_type": "code",
   "execution_count": 18,
   "id": "1c1f4243",
   "metadata": {
    "ExecuteTime": {
     "end_time": "2021-06-15T08:33:39.539339Z",
     "start_time": "2021-06-15T08:33:39.481817Z"
    }
   },
   "outputs": [],
   "source": [
    "likes_weighting = 0.5\n",
    "retweets_weighting = 1\n",
    "df['popularity'] = df['prediction'] + (df['prediction']*df['likes_count']*likes_weighting) + \\\n",
    "                      (df['prediction']*df['retweets_count']*retweets_weighting)\n"
   ]
  },
  {
   "cell_type": "code",
   "execution_count": 19,
   "id": "fdda2702",
   "metadata": {
    "ExecuteTime": {
     "end_time": "2021-06-15T08:33:40.164354Z",
     "start_time": "2021-06-15T08:33:40.129785Z"
    }
   },
   "outputs": [],
   "source": [
    "#create groups by MP, then can get group and do the data analysis\n",
    "figure_groups = df.groupby('figure')"
   ]
  },
  {
   "cell_type": "code",
   "execution_count": 20,
   "id": "70315455",
   "metadata": {
    "ExecuteTime": {
     "end_time": "2021-06-15T08:33:40.735045Z",
     "start_time": "2021-06-15T08:33:40.676613Z"
    }
   },
   "outputs": [
    {
     "data": {
      "text/html": [
       "<div>\n",
       "<style scoped>\n",
       "    .dataframe tbody tr th:only-of-type {\n",
       "        vertical-align: middle;\n",
       "    }\n",
       "\n",
       "    .dataframe tbody tr th {\n",
       "        vertical-align: top;\n",
       "    }\n",
       "\n",
       "    .dataframe thead th {\n",
       "        text-align: right;\n",
       "    }\n",
       "</style>\n",
       "<table border=\"1\" class=\"dataframe\">\n",
       "  <thead>\n",
       "    <tr style=\"text-align: right;\">\n",
       "      <th></th>\n",
       "      <th>date</th>\n",
       "      <th>popularity</th>\n",
       "      <th>likes_count</th>\n",
       "    </tr>\n",
       "  </thead>\n",
       "  <tbody>\n",
       "    <tr>\n",
       "      <th>0</th>\n",
       "      <td>2021-01-01</td>\n",
       "      <td>-24.5</td>\n",
       "      <td>105</td>\n",
       "    </tr>\n",
       "    <tr>\n",
       "      <th>1</th>\n",
       "      <td>2021-01-02</td>\n",
       "      <td>-25.5</td>\n",
       "      <td>275</td>\n",
       "    </tr>\n",
       "  </tbody>\n",
       "</table>\n",
       "</div>"
      ],
      "text/plain": [
       "        date  popularity  likes_count\n",
       "0 2021-01-01       -24.5          105\n",
       "1 2021-01-02       -25.5          275"
      ]
     },
     "execution_count": 20,
     "metadata": {},
     "output_type": "execute_result"
    }
   ],
   "source": [
    "#create dataframe of tweets for mh, summing up the predictions and likes_counts\n",
    "mh = figure_groups.get_group('matthancock').groupby('date',as_index=False).agg({'popularity':'sum','likes_count':'sum',})\n",
    "mh.head(2)"
   ]
  },
  {
   "cell_type": "code",
   "execution_count": 21,
   "id": "f059f801",
   "metadata": {
    "ExecuteTime": {
     "end_time": "2021-06-15T08:33:41.619191Z",
     "start_time": "2021-06-15T08:33:41.453027Z"
    }
   },
   "outputs": [
    {
     "data": {
      "image/png": "[encoded data removed]",
      "text/plain": [
       "<Figure size 720x432 with 1 Axes>"
      ]
     },
     "metadata": {
      "needs_background": "light"
     },
     "output_type": "display_data"
    }
   ],
   "source": [
    "fig = plt.figure(figsize=(10,6))\n",
    "plt.grid('minor')\n",
    "plt.plot(mh.date,mh.popularity)\n",
    "plt.title('Matt Hancock since 2021')\n",
    "plt.show()"
   ]
  },
  {
   "cell_type": "code",
   "execution_count": 22,
   "id": "2247f15b",
   "metadata": {
    "ExecuteTime": {
     "end_time": "2021-06-14T08:07:50.107179Z",
     "start_time": "2021-06-14T08:07:50.090303Z"
    }
   },
   "outputs": [],
   "source": [
    "#lets try and find the negative tweets...\n",
    "#getting a battering following the allegations from dominic cummings and defending himself against MPs \n",
    "#- think this is the case"
   ]
  },
  {
   "cell_type": "code",
   "execution_count": 22,
   "id": "43388c65",
   "metadata": {
    "ExecuteTime": {
     "end_time": "2021-06-15T08:33:48.676184Z",
     "start_time": "2021-06-15T08:33:48.629769Z"
    }
   },
   "outputs": [],
   "source": [
    "mh_test = figure_groups.get_group('matthancock')"
   ]
  },
  {
   "cell_type": "code",
   "execution_count": 23,
   "id": "e43b1d4f",
   "metadata": {
    "ExecuteTime": {
     "end_time": "2021-06-15T08:33:48.984078Z",
     "start_time": "2021-06-15T08:33:48.938043Z"
    }
   },
   "outputs": [],
   "source": [
    "negative_search = mh_test[(mh_test['date']>'2021-06-01')&(mh_test['date']<'2021-06-15')&(mh_test['prediction']==-1)]"
   ]
  },
  {
   "cell_type": "code",
   "execution_count": 24,
   "id": "3c5fc48c",
   "metadata": {
    "ExecuteTime": {
     "end_time": "2021-06-15T08:33:49.315825Z",
     "start_time": "2021-06-15T08:33:49.272064Z"
    }
   },
   "outputs": [
    {
     "data": {
      "text/plain": [
       "Index(['id', 'conversation_id', 'created_at', 'date', 'time', 'user_id',\n",
       "       'tweet', 'language', 'replies_count', 'retweets_count', 'likes_count',\n",
       "       'hashtags', 'geo', 'figure', 'prediction', 'popularity'],\n",
       "      dtype='object')"
      ]
     },
     "execution_count": 24,
     "metadata": {},
     "output_type": "execute_result"
    }
   ],
   "source": [
    "negative_search.columns"
   ]
  },
  {
   "cell_type": "code",
   "execution_count": 25,
   "id": "631b3f8c",
   "metadata": {
    "ExecuteTime": {
     "end_time": "2021-06-15T08:33:50.137992Z",
     "start_time": "2021-06-15T08:33:50.092297Z"
    }
   },
   "outputs": [
    {
     "data": {
      "text/plain": [
       "array(['Matt Hancock: “There was no national shortage of PPE”  https://t.co/2dpBkiMuZA',\n",
       "       'Matt Hancock saying they didn’t test people sent back into care homes because they didn’t test asymptomatic cases will really annoy Matt Hancock who said they didn’t test people because of a lack of tests which will really annoy Matt Hancock who said everyone would be tested.',\n",
       "       'How can @MattHancock stand there and say “there is no room for complacency” after delaying *three weeks* before putting India on red list once Delta variant discovered in the UK?  Shameless',\n",
       "       'Today: ▪️Govt broke the law on contracts ▪️They want to break their “oven ready” Brexit deal ▪️They’re threatening to break international law ▪️It’s revealed Matt Hancock knew re care homes risk in March 2020 ▪️PM took jet to talk about climate crisis  And the day isn’t over yet',\n",
       "       'CHRIST  Matt Hancock is defending the Govt’s decision to not cover people’s salaries when required to self-isolate  He actually said…  He didn’t want A NETWORK OF FRIENDS TO GAME THE SYSTEM',\n",
       "       '🤦\\u200d♀️Was trying to be constructive In questioning @matthancock but he responded in irritable &amp; patronising way - no answers to serious questions eg asking him to follow the expert scientific advice that there’s still a need for masks in classrooms- not least as Delta variant surges'],\n",
       "      dtype=object)"
      ]
     },
     "execution_count": 25,
     "metadata": {},
     "output_type": "execute_result"
    }
   ],
   "source": [
    "negative_search.sort_values(by='likes_count', ascending=False).iloc[:6,:].tweet.values"
   ]
  },
  {
   "cell_type": "code",
   "execution_count": 26,
   "id": "ef3ce1fc",
   "metadata": {
    "ExecuteTime": {
     "end_time": "2021-06-15T08:33:52.201551Z",
     "start_time": "2021-06-15T08:33:52.158626Z"
    }
   },
   "outputs": [],
   "source": [
    "positive_search=mh_test[(mh_test['date']>'2021-04-10')&(mh_test['date']<'2021-04-15')&(mh_test['prediction']==1)]"
   ]
  },
  {
   "cell_type": "code",
   "execution_count": 27,
   "id": "fcb7b04a",
   "metadata": {
    "ExecuteTime": {
     "end_time": "2021-06-15T08:33:52.705699Z",
     "start_time": "2021-06-15T08:33:52.659813Z"
    }
   },
   "outputs": [
    {
     "data": {
      "text/plain": [
       "array([\"NHS workers in Scotland will get a 4% pay rise. I've just signed the petition demanding @MattHancock and @RishiSunak give #NHS staff in England a REAL payrise. 1% is just not good enough. Will you join me?  https://t.co/jBR90Wp9ei\",\n",
       "       'Listen 🎧 to my interview with Ali Parsa - CEO @babylonhealth   cc: @Gil_Bashe @NHSEngland @SpiritDigitalUK @MSF_uk @UrsBolt @UiPath @JohnNosta @ZGJR @zajctjasa @daniel_kraft @innonurse @MattHancock @SiemensHealth @_FaceSA @ValaAfshar @SpirosMargaris @drjohnwhyte  #digitalhealth',\n",
       "       'Important article by @EveSimmns in today’s @mailonsundaySTL  I comment on how so many sexualised #online images are unhelpful for #youngpeople and their #mentalhealth #fitspo @rcpsych @RcpsychCAP @YoungMindsUK @psych_cypf @cypnow @BPSOfficial @ACPtherapy @IFT_london @MattHancock',\n",
       "       'Great message from @MattHancock thank you! Derbyshire Conservative’s are really delivering for #Derbyshire residents. 55% of people vaccinated - ahead of national average.  https://t.co/I1fKooFFbq',\n",
       "       \"@MattHancock @ONS Fantastic news! That should help you flog it off! Will you get more than Cameron's 71 million?\"],\n",
       "      dtype=object)"
      ]
     },
     "execution_count": 27,
     "metadata": {},
     "output_type": "execute_result"
    }
   ],
   "source": [
    "positive_search.sort_values(by='likes_count', ascending=False).tweet.values[:5]"
   ]
  },
  {
   "cell_type": "markdown",
   "id": "8d82b139",
   "metadata": {},
   "source": [
    "## making an example for borisjohnson for LDA"
   ]
  },
  {
   "cell_type": "code",
   "execution_count": 29,
   "id": "b6d97f0f",
   "metadata": {
    "ExecuteTime": {
     "end_time": "2021-06-14T08:07:50.261582Z",
     "start_time": "2021-06-14T08:07:50.232928Z"
    }
   },
   "outputs": [],
   "source": [
    "# boris = figure_groups.get_group('borisjohnson')///"
   ]
  },
  {
   "cell_type": "code",
   "execution_count": 30,
   "id": "05e4713b",
   "metadata": {
    "ExecuteTime": {
     "end_time": "2021-06-14T08:07:50.283914Z",
     "start_time": "2021-06-14T08:07:50.262674Z"
    }
   },
   "outputs": [],
   "source": [
    "# boris_negative = boris[boris['prediction'] == -1]"
   ]
  },
  {
   "cell_type": "markdown",
   "id": "b55ad26f",
   "metadata": {
    "ExecuteTime": {
     "end_time": "2021-06-13T15:19:54.454298Z",
     "start_time": "2021-06-13T15:19:54.400913Z"
    }
   },
   "source": [
    "## REMOVE AFTER"
   ]
  },
  {
   "cell_type": "code",
   "execution_count": 31,
   "id": "e54415f6",
   "metadata": {
    "ExecuteTime": {
     "end_time": "2021-06-14T08:07:50.301552Z",
     "start_time": "2021-06-14T08:07:50.285041Z"
    }
   },
   "outputs": [],
   "source": [
    "# negative_search = boris_negative.copy() #just to avoid changing the code below"
   ]
  },
  {
   "cell_type": "markdown",
   "id": "c7848d9f",
   "metadata": {},
   "source": [
    "# LDA Modelling"
   ]
  },
  {
   "cell_type": "code",
   "execution_count": 28,
   "id": "f109d191",
   "metadata": {
    "ExecuteTime": {
     "end_time": "2021-06-15T08:34:06.846716Z",
     "start_time": "2021-06-15T08:34:05.451411Z"
    },
    "scrolled": true
   },
   "outputs": [
    {
     "name": "stderr",
     "output_type": "stream",
     "text": [
      "/Users/danielmarron/.pyenv/versions/le_kingmakers/lib/python3.8/site-packages/gensim/similarities/__init__.py:15: UserWarning: The gensim.similarities.levenshtein submodule is disabled, because the optional Levenshtein package <https://pypi.org/project/python-Levenshtein/> is unavailable. Install Levenhstein (e.g. `pip install python-Levenshtein`) to suppress this warning.\n",
      "  warnings.warn(msg)\n"
     ]
    }
   ],
   "source": [
    "import re\n",
    "import numpy as np\n",
    "import pandas as pd\n",
    "from pprint import pprint\n",
    "\n",
    "# Gensim\n",
    "import gensim\n",
    "import gensim.corpora as corpora\n",
    "from gensim.utils import simple_preprocess\n",
    "from gensim.models import CoherenceModel\n",
    "\n",
    "# spacy for lemmatization\n",
    "import spacy\n",
    "\n",
    "# Plotting tools\n",
    "import pyLDAvis\n",
    "import pyLDAvis.gensim_models as gensimvis \n",
    "# The pyLDAvis gensim name changed. When I use gensim_models rather than gensim the interactive viz works.# don't skip this\n",
    "# import matplotlib.pyplot as plt\n",
    "# %matplotlib inline\n",
    "\n",
    "# Enable logging for gensim - optional\n",
    "import logging\n",
    "logging.basicConfig(format='%(asctime)s : %(levelname)s : %(message)s', level=logging.ERROR)\n",
    "\n",
    "import warnings\n",
    "warnings.filterwarnings(\"ignore\",category=DeprecationWarning)"
   ]
  },
  {
   "cell_type": "code",
   "execution_count": 29,
   "id": "2dd69423",
   "metadata": {
    "ExecuteTime": {
     "end_time": "2021-06-15T08:34:10.623747Z",
     "start_time": "2021-06-15T08:34:10.572120Z"
    }
   },
   "outputs": [],
   "source": [
    "from nltk.corpus import stopwords\n",
    "stop_words = stopwords.words('english')\n",
    "import string\n",
    "from nltk import word_tokenize"
   ]
  },
  {
   "cell_type": "markdown",
   "id": "a4c2bf68",
   "metadata": {},
   "source": [
    "## Add to stopwords:\n"
   ]
  },
  {
   "cell_type": "code",
   "execution_count": 30,
   "id": "9cfc59bd",
   "metadata": {
    "ExecuteTime": {
     "end_time": "2021-06-15T08:34:12.396738Z",
     "start_time": "2021-06-15T08:34:12.343850Z"
    }
   },
   "outputs": [
    {
     "data": {
      "text/plain": [
       "188"
      ]
     },
     "execution_count": 30,
     "metadata": {},
     "output_type": "execute_result"
    }
   ],
   "source": [
    "added_words = ['matthancock','matt','hancock','get','say','amp', 'boris', 'borisjohnson', 'johnson']\n",
    "stop_words.extend(added_words)\n",
    "# stop_words=set(stop_words)\n",
    "len(stop_words)"
   ]
  },
  {
   "cell_type": "code",
   "execution_count": 31,
   "id": "90cfd06f",
   "metadata": {
    "ExecuteTime": {
     "end_time": "2021-06-15T08:34:15.200263Z",
     "start_time": "2021-06-15T08:34:15.145322Z"
    }
   },
   "outputs": [],
   "source": [
    "#new basic data cleaning being used\n",
    "\n",
    "def preprocess_tweet(text):\n",
    "    # Check characters to see if they are in punctuation\n",
    "    nopunc = [char for char in text if char not in string.punctuation]\n",
    "    # Join the characters again to form the string.\n",
    "    nopunc = ''.join(nopunc)\n",
    "    # convert text to lower-case\n",
    "    nopunc = nopunc.lower()\n",
    "    # remove URLs\n",
    "    nopunc = re.sub('((www\\.[^\\s]+)|(https?://[^\\s]+)|(http?://[^\\s]+))', '', nopunc)\n",
    "    nopunc = re.sub(r'http\\S+', '', nopunc)\n",
    "    # remove usernames\n",
    "    nopunc = re.sub('@[^\\s]+', '', nopunc)\n",
    "    # remove the # in #hashtag\n",
    "    nopunc = re.sub(r'#([^\\s]+)', r'\\1', nopunc)\n",
    "    # remove repeated characters\n",
    "#     nopunc = word_tokenize(nopunc)\n",
    "    # remove stopwords from final word list\n",
    "#     return [word for word in nopunc if word not in stopwords.words('english')]\n",
    "    return nopunc"
   ]
  },
  {
   "cell_type": "code",
   "execution_count": 32,
   "id": "a019f420",
   "metadata": {
    "ExecuteTime": {
     "end_time": "2021-06-15T08:34:17.235283Z",
     "start_time": "2021-06-15T08:34:17.184093Z"
    }
   },
   "outputs": [
    {
     "data": {
      "text/plain": [
       "'Matt Hancock said the Covid-19 mutation that originated in India now makes up 91% of new cases in the UK...   https://t.co/9Ro8oh97ie'"
      ]
     },
     "execution_count": 32,
     "metadata": {},
     "output_type": "execute_result"
    }
   ],
   "source": [
    "# raw tweet\n",
    "negative_search.tweet.values[0]"
   ]
  },
  {
   "cell_type": "code",
   "execution_count": 33,
   "id": "9f0f7f3a",
   "metadata": {
    "ExecuteTime": {
     "end_time": "2021-06-15T08:34:20.619926Z",
     "start_time": "2021-06-15T08:34:20.568921Z"
    }
   },
   "outputs": [
    {
     "data": {
      "text/plain": [
       "'matt hancock said the covid19 mutation that originated in india now makes up 91 of new cases in the uk   '"
      ]
     },
     "execution_count": 33,
     "metadata": {},
     "output_type": "execute_result"
    }
   ],
   "source": [
    "#result:\n",
    "preprocess_tweet(negative_search.tweet.values[0])"
   ]
  },
  {
   "cell_type": "markdown",
   "id": "14f9b3ad",
   "metadata": {},
   "source": [
    "## create new dateframe to do the lda - this is on negative tweets only"
   ]
  },
  {
   "cell_type": "code",
   "execution_count": 34,
   "id": "451cee4a",
   "metadata": {
    "ExecuteTime": {
     "end_time": "2021-06-15T08:35:31.764521Z",
     "start_time": "2021-06-15T08:35:31.712180Z"
    }
   },
   "outputs": [
    {
     "data": {
      "text/plain": [
       "(5360, 16)"
      ]
     },
     "execution_count": 34,
     "metadata": {},
     "output_type": "execute_result"
    }
   ],
   "source": [
    "lda_df = negative_search #this is from dates above\n",
    "lda_df.shape"
   ]
  },
  {
   "cell_type": "code",
   "execution_count": 35,
   "id": "b40c8ea6",
   "metadata": {
    "ExecuteTime": {
     "end_time": "2021-06-15T08:35:35.479393Z",
     "start_time": "2021-06-15T08:35:35.278105Z"
    }
   },
   "outputs": [
    {
     "name": "stderr",
     "output_type": "stream",
     "text": [
      "<ipython-input-35-4a6a154d9d71>:1: SettingWithCopyWarning: \n",
      "A value is trying to be set on a copy of a slice from a DataFrame.\n",
      "Try using .loc[row_indexer,col_indexer] = value instead\n",
      "\n",
      "See the caveats in the documentation: https://pandas.pydata.org/pandas-docs/stable/user_guide/indexing.html#returning-a-view-versus-a-copy\n",
      "  lda_df['tweet'] = lda_df.tweet.map(preprocess_tweet)\n"
     ]
    }
   ],
   "source": [
    "lda_df['tweet'] = lda_df.tweet.map(preprocess_tweet)"
   ]
  },
  {
   "cell_type": "markdown",
   "id": "90348277",
   "metadata": {},
   "source": [
    "## preprocess dataframe"
   ]
  },
  {
   "cell_type": "code",
   "execution_count": 36,
   "id": "68f7615a",
   "metadata": {
    "ExecuteTime": {
     "end_time": "2021-06-15T08:35:38.670000Z",
     "start_time": "2021-06-15T08:35:38.619240Z"
    }
   },
   "outputs": [],
   "source": [
    "def sent_to_words(sentences):\n",
    "    for sentence in sentences:\n",
    "        yield(gensim.utils.simple_preprocess(str(sentence), deacc=True))"
   ]
  },
  {
   "cell_type": "code",
   "execution_count": 37,
   "id": "855096a0",
   "metadata": {
    "ExecuteTime": {
     "end_time": "2021-06-15T08:35:39.306850Z",
     "start_time": "2021-06-15T08:35:38.952505Z"
    }
   },
   "outputs": [],
   "source": [
    "data_words = list(sent_to_words(lda_df['tweet']))"
   ]
  },
  {
   "cell_type": "markdown",
   "id": "767a0231",
   "metadata": {},
   "source": [
    "## build bigram and trigram models"
   ]
  },
  {
   "cell_type": "code",
   "execution_count": 38,
   "id": "d055d811",
   "metadata": {
    "ExecuteTime": {
     "end_time": "2021-06-15T08:35:41.490720Z",
     "start_time": "2021-06-15T08:35:40.757049Z"
    }
   },
   "outputs": [
    {
     "name": "stdout",
     "output_type": "stream",
     "text": [
      "['matt', 'hancock', 'said', 'the', 'covid', 'mutation', 'that', 'originated', 'in', 'india', 'now', 'makes', 'up', 'of', 'new', 'cases', 'in', 'the', 'uk']\n"
     ]
    }
   ],
   "source": [
    "bigram = gensim.models.Phrases(data_words, min_count=5, threshold=100) # higher threshold fewer phrases.\n",
    "trigram = gensim.models.Phrases(bigram[data_words], threshold=100) \n",
    "\n",
    "bigram_mod = gensim.models.phrases.Phraser(bigram)\n",
    "trigram_mod = gensim.models.phrases.Phraser(trigram)\n",
    "\n",
    "print(trigram_mod[bigram_mod[data_words[0]]])"
   ]
  },
  {
   "cell_type": "markdown",
   "id": "06f47446",
   "metadata": {},
   "source": [
    "## Remove Stopwords, Make Bigrams and Lemmatize"
   ]
  },
  {
   "cell_type": "code",
   "execution_count": 39,
   "id": "7f34de38",
   "metadata": {
    "ExecuteTime": {
     "end_time": "2021-06-15T08:35:41.772648Z",
     "start_time": "2021-06-15T08:35:41.728167Z"
    }
   },
   "outputs": [],
   "source": [
    "def remove_stopwords(texts):\n",
    "    return [[word for word in simple_preprocess(str(doc)) if word not in stop_words] for doc in texts]\n",
    "\n",
    "def make_bigrams(texts):\n",
    "    return [bigram_mod[doc] for doc in texts]\n",
    "\n",
    "def make_trigrams(texts):\n",
    "    return [trigram_mod[bigram_mod[doc]] for doc in texts]\n",
    "\n",
    "def lemmatization(texts, allowed_postags=['NOUN', 'ADJ', 'VERB', 'ADV']):\n",
    "    \"\"\"https://spacy.io/api/annotation\"\"\"\n",
    "    texts_out = []\n",
    "    for sent in texts:\n",
    "        doc = nlp(\" \".join(sent)) \n",
    "        texts_out.append([token.lemma_ for token in doc if token.pos_ in allowed_postags])\n",
    "    return texts_out"
   ]
  },
  {
   "cell_type": "code",
   "execution_count": 40,
   "id": "d47b4191",
   "metadata": {
    "ExecuteTime": {
     "end_time": "2021-06-15T08:35:43.274149Z",
     "start_time": "2021-06-15T08:35:42.812962Z"
    }
   },
   "outputs": [],
   "source": [
    "# Remove Stop Words\n",
    "data_words_nostops = remove_stopwords(data_words)"
   ]
  },
  {
   "cell_type": "code",
   "execution_count": 41,
   "id": "e98ebce6",
   "metadata": {
    "ExecuteTime": {
     "end_time": "2021-06-15T08:35:43.427347Z",
     "start_time": "2021-06-15T08:35:43.352787Z"
    }
   },
   "outputs": [],
   "source": [
    "# Form Bigrams\n",
    "data_words_bigrams = make_bigrams(data_words_nostops)"
   ]
  },
  {
   "cell_type": "code",
   "execution_count": 42,
   "id": "141411b7",
   "metadata": {
    "ExecuteTime": {
     "end_time": "2021-06-15T08:35:43.937763Z",
     "start_time": "2021-06-15T08:35:43.512585Z"
    }
   },
   "outputs": [],
   "source": [
    "# Initialize spacy 'en' model, keeping only tagger component (for efficiency)\n",
    "# python3 -m spacy download en #had to do this in terminal\n",
    "# nlp = spacy.load('en', disable=['parser', 'ner'])\n",
    "nlp = spacy.load(\"en_core_web_sm\")\n",
    "\n",
    "# import en_core_web_sm - this bit was just a check, can delete\n",
    "# nlp = en_core_web_sm.load()"
   ]
  },
  {
   "cell_type": "markdown",
   "id": "1475c0f9",
   "metadata": {
    "ExecuteTime": {
     "end_time": "2021-06-13T14:20:17.472070Z",
     "start_time": "2021-06-13T14:20:17.448220Z"
    }
   },
   "source": [
    "#### takes time...:"
   ]
  },
  {
   "cell_type": "code",
   "execution_count": 43,
   "id": "96e08e05",
   "metadata": {
    "ExecuteTime": {
     "end_time": "2021-06-15T08:36:07.456776Z",
     "start_time": "2021-06-15T08:35:44.122601Z"
    }
   },
   "outputs": [
    {
     "name": "stdout",
     "output_type": "stream",
     "text": [
      "[['say', 'covid', 'mutation', 'originate', 'india', 'make', 'new', 'case']]\n"
     ]
    }
   ],
   "source": [
    "# Do lemmatization keeping only noun, adj, vb, adv\n",
    "data_lemmatized = lemmatization(data_words_bigrams, allowed_postags=['NOUN', 'ADJ', 'VERB', 'ADV'])\n",
    "\n",
    "print(data_lemmatized[:1])"
   ]
  },
  {
   "cell_type": "markdown",
   "id": "27e56d2e",
   "metadata": {},
   "source": [
    "## Create the Dictionary and Corpus needed for Topic Modeling"
   ]
  },
  {
   "cell_type": "code",
   "execution_count": 44,
   "id": "e7402146",
   "metadata": {
    "ExecuteTime": {
     "end_time": "2021-06-15T08:36:07.706435Z",
     "start_time": "2021-06-15T08:36:07.580511Z"
    }
   },
   "outputs": [
    {
     "name": "stdout",
     "output_type": "stream",
     "text": [
      "[[(0, 1), (1, 1), (2, 1), (3, 1), (4, 1), (5, 1), (6, 1), (7, 1)]]\n"
     ]
    }
   ],
   "source": [
    "# Create Dictionary\n",
    "id2word = corpora.Dictionary(data_lemmatized)\n",
    "\n",
    "# Create Corpus\n",
    "texts = data_lemmatized\n",
    "\n",
    "# Term Document Frequency\n",
    "corpus = [id2word.doc2bow(text) for text in texts]\n",
    "\n",
    "# View\n",
    "print(corpus[:1])\n"
   ]
  },
  {
   "cell_type": "code",
   "execution_count": 45,
   "id": "346691c1",
   "metadata": {
    "ExecuteTime": {
     "end_time": "2021-06-15T08:36:07.847059Z",
     "start_time": "2021-06-15T08:36:07.821751Z"
    }
   },
   "outputs": [
    {
     "data": {
      "text/plain": [
       "'geezadiamondme'"
      ]
     },
     "execution_count": 45,
     "metadata": {},
     "output_type": "execute_result"
    }
   ],
   "source": [
    "id2word[30]"
   ]
  },
  {
   "cell_type": "code",
   "execution_count": 50,
   "id": "729a778f",
   "metadata": {
    "ExecuteTime": {
     "end_time": "2021-06-14T08:08:14.101196Z",
     "start_time": "2021-06-14T08:08:14.079606Z"
    }
   },
   "outputs": [],
   "source": [
    "# Human readable format of corpus (term-frequency)\n",
    "# [[(id2word[id], freq) for id, freq in cp] for cp in corpus[:2]] #try this out - break down of each tweet/sentence"
   ]
  },
  {
   "cell_type": "markdown",
   "id": "a634280b",
   "metadata": {},
   "source": [
    "## build LDA model"
   ]
  },
  {
   "cell_type": "code",
   "execution_count": 46,
   "id": "e0353705",
   "metadata": {
    "ExecuteTime": {
     "end_time": "2021-06-15T09:13:58.498030Z",
     "start_time": "2021-06-15T09:13:51.865390Z"
    }
   },
   "outputs": [
    {
     "name": "stdout",
     "output_type": "stream",
     "text": [
      "CPU times: user 2 µs, sys: 5 µs, total: 7 µs\n",
      "Wall time: 15 µs\n"
     ]
    }
   ],
   "source": [
    "#these are all the parameters to play with\n",
    "%time\n",
    "lda_model = gensim.models.ldamodel.LdaModel(corpus=corpus,\n",
    "                                           id2word=id2word,\n",
    "                                           num_topics=5, \n",
    "                                           random_state=100,\n",
    "                                           update_every=1, #how often parameters should be updated #0 for batch learning\n",
    "                                           chunksize=100,\n",
    "                                           passes=10, #total number of training passes\n",
    "                                           alpha='auto',\n",
    "                                           per_word_topics=True)"
   ]
  },
  {
   "cell_type": "code",
   "execution_count": 47,
   "id": "4824a5a1",
   "metadata": {
    "ExecuteTime": {
     "end_time": "2021-06-15T09:13:58.767209Z",
     "start_time": "2021-06-15T09:13:58.737953Z"
    }
   },
   "outputs": [
    {
     "name": "stdout",
     "output_type": "stream",
     "text": [
      "[(0,\n",
      "  '0.016*\"find\" + 0.015*\"try\" + 0.014*\"answer\" + 0.012*\"mask\" + 0.011*\"maybe\" '\n",
      "  '+ 0.010*\"ppaulcharle\" + 0.009*\"call\" + 0.009*\"resign\" + 0.009*\"remember\" + '\n",
      "  '0.008*\"lose\"'),\n",
      " (1,\n",
      "  '0.035*\"people\" + 0.024*\"know\" + 0.016*\"think\" + 0.016*\"still\" + 0.014*\"nhs\" '\n",
      "  '+ 0.014*\"need\" + 0.013*\"liar\" + 0.013*\"tell\" + 0.012*\"time\" + '\n",
      "  '0.011*\"believe\"'),\n",
      " (2,\n",
      "  '0.017*\"get\" + 0.016*\"s\" + 0.015*\"test\" + 0.015*\"really\" + 0.014*\"child\" + '\n",
      "  '0.010*\"do\" + 0.010*\"question\" + 0.009*\"england\" + 0.009*\"show\" + '\n",
      "  '0.008*\"risk\"'),\n",
      " (3,\n",
      "  '0.035*\"lie\" + 0.023*\"covid\" + 0.019*\"say\" + 0.019*\"go\" + 0.017*\"make\" + '\n",
      "  '0.016*\"death\" + 0.012*\"government\" + 0.012*\"tory\" + 0.012*\"never\" + '\n",
      "  '0.011*\"ppe\"'),\n",
      " (4,\n",
      "  '0.041*\"vaccine\" + 0.020*\"andrewbowiemp\" + 0.017*\"take\" + 0.016*\"day\" + '\n",
      "  '0.015*\"way\" + 0.012*\"back\" + 0.010*\"money\" + 0.010*\"also\" + '\n",
      "  '0.009*\"scotland\" + 0.008*\"wrong\"')]\n"
     ]
    }
   ],
   "source": [
    "#hidden for now - just a visual on the data\n",
    "pprint(lda_model.print_topics())\n",
    "doc_lda = lda_model[corpus]"
   ]
  },
  {
   "cell_type": "markdown",
   "id": "c4d1db29",
   "metadata": {},
   "source": [
    "## judging model score"
   ]
  },
  {
   "cell_type": "code",
   "execution_count": 48,
   "id": "ecc0f563",
   "metadata": {
    "ExecuteTime": {
     "end_time": "2021-06-15T09:14:04.614481Z",
     "start_time": "2021-06-15T09:13:58.888583Z"
    }
   },
   "outputs": [
    {
     "name": "stdout",
     "output_type": "stream",
     "text": [
      "\n",
      "Perplexity:  -8.749543974993754\n",
      "\n",
      "Coherence Score:  0.2791675357977853\n"
     ]
    }
   ],
   "source": [
    "# Compute Perplexity\n",
    "print('\\nPerplexity: ', lda_model.log_perplexity(corpus))  # a measure of how good the model is. lower the better.\n",
    "\n",
    "# Compute Coherence Score\n",
    "coherence_model_lda = CoherenceModel(model=lda_model, texts=data_lemmatized, dictionary=id2word, coherence='c_v')\n",
    "coherence_lda = coherence_model_lda.get_coherence()\n",
    "print('\\nCoherence Score: ', coherence_lda)\n",
    "#suppose higher the better?"
   ]
  },
  {
   "cell_type": "code",
   "execution_count": 54,
   "id": "11505f9b",
   "metadata": {
    "ExecuteTime": {
     "end_time": "2021-06-14T08:08:26.012575Z",
     "start_time": "2021-06-14T08:08:25.981041Z"
    }
   },
   "outputs": [],
   "source": [
    "#could grid search to find optimum coherence score? 9 is best so far"
   ]
  },
  {
   "cell_type": "markdown",
   "id": "16e6dbf9",
   "metadata": {},
   "source": [
    "## visualise"
   ]
  },
  {
   "cell_type": "code",
   "execution_count": 51,
   "id": "25b51d21",
   "metadata": {
    "ExecuteTime": {
     "end_time": "2021-06-15T09:15:45.312366Z",
     "start_time": "2021-06-15T09:15:44.617437Z"
    }
   },
   "outputs": [],
   "source": [
    "pyLDAvis.enable_notebook()\n",
    "vis = pyLDAvis.gensim_models.prepare(lda_model, corpus, id2word)\n",
    "vis\n",
    "\n",
    "pyLDAvis.save_html(vis, 'lda.html')"
   ]
  },
  {
   "cell_type": "code",
   "execution_count": 57,
   "id": "97ad41ad",
   "metadata": {
    "ExecuteTime": {
     "end_time": "2021-06-15T09:20:31.757930Z",
     "start_time": "2021-06-15T09:20:31.621662Z"
    }
   },
   "outputs": [
    {
     "data": {
      "text/plain": [
       "DeltaGenerator(_root_container=0, _provided_cursor=None, _parent=None, _block_type=None, _form_data=None)"
      ]
     },
     "execution_count": 57,
     "metadata": {},
     "output_type": "execute_result"
    }
   ],
   "source": [
    "import streamlit.components.v1 as components\n",
    "HtmlFile = open('lda.html', 'r', encoding='utf-8')\n",
    "source_code = HtmlFile.read()\n",
    "components.html(source_code)"
   ]
  },
  {
   "cell_type": "markdown",
   "id": "1d1683a3",
   "metadata": {},
   "source": [
    "--------------------\n",
    "\n",
    "--------------------\n",
    "\n",
    "--------------------\n",
    "\n",
    "--------------------"
   ]
  },
  {
   "cell_type": "markdown",
   "id": "d81b984c",
   "metadata": {},
   "source": [
    "## Building LDA Mallet Model"
   ]
  },
  {
   "cell_type": "code",
   "execution_count": 56,
   "id": "66e9ab5a",
   "metadata": {
    "ExecuteTime": {
     "end_time": "2021-06-14T08:08:28.259197Z",
     "start_time": "2021-06-14T08:08:27.950806Z"
    },
    "scrolled": true
   },
   "outputs": [
    {
     "ename": "AttributeError",
     "evalue": "module 'gensim.models' has no attribute 'wrappers'",
     "output_type": "error",
     "traceback": [
      "\u001b[0;31m---------------------------------------------------------------------------\u001b[0m",
      "\u001b[0;31mAttributeError\u001b[0m                            Traceback (most recent call last)",
      "\u001b[0;32m<ipython-input-56-77994cdf478d>\u001b[0m in \u001b[0;36m<module>\u001b[0;34m\u001b[0m\n\u001b[1;32m      1\u001b[0m \u001b[0mmallet_path\u001b[0m \u001b[0;34m=\u001b[0m \u001b[0;34m'mallet-2.0.8/bin/mallet'\u001b[0m \u001b[0;31m# update this path\u001b[0m\u001b[0;34m\u001b[0m\u001b[0;34m\u001b[0m\u001b[0m\n\u001b[0;32m----> 2\u001b[0;31m \u001b[0mldamallet\u001b[0m \u001b[0;34m=\u001b[0m \u001b[0mgensim\u001b[0m\u001b[0;34m.\u001b[0m\u001b[0mmodels\u001b[0m\u001b[0;34m.\u001b[0m\u001b[0mwrappers\u001b[0m\u001b[0;34m.\u001b[0m\u001b[0mLdaMallet\u001b[0m\u001b[0;34m(\u001b[0m\u001b[0mmallet_path\u001b[0m\u001b[0;34m,\u001b[0m \u001b[0mcorpus\u001b[0m\u001b[0;34m=\u001b[0m\u001b[0mcorpus\u001b[0m\u001b[0;34m,\u001b[0m \u001b[0mnum_topics\u001b[0m\u001b[0;34m=\u001b[0m\u001b[0;36m20\u001b[0m\u001b[0;34m,\u001b[0m \u001b[0mid2word\u001b[0m\u001b[0;34m=\u001b[0m\u001b[0mid2word\u001b[0m\u001b[0;34m)\u001b[0m\u001b[0;34m\u001b[0m\u001b[0;34m\u001b[0m\u001b[0m\n\u001b[0m",
      "\u001b[0;31mAttributeError\u001b[0m: module 'gensim.models' has no attribute 'wrappers'"
     ]
    }
   ],
   "source": [
    "mallet_path = 'mallet-2.0.8/bin/mallet' # update this path\n",
    "ldamallet = gensim.models.wrappers.LdaMallet(mallet_path, corpus=corpus, num_topics=20, id2word=id2word)"
   ]
  },
  {
   "cell_type": "code",
   "execution_count": null,
   "id": "37a91463",
   "metadata": {},
   "outputs": [],
   "source": []
  }
 ],
 "metadata": {
  "kernelspec": {
   "display_name": "le_kingmakers",
   "language": "python",
   "name": "le_kingmakers"
  },
  "language_info": {
   "codemirror_mode": {
    "name": "ipython",
    "version": 3
   },
   "file_extension": ".py",
   "mimetype": "text/x-python",
   "name": "python",
   "nbconvert_exporter": "python",
   "pygments_lexer": "ipython3",
   "version": "3.8.6"
  },
  "toc": {
   "base_numbering": 1,
   "nav_menu": {},
   "number_sections": true,
   "sideBar": true,
   "skip_h1_title": false,
   "title_cell": "Table of Contents",
   "title_sidebar": "Contents",
   "toc_cell": false,
   "toc_position": {},
   "toc_section_display": true,
   "toc_window_display": false
  },
  "varInspector": {
   "cols": {
    "lenName": 16,
    "lenType": 16,
    "lenVar": 40
   },
   "kernels_config": {
    "python": {
     "delete_cmd_postfix": "",
     "delete_cmd_prefix": "del ",
     "library": "var_list.py",
     "varRefreshCmd": "print(var_dic_list())"
    },
    "r": {
     "delete_cmd_postfix": ") ",
     "delete_cmd_prefix": "rm(",
     "library": "var_list.r",
     "varRefreshCmd": "cat(var_dic_list()) "
    }
   },
   "types_to_exclude": [
    "module",
    "function",
    "builtin_function_or_method",
    "instance",
    "_Feature"
   ],
   "window_display": false
  }
 },
 "nbformat": 4,
 "nbformat_minor": 5
}
