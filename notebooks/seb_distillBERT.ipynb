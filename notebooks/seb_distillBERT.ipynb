{
  "nbformat": 4,
  "nbformat_minor": 5,
  "metadata": {
    "kernelspec": {
      "display_name": "le_kingmakers",
      "language": "python",
      "name": "le_kingmakers"
    },
    "language_info": {
      "codemirror_mode": {
        "name": "ipython",
        "version": 3
      },
      "file_extension": ".py",
      "mimetype": "text/x-python",
      "name": "python",
      "nbconvert_exporter": "python",
      "pygments_lexer": "ipython3",
      "version": "3.8.6"
    },
    "toc": {
      "base_numbering": 1,
      "nav_menu": {},
      "number_sections": true,
      "sideBar": true,
      "skip_h1_title": false,
      "title_cell": "Table of Contents",
      "title_sidebar": "Contents",
      "toc_cell": false,
      "toc_position": {},
      "toc_section_display": true,
      "toc_window_display": false
    },
    "colab": {
      "name": "seb_distillBERT.ipynb",
      "provenance": [],
      "include_colab_link": true
    }
  },
  "cells": [
    {
      "cell_type": "markdown",
      "metadata": {
        "id": "view-in-github",
        "colab_type": "text"
      },
      "source": [
        "<a href=\"https://colab.research.google.com/github/danm91/le_kingmakers/blob/seb_dl_models/notebooks/seb_distillBERT.ipynb\" target=\"_parent\"><img src=\"https://colab.research.google.com/assets/colab-badge.svg\" alt=\"Open In Colab\"/></a>"
      ]
    },
    {
      "cell_type": "markdown",
      "metadata": {
        "id": "8c31a429"
      },
      "source": [
        "# DistillBERT Model"
      ],
      "id": "8c31a429"
    },
    {
      "cell_type": "markdown",
      "metadata": {
        "id": "e9bb96f5"
      },
      "source": [
        "## Imports"
      ],
      "id": "e9bb96f5"
    },
    {
      "cell_type": "code",
      "metadata": {
        "id": "ce4ab27a"
      },
      "source": [
        "%load_ext autoreload\n",
        "%autoreload 2"
      ],
      "id": "ce4ab27a",
      "execution_count": null,
      "outputs": []
    },
    {
      "cell_type": "code",
      "metadata": {
        "id": "4f5cda52"
      },
      "source": [
        "%matplotlib inline"
      ],
      "id": "4f5cda52",
      "execution_count": null,
      "outputs": []
    },
    {
      "cell_type": "code",
      "metadata": {
        "id": "aa02d273"
      },
      "source": [
        "import pandas as pd\n",
        "import numpy as np\n",
        "import os\n",
        "# os.environ['CUDA_DEVICE_ORDER']='PCI_BUS_ID'\n",
        "# os.environ['CUDA_VISIBLE_DEVICES']='0'\n",
        "\n",
        "from preproc_text import process_tweets\n",
        "from preproc_abbv import abbreviations\n",
        "from preproc_class import TextPreprocess\n",
        "\n",
        "from tensorflow.keras.preprocessing.text import text_to_word_sequence\n",
        "\n",
        "from sklearn.model_selection import train_test_split\n",
        "\n",
        "import ktrain\n",
        "from ktrain import text"
      ],
      "id": "aa02d273",
      "execution_count": null,
      "outputs": []
    },
    {
      "cell_type": "markdown",
      "metadata": {
        "id": "7000d9db"
      },
      "source": [
        "## Import Data"
      ],
      "id": "7000d9db"
    },
    {
      "cell_type": "code",
      "metadata": {
        "id": "df4d6d24"
      },
      "source": [
        "# importing data from hard disk\n",
        "csv_path = os.path.join('/home/sbyhung/code/danm91/le_kingmakers/raw_data','training.1600000.processed.noemoticon.csv')\n",
        "df = pd.read_csv(csv_path, header=None)\n",
        "df = df.copy()"
      ],
      "id": "df4d6d24",
      "execution_count": null,
      "outputs": []
    },
    {
      "cell_type": "code",
      "metadata": {
        "id": "3c450f66",
        "outputId": "d6bc32b6-9602-4ff4-89a7-aa926ba8d866"
      },
      "source": [
        "# get sample for testing\n",
        "sample_size = int(df.shape[0] * 0.0001)\n",
        "data_sample = df.sample(sample_size, random_state=0)\n",
        "data_sample.shape"
      ],
      "id": "3c450f66",
      "execution_count": null,
      "outputs": [
        {
          "output_type": "execute_result",
          "data": {
            "text/plain": [
              "(160, 6)"
            ]
          },
          "metadata": {
            "tags": []
          },
          "execution_count": 27
        }
      ]
    },
    {
      "cell_type": "code",
      "metadata": {
        "id": "881953ff",
        "outputId": "422236eb-ac8c-45a7-a7ec-f54f0b66ce97"
      },
      "source": [
        "# splitting data into X & y\n",
        "X = data_sample.iloc[:, 5]\n",
        "y = data_sample.iloc[:, 0]\n",
        "display(X.shape)\n",
        "display(y.shape)"
      ],
      "id": "881953ff",
      "execution_count": null,
      "outputs": [
        {
          "output_type": "display_data",
          "data": {
            "text/plain": [
              "(160,)"
            ]
          },
          "metadata": {
            "tags": []
          }
        },
        {
          "output_type": "display_data",
          "data": {
            "text/plain": [
              "(160,)"
            ]
          },
          "metadata": {
            "tags": []
          }
        }
      ]
    },
    {
      "cell_type": "code",
      "metadata": {
        "id": "f4cb6884"
      },
      "source": [
        "# changing positive values from 4 to 1\n",
        "y = y.map({0: 0, 4:1})"
      ],
      "id": "f4cb6884",
      "execution_count": null,
      "outputs": []
    },
    {
      "cell_type": "code",
      "metadata": {
        "id": "b539453e"
      },
      "source": [
        "# cleaning with bespoke classes\n",
        "X = X.apply(process_tweets)"
      ],
      "id": "b539453e",
      "execution_count": null,
      "outputs": []
    },
    {
      "cell_type": "code",
      "metadata": {
        "id": "070de074",
        "outputId": "2d04e847-1720-40bf-d4d2-70f18b37c092"
      },
      "source": [
        "# splitting data train:test:val = 60:20:20\n",
        "X_temp, X_test, y_temp, y_test = train_test_split(X, y, test_size=0.2, random_state=0, stratify=y)\n",
        "X_train, X_val, y_train, y_val = train_test_split(X_temp, y_temp, test_size=0.25, random_state=0, stratify=y_temp)\n",
        "display(X_train.shape)\n",
        "display(X_test.shape)\n",
        "display(X_val.shape)\n",
        "display(y_train.shape)\n",
        "display(y_test.shape)\n",
        "display(y_val.shape)"
      ],
      "id": "070de074",
      "execution_count": null,
      "outputs": [
        {
          "output_type": "display_data",
          "data": {
            "text/plain": [
              "(96,)"
            ]
          },
          "metadata": {
            "tags": []
          }
        },
        {
          "output_type": "display_data",
          "data": {
            "text/plain": [
              "(32,)"
            ]
          },
          "metadata": {
            "tags": []
          }
        },
        {
          "output_type": "display_data",
          "data": {
            "text/plain": [
              "(32,)"
            ]
          },
          "metadata": {
            "tags": []
          }
        },
        {
          "output_type": "display_data",
          "data": {
            "text/plain": [
              "(96,)"
            ]
          },
          "metadata": {
            "tags": []
          }
        },
        {
          "output_type": "display_data",
          "data": {
            "text/plain": [
              "(32,)"
            ]
          },
          "metadata": {
            "tags": []
          }
        },
        {
          "output_type": "display_data",
          "data": {
            "text/plain": [
              "(32,)"
            ]
          },
          "metadata": {
            "tags": []
          }
        }
      ]
    },
    {
      "cell_type": "code",
      "metadata": {
        "id": "e1c6506d"
      },
      "source": [
        "# change pd series to array\n",
        "X_train = np.array(X_train)\n",
        "X_test = np.array(X_test)\n",
        "X_val = np.array(X_val)\n",
        "y_train = np.array(y_train)\n",
        "y_test = np.array(y_test)\n",
        "y_val = np.array(y_val)"
      ],
      "id": "e1c6506d",
      "execution_count": null,
      "outputs": []
    },
    {
      "cell_type": "code",
      "metadata": {
        "id": "3653d5df",
        "outputId": "d5cd44a1-7d92-4312-9ed3-c7f276504675"
      },
      "source": [
        "# check dimensions\n",
        "display(X_train.shape)\n",
        "display(X_test.shape)\n",
        "display(X_val.shape)\n",
        "display(y_train.shape)\n",
        "display(y_test.shape)\n",
        "display(y_val.shape)"
      ],
      "id": "3653d5df",
      "execution_count": null,
      "outputs": [
        {
          "output_type": "display_data",
          "data": {
            "text/plain": [
              "(96,)"
            ]
          },
          "metadata": {
            "tags": []
          }
        },
        {
          "output_type": "display_data",
          "data": {
            "text/plain": [
              "(32,)"
            ]
          },
          "metadata": {
            "tags": []
          }
        },
        {
          "output_type": "display_data",
          "data": {
            "text/plain": [
              "(32,)"
            ]
          },
          "metadata": {
            "tags": []
          }
        },
        {
          "output_type": "display_data",
          "data": {
            "text/plain": [
              "(96,)"
            ]
          },
          "metadata": {
            "tags": []
          }
        },
        {
          "output_type": "display_data",
          "data": {
            "text/plain": [
              "(32,)"
            ]
          },
          "metadata": {
            "tags": []
          }
        },
        {
          "output_type": "display_data",
          "data": {
            "text/plain": [
              "(32,)"
            ]
          },
          "metadata": {
            "tags": []
          }
        }
      ]
    },
    {
      "cell_type": "markdown",
      "metadata": {
        "id": "855a3ab5"
      },
      "source": [
        "## Processing Data"
      ],
      "id": "855a3ab5"
    },
    {
      "cell_type": "code",
      "metadata": {
        "id": "dbc37653"
      },
      "source": [
        "#### Tokenise words"
      ],
      "id": "dbc37653",
      "execution_count": null,
      "outputs": []
    },
    {
      "cell_type": "code",
      "metadata": {
        "id": "8691ef98",
        "outputId": "c8bc4c28-f73e-436a-96a3-3882875e450e"
      },
      "source": [
        "y.unique()"
      ],
      "id": "8691ef98",
      "execution_count": null,
      "outputs": [
        {
          "output_type": "execute_result",
          "data": {
            "text/plain": [
              "array([0, 1])"
            ]
          },
          "metadata": {
            "tags": []
          },
          "execution_count": 35
        }
      ]
    },
    {
      "cell_type": "markdown",
      "metadata": {
        "id": "a7488cf8"
      },
      "source": [
        "## Define Model & Preprocess Data"
      ],
      "id": "a7488cf8"
    },
    {
      "cell_type": "code",
      "metadata": {
        "id": "2efedd2e"
      },
      "source": [
        "# model name & class name\n",
        "model_name = 'distilbert-base-uncased'\n",
        "class_names = y.unique()"
      ],
      "id": "2efedd2e",
      "execution_count": null,
      "outputs": []
    },
    {
      "cell_type": "code",
      "metadata": {
        "id": "95d3444d"
      },
      "source": [
        "# transformer\n",
        "trans = text.Transformer(model_name, maxlen=512, class_names=class_names)\n"
      ],
      "id": "95d3444d",
      "execution_count": null,
      "outputs": []
    },
    {
      "cell_type": "code",
      "metadata": {
        "id": "fd3e67ff",
        "outputId": "b89aa75d-9670-4287-f7ef-e7155337f596"
      },
      "source": [
        "# preprocessing data\n",
        "train_data = trans.preprocess_train(X_train, y_train)\n",
        "test_data = trans.preprocess_test(X_test, y_test)\n",
        "val_data = trans.preprocess_test(X_val, y_val)"
      ],
      "id": "fd3e67ff",
      "execution_count": null,
      "outputs": [
        {
          "output_type": "stream",
          "text": [
            "preprocessing train...\n",
            "language: en\n",
            "train sequence lengths:\n",
            "\tmean : 7\n",
            "\t95percentile : 13\n",
            "\t99percentile : 15\n"
          ],
          "name": "stdout"
        },
        {
          "output_type": "display_data",
          "data": {
            "text/html": [
              ""
            ],
            "text/plain": [
              "<IPython.core.display.HTML object>"
            ]
          },
          "metadata": {
            "tags": []
          }
        },
        {
          "output_type": "stream",
          "text": [
            "Is Multi-Label? False\n",
            "preprocessing test...\n",
            "language: en\n",
            "test sequence lengths:\n",
            "\tmean : 7\n",
            "\t95percentile : 14\n",
            "\t99percentile : 15\n"
          ],
          "name": "stdout"
        },
        {
          "output_type": "display_data",
          "data": {
            "text/html": [
              ""
            ],
            "text/plain": [
              "<IPython.core.display.HTML object>"
            ]
          },
          "metadata": {
            "tags": []
          }
        },
        {
          "output_type": "stream",
          "text": [
            "preprocessing test...\n",
            "language: en\n",
            "test sequence lengths:\n",
            "\tmean : 6\n",
            "\t95percentile : 11\n",
            "\t99percentile : 13\n"
          ],
          "name": "stdout"
        },
        {
          "output_type": "display_data",
          "data": {
            "text/html": [
              ""
            ],
            "text/plain": [
              "<IPython.core.display.HTML object>"
            ]
          },
          "metadata": {
            "tags": []
          }
        }
      ]
    },
    {
      "cell_type": "markdown",
      "metadata": {
        "id": "a450881b"
      },
      "source": [
        "## Instantiate Model & Find Learning Rate & Fit"
      ],
      "id": "a450881b"
    },
    {
      "cell_type": "code",
      "metadata": {
        "id": "a7bf3432",
        "outputId": "ac094267-0dd4-48ff-9c13-bf64e70e6d93",
        "colab": {
          "referenced_widgets": [
            "2ad7503c2d694b5099f141a622d6b211"
          ]
        }
      },
      "source": [
        "# instantiate model using get classifer\n",
        "model = trans.get_classifier()"
      ],
      "id": "a7bf3432",
      "execution_count": null,
      "outputs": [
        {
          "output_type": "display_data",
          "data": {
            "application/vnd.jupyter.widget-view+json": {
              "model_id": "2ad7503c2d694b5099f141a622d6b211",
              "version_major": 2,
              "version_minor": 0
            },
            "text/plain": [
              "Downloading:   0%|          | 0.00/363M [00:00<?, ?B/s]"
            ]
          },
          "metadata": {
            "tags": []
          }
        }
      ]
    },
    {
      "cell_type": "code",
      "metadata": {
        "id": "b02101e1"
      },
      "source": [
        "# set learner\n",
        "learner = ktrain.get_learner(model, train_data=train_data, val_data=val_data, batch_size=16)"
      ],
      "id": "b02101e1",
      "execution_count": null,
      "outputs": []
    },
    {
      "cell_type": "code",
      "metadata": {
        "id": "7390547a",
        "outputId": "6319bf53-423a-4500-bb35-cc5b26b342de"
      },
      "source": [
        "# fine best learning rate\n",
        "learner.lr_find(show_plot=True, max_epochs=10)"
      ],
      "id": "7390547a",
      "execution_count": null,
      "outputs": [
        {
          "output_type": "stream",
          "text": [
            "simulating training for different learning rates... this may take a few moments...\n",
            "Epoch 1/10\n",
            "2/6 [=========>....................] - ETA: 20:54 - loss: 0.6854 - accuracy: 0.6562"
          ],
          "name": "stdout"
        }
      ]
    },
    {
      "cell_type": "code",
      "metadata": {
        "id": "633335e1"
      },
      "source": [
        "learner.fit_onecycle(le-4, 1)"
      ],
      "id": "633335e1",
      "execution_count": null,
      "outputs": []
    },
    {
      "cell_type": "markdown",
      "metadata": {
        "id": "d91bae97"
      },
      "source": [
        "## Evaluate Model Performance"
      ],
      "id": "d91bae97"
    },
    {
      "cell_type": "code",
      "metadata": {
        "id": "cafe3534"
      },
      "source": [
        "# Get performance of model\n",
        "learner.validate(class_names=class_names)"
      ],
      "id": "cafe3534",
      "execution_count": null,
      "outputs": []
    },
    {
      "cell_type": "code",
      "metadata": {
        "id": "52450c66"
      },
      "source": [
        "# View data points with bigget losses\n",
        "learner.view_top_losses(n=5, preproc=trans)"
      ],
      "id": "52450c66",
      "execution_count": null,
      "outputs": []
    },
    {
      "cell_type": "markdown",
      "metadata": {
        "id": "d40282c0"
      },
      "source": [
        "## Predictions"
      ],
      "id": "d40282c0"
    },
    {
      "cell_type": "code",
      "metadata": {
        "id": "969f87c7"
      },
      "source": [
        "# define predictor function\n",
        "predictor = ktrain.get_predictor(learner.model, preproc=trans)"
      ],
      "id": "969f87c7",
      "execution_count": null,
      "outputs": []
    },
    {
      "cell_type": "code",
      "metadata": {
        "id": "b097cd04"
      },
      "source": [
        "# state prediction\n",
        "test_string = \"\"\"some example string to be evaluated\"\"\""
      ],
      "id": "b097cd04",
      "execution_count": null,
      "outputs": []
    },
    {
      "cell_type": "code",
      "metadata": {
        "id": "b51e687c"
      },
      "source": [
        "# get prediction result\n",
        "predictor.predict(test_string)"
      ],
      "id": "b51e687c",
      "execution_count": null,
      "outputs": []
    },
    {
      "cell_type": "markdown",
      "metadata": {
        "id": "cd13e729"
      },
      "source": [
        "## Saving Model"
      ],
      "id": "cd13e729"
    },
    {
      "cell_type": "code",
      "metadata": {
        "id": "9bf9b2e9"
      },
      "source": [
        "#######  NEED TO ENTER THE FOLLOWING TEXT ######"
      ],
      "id": "9bf9b2e9",
      "execution_count": null,
      "outputs": []
    },
    {
      "cell_type": "code",
      "metadata": {
        "id": "1075ee30"
      },
      "source": [
        "# run the text below NB. It is very large 00s of MB\n",
        "predictor.save('name_of_model')"
      ],
      "id": "1075ee30",
      "execution_count": null,
      "outputs": []
    },
    {
      "cell_type": "code",
      "metadata": {
        "id": "e58ca2b4"
      },
      "source": [
        ""
      ],
      "id": "e58ca2b4",
      "execution_count": null,
      "outputs": []
    }
  ]
}