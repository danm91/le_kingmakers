{
  "nbformat": 4,
  "nbformat_minor": 5,
  "metadata": {
    "kernelspec": {
      "display_name": "Python 3",
      "language": "python",
      "name": "python3"
    },
    "language_info": {
      "codemirror_mode": {
        "name": "ipython",
        "version": 3
      },
      "file_extension": ".py",
      "mimetype": "text/x-python",
      "name": "python",
      "nbconvert_exporter": "python",
      "pygments_lexer": "ipython3",
      "version": "3.8.6"
    },
    "toc": {
      "base_numbering": 1,
      "nav_menu": {},
      "number_sections": true,
      "sideBar": true,
      "skip_h1_title": false,
      "title_cell": "Table of Contents",
      "title_sidebar": "Contents",
      "toc_cell": false,
      "toc_position": {},
      "toc_section_display": true,
      "toc_window_display": false
    },
    "varInspector": {
      "cols": {
        "lenName": 16,
        "lenType": 16,
        "lenVar": 40
      },
      "kernels_config": {
        "python": {
          "delete_cmd_postfix": "",
          "delete_cmd_prefix": "del ",
          "library": "var_list.py",
          "varRefreshCmd": "print(var_dic_list())"
        },
        "r": {
          "delete_cmd_postfix": ") ",
          "delete_cmd_prefix": "rm(",
          "library": "var_list.r",
          "varRefreshCmd": "cat(var_dic_list()) "
        }
      },
      "types_to_exclude": [
        "module",
        "function",
        "builtin_function_or_method",
        "instance",
        "_Feature"
      ],
      "window_display": false
    },
    "colab": {
      "name": "danm91_RNN_embedding.ipynb",
      "provenance": [],
      "collapsed_sections": [],
      "include_colab_link": true
    },
    "accelerator": "GPU"
  },
  "cells": [
    {
      "cell_type": "markdown",
      "metadata": {
        "id": "view-in-github",
        "colab_type": "text"
      },
      "source": [
        "<a href=\"https://colab.research.google.com/github/danm91/le_kingmakers/blob/RNNs/danm91_RNN_embedding.ipynb\" target=\"_parent\"><img src=\"https://colab.research.google.com/assets/colab-badge.svg\" alt=\"Open In Colab\"/></a>"
      ]
    },
    {
      "cell_type": "code",
      "metadata": {
        "ExecuteTime": {
          "end_time": "2021-06-10T09:10:08.198095Z",
          "start_time": "2021-06-10T09:10:07.998865Z"
        },
        "id": "d12b95b4"
      },
      "source": [
        "import pandas as pd\n",
        "from sklearn.model_selection import train_test_split"
      ],
      "id": "d12b95b4",
      "execution_count": null,
      "outputs": []
    },
    {
      "cell_type": "code",
      "metadata": {
        "colab": {
          "base_uri": "https://localhost:8080/"
        },
        "id": "3ceffb72",
        "outputId": "31df6ada-ffe3-44e5-f789-7ee57d88af9d"
      },
      "source": [
        "from google.colab import drive\n",
        "drive.mount('/content/drive')"
      ],
      "id": "3ceffb72",
      "execution_count": null,
      "outputs": [
        {
          "output_type": "stream",
          "text": [
            "Mounted at /content/drive\n"
          ],
          "name": "stdout"
        }
      ]
    },
    {
      "cell_type": "code",
      "metadata": {
        "id": "jc9BhZvxQSIk"
      },
      "source": [
        "df = pd.read_csv('/content/drive/MyDrive/Le KingMakers/kaggle.csv', names = ['sentiment','2','3','4','5','tweet'], encoding='latin-1')"
      ],
      "id": "jc9BhZvxQSIk",
      "execution_count": null,
      "outputs": []
    },
    {
      "cell_type": "code",
      "metadata": {
        "id": "YrWpgedlQVnB"
      },
      "source": [
        "df = df.sample(frac=0.05, random_state=0).copy()"
      ],
      "id": "YrWpgedlQVnB",
      "execution_count": null,
      "outputs": []
    },
    {
      "cell_type": "code",
      "metadata": {
        "colab": {
          "base_uri": "https://localhost:8080/",
          "height": 204
        },
        "id": "GNK96x-bTZHx",
        "outputId": "73c31690-6413-48f8-d10c-ef4485f8ea71"
      },
      "source": [
        "df = df[['tweet','sentiment']]\n",
        "df.head()"
      ],
      "id": "GNK96x-bTZHx",
      "execution_count": null,
      "outputs": [
        {
          "output_type": "execute_result",
          "data": {
            "text/html": [
              "<div>\n",
              "<style scoped>\n",
              "    .dataframe tbody tr th:only-of-type {\n",
              "        vertical-align: middle;\n",
              "    }\n",
              "\n",
              "    .dataframe tbody tr th {\n",
              "        vertical-align: top;\n",
              "    }\n",
              "\n",
              "    .dataframe thead th {\n",
              "        text-align: right;\n",
              "    }\n",
              "</style>\n",
              "<table border=\"1\" class=\"dataframe\">\n",
              "  <thead>\n",
              "    <tr style=\"text-align: right;\">\n",
              "      <th></th>\n",
              "      <th>tweet</th>\n",
              "      <th>sentiment</th>\n",
              "    </tr>\n",
              "  </thead>\n",
              "  <tbody>\n",
              "    <tr>\n",
              "      <th>557138</th>\n",
              "      <td>wants to compete! i want hard competition! i w...</td>\n",
              "      <td>0</td>\n",
              "    </tr>\n",
              "    <tr>\n",
              "      <th>349381</th>\n",
              "      <td>It seems we are stuck on the ground in Amarill...</td>\n",
              "      <td>0</td>\n",
              "    </tr>\n",
              "    <tr>\n",
              "      <th>182051</th>\n",
              "      <td>where the f are my pinking shears? rarararrrar...</td>\n",
              "      <td>0</td>\n",
              "    </tr>\n",
              "    <tr>\n",
              "      <th>571236</th>\n",
              "      <td>0ff t0 tHE MEEtiN..  i HAtE WhEN PPl V0lUNtEER...</td>\n",
              "      <td>0</td>\n",
              "    </tr>\n",
              "    <tr>\n",
              "      <th>1339637</th>\n",
              "      <td>@ reply me pls</td>\n",
              "      <td>4</td>\n",
              "    </tr>\n",
              "  </tbody>\n",
              "</table>\n",
              "</div>"
            ],
            "text/plain": [
              "                                                     tweet  sentiment\n",
              "557138   wants to compete! i want hard competition! i w...          0\n",
              "349381   It seems we are stuck on the ground in Amarill...          0\n",
              "182051   where the f are my pinking shears? rarararrrar...          0\n",
              "571236   0ff t0 tHE MEEtiN..  i HAtE WhEN PPl V0lUNtEER...          0\n",
              "1339637                                    @ reply me pls           4"
            ]
          },
          "metadata": {
            "tags": []
          },
          "execution_count": 5
        }
      ]
    },
    {
      "cell_type": "code",
      "metadata": {
        "id": "4rZLSxd7Tds6"
      },
      "source": [
        "X_train, X_test, y_train, y_test = train_test_split(df['tweet'],df['sentiment'],test_size=0.2, stratify=df['sentiment'])\n",
        "X_train, X_val, y_train, y_val = train_test_split(X_train,y_train,test_size=0.25,stratify=y_train)"
      ],
      "id": "4rZLSxd7Tds6",
      "execution_count": null,
      "outputs": []
    },
    {
      "cell_type": "code",
      "metadata": {
        "colab": {
          "base_uri": "https://localhost:8080/"
        },
        "id": "rbJOKKnyTiSW",
        "outputId": "22d1a314-81e0-41ac-b2f8-0aeb2be7661b"
      },
      "source": [
        "import re\n",
        "import string\n",
        "import pickle\n",
        "from nltk.tokenize import word_tokenize\n",
        "from nltk.corpus import stopwords\n",
        "from nltk.stem import WordNetLemmatizer\n",
        "import nltk\n",
        "nltk.download('stopwords')\n",
        "nltk.download('punkt')\n",
        "nltk.download('wordnet')"
      ],
      "id": "rbJOKKnyTiSW",
      "execution_count": null,
      "outputs": [
        {
          "output_type": "stream",
          "text": [
            "[nltk_data] Downloading package stopwords to /root/nltk_data...\n",
            "[nltk_data]   Unzipping corpora/stopwords.zip.\n",
            "[nltk_data] Downloading package punkt to /root/nltk_data...\n",
            "[nltk_data]   Unzipping tokenizers/punkt.zip.\n",
            "[nltk_data] Downloading package wordnet to /root/nltk_data...\n",
            "[nltk_data]   Unzipping corpora/wordnet.zip.\n"
          ],
          "name": "stdout"
        },
        {
          "output_type": "execute_result",
          "data": {
            "text/plain": [
              "True"
            ]
          },
          "metadata": {
            "tags": []
          },
          "execution_count": 7
        }
      ]
    },
    {
      "cell_type": "code",
      "metadata": {
        "id": "7jcGhDyVUDM5"
      },
      "source": [
        "def process_tweets(tweet):\n",
        "  urlPattern = r\"((http://)[^ ]*|(https://)[^ ]*|( www\\.)[^ ]*)\"\n",
        "  userPattern = '@[^\\s]+'\n",
        "  some = 'amp,today,tomorrow,going,girl'\n",
        "  stopword = stopwords.words('english')\n",
        "  stopword.remove('not')\n",
        "  stopword.remove('no')\n",
        "  # Lower Casing\n",
        "  tweet = re.sub(r\"he's\", \"he is\", tweet)\n",
        "  tweet = re.sub(r\"there's\", \"there is\", tweet)\n",
        "  tweet = re.sub(r\"We're\", \"We are\", tweet)\n",
        "  tweet = re.sub(r\"That's\", \"That is\", tweet)\n",
        "  tweet = re.sub(r\"won't\", \"will not\", tweet)\n",
        "  tweet = re.sub(r\"they're\", \"they are\", tweet)\n",
        "  tweet = re.sub(r\"Can't\", \"Cannot\", tweet)\n",
        "  tweet = re.sub(r\"wasn't\", \"was not\", tweet)\n",
        "  tweet = re.sub(r\"don\\x89Ûªt\", \"do not\", tweet)\n",
        "  tweet = re.sub(r\"aren't\", \"are not\", tweet)\n",
        "  tweet = re.sub(r\"isn't\", \"is not\", tweet)\n",
        "  tweet = re.sub(r\"What's\", \"What is\", tweet)\n",
        "  tweet = re.sub(r\"haven't\", \"have not\", tweet)\n",
        "  tweet = re.sub(r\"hasn't\", \"has not\", tweet)\n",
        "  tweet = re.sub(r\"There's\", \"There is\", tweet)\n",
        "  tweet = re.sub(r\"He's\", \"He is\", tweet)\n",
        "  tweet = re.sub(r\"It's\", \"It is\", tweet)\n",
        "  tweet = re.sub(r\"You're\", \"You are\", tweet)\n",
        "  tweet = re.sub(r\"I'M\", \"I am\", tweet)\n",
        "  tweet = re.sub(r\"shouldn't\", \"should not\", tweet)\n",
        "  tweet = re.sub(r\"wouldn't\", \"would not\", tweet)\n",
        "  tweet = re.sub(r\"i'm\", \"I am\", tweet)\n",
        "  tweet = re.sub(r\"I\\x89Ûªm\", \"I am\", tweet)\n",
        "  tweet = re.sub(r\"I'm\", \"I am\", tweet)\n",
        "  tweet = re.sub(r\"Isn't\", \"is not\", tweet)\n",
        "  tweet = re.sub(r\"Here's\", \"Here is\", tweet)\n",
        "  tweet = re.sub(r\"you've\", \"you have\", tweet)\n",
        "  tweet = re.sub(r\"you\\x89Ûªve\", \"you have\", tweet)\n",
        "  tweet = re.sub(r\"we're\", \"we are\", tweet)\n",
        "  tweet = re.sub(r\"what's\", \"what is\", tweet)\n",
        "  tweet = re.sub(r\"couldn't\", \"could not\", tweet)\n",
        "  tweet = re.sub(r\"we've\", \"we have\", tweet)\n",
        "  tweet = re.sub(r\"it\\x89Ûªs\", \"it is\", tweet)\n",
        "  tweet = re.sub(r\"doesn\\x89Ûªt\", \"does not\", tweet)\n",
        "  tweet = re.sub(r\"It\\x89Ûªs\", \"It is\", tweet)\n",
        "  tweet = re.sub(r\"Here\\x89Ûªs\", \"Here is\", tweet)\n",
        "  tweet = re.sub(r\"who's\", \"who is\", tweet)\n",
        "  tweet = re.sub(r\"I\\x89Ûªve\", \"I have\", tweet)\n",
        "  tweet = re.sub(r\"y'all\", \"you all\", tweet)\n",
        "  tweet = re.sub(r\"can\\x89Ûªt\", \"cannot\", tweet)\n",
        "  tweet = re.sub(r\"would've\", \"would have\", tweet)\n",
        "  tweet = re.sub(r\"it'll\", \"it will\", tweet)\n",
        "  tweet = re.sub(r\"we'll\", \"we will\", tweet)\n",
        "  tweet = re.sub(r\"wouldn\\x89Ûªt\", \"would not\", tweet)\n",
        "  tweet = re.sub(r\"We've\", \"We have\", tweet)\n",
        "  tweet = re.sub(r\"he'll\", \"he will\", tweet)\n",
        "  tweet = re.sub(r\"Y'all\", \"You all\", tweet)\n",
        "  tweet = re.sub(r\"Weren't\", \"Were not\", tweet)\n",
        "  tweet = re.sub(r\"Didn't\", \"Did not\", tweet)\n",
        "  tweet = re.sub(r\"they'll\", \"they will\", tweet)\n",
        "  tweet = re.sub(r\"they'd\", \"they would\", tweet)\n",
        "  tweet = re.sub(r\"DON'T\", \"DO NOT\", tweet)\n",
        "  tweet = re.sub(r\"That\\x89Ûªs\", \"That is\", tweet)\n",
        "  tweet = re.sub(r\"they've\", \"they have\", tweet)\n",
        "  tweet = re.sub(r\"i'd\", \"I would\", tweet)\n",
        "  tweet = re.sub(r\"should've\", \"should have\", tweet)\n",
        "  tweet = re.sub(r\"You\\x89Ûªre\", \"You are\", tweet)\n",
        "  tweet = re.sub(r\"where's\", \"where is\", tweet)\n",
        "  tweet = re.sub(r\"Don\\x89Ûªt\", \"Do not\", tweet)\n",
        "  tweet = re.sub(r\"we'd\", \"we would\", tweet)\n",
        "  tweet = re.sub(r\"i'll\", \"I will\", tweet)\n",
        "  tweet = re.sub(r\"weren't\", \"were not\", tweet)\n",
        "  tweet = re.sub(r\"They're\", \"They are\", tweet)\n",
        "  tweet = re.sub(r\"Can\\x89Ûªt\", \"Cannot\", tweet)\n",
        "  tweet = re.sub(r\"you\\x89Ûªll\", \"you will\", tweet)\n",
        "  tweet = re.sub(r\"I\\x89Ûªd\", \"I would\", tweet)\n",
        "  tweet = re.sub(r\"let's\", \"let us\", tweet)\n",
        "  tweet = re.sub(r\"it's\", \"it is\", tweet)\n",
        "  tweet = re.sub(r\"can't\", \"cannot\", tweet)\n",
        "  tweet = re.sub(r\"don't\", \"do not\", tweet)\n",
        "  tweet = re.sub(r\"you're\", \"you are\", tweet)\n",
        "  tweet = re.sub(r\"i've\", \"I have\", tweet)\n",
        "  tweet = re.sub(r\"that's\", \"that is\", tweet)\n",
        "  tweet = re.sub(r\"i'll\", \"I will\", tweet)\n",
        "  tweet = re.sub(r\"doesn't\", \"does not\", tweet)\n",
        "  tweet = re.sub(r\"i'd\", \"I would\", tweet)\n",
        "  tweet = re.sub(r\"didn't\", \"did not\", tweet)\n",
        "  tweet = re.sub(r\"ain't\", \"am not\", tweet)\n",
        "  tweet = re.sub(r\"you'll\", \"you will\", tweet)\n",
        "  tweet = re.sub(r\"I've\", \"I have\", tweet)\n",
        "  tweet = re.sub(r\"Don't\", \"do not\", tweet)\n",
        "  tweet = re.sub(r\"I'll\", \"I will\", tweet)\n",
        "  tweet = re.sub(r\"I'd\", \"I would\", tweet)\n",
        "  tweet = re.sub(r\"Let's\", \"Let us\", tweet)\n",
        "  tweet = re.sub(r\"you'd\", \"You would\", tweet)\n",
        "  tweet = re.sub(r\"It's\", \"It is\", tweet)\n",
        "  tweet = re.sub(r\"Ain't\", \"am not\", tweet)\n",
        "  tweet = re.sub(r\"Haven't\", \"Have not\", tweet)\n",
        "  tweet = re.sub(r\"Could've\", \"Could have\", tweet)\n",
        "  tweet = re.sub(r\"youve\", \"you have\", tweet)  \n",
        "  tweet = re.sub(r\"donå«t\", \"do not\", tweet)  \n",
        "  \n",
        "  tweet = re.sub(r\"some1\", \"someone\", tweet)\n",
        "  tweet = re.sub(r\"yrs\", \"years\", tweet)\n",
        "  tweet = re.sub(r\"hrs\", \"hours\", tweet)\n",
        "  tweet = re.sub(r\"2morow|2moro\", \"tomorrow\", tweet)\n",
        "  tweet = re.sub(r\"2day\", \"today\", tweet)\n",
        "  tweet = re.sub(r\"4got|4gotten\", \"forget\", tweet)\n",
        "  tweet = re.sub(r\"b-day|bday\", \"b-day\", tweet)\n",
        "  tweet = re.sub(r\"mother's\", \"mother\", tweet)\n",
        "  tweet = re.sub(r\"mom's\", \"mom\", tweet)\n",
        "  tweet = re.sub(r\"dad's\", \"dad\", tweet)\n",
        "  tweet = re.sub(r\"hahah|hahaha|hahahaha\", \"haha\", tweet)\n",
        "  tweet = re.sub(r\"lmao|lolz|rofl\", \"lol\", tweet)\n",
        "  tweet = re.sub(r\"thanx|thnx\", \"thanks\", tweet)\n",
        "  tweet = re.sub(r\"goood\", \"good\", tweet)\n",
        "  tweet = re.sub(r\"some1\", \"someone\", tweet)\n",
        "  tweet = re.sub(r\"some1\", \"someone\", tweet)\n",
        "  tweet = tweet.lower()\n",
        "#     tweet=tweet[1:]\n",
        "  # Removing all URls \n",
        "  tweet = re.sub(urlPattern,'',tweet)\n",
        "  # Removing all @username.\n",
        "  tweet = re.sub(userPattern,'', tweet) \n",
        "  #remove some words\n",
        "  tweet= re.sub(some,'',tweet)\n",
        "  #Remove punctuations\n",
        "  tweet = tweet.translate(str.maketrans(\"\",\"\",string.punctuation))\n",
        "  #tokenizing words\n",
        "  tokens = word_tokenize(tweet)\n",
        "  #tokens = [w for w in tokens if len(w)>2]\n",
        "  #Removing Stop Words\n",
        "  final_tokens = [w for w in tokens if w not in stopword]\n",
        "  #reducing a word to its word stem \n",
        "  wordLemm = WordNetLemmatizer()\n",
        "  finalwords=[]\n",
        "  for w in final_tokens:\n",
        "    if len(w)>1:\n",
        "      word = wordLemm.lemmatize(w)\n",
        "      finalwords.append(word)\n",
        "  return ' '.join(finalwords) "
      ],
      "id": "7jcGhDyVUDM5",
      "execution_count": null,
      "outputs": []
    },
    {
      "cell_type": "code",
      "metadata": {
        "id": "NYviVvHHUFb7"
      },
      "source": [
        "X_samp = X_train.sample(10000, random_state=0)\n",
        "y_samp = y_train.sample(10000, random_state=0)"
      ],
      "id": "NYviVvHHUFb7",
      "execution_count": null,
      "outputs": []
    },
    {
      "cell_type": "code",
      "metadata": {
        "id": "mJXovdKYihxA"
      },
      "source": [
        "y_samp = y_samp.map(lambda x: 1 if x==4 else 0)"
      ],
      "id": "mJXovdKYihxA",
      "execution_count": null,
      "outputs": []
    },
    {
      "cell_type": "code",
      "metadata": {
        "id": "USduTR8WkAF0"
      },
      "source": [
        "y_val = y_val.map(lambda x: 1 if x==4 else 0)"
      ],
      "id": "USduTR8WkAF0",
      "execution_count": null,
      "outputs": []
    },
    {
      "cell_type": "code",
      "metadata": {
        "id": "YLaQAflXUfp3"
      },
      "source": [
        "X_samp = X_samp.apply(process_tweets)\n",
        "X_val = X_val.apply(process_tweets)"
      ],
      "id": "YLaQAflXUfp3",
      "execution_count": null,
      "outputs": []
    },
    {
      "cell_type": "markdown",
      "metadata": {
        "id": "JG6RVlI9VbQb"
      },
      "source": [
        "Starting on the RNN...."
      ],
      "id": "JG6RVlI9VbQb"
    },
    {
      "cell_type": "code",
      "metadata": {
        "id": "GYkrX0dSVdJ-"
      },
      "source": [
        "from tensorflow.keras.preprocessing.text import text_to_word_sequence\n",
        "from tensorflow.keras.preprocessing.text import Tokenizer"
      ],
      "id": "GYkrX0dSVdJ-",
      "execution_count": null,
      "outputs": []
    },
    {
      "cell_type": "code",
      "metadata": {
        "id": "HVR1WeQaVf2s"
      },
      "source": [
        "# This initializes a Keras utilities that does all the tokenization for you\n",
        "tokenizer = Tokenizer()\n",
        "\n",
        "tokenizer.fit_on_texts(X_samp)\n",
        "    \n",
        "X_samp_token = tokenizer.texts_to_sequences(X_samp)\n",
        "X_val_token = tokenizer.texts_to_sequences(X_val)"
      ],
      "id": "HVR1WeQaVf2s",
      "execution_count": null,
      "outputs": []
    },
    {
      "cell_type": "code",
      "metadata": {
        "colab": {
          "base_uri": "https://localhost:8080/",
          "height": 265
        },
        "id": "dxWXJlxVV2Pm",
        "outputId": "5366bfc0-ec50-476e-f2af-830ec0b59fcf"
      },
      "source": [
        "import matplotlib.pyplot as plt\n",
        "plt.hist(X_samp_token[0])\n",
        "plt.show()"
      ],
      "id": "dxWXJlxVV2Pm",
      "execution_count": null,
      "outputs": [
        {
          "output_type": "display_data",
          "data": {
            "image/png": "[encoded data removed]",
            "text/plain": [
              "<Figure size 432x288 with 1 Axes>"
            ]
          },
          "metadata": {
            "tags": [],
            "needs_background": "light"
          }
        }
      ]
    },
    {
      "cell_type": "code",
      "metadata": {
        "colab": {
          "base_uri": "https://localhost:8080/",
          "height": 367
        },
        "id": "vgXH7siEfGIn",
        "outputId": "fa2e262b-94e8-4bf2-ed6a-18f2eb3a45b1"
      },
      "source": [
        "plt.hist([len(X_samp_token[k]) for k in range(len(X_samp_token))], bins=20)\n"
      ],
      "id": "vgXH7siEfGIn",
      "execution_count": null,
      "outputs": [
        {
          "output_type": "execute_result",
          "data": {
            "text/plain": [
              "(array([ 377.,  719.,  950.,  947., 1008.,  948.,  817.,  825.,  654.,\n",
              "         642., 1021.,  382.,  284.,  202.,  115.,   60.,   30.,    7.,\n",
              "           5.,    7.]),\n",
              " array([ 0. ,  1.1,  2.2,  3.3,  4.4,  5.5,  6.6,  7.7,  8.8,  9.9, 11. ,\n",
              "        12.1, 13.2, 14.3, 15.4, 16.5, 17.6, 18.7, 19.8, 20.9, 22. ]),\n",
              " <a list of 20 Patch objects>)"
            ]
          },
          "metadata": {
            "tags": []
          },
          "execution_count": 35
        },
        {
          "output_type": "display_data",
          "data": {
            "image/png": "[encoded data removed]",
            "text/plain": [
              "<Figure size 432x288 with 1 Axes>"
            ]
          },
          "metadata": {
            "tags": [],
            "needs_background": "light"
          }
        }
      ]
    },
    {
      "cell_type": "code",
      "metadata": {
        "id": "69ZzcCgMf9su"
      },
      "source": [
        "import numpy as np"
      ],
      "id": "69ZzcCgMf9su",
      "execution_count": null,
      "outputs": []
    },
    {
      "cell_type": "code",
      "metadata": {
        "colab": {
          "base_uri": "https://localhost:8080/"
        },
        "id": "MGD1xH_gf248",
        "outputId": "f8388d23-6f6f-4f81-bcd4-3b18dde2dc0b"
      },
      "source": [
        "np.max([len(X_samp_token[k]) for k in range(len(X_samp_token))])"
      ],
      "id": "MGD1xH_gf248",
      "execution_count": null,
      "outputs": [
        {
          "output_type": "execute_result",
          "data": {
            "text/plain": [
              "24"
            ]
          },
          "metadata": {
            "tags": []
          },
          "execution_count": 124
        }
      ]
    },
    {
      "cell_type": "code",
      "metadata": {
        "colab": {
          "base_uri": "https://localhost:8080/"
        },
        "id": "F_qhIfKqV5Ew",
        "outputId": "bc7e9dfc-3c83-4f03-bc5f-e624c06ce183"
      },
      "source": [
        "vocab_size = len(tokenizer.word_index)\n",
        "vocab_size"
      ],
      "id": "F_qhIfKqV5Ew",
      "execution_count": null,
      "outputs": [
        {
          "output_type": "execute_result",
          "data": {
            "text/plain": [
              "13919"
            ]
          },
          "metadata": {
            "tags": []
          },
          "execution_count": 37
        }
      ]
    },
    {
      "cell_type": "code",
      "metadata": {
        "id": "2NqyMfSeWF8W"
      },
      "source": [
        "from tensorflow.keras.preprocessing.sequence import pad_sequences"
      ],
      "id": "2NqyMfSeWF8W",
      "execution_count": null,
      "outputs": []
    },
    {
      "cell_type": "code",
      "metadata": {
        "colab": {
          "base_uri": "https://localhost:8080/"
        },
        "id": "WctFA3bQWlCc",
        "outputId": "10211ce5-9b21-446e-a282-851de9002117"
      },
      "source": [
        "lengths = []\n",
        "for i in X_samp_token:\n",
        "  lengths.append(len(i))\n",
        "\n",
        "max(lengths)"
      ],
      "id": "WctFA3bQWlCc",
      "execution_count": null,
      "outputs": [
        {
          "output_type": "execute_result",
          "data": {
            "text/plain": [
              "22"
            ]
          },
          "metadata": {
            "tags": []
          },
          "execution_count": 39
        }
      ]
    },
    {
      "cell_type": "code",
      "metadata": {
        "id": "Z6J39TTRWYGj"
      },
      "source": [
        "X_samp_pad = pad_sequences(X_samp_token, dtype='float32', padding='post')\n",
        "X_val_pad = pad_sequences(X_val_token, dtype='float32', padding='post')"
      ],
      "id": "Z6J39TTRWYGj",
      "execution_count": null,
      "outputs": []
    },
    {
      "cell_type": "code",
      "metadata": {
        "id": "Ct36sTG3W4oH"
      },
      "source": [
        "from tensorflow.keras import layers, Sequential\n",
        "from tensorflow.keras.layers import LSTM\n",
        "from tensorflow.keras.callbacks import EarlyStopping\n",
        "from tensorflow.keras import regularizers\n"
      ],
      "id": "Ct36sTG3W4oH",
      "execution_count": null,
      "outputs": []
    },
    {
      "cell_type": "code",
      "metadata": {
        "id": "wuqdgPYyoV23"
      },
      "source": [
        "embedding_size=100\n",
        "reg_l2 = regularizers.L2(0.01)\n",
        "reg_l1 = regularizers.L1(0.01)\n",
        "reg_l1_l2 = regularizers.l1_l2(l1=0.005, l2=0.0005)\n",
        "es = EarlyStopping(monitor='accuracy', patience=5)"
      ],
      "id": "wuqdgPYyoV23",
      "execution_count": null,
      "outputs": []
    },
    {
      "cell_type": "code",
      "metadata": {
        "id": "83DUUH2zXA69"
      },
      "source": [
        "def init_model():\n",
        "\n",
        "  model = Sequential()\n",
        "  model.add(layers.Embedding(\n",
        "      input_dim=vocab_size+1, \n",
        "      output_dim=embedding_size,\n",
        "      mask_zero=True, # Included masking layer :)\n",
        "  ))\n",
        "  model.add(layers.LSTM(64, activation='tanh',return_sequences=True))\n",
        "  # model.add(layers.Dropout(rate=0.2))\n",
        "  model.add(layers.LSTM(32, activation='tanh'))\n",
        "  \n",
        "  model.add(layers.Dense(15, activation='relu', activity_regularizer=reg_l1))\n",
        "  model.add(layers.Dropout(rate=0.2))\n",
        "  model.add(layers.Dense(1, activation='sigmoid'))\n",
        "  \n",
        "  #compile\n",
        "  model.compile(loss='binary_crossentropy',optimizer='rmsprop',metrics=['accuracy'])\n",
        "  return model\n"
      ],
      "id": "83DUUH2zXA69",
      "execution_count": null,
      "outputs": []
    },
    {
      "cell_type": "code",
      "metadata": {
        "id": "KATTaq30h0mh"
      },
      "source": [
        "model = init_model()"
      ],
      "id": "KATTaq30h0mh",
      "execution_count": null,
      "outputs": []
    },
    {
      "cell_type": "code",
      "metadata": {
        "colab": {
          "base_uri": "https://localhost:8080/",
          "height": 817
        },
        "id": "85Xng3grX3O4",
        "outputId": "dc6ea820-8891-4ec9-9c0a-8de394a623af"
      },
      "source": [
        "model.fit(X_samp_pad, y_samp,\n",
        "          validation_data=(X_val_pad,y_val),\n",
        "                    epochs=20, \n",
        "                    batch_size=64, \n",
        "                    verbose=1,\n",
        "                    callbacks=[es])"
      ],
      "id": "85Xng3grX3O4",
      "execution_count": null,
      "outputs": [
        {
          "output_type": "stream",
          "text": [
            "Epoch 1/20\n",
            "157/157 [==============================] - 15s 56ms/step - loss: 0.6309 - accuracy: 0.6724 - val_loss: 0.5680 - val_accuracy: 0.7399\n",
            "Epoch 2/20\n",
            "157/157 [==============================] - 7s 44ms/step - loss: 0.4825 - accuracy: 0.8047 - val_loss: 0.5555 - val_accuracy: 0.7452\n",
            "Epoch 3/20\n",
            "157/157 [==============================] - 7s 45ms/step - loss: 0.4065 - accuracy: 0.8466 - val_loss: 0.5792 - val_accuracy: 0.7409\n",
            "Epoch 4/20\n",
            "157/157 [==============================] - 7s 45ms/step - loss: 0.3425 - accuracy: 0.8780 - val_loss: 0.6158 - val_accuracy: 0.7323\n",
            "Epoch 5/20\n",
            "157/157 [==============================] - 7s 46ms/step - loss: 0.2966 - accuracy: 0.9050 - val_loss: 0.6738 - val_accuracy: 0.7241\n",
            "Epoch 6/20\n",
            "157/157 [==============================] - 7s 46ms/step - loss: 0.2530 - accuracy: 0.9232 - val_loss: 0.7203 - val_accuracy: 0.7182\n",
            "Epoch 7/20\n",
            "157/157 [==============================] - 7s 45ms/step - loss: 0.2233 - accuracy: 0.9362 - val_loss: 0.7548 - val_accuracy: 0.7166\n",
            "Epoch 8/20\n",
            "157/157 [==============================] - 7s 47ms/step - loss: 0.1958 - accuracy: 0.9459 - val_loss: 0.8136 - val_accuracy: 0.7118\n",
            "Epoch 9/20\n",
            "157/157 [==============================] - 7s 45ms/step - loss: 0.1792 - accuracy: 0.9538 - val_loss: 0.8055 - val_accuracy: 0.7085\n",
            "Epoch 10/20\n",
            "157/157 [==============================] - 7s 44ms/step - loss: 0.1605 - accuracy: 0.9619 - val_loss: 0.8900 - val_accuracy: 0.7096\n",
            "Epoch 11/20\n",
            "157/157 [==============================] - 7s 46ms/step - loss: 0.1474 - accuracy: 0.9662 - val_loss: 0.9100 - val_accuracy: 0.7114\n",
            "Epoch 12/20\n",
            "157/157 [==============================] - 7s 43ms/step - loss: 0.1336 - accuracy: 0.9705 - val_loss: 0.9266 - val_accuracy: 0.7074\n",
            "Epoch 13/20\n",
            "157/157 [==============================] - 7s 46ms/step - loss: 0.1245 - accuracy: 0.9735 - val_loss: 1.0034 - val_accuracy: 0.7065\n",
            "Epoch 14/20\n",
            " 42/157 [=======>......................] - ETA: 3s - loss: 0.0996 - accuracy: 0.9825"
          ],
          "name": "stdout"
        },
        {
          "output_type": "error",
          "ename": "KeyboardInterrupt",
          "evalue": "ignored",
          "traceback": [
            "\u001b[0;31m---------------------------------------------------------------------------\u001b[0m",
            "\u001b[0;31mKeyboardInterrupt\u001b[0m                         Traceback (most recent call last)",
            "\u001b[0;32m<ipython-input-71-9af4d4e8c974>\u001b[0m in \u001b[0;36m<module>\u001b[0;34m()\u001b[0m\n\u001b[1;32m      4\u001b[0m                     \u001b[0mbatch_size\u001b[0m\u001b[0;34m=\u001b[0m\u001b[0;36m64\u001b[0m\u001b[0;34m,\u001b[0m\u001b[0;34m\u001b[0m\u001b[0;34m\u001b[0m\u001b[0m\n\u001b[1;32m      5\u001b[0m                     \u001b[0mverbose\u001b[0m\u001b[0;34m=\u001b[0m\u001b[0;36m1\u001b[0m\u001b[0;34m,\u001b[0m\u001b[0;34m\u001b[0m\u001b[0;34m\u001b[0m\u001b[0m\n\u001b[0;32m----> 6\u001b[0;31m                     callbacks=[es])\n\u001b[0m",
            "\u001b[0;32m/usr/local/lib/python3.7/dist-packages/tensorflow/python/keras/engine/training.py\u001b[0m in \u001b[0;36mfit\u001b[0;34m(self, x, y, batch_size, epochs, verbose, callbacks, validation_split, validation_data, shuffle, class_weight, sample_weight, initial_epoch, steps_per_epoch, validation_steps, validation_batch_size, validation_freq, max_queue_size, workers, use_multiprocessing)\u001b[0m\n\u001b[1;32m   1181\u001b[0m                 _r=1):\n\u001b[1;32m   1182\u001b[0m               \u001b[0mcallbacks\u001b[0m\u001b[0;34m.\u001b[0m\u001b[0mon_train_batch_begin\u001b[0m\u001b[0;34m(\u001b[0m\u001b[0mstep\u001b[0m\u001b[0;34m)\u001b[0m\u001b[0;34m\u001b[0m\u001b[0;34m\u001b[0m\u001b[0m\n\u001b[0;32m-> 1183\u001b[0;31m               \u001b[0mtmp_logs\u001b[0m \u001b[0;34m=\u001b[0m \u001b[0mself\u001b[0m\u001b[0;34m.\u001b[0m\u001b[0mtrain_function\u001b[0m\u001b[0;34m(\u001b[0m\u001b[0miterator\u001b[0m\u001b[0;34m)\u001b[0m\u001b[0;34m\u001b[0m\u001b[0;34m\u001b[0m\u001b[0m\n\u001b[0m\u001b[1;32m   1184\u001b[0m               \u001b[0;32mif\u001b[0m \u001b[0mdata_handler\u001b[0m\u001b[0;34m.\u001b[0m\u001b[0mshould_sync\u001b[0m\u001b[0;34m:\u001b[0m\u001b[0;34m\u001b[0m\u001b[0;34m\u001b[0m\u001b[0m\n\u001b[1;32m   1185\u001b[0m                 \u001b[0mcontext\u001b[0m\u001b[0;34m.\u001b[0m\u001b[0masync_wait\u001b[0m\u001b[0;34m(\u001b[0m\u001b[0;34m)\u001b[0m\u001b[0;34m\u001b[0m\u001b[0;34m\u001b[0m\u001b[0m\n",
            "\u001b[0;32m/usr/local/lib/python3.7/dist-packages/tensorflow/python/eager/def_function.py\u001b[0m in \u001b[0;36m__call__\u001b[0;34m(self, *args, **kwds)\u001b[0m\n\u001b[1;32m    887\u001b[0m \u001b[0;34m\u001b[0m\u001b[0m\n\u001b[1;32m    888\u001b[0m       \u001b[0;32mwith\u001b[0m \u001b[0mOptionalXlaContext\u001b[0m\u001b[0;34m(\u001b[0m\u001b[0mself\u001b[0m\u001b[0;34m.\u001b[0m\u001b[0m_jit_compile\u001b[0m\u001b[0;34m)\u001b[0m\u001b[0;34m:\u001b[0m\u001b[0;34m\u001b[0m\u001b[0;34m\u001b[0m\u001b[0m\n\u001b[0;32m--> 889\u001b[0;31m         \u001b[0mresult\u001b[0m \u001b[0;34m=\u001b[0m \u001b[0mself\u001b[0m\u001b[0;34m.\u001b[0m\u001b[0m_call\u001b[0m\u001b[0;34m(\u001b[0m\u001b[0;34m*\u001b[0m\u001b[0margs\u001b[0m\u001b[0;34m,\u001b[0m \u001b[0;34m**\u001b[0m\u001b[0mkwds\u001b[0m\u001b[0;34m)\u001b[0m\u001b[0;34m\u001b[0m\u001b[0;34m\u001b[0m\u001b[0m\n\u001b[0m\u001b[1;32m    890\u001b[0m \u001b[0;34m\u001b[0m\u001b[0m\n\u001b[1;32m    891\u001b[0m       \u001b[0mnew_tracing_count\u001b[0m \u001b[0;34m=\u001b[0m \u001b[0mself\u001b[0m\u001b[0;34m.\u001b[0m\u001b[0mexperimental_get_tracing_count\u001b[0m\u001b[0;34m(\u001b[0m\u001b[0;34m)\u001b[0m\u001b[0;34m\u001b[0m\u001b[0;34m\u001b[0m\u001b[0m\n",
            "\u001b[0;32m/usr/local/lib/python3.7/dist-packages/tensorflow/python/eager/def_function.py\u001b[0m in \u001b[0;36m_call\u001b[0;34m(self, *args, **kwds)\u001b[0m\n\u001b[1;32m    915\u001b[0m       \u001b[0;31m# In this case we have created variables on the first call, so we run the\u001b[0m\u001b[0;34m\u001b[0m\u001b[0;34m\u001b[0m\u001b[0;34m\u001b[0m\u001b[0m\n\u001b[1;32m    916\u001b[0m       \u001b[0;31m# defunned version which is guaranteed to never create variables.\u001b[0m\u001b[0;34m\u001b[0m\u001b[0;34m\u001b[0m\u001b[0;34m\u001b[0m\u001b[0m\n\u001b[0;32m--> 917\u001b[0;31m       \u001b[0;32mreturn\u001b[0m \u001b[0mself\u001b[0m\u001b[0;34m.\u001b[0m\u001b[0m_stateless_fn\u001b[0m\u001b[0;34m(\u001b[0m\u001b[0;34m*\u001b[0m\u001b[0margs\u001b[0m\u001b[0;34m,\u001b[0m \u001b[0;34m**\u001b[0m\u001b[0mkwds\u001b[0m\u001b[0;34m)\u001b[0m  \u001b[0;31m# pylint: disable=not-callable\u001b[0m\u001b[0;34m\u001b[0m\u001b[0;34m\u001b[0m\u001b[0m\n\u001b[0m\u001b[1;32m    918\u001b[0m     \u001b[0;32melif\u001b[0m \u001b[0mself\u001b[0m\u001b[0;34m.\u001b[0m\u001b[0m_stateful_fn\u001b[0m \u001b[0;32mis\u001b[0m \u001b[0;32mnot\u001b[0m \u001b[0;32mNone\u001b[0m\u001b[0;34m:\u001b[0m\u001b[0;34m\u001b[0m\u001b[0;34m\u001b[0m\u001b[0m\n\u001b[1;32m    919\u001b[0m       \u001b[0;31m# Release the lock early so that multiple threads can perform the call\u001b[0m\u001b[0;34m\u001b[0m\u001b[0;34m\u001b[0m\u001b[0;34m\u001b[0m\u001b[0m\n",
            "\u001b[0;32m/usr/local/lib/python3.7/dist-packages/tensorflow/python/eager/function.py\u001b[0m in \u001b[0;36m__call__\u001b[0;34m(self, *args, **kwargs)\u001b[0m\n\u001b[1;32m   3022\u001b[0m        filtered_flat_args) = self._maybe_define_function(args, kwargs)\n\u001b[1;32m   3023\u001b[0m     return graph_function._call_flat(\n\u001b[0;32m-> 3024\u001b[0;31m         filtered_flat_args, captured_inputs=graph_function.captured_inputs)  # pylint: disable=protected-access\n\u001b[0m\u001b[1;32m   3025\u001b[0m \u001b[0;34m\u001b[0m\u001b[0m\n\u001b[1;32m   3026\u001b[0m   \u001b[0;34m@\u001b[0m\u001b[0mproperty\u001b[0m\u001b[0;34m\u001b[0m\u001b[0;34m\u001b[0m\u001b[0m\n",
            "\u001b[0;32m/usr/local/lib/python3.7/dist-packages/tensorflow/python/eager/function.py\u001b[0m in \u001b[0;36m_call_flat\u001b[0;34m(self, args, captured_inputs, cancellation_manager)\u001b[0m\n\u001b[1;32m   1959\u001b[0m       \u001b[0;31m# No tape is watching; skip to running the function.\u001b[0m\u001b[0;34m\u001b[0m\u001b[0;34m\u001b[0m\u001b[0;34m\u001b[0m\u001b[0m\n\u001b[1;32m   1960\u001b[0m       return self._build_call_outputs(self._inference_function.call(\n\u001b[0;32m-> 1961\u001b[0;31m           ctx, args, cancellation_manager=cancellation_manager))\n\u001b[0m\u001b[1;32m   1962\u001b[0m     forward_backward = self._select_forward_and_backward_functions(\n\u001b[1;32m   1963\u001b[0m         \u001b[0margs\u001b[0m\u001b[0;34m,\u001b[0m\u001b[0;34m\u001b[0m\u001b[0;34m\u001b[0m\u001b[0m\n",
            "\u001b[0;32m/usr/local/lib/python3.7/dist-packages/tensorflow/python/eager/function.py\u001b[0m in \u001b[0;36mcall\u001b[0;34m(self, ctx, args, cancellation_manager)\u001b[0m\n\u001b[1;32m    594\u001b[0m               \u001b[0minputs\u001b[0m\u001b[0;34m=\u001b[0m\u001b[0margs\u001b[0m\u001b[0;34m,\u001b[0m\u001b[0;34m\u001b[0m\u001b[0;34m\u001b[0m\u001b[0m\n\u001b[1;32m    595\u001b[0m               \u001b[0mattrs\u001b[0m\u001b[0;34m=\u001b[0m\u001b[0mattrs\u001b[0m\u001b[0;34m,\u001b[0m\u001b[0;34m\u001b[0m\u001b[0;34m\u001b[0m\u001b[0m\n\u001b[0;32m--> 596\u001b[0;31m               ctx=ctx)\n\u001b[0m\u001b[1;32m    597\u001b[0m         \u001b[0;32melse\u001b[0m\u001b[0;34m:\u001b[0m\u001b[0;34m\u001b[0m\u001b[0;34m\u001b[0m\u001b[0m\n\u001b[1;32m    598\u001b[0m           outputs = execute.execute_with_cancellation(\n",
            "\u001b[0;32m/usr/local/lib/python3.7/dist-packages/tensorflow/python/eager/execute.py\u001b[0m in \u001b[0;36mquick_execute\u001b[0;34m(op_name, num_outputs, inputs, attrs, ctx, name)\u001b[0m\n\u001b[1;32m     58\u001b[0m     \u001b[0mctx\u001b[0m\u001b[0;34m.\u001b[0m\u001b[0mensure_initialized\u001b[0m\u001b[0;34m(\u001b[0m\u001b[0;34m)\u001b[0m\u001b[0;34m\u001b[0m\u001b[0;34m\u001b[0m\u001b[0m\n\u001b[1;32m     59\u001b[0m     tensors = pywrap_tfe.TFE_Py_Execute(ctx._handle, device_name, op_name,\n\u001b[0;32m---> 60\u001b[0;31m                                         inputs, attrs, num_outputs)\n\u001b[0m\u001b[1;32m     61\u001b[0m   \u001b[0;32mexcept\u001b[0m \u001b[0mcore\u001b[0m\u001b[0;34m.\u001b[0m\u001b[0m_NotOkStatusException\u001b[0m \u001b[0;32mas\u001b[0m \u001b[0me\u001b[0m\u001b[0;34m:\u001b[0m\u001b[0;34m\u001b[0m\u001b[0;34m\u001b[0m\u001b[0m\n\u001b[1;32m     62\u001b[0m     \u001b[0;32mif\u001b[0m \u001b[0mname\u001b[0m \u001b[0;32mis\u001b[0m \u001b[0;32mnot\u001b[0m \u001b[0;32mNone\u001b[0m\u001b[0;34m:\u001b[0m\u001b[0;34m\u001b[0m\u001b[0;34m\u001b[0m\u001b[0m\n",
            "\u001b[0;31mKeyboardInterrupt\u001b[0m: "
          ]
        }
      ]
    },
    {
      "cell_type": "code",
      "metadata": {
        "id": "eqjVIDt8d67Y"
      },
      "source": [
        ""
      ],
      "id": "eqjVIDt8d67Y",
      "execution_count": null,
      "outputs": []
    }
  ]
}