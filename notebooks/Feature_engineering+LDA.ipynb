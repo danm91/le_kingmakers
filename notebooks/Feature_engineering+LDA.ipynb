{
 "cells": [
  {
   "cell_type": "code",
   "execution_count": 1,
   "id": "e28c4208",
   "metadata": {
    "ExecuteTime": {
     "end_time": "2021-06-14T08:06:56.789322Z",
     "start_time": "2021-06-14T08:06:56.778516Z"
    }
   },
   "outputs": [],
   "source": [
    "%load_ext autoreload\n",
    "%autoreload 2"
   ]
  },
  {
   "cell_type": "code",
   "execution_count": 2,
   "id": "0f6630ec",
   "metadata": {
    "ExecuteTime": {
     "end_time": "2021-06-14T08:06:57.512289Z",
     "start_time": "2021-06-14T08:06:56.790885Z"
    }
   },
   "outputs": [],
   "source": [
    "import pandas as pd\n",
    "import matplotlib.pyplot as plt\n",
    "import seaborn as sns"
   ]
  },
  {
   "cell_type": "code",
   "execution_count": 3,
   "id": "7475c6e4",
   "metadata": {
    "ExecuteTime": {
     "end_time": "2021-06-14T08:06:58.087882Z",
     "start_time": "2021-06-14T08:06:57.513774Z"
    }
   },
   "outputs": [
    {
     "name": "stderr",
     "output_type": "stream",
     "text": [
      "/Users/danielmarron/.pyenv/versions/le_kingmakers/lib/python3.8/site-packages/IPython/core/interactiveshell.py:3169: DtypeWarning: Columns (0,1,5,8,9,10) have mixed types.Specify dtype option on import or set low_memory=False.\n",
      "  has_raised = await self.run_ast_nodes(code_ast.body, cell_name,\n"
     ]
    }
   ],
   "source": [
    "df = pd.read_csv('2021_master.csv')"
   ]
  },
  {
   "cell_type": "markdown",
   "id": "7eb01c5c",
   "metadata": {},
   "source": [
    "## drop duplicates for id - multiple tweets picked up under searches for different figures where they are all mentioned"
   ]
  },
  {
   "cell_type": "code",
   "execution_count": 4,
   "id": "30fc4798",
   "metadata": {
    "ExecuteTime": {
     "end_time": "2021-06-14T08:06:58.158739Z",
     "start_time": "2021-06-14T08:06:58.088906Z"
    }
   },
   "outputs": [],
   "source": [
    "df = df.drop_duplicates('id').reset_index(drop=True)"
   ]
  },
  {
   "cell_type": "code",
   "execution_count": 5,
   "id": "705f7675",
   "metadata": {
    "ExecuteTime": {
     "end_time": "2021-06-14T08:06:58.186716Z",
     "start_time": "2021-06-14T08:06:58.159763Z"
    }
   },
   "outputs": [],
   "source": [
    "# at row 3384 somehow the headers have crept in... needs to be removed, addressed in this notebook for now\n",
    "df = df.drop(index=3384)"
   ]
  },
  {
   "cell_type": "code",
   "execution_count": 6,
   "id": "1ba43417",
   "metadata": {
    "ExecuteTime": {
     "end_time": "2021-06-14T08:06:58.203006Z",
     "start_time": "2021-06-14T08:06:58.187922Z"
    }
   },
   "outputs": [
    {
     "data": {
      "text/plain": [
       "(120635, 14)"
      ]
     },
     "execution_count": 6,
     "metadata": {},
     "output_type": "execute_result"
    }
   ],
   "source": [
    "df.shape"
   ]
  },
  {
   "cell_type": "code",
   "execution_count": 7,
   "id": "3c1dc4da",
   "metadata": {
    "ExecuteTime": {
     "end_time": "2021-06-14T08:06:58.244361Z",
     "start_time": "2021-06-14T08:06:58.208009Z"
    },
    "scrolled": true
   },
   "outputs": [],
   "source": [
    "#for some reason appears to be reading in the 'date' title and trying to convert... ignore for now\n",
    "df['date'] = pd.to_datetime(df['date'], format = '%Y-%m-%d')"
   ]
  },
  {
   "cell_type": "code",
   "execution_count": 8,
   "id": "8f09e9c2",
   "metadata": {
    "ExecuteTime": {
     "end_time": "2021-06-14T08:06:58.258672Z",
     "start_time": "2021-06-14T08:06:58.245384Z"
    }
   },
   "outputs": [],
   "source": [
    "int_types = ['replies_count', 'retweets_count', 'likes_count']"
   ]
  },
  {
   "cell_type": "code",
   "execution_count": 9,
   "id": "ce7c51ba",
   "metadata": {
    "ExecuteTime": {
     "end_time": "2021-06-14T08:06:58.330628Z",
     "start_time": "2021-06-14T08:06:58.259769Z"
    }
   },
   "outputs": [],
   "source": [
    "df[int_types] = df[int_types].astype(int)"
   ]
  },
  {
   "cell_type": "code",
   "execution_count": 10,
   "id": "950c3687",
   "metadata": {
    "ExecuteTime": {
     "end_time": "2021-06-14T08:06:58.346933Z",
     "start_time": "2021-06-14T08:06:58.331818Z"
    }
   },
   "outputs": [
    {
     "data": {
      "text/plain": [
       "id                         object\n",
       "conversation_id            object\n",
       "created_at                 object\n",
       "date               datetime64[ns]\n",
       "time                       object\n",
       "user_id                    object\n",
       "tweet                      object\n",
       "language                   object\n",
       "replies_count               int64\n",
       "retweets_count              int64\n",
       "likes_count                 int64\n",
       "hashtags                   object\n",
       "geo                        object\n",
       "figure                     object\n",
       "dtype: object"
      ]
     },
     "execution_count": 10,
     "metadata": {},
     "output_type": "execute_result"
    }
   ],
   "source": [
    "df.dtypes"
   ]
  },
  {
   "cell_type": "markdown",
   "id": "aeb3b7d5",
   "metadata": {},
   "source": [
    "## Import models"
   ]
  },
  {
   "cell_type": "code",
   "execution_count": 11,
   "id": "83a5a212",
   "metadata": {
    "ExecuteTime": {
     "end_time": "2021-06-14T08:06:58.384242Z",
     "start_time": "2021-06-14T08:06:58.347989Z"
    }
   },
   "outputs": [],
   "source": [
    "import joblib"
   ]
  },
  {
   "cell_type": "code",
   "execution_count": 12,
   "id": "bb38f9fa",
   "metadata": {
    "ExecuteTime": {
     "end_time": "2021-06-14T08:06:59.387707Z",
     "start_time": "2021-06-14T08:06:58.385197Z"
    }
   },
   "outputs": [],
   "source": [
    "model = joblib.load('../le_kingmakers/model2.joblib')"
   ]
  },
  {
   "cell_type": "code",
   "execution_count": 13,
   "id": "86f475bd",
   "metadata": {
    "ExecuteTime": {
     "end_time": "2021-06-14T08:06:59.408126Z",
     "start_time": "2021-06-14T08:06:59.388748Z"
    }
   },
   "outputs": [
    {
     "data": {
      "text/plain": [
       "Pipeline(steps=[('preprocess',\n",
       "                 Pipeline(steps=[('clean_text', TextPreprocess()),\n",
       "                                 ('convert_text', TextConvertAbbv())])),\n",
       "                ('vectorizer', TfidfVectorizer(max_df=0.2, ngram_range=(1, 2))),\n",
       "                ('model', MultinomialNB())])"
      ]
     },
     "execution_count": 13,
     "metadata": {},
     "output_type": "execute_result"
    }
   ],
   "source": [
    "model"
   ]
  },
  {
   "cell_type": "code",
   "execution_count": 14,
   "id": "6319c371",
   "metadata": {
    "ExecuteTime": {
     "end_time": "2021-06-14T08:07:49.803691Z",
     "start_time": "2021-06-14T08:06:59.409129Z"
    }
   },
   "outputs": [
    {
     "name": "stdout",
     "output_type": "stream",
     "text": [
      "CPU times: user 1e+03 ns, sys: 1e+03 ns, total: 2 µs\n",
      "Wall time: 3.1 µs\n"
     ]
    }
   ],
   "source": [
    "%time\n",
    "df['prediction'] = model.predict(df['tweet'])"
   ]
  },
  {
   "cell_type": "code",
   "execution_count": 15,
   "id": "e5b60e6b",
   "metadata": {
    "ExecuteTime": {
     "end_time": "2021-06-14T08:07:49.828586Z",
     "start_time": "2021-06-14T08:07:49.804958Z"
    }
   },
   "outputs": [],
   "source": [
    "#the bayes model predicts 0 or 4\n",
    "sentiment_map = {0:-1, 4:1}"
   ]
  },
  {
   "cell_type": "code",
   "execution_count": 16,
   "id": "595d40c1",
   "metadata": {
    "ExecuteTime": {
     "end_time": "2021-06-14T08:07:49.849330Z",
     "start_time": "2021-06-14T08:07:49.829690Z"
    }
   },
   "outputs": [],
   "source": [
    "df['prediction'] = df['prediction'].map(sentiment_map)"
   ]
  },
  {
   "cell_type": "code",
   "execution_count": 17,
   "id": "8487603c",
   "metadata": {
    "ExecuteTime": {
     "end_time": "2021-06-14T08:07:49.869570Z",
     "start_time": "2021-06-14T08:07:49.850425Z"
    }
   },
   "outputs": [
    {
     "data": {
      "text/plain": [
       "-1    66602\n",
       " 1    54033\n",
       "Name: prediction, dtype: int64"
      ]
     },
     "execution_count": 17,
     "metadata": {},
     "output_type": "execute_result"
    }
   ],
   "source": [
    "df.prediction.value_counts()"
   ]
  },
  {
   "cell_type": "markdown",
   "id": "926117ce",
   "metadata": {},
   "source": [
    "### new class needs to be created for the table that is going to be just days, figure, predictions...\n",
    "- need a get tweet function? to get the id of the tweet and print whats been said, return the retweets count\n"
   ]
  },
  {
   "cell_type": "markdown",
   "id": "40c998b8",
   "metadata": {},
   "source": [
    "## Generating a popularity formula"
   ]
  },
  {
   "cell_type": "markdown",
   "id": "86f36792",
   "metadata": {},
   "source": [
    "### Formula is:\n"
   ]
  },
  {
   "cell_type": "code",
   "execution_count": 18,
   "id": "1c1f4243",
   "metadata": {
    "ExecuteTime": {
     "end_time": "2021-06-14T08:07:49.898768Z",
     "start_time": "2021-06-14T08:07:49.870965Z"
    }
   },
   "outputs": [],
   "source": [
    "likes_weighting = 0.5\n",
    "retweets_weighting = 1\n",
    "df['popularity'] = df['prediction'] + (df['prediction']*df['likes_count']*likes_weighting) + \\\n",
    "                      (df['prediction']*df['retweets_count']*retweets_weighting)\n"
   ]
  },
  {
   "cell_type": "code",
   "execution_count": 19,
   "id": "fdda2702",
   "metadata": {
    "ExecuteTime": {
     "end_time": "2021-06-14T08:07:49.916852Z",
     "start_time": "2021-06-14T08:07:49.899752Z"
    }
   },
   "outputs": [],
   "source": [
    "#create groups by MP, then can get group and do the data analysis\n",
    "figure_groups = df.groupby('figure')"
   ]
  },
  {
   "cell_type": "code",
   "execution_count": 20,
   "id": "70315455",
   "metadata": {
    "ExecuteTime": {
     "end_time": "2021-06-14T08:07:49.955986Z",
     "start_time": "2021-06-14T08:07:49.917915Z"
    }
   },
   "outputs": [
    {
     "data": {
      "text/html": [
       "<div>\n",
       "<style scoped>\n",
       "    .dataframe tbody tr th:only-of-type {\n",
       "        vertical-align: middle;\n",
       "    }\n",
       "\n",
       "    .dataframe tbody tr th {\n",
       "        vertical-align: top;\n",
       "    }\n",
       "\n",
       "    .dataframe thead th {\n",
       "        text-align: right;\n",
       "    }\n",
       "</style>\n",
       "<table border=\"1\" class=\"dataframe\">\n",
       "  <thead>\n",
       "    <tr style=\"text-align: right;\">\n",
       "      <th></th>\n",
       "      <th>date</th>\n",
       "      <th>popularity</th>\n",
       "      <th>likes_count</th>\n",
       "    </tr>\n",
       "  </thead>\n",
       "  <tbody>\n",
       "    <tr>\n",
       "      <th>0</th>\n",
       "      <td>2021-01-01</td>\n",
       "      <td>-24.5</td>\n",
       "      <td>105</td>\n",
       "    </tr>\n",
       "    <tr>\n",
       "      <th>1</th>\n",
       "      <td>2021-01-02</td>\n",
       "      <td>-25.5</td>\n",
       "      <td>275</td>\n",
       "    </tr>\n",
       "  </tbody>\n",
       "</table>\n",
       "</div>"
      ],
      "text/plain": [
       "        date  popularity  likes_count\n",
       "0 2021-01-01       -24.5          105\n",
       "1 2021-01-02       -25.5          275"
      ]
     },
     "execution_count": 20,
     "metadata": {},
     "output_type": "execute_result"
    }
   ],
   "source": [
    "#create dataframe of tweets for mh, summing up the predictions and likes_counts\n",
    "mh = figure_groups.get_group('matthancock').groupby('date',as_index=False).agg({'popularity':'sum','likes_count':'sum',})\n",
    "mh.head(2)"
   ]
  },
  {
   "cell_type": "code",
   "execution_count": 21,
   "id": "f059f801",
   "metadata": {
    "ExecuteTime": {
     "end_time": "2021-06-14T08:07:50.087185Z",
     "start_time": "2021-06-14T08:07:49.960726Z"
    }
   },
   "outputs": [
    {
     "data": {
      "image/png": "[encoded data removed]",
      "text/plain": [
       "<Figure size 720x432 with 1 Axes>"
      ]
     },
     "metadata": {
      "needs_background": "light"
     },
     "output_type": "display_data"
    }
   ],
   "source": [
    "fig = plt.figure(figsize=(10,6))\n",
    "plt.grid('minor')\n",
    "plt.plot(mh.date,mh.popularity)\n",
    "plt.title('Matt Hancock since 2021')\n",
    "plt.show()"
   ]
  },
  {
   "cell_type": "code",
   "execution_count": 22,
   "id": "2247f15b",
   "metadata": {
    "ExecuteTime": {
     "end_time": "2021-06-14T08:07:50.107179Z",
     "start_time": "2021-06-14T08:07:50.090303Z"
    }
   },
   "outputs": [],
   "source": [
    "#lets try and find the negative tweets...\n",
    "#getting a battering following the allegations from dominic cummings and defending himself against MPs \n",
    "#- think this is the case"
   ]
  },
  {
   "cell_type": "code",
   "execution_count": 23,
   "id": "43388c65",
   "metadata": {
    "ExecuteTime": {
     "end_time": "2021-06-14T08:07:50.128070Z",
     "start_time": "2021-06-14T08:07:50.108211Z"
    }
   },
   "outputs": [],
   "source": [
    "mh_test = figure_groups.get_group('matthancock')"
   ]
  },
  {
   "cell_type": "code",
   "execution_count": 24,
   "id": "e43b1d4f",
   "metadata": {
    "ExecuteTime": {
     "end_time": "2021-06-14T08:07:50.148748Z",
     "start_time": "2021-06-14T08:07:50.129260Z"
    }
   },
   "outputs": [],
   "source": [
    "negative_search = mh_test[(mh_test['date']>'2021-06-01')&(mh_test['date']<'2021-06-15')&(mh_test['prediction']==-1)]"
   ]
  },
  {
   "cell_type": "code",
   "execution_count": 25,
   "id": "3c5fc48c",
   "metadata": {
    "ExecuteTime": {
     "end_time": "2021-06-14T08:07:50.167741Z",
     "start_time": "2021-06-14T08:07:50.149694Z"
    }
   },
   "outputs": [
    {
     "data": {
      "text/plain": [
       "Index(['id', 'conversation_id', 'created_at', 'date', 'time', 'user_id',\n",
       "       'tweet', 'language', 'replies_count', 'retweets_count', 'likes_count',\n",
       "       'hashtags', 'geo', 'figure', 'prediction', 'popularity'],\n",
       "      dtype='object')"
      ]
     },
     "execution_count": 25,
     "metadata": {},
     "output_type": "execute_result"
    }
   ],
   "source": [
    "negative_search.columns"
   ]
  },
  {
   "cell_type": "code",
   "execution_count": 26,
   "id": "631b3f8c",
   "metadata": {
    "ExecuteTime": {
     "end_time": "2021-06-14T08:07:50.189480Z",
     "start_time": "2021-06-14T08:07:50.168763Z"
    }
   },
   "outputs": [
    {
     "data": {
      "text/plain": [
       "array(['Matt Hancock: “There was no national shortage of PPE”  https://t.co/2dpBkiMuZA',\n",
       "       'Matt Hancock saying they didn’t test people sent back into care homes because they didn’t test asymptomatic cases will really annoy Matt Hancock who said they didn’t test people because of a lack of tests which will really annoy Matt Hancock who said everyone would be tested.',\n",
       "       'How can @MattHancock stand there and say “there is no room for complacency” after delaying *three weeks* before putting India on red list once Delta variant discovered in the UK?  Shameless',\n",
       "       'Today: ▪️Govt broke the law on contracts ▪️They want to break their “oven ready” Brexit deal ▪️They’re threatening to break international law ▪️It’s revealed Matt Hancock knew re care homes risk in March 2020 ▪️PM took jet to talk about climate crisis  And the day isn’t over yet',\n",
       "       'CHRIST  Matt Hancock is defending the Govt’s decision to not cover people’s salaries when required to self-isolate  He actually said…  He didn’t want A NETWORK OF FRIENDS TO GAME THE SYSTEM',\n",
       "       '🤦\\u200d♀️Was trying to be constructive In questioning @matthancock but he responded in irritable &amp; patronising way - no answers to serious questions eg asking him to follow the expert scientific advice that there’s still a need for masks in classrooms- not least as Delta variant surges'],\n",
       "      dtype=object)"
      ]
     },
     "execution_count": 26,
     "metadata": {},
     "output_type": "execute_result"
    }
   ],
   "source": [
    "negative_search.sort_values(by='likes_count', ascending=False).iloc[:6,:].tweet.values"
   ]
  },
  {
   "cell_type": "code",
   "execution_count": 27,
   "id": "ef3ce1fc",
   "metadata": {
    "ExecuteTime": {
     "end_time": "2021-06-14T08:07:50.210150Z",
     "start_time": "2021-06-14T08:07:50.190552Z"
    }
   },
   "outputs": [],
   "source": [
    "positive_search=mh_test[(mh_test['date']>'2021-04-10')&(mh_test['date']<'2021-04-15')&(mh_test['prediction']==1)]"
   ]
  },
  {
   "cell_type": "code",
   "execution_count": 28,
   "id": "fcb7b04a",
   "metadata": {
    "ExecuteTime": {
     "end_time": "2021-06-14T08:07:50.231880Z",
     "start_time": "2021-06-14T08:07:50.211900Z"
    }
   },
   "outputs": [
    {
     "data": {
      "text/plain": [
       "array([\"NHS workers in Scotland will get a 4% pay rise. I've just signed the petition demanding @MattHancock and @RishiSunak give #NHS staff in England a REAL payrise. 1% is just not good enough. Will you join me?  https://t.co/jBR90Wp9ei\",\n",
       "       'Listen 🎧 to my interview with Ali Parsa - CEO @babylonhealth   cc: @Gil_Bashe @NHSEngland @SpiritDigitalUK @MSF_uk @UrsBolt @UiPath @JohnNosta @ZGJR @zajctjasa @daniel_kraft @innonurse @MattHancock @SiemensHealth @_FaceSA @ValaAfshar @SpirosMargaris @drjohnwhyte  #digitalhealth',\n",
       "       'Important article by @EveSimmns in today’s @mailonsundaySTL  I comment on how so many sexualised #online images are unhelpful for #youngpeople and their #mentalhealth #fitspo @rcpsych @RcpsychCAP @YoungMindsUK @psych_cypf @cypnow @BPSOfficial @ACPtherapy @IFT_london @MattHancock',\n",
       "       'Great message from @MattHancock thank you! Derbyshire Conservative’s are really delivering for #Derbyshire residents. 55% of people vaccinated - ahead of national average.  https://t.co/I1fKooFFbq',\n",
       "       \"@MattHancock @ONS Fantastic news! That should help you flog it off! Will you get more than Cameron's 71 million?\"],\n",
       "      dtype=object)"
      ]
     },
     "execution_count": 28,
     "metadata": {},
     "output_type": "execute_result"
    }
   ],
   "source": [
    "positive_search.sort_values(by='likes_count', ascending=False).tweet.values[:5]"
   ]
  },
  {
   "cell_type": "markdown",
   "id": "8d82b139",
   "metadata": {},
   "source": [
    "## making an example for borisjohnson for LDA"
   ]
  },
  {
   "cell_type": "code",
   "execution_count": 29,
   "id": "b6d97f0f",
   "metadata": {
    "ExecuteTime": {
     "end_time": "2021-06-14T08:07:50.261582Z",
     "start_time": "2021-06-14T08:07:50.232928Z"
    }
   },
   "outputs": [],
   "source": [
    "boris = figure_groups.get_group('borisjohnson')"
   ]
  },
  {
   "cell_type": "code",
   "execution_count": 30,
   "id": "05e4713b",
   "metadata": {
    "ExecuteTime": {
     "end_time": "2021-06-14T08:07:50.283914Z",
     "start_time": "2021-06-14T08:07:50.262674Z"
    }
   },
   "outputs": [],
   "source": [
    "boris_negative = boris[boris['prediction'] == -1]"
   ]
  },
  {
   "cell_type": "markdown",
   "id": "b55ad26f",
   "metadata": {
    "ExecuteTime": {
     "end_time": "2021-06-13T15:19:54.454298Z",
     "start_time": "2021-06-13T15:19:54.400913Z"
    }
   },
   "source": [
    "## REMOVE AFTER"
   ]
  },
  {
   "cell_type": "code",
   "execution_count": 31,
   "id": "e54415f6",
   "metadata": {
    "ExecuteTime": {
     "end_time": "2021-06-14T08:07:50.301552Z",
     "start_time": "2021-06-14T08:07:50.285041Z"
    }
   },
   "outputs": [],
   "source": [
    "# negative_search = boris_negative.copy() #just to avoid changing the code below"
   ]
  },
  {
   "cell_type": "markdown",
   "id": "c7848d9f",
   "metadata": {},
   "source": [
    "# LDA Modelling"
   ]
  },
  {
   "cell_type": "code",
   "execution_count": 32,
   "id": "f109d191",
   "metadata": {
    "ExecuteTime": {
     "end_time": "2021-06-14T08:07:50.872067Z",
     "start_time": "2021-06-14T08:07:50.302694Z"
    },
    "scrolled": true
   },
   "outputs": [
    {
     "name": "stderr",
     "output_type": "stream",
     "text": [
      "/Users/danielmarron/.pyenv/versions/le_kingmakers/lib/python3.8/site-packages/gensim/similarities/__init__.py:15: UserWarning: The gensim.similarities.levenshtein submodule is disabled, because the optional Levenshtein package <https://pypi.org/project/python-Levenshtein/> is unavailable. Install Levenhstein (e.g. `pip install python-Levenshtein`) to suppress this warning.\n",
      "  warnings.warn(msg)\n"
     ]
    }
   ],
   "source": [
    "import re\n",
    "import numpy as np\n",
    "import pandas as pd\n",
    "from pprint import pprint\n",
    "\n",
    "# Gensim\n",
    "import gensim\n",
    "import gensim.corpora as corpora\n",
    "from gensim.utils import simple_preprocess\n",
    "from gensim.models import CoherenceModel\n",
    "\n",
    "# spacy for lemmatization\n",
    "import spacy\n",
    "\n",
    "# Plotting tools\n",
    "import pyLDAvis\n",
    "import pyLDAvis.gensim_models as gensimvis \n",
    "# The pyLDAvis gensim name changed. When I use gensim_models rather than gensim the interactive viz works.# don't skip this\n",
    "# import matplotlib.pyplot as plt\n",
    "# %matplotlib inline\n",
    "\n",
    "# Enable logging for gensim - optional\n",
    "import logging\n",
    "logging.basicConfig(format='%(asctime)s : %(levelname)s : %(message)s', level=logging.ERROR)\n",
    "\n",
    "import warnings\n",
    "warnings.filterwarnings(\"ignore\",category=DeprecationWarning)"
   ]
  },
  {
   "cell_type": "code",
   "execution_count": 33,
   "id": "2dd69423",
   "metadata": {
    "ExecuteTime": {
     "end_time": "2021-06-14T08:07:50.896176Z",
     "start_time": "2021-06-14T08:07:50.873128Z"
    }
   },
   "outputs": [],
   "source": [
    "from nltk.corpus import stopwords\n",
    "stop_words = stopwords.words('english')\n",
    "import string\n",
    "from nltk import word_tokenize"
   ]
  },
  {
   "cell_type": "markdown",
   "id": "a4c2bf68",
   "metadata": {},
   "source": [
    "## Add to stopwords:\n"
   ]
  },
  {
   "cell_type": "code",
   "execution_count": 34,
   "id": "9cfc59bd",
   "metadata": {
    "ExecuteTime": {
     "end_time": "2021-06-14T08:07:50.921950Z",
     "start_time": "2021-06-14T08:07:50.897226Z"
    }
   },
   "outputs": [
    {
     "data": {
      "text/plain": [
       "188"
      ]
     },
     "execution_count": 34,
     "metadata": {},
     "output_type": "execute_result"
    }
   ],
   "source": [
    "added_words = ['matthancock','matt','hancock','get','say','amp', 'boris', 'borisjohnson', 'johnson']\n",
    "stop_words.extend(added_words)\n",
    "# stop_words=set(stop_words)\n",
    "len(stop_words)"
   ]
  },
  {
   "cell_type": "code",
   "execution_count": 35,
   "id": "90cfd06f",
   "metadata": {
    "ExecuteTime": {
     "end_time": "2021-06-14T08:07:50.947755Z",
     "start_time": "2021-06-14T08:07:50.923110Z"
    }
   },
   "outputs": [],
   "source": [
    "#new basic data cleaning being used\n",
    "\n",
    "def preprocess_tweet(text):\n",
    "    # Check characters to see if they are in punctuation\n",
    "    nopunc = [char for char in text if char not in string.punctuation]\n",
    "    # Join the characters again to form the string.\n",
    "    nopunc = ''.join(nopunc)\n",
    "    # convert text to lower-case\n",
    "    nopunc = nopunc.lower()\n",
    "    # remove URLs\n",
    "    nopunc = re.sub('((www\\.[^\\s]+)|(https?://[^\\s]+)|(http?://[^\\s]+))', '', nopunc)\n",
    "    nopunc = re.sub(r'http\\S+', '', nopunc)\n",
    "    # remove usernames\n",
    "    nopunc = re.sub('@[^\\s]+', '', nopunc)\n",
    "    # remove the # in #hashtag\n",
    "    nopunc = re.sub(r'#([^\\s]+)', r'\\1', nopunc)\n",
    "    # remove repeated characters\n",
    "#     nopunc = word_tokenize(nopunc)\n",
    "    # remove stopwords from final word list\n",
    "#     return [word for word in nopunc if word not in stopwords.words('english')]\n",
    "    return nopunc"
   ]
  },
  {
   "cell_type": "code",
   "execution_count": 36,
   "id": "a019f420",
   "metadata": {
    "ExecuteTime": {
     "end_time": "2021-06-14T08:07:50.972052Z",
     "start_time": "2021-06-14T08:07:50.948780Z"
    }
   },
   "outputs": [
    {
     "data": {
      "text/plain": [
       "'Matt Hancock said the Covid-19 mutation that originated in India now makes up 91% of new cases in the UK...   https://t.co/9Ro8oh97ie'"
      ]
     },
     "execution_count": 36,
     "metadata": {},
     "output_type": "execute_result"
    }
   ],
   "source": [
    "# raw tweet\n",
    "negative_search.tweet.values[0]"
   ]
  },
  {
   "cell_type": "code",
   "execution_count": 37,
   "id": "9f0f7f3a",
   "metadata": {
    "ExecuteTime": {
     "end_time": "2021-06-14T08:07:50.997693Z",
     "start_time": "2021-06-14T08:07:50.973029Z"
    }
   },
   "outputs": [
    {
     "data": {
      "text/plain": [
       "'matt hancock said the covid19 mutation that originated in india now makes up 91 of new cases in the uk   '"
      ]
     },
     "execution_count": 37,
     "metadata": {},
     "output_type": "execute_result"
    }
   ],
   "source": [
    "#result:\n",
    "preprocess_tweet(negative_search.tweet.values[0])"
   ]
  },
  {
   "cell_type": "markdown",
   "id": "14f9b3ad",
   "metadata": {},
   "source": [
    "## create new dateframe to do the lda - this is on negative tweets only"
   ]
  },
  {
   "cell_type": "code",
   "execution_count": 38,
   "id": "451cee4a",
   "metadata": {
    "ExecuteTime": {
     "end_time": "2021-06-14T08:07:51.022704Z",
     "start_time": "2021-06-14T08:07:50.998781Z"
    }
   },
   "outputs": [
    {
     "data": {
      "text/plain": [
       "(5360, 16)"
      ]
     },
     "execution_count": 38,
     "metadata": {},
     "output_type": "execute_result"
    }
   ],
   "source": [
    "lda_df = negative_search #this is from dates above\n",
    "lda_df.shape"
   ]
  },
  {
   "cell_type": "code",
   "execution_count": 39,
   "id": "b40c8ea6",
   "metadata": {
    "ExecuteTime": {
     "end_time": "2021-06-14T08:07:51.199764Z",
     "start_time": "2021-06-14T08:07:51.023761Z"
    }
   },
   "outputs": [
    {
     "name": "stderr",
     "output_type": "stream",
     "text": [
      "<ipython-input-39-4a6a154d9d71>:1: SettingWithCopyWarning: \n",
      "A value is trying to be set on a copy of a slice from a DataFrame.\n",
      "Try using .loc[row_indexer,col_indexer] = value instead\n",
      "\n",
      "See the caveats in the documentation: https://pandas.pydata.org/pandas-docs/stable/user_guide/indexing.html#returning-a-view-versus-a-copy\n",
      "  lda_df['tweet'] = lda_df.tweet.map(preprocess_tweet)\n"
     ]
    }
   ],
   "source": [
    "lda_df['tweet'] = lda_df.tweet.map(preprocess_tweet)"
   ]
  },
  {
   "cell_type": "markdown",
   "id": "90348277",
   "metadata": {},
   "source": [
    "## preprocess dataframe"
   ]
  },
  {
   "cell_type": "code",
   "execution_count": 40,
   "id": "68f7615a",
   "metadata": {
    "ExecuteTime": {
     "end_time": "2021-06-14T08:07:51.236451Z",
     "start_time": "2021-06-14T08:07:51.200991Z"
    }
   },
   "outputs": [],
   "source": [
    "def sent_to_words(sentences):\n",
    "    for sentence in sentences:\n",
    "        yield(gensim.utils.simple_preprocess(str(sentence), deacc=True))"
   ]
  },
  {
   "cell_type": "code",
   "execution_count": 41,
   "id": "855096a0",
   "metadata": {
    "ExecuteTime": {
     "end_time": "2021-06-14T08:07:51.556775Z",
     "start_time": "2021-06-14T08:07:51.237493Z"
    }
   },
   "outputs": [],
   "source": [
    "data_words = list(sent_to_words(lda_df['tweet']))"
   ]
  },
  {
   "cell_type": "markdown",
   "id": "767a0231",
   "metadata": {},
   "source": [
    "## build bigram and trigram models"
   ]
  },
  {
   "cell_type": "code",
   "execution_count": 42,
   "id": "d055d811",
   "metadata": {
    "ExecuteTime": {
     "end_time": "2021-06-14T08:07:52.233579Z",
     "start_time": "2021-06-14T08:07:51.557894Z"
    }
   },
   "outputs": [
    {
     "name": "stdout",
     "output_type": "stream",
     "text": [
      "['matt', 'hancock', 'said', 'the', 'covid', 'mutation', 'that', 'originated', 'in', 'india', 'now', 'makes', 'up', 'of', 'new', 'cases', 'in', 'the', 'uk']\n"
     ]
    }
   ],
   "source": [
    "bigram = gensim.models.Phrases(data_words, min_count=5, threshold=100) # higher threshold fewer phrases.\n",
    "trigram = gensim.models.Phrases(bigram[data_words], threshold=100) \n",
    "\n",
    "bigram_mod = gensim.models.phrases.Phraser(bigram)\n",
    "trigram_mod = gensim.models.phrases.Phraser(trigram)\n",
    "\n",
    "print(trigram_mod[bigram_mod[data_words[0]]])"
   ]
  },
  {
   "cell_type": "markdown",
   "id": "06f47446",
   "metadata": {},
   "source": [
    "## Remove Stopwords, Make Bigrams and Lemmatize"
   ]
  },
  {
   "cell_type": "code",
   "execution_count": 43,
   "id": "7f34de38",
   "metadata": {
    "ExecuteTime": {
     "end_time": "2021-06-14T08:07:52.265879Z",
     "start_time": "2021-06-14T08:07:52.234832Z"
    }
   },
   "outputs": [],
   "source": [
    "def remove_stopwords(texts):\n",
    "    return [[word for word in simple_preprocess(str(doc)) if word not in stop_words] for doc in texts]\n",
    "\n",
    "def make_bigrams(texts):\n",
    "    return [bigram_mod[doc] for doc in texts]\n",
    "\n",
    "def make_trigrams(texts):\n",
    "    return [trigram_mod[bigram_mod[doc]] for doc in texts]\n",
    "\n",
    "def lemmatization(texts, allowed_postags=['NOUN', 'ADJ', 'VERB', 'ADV']):\n",
    "    \"\"\"https://spacy.io/api/annotation\"\"\"\n",
    "    texts_out = []\n",
    "    for sent in texts:\n",
    "        doc = nlp(\" \".join(sent)) \n",
    "        texts_out.append([token.lemma_ for token in doc if token.pos_ in allowed_postags])\n",
    "    return texts_out"
   ]
  },
  {
   "cell_type": "code",
   "execution_count": 44,
   "id": "d47b4191",
   "metadata": {
    "ExecuteTime": {
     "end_time": "2021-06-14T08:07:52.677421Z",
     "start_time": "2021-06-14T08:07:52.267020Z"
    }
   },
   "outputs": [],
   "source": [
    "# Remove Stop Words\n",
    "data_words_nostops = remove_stopwords(data_words)"
   ]
  },
  {
   "cell_type": "code",
   "execution_count": 45,
   "id": "e98ebce6",
   "metadata": {
    "ExecuteTime": {
     "end_time": "2021-06-14T08:07:52.752497Z",
     "start_time": "2021-06-14T08:07:52.678496Z"
    }
   },
   "outputs": [],
   "source": [
    "# Form Bigrams\n",
    "data_words_bigrams = make_bigrams(data_words_nostops)"
   ]
  },
  {
   "cell_type": "code",
   "execution_count": 46,
   "id": "141411b7",
   "metadata": {
    "ExecuteTime": {
     "end_time": "2021-06-14T08:07:53.165110Z",
     "start_time": "2021-06-14T08:07:52.753648Z"
    }
   },
   "outputs": [],
   "source": [
    "# Initialize spacy 'en' model, keeping only tagger component (for efficiency)\n",
    "# python3 -m spacy download en #had to do this in terminal\n",
    "# nlp = spacy.load('en', disable=['parser', 'ner'])\n",
    "nlp = spacy.load(\"en_core_web_sm\")\n",
    "\n",
    "# import en_core_web_sm - this bit was just a check, can delete\n",
    "# nlp = en_core_web_sm.load()"
   ]
  },
  {
   "cell_type": "markdown",
   "id": "1475c0f9",
   "metadata": {
    "ExecuteTime": {
     "end_time": "2021-06-13T14:20:17.472070Z",
     "start_time": "2021-06-13T14:20:17.448220Z"
    }
   },
   "source": [
    "#### takes time...:"
   ]
  },
  {
   "cell_type": "code",
   "execution_count": 47,
   "id": "96e08e05",
   "metadata": {
    "ExecuteTime": {
     "end_time": "2021-06-14T08:08:13.921269Z",
     "start_time": "2021-06-14T08:07:53.166135Z"
    }
   },
   "outputs": [
    {
     "name": "stdout",
     "output_type": "stream",
     "text": [
      "[['say', 'covid', 'mutation', 'originate', 'india', 'make', 'new', 'case']]\n"
     ]
    }
   ],
   "source": [
    "# Do lemmatization keeping only noun, adj, vb, adv\n",
    "data_lemmatized = lemmatization(data_words_bigrams, allowed_postags=['NOUN', 'ADJ', 'VERB', 'ADV'])\n",
    "\n",
    "print(data_lemmatized[:1])"
   ]
  },
  {
   "cell_type": "markdown",
   "id": "27e56d2e",
   "metadata": {},
   "source": [
    "## Create the Dictionary and Corpus needed for Topic Modeling"
   ]
  },
  {
   "cell_type": "code",
   "execution_count": 48,
   "id": "e7402146",
   "metadata": {
    "ExecuteTime": {
     "end_time": "2021-06-14T08:08:14.053376Z",
     "start_time": "2021-06-14T08:08:13.922424Z"
    }
   },
   "outputs": [
    {
     "name": "stdout",
     "output_type": "stream",
     "text": [
      "[[(0, 1), (1, 1), (2, 1), (3, 1), (4, 1), (5, 1), (6, 1), (7, 1)]]\n"
     ]
    }
   ],
   "source": [
    "# Create Dictionary\n",
    "id2word = corpora.Dictionary(data_lemmatized)\n",
    "\n",
    "# Create Corpus\n",
    "texts = data_lemmatized\n",
    "\n",
    "# Term Document Frequency\n",
    "corpus = [id2word.doc2bow(text) for text in texts]\n",
    "\n",
    "# View\n",
    "print(corpus[:1])\n"
   ]
  },
  {
   "cell_type": "code",
   "execution_count": 49,
   "id": "346691c1",
   "metadata": {
    "ExecuteTime": {
     "end_time": "2021-06-14T08:08:14.078603Z",
     "start_time": "2021-06-14T08:08:14.054473Z"
    }
   },
   "outputs": [
    {
     "data": {
      "text/plain": [
       "'geezadiamondme'"
      ]
     },
     "execution_count": 49,
     "metadata": {},
     "output_type": "execute_result"
    }
   ],
   "source": [
    "id2word[30]"
   ]
  },
  {
   "cell_type": "code",
   "execution_count": 50,
   "id": "729a778f",
   "metadata": {
    "ExecuteTime": {
     "end_time": "2021-06-14T08:08:14.101196Z",
     "start_time": "2021-06-14T08:08:14.079606Z"
    }
   },
   "outputs": [],
   "source": [
    "# Human readable format of corpus (term-frequency)\n",
    "# [[(id2word[id], freq) for id, freq in cp] for cp in corpus[:2]] #try this out - break down of each tweet/sentence"
   ]
  },
  {
   "cell_type": "markdown",
   "id": "a634280b",
   "metadata": {},
   "source": [
    "## build LDA model"
   ]
  },
  {
   "cell_type": "code",
   "execution_count": 51,
   "id": "e0353705",
   "metadata": {
    "ExecuteTime": {
     "end_time": "2021-06-14T08:08:20.241991Z",
     "start_time": "2021-06-14T08:08:14.102264Z"
    }
   },
   "outputs": [
    {
     "name": "stdout",
     "output_type": "stream",
     "text": [
      "CPU times: user 2 µs, sys: 0 ns, total: 2 µs\n",
      "Wall time: 3.1 µs\n"
     ]
    }
   ],
   "source": [
    "#these are all the parameters to play with\n",
    "%time\n",
    "lda_model = gensim.models.ldamodel.LdaModel(corpus=corpus,\n",
    "                                           id2word=id2word,\n",
    "                                           num_topics=5, \n",
    "                                           random_state=100,\n",
    "                                           update_every=1, #how often parameters should be updated #0 for batch learning\n",
    "                                           chunksize=100,\n",
    "                                           passes=10, #total number of training passes\n",
    "                                           alpha='auto',\n",
    "                                           per_word_topics=True)"
   ]
  },
  {
   "cell_type": "code",
   "execution_count": 52,
   "id": "4824a5a1",
   "metadata": {
    "ExecuteTime": {
     "end_time": "2021-06-14T08:08:20.271534Z",
     "start_time": "2021-06-14T08:08:20.243023Z"
    }
   },
   "outputs": [
    {
     "name": "stdout",
     "output_type": "stream",
     "text": [
      "[(0,\n",
      "  '0.016*\"find\" + 0.015*\"try\" + 0.014*\"answer\" + 0.012*\"mask\" + 0.011*\"maybe\" '\n",
      "  '+ 0.010*\"ppaulcharle\" + 0.009*\"call\" + 0.009*\"resign\" + 0.009*\"remember\" + '\n",
      "  '0.008*\"lose\"'),\n",
      " (1,\n",
      "  '0.035*\"people\" + 0.024*\"know\" + 0.016*\"think\" + 0.016*\"still\" + 0.014*\"nhs\" '\n",
      "  '+ 0.014*\"need\" + 0.013*\"liar\" + 0.013*\"tell\" + 0.012*\"time\" + '\n",
      "  '0.011*\"believe\"'),\n",
      " (2,\n",
      "  '0.017*\"get\" + 0.016*\"s\" + 0.015*\"test\" + 0.015*\"really\" + 0.014*\"child\" + '\n",
      "  '0.010*\"do\" + 0.010*\"question\" + 0.009*\"england\" + 0.009*\"show\" + '\n",
      "  '0.008*\"risk\"'),\n",
      " (3,\n",
      "  '0.035*\"lie\" + 0.023*\"covid\" + 0.019*\"say\" + 0.019*\"go\" + 0.017*\"make\" + '\n",
      "  '0.016*\"death\" + 0.012*\"government\" + 0.012*\"tory\" + 0.012*\"never\" + '\n",
      "  '0.011*\"ppe\"'),\n",
      " (4,\n",
      "  '0.041*\"vaccine\" + 0.020*\"andrewbowiemp\" + 0.017*\"take\" + 0.016*\"day\" + '\n",
      "  '0.015*\"way\" + 0.012*\"back\" + 0.010*\"money\" + 0.010*\"also\" + '\n",
      "  '0.009*\"scotland\" + 0.008*\"wrong\"')]\n"
     ]
    }
   ],
   "source": [
    "#hidden for now - just a visual on the data\n",
    "pprint(lda_model.print_topics())\n",
    "doc_lda = lda_model[corpus]"
   ]
  },
  {
   "cell_type": "markdown",
   "id": "c4d1db29",
   "metadata": {},
   "source": [
    "## judging model score"
   ]
  },
  {
   "cell_type": "code",
   "execution_count": 53,
   "id": "ecc0f563",
   "metadata": {
    "ExecuteTime": {
     "end_time": "2021-06-14T08:08:25.979119Z",
     "start_time": "2021-06-14T08:08:20.272754Z"
    }
   },
   "outputs": [
    {
     "name": "stdout",
     "output_type": "stream",
     "text": [
      "\n",
      "Perplexity:  -8.749543974993754\n",
      "\n",
      "Coherence Score:  0.2791675357977853\n"
     ]
    }
   ],
   "source": [
    "# Compute Perplexity\n",
    "print('\\nPerplexity: ', lda_model.log_perplexity(corpus))  # a measure of how good the model is. lower the better.\n",
    "\n",
    "# Compute Coherence Score\n",
    "coherence_model_lda = CoherenceModel(model=lda_model, texts=data_lemmatized, dictionary=id2word, coherence='c_v')\n",
    "coherence_lda = coherence_model_lda.get_coherence()\n",
    "print('\\nCoherence Score: ', coherence_lda)\n",
    "#suppose higher the better?"
   ]
  },
  {
   "cell_type": "code",
   "execution_count": 54,
   "id": "11505f9b",
   "metadata": {
    "ExecuteTime": {
     "end_time": "2021-06-14T08:08:26.012575Z",
     "start_time": "2021-06-14T08:08:25.981041Z"
    }
   },
   "outputs": [],
   "source": [
    "#could grid search to find optimum coherence score? 9 is best so far"
   ]
  },
  {
   "cell_type": "markdown",
   "id": "16e6dbf9",
   "metadata": {},
   "source": [
    "## visualise"
   ]
  },
  {
   "cell_type": "code",
   "execution_count": 55,
   "id": "25b51d21",
   "metadata": {
    "ExecuteTime": {
     "end_time": "2021-06-14T08:08:27.949593Z",
     "start_time": "2021-06-14T08:08:26.014050Z"
    }
   },
   "outputs": [
    {
     "data": {
      "text/html": [
       "\n",
       "<link rel=\"stylesheet\" type=\"text/css\" href=\"https://cdn.jsdelivr.net/gh/bmabey/pyLDAvis@3.3.1/pyLDAvis/js/ldavis.v1.0.0.css\">\n",
       "\n",
       "\n",
       "<div id=\"ldavis_el6856555084722726582837970\"></div>\n",
       "<script type=\"text/javascript\">\n",
       "\n",
       "var ldavis_el6856555084722726582837970_data = {\"mdsDat\": {\"x\": [0.31922453604323425, -0.11726183873410251, -0.0689828806936984, -0.07728199508469155, -0.055697821530741716], \"y\": [0.03541748843763172, 0.2845656393384418, -0.0999738996255789, -0.13491535697557044, -0.0850938711749242], \"topics\": [1, 2, 3, 4, 5], \"cluster\": [1, 1, 1, 1, 1], \"Freq\": [29.915672910642478, 24.961775043483435, 16.42259774423126, 15.95906417409565, 12.740890127547175]}, \"tinfo\": {\"Term\": [\"lie\", \"people\", \"vaccine\", \"know\", \"covid\", \"say\", \"go\", \"make\", \"andrewbowiemp\", \"death\", \"think\", \"still\", \"get\", \"nhs\", \"take\", \"day\", \"s\", \"need\", \"liar\", \"test\", \"really\", \"way\", \"government\", \"tory\", \"time\", \"tell\", \"child\", \"find\", \"never\", \"try\", \"lie\", \"covid\", \"say\", \"go\", \"make\", \"death\", \"government\", \"tory\", \"never\", \"ppe\", \"even\", \"see\", \"country\", \"uk\", \"week\", \"happen\", \"use\", \"virus\", \"hospital\", \"much\", \"yet\", \"case\", \"life\", \"face\", \"care_home\", \"enough\", \"away\", \"point\", \"evidence\", \"variant\", \"datum\", \"people\", \"know\", \"think\", \"still\", \"nhs\", \"need\", \"liar\", \"time\", \"believe\", \"stop\", \"want\", \"die\", \"give\", \"ask\", \"look\", \"come\", \"work\", \"job\", \"put\", \"seem\", \"mean\", \"right\", \"start\", \"man\", \"health\", \"keep\", \"family\", \"fact\", \"talk\", \"open\", \"tell\", \"well\", \"live\", \"many\", \"get\", \"s\", \"test\", \"really\", \"child\", \"question\", \"england\", \"show\", \"risk\", \"allow\", \"kill\", \"pay\", \"lot\", \"school\", \"move\", \"gp\", \"last\", \"jab\", \"shit\", \"public\", \"committee\", \"lead\", \"follow\", \"leoniedelt\", \"person\", \"kid\", \"catch\", \"friend\", \"national\", \"big\", \"do\", \"vaccine\", \"andrewbowiemp\", \"take\", \"day\", \"way\", \"back\", \"money\", \"also\", \"wrong\", \"watch\", \"state\", \"actually\", \"hand\", \"figure\", \"thousand\", \"d\", \"break\", \"bit\", \"other\", \"ignore\", \"sure\", \"number\", \"admit\", \"head\", \"m\", \"sign\", \"corrupt\", \"dig\", \"true\", \"hope\", \"scotland\", \"robertjenrick\", \"find\", \"try\", \"answer\", \"mask\", \"maybe\", \"ppaulcharle\", \"resign\", \"call\", \"remember\", \"lose\", \"law\", \"stand\", \"part\", \"contract\", \"feel\", \"skynews\", \"michaelgove\", \"june\", \"vaccination\", \"turn\", \"benclatworthy\", \"sick\", \"jail\", \"nope\", \"dominic\", \"hole\", \"form\", \"whole\", \"doctor\", \"gon\", \"exist\"], \"Freq\": [617.0, 512.0, 384.0, 356.0, 403.0, 342.0, 330.0, 295.0, 186.0, 278.0, 238.0, 228.0, 167.0, 207.0, 155.0, 153.0, 153.0, 200.0, 195.0, 148.0, 143.0, 141.0, 217.0, 209.0, 177.0, 200.0, 134.0, 117.0, 204.0, 112.0, 616.7442659483179, 402.543607579412, 341.7395979103458, 329.4479034096804, 294.8440927954378, 277.5734894490535, 217.20934265145203, 208.93731707745104, 203.39750784124192, 195.18913285824854, 175.2478050091671, 170.90134622908187, 156.71367528527827, 154.61387630469716, 142.01904014038405, 134.53359489793428, 131.54530431708048, 128.8876877148696, 127.69992222195978, 127.11515285984173, 112.75702196997639, 110.96476393592611, 109.39240462918526, 104.2084630343753, 99.5330065823219, 99.30764554838439, 98.32911583691119, 97.64645016498544, 96.42995849964375, 95.90327111953069, 151.16611415283649, 511.55934232229026, 356.050557615098, 237.4050744422559, 227.6650436681214, 206.85162860203104, 199.52102262809746, 194.43239102946274, 177.12444983277206, 158.46586559920289, 156.7730210868725, 150.18688788459235, 147.29638596928268, 145.04809348244203, 145.06601071884464, 144.08349661298922, 139.76014798061112, 113.6143491184438, 110.78313920021665, 104.27798835850875, 98.68494493475124, 98.2328315167214, 97.24500228247388, 96.6754170216627, 96.5872159116183, 89.95908023131287, 89.5116542243297, 83.02348586602092, 75.34643450153933, 72.3191789041209, 71.8068250899758, 191.199182735619, 147.6122915463737, 96.82488198001596, 111.28519026227953, 166.51626577420262, 152.98624010826612, 147.55547150727992, 142.95238052962014, 134.13003787648515, 92.33760136740021, 83.23408120794726, 82.14554296890593, 79.37020004981247, 74.57650916605319, 70.99359453459466, 65.40658428660657, 64.89783605867719, 62.966865088175915, 63.214523765034514, 61.75166724125649, 61.98836395460366, 60.6542903019064, 60.32455605549708, 58.994908486347015, 59.50029450679481, 53.28920647865151, 52.85399587817671, 49.06505289320314, 49.58041331288205, 47.67776748151144, 47.481569881514, 47.197878575209785, 47.27869724476738, 44.45750889842488, 98.59038256388672, 383.68961878207864, 185.4149042902187, 154.68270122559122, 152.55287008219253, 140.51122172162107, 112.63935705278212, 94.48356775264146, 90.2600857763105, 78.85670974113332, 74.2766767814071, 72.81182787912319, 70.8998943349657, 65.19407965066608, 57.34141677556854, 55.03058374861771, 47.20958627907545, 46.36245488871614, 45.82440909012142, 45.42338520279504, 45.076051604981586, 44.36222987074147, 43.489919706327186, 42.863460291560216, 42.65015611731556, 41.76865037845431, 40.99189479575766, 41.858211260318946, 41.396779253950065, 40.232897839044696, 38.14648830287804, 80.76317741490085, 44.276638615417035, 116.81400032904102, 111.85785582064172, 103.04688272018373, 93.47318367622283, 80.07574847908144, 71.60229968319315, 66.93341894196543, 67.63705950038685, 63.623056287879315, 57.64451103618825, 56.45070138282183, 55.73963248970874, 51.27968541537833, 50.00592278130337, 50.14674074344946, 48.72688404452897, 46.57952069359025, 44.09024150969637, 43.94928076193266, 44.0325178118462, 42.25689159248652, 41.320562716004225, 40.83083939079225, 40.92337491873052, 39.39235439263794, 38.592949958289886, 35.325255825836365, 35.015658298525224, 33.049838153935305, 33.10422902651593, 33.25415044242857], \"Total\": [617.0, 512.0, 384.0, 356.0, 403.0, 342.0, 330.0, 295.0, 186.0, 278.0, 238.0, 228.0, 167.0, 207.0, 155.0, 153.0, 153.0, 200.0, 195.0, 148.0, 143.0, 141.0, 217.0, 209.0, 177.0, 200.0, 134.0, 117.0, 204.0, 112.0, 617.4954264711056, 403.2909122395728, 342.48618319752586, 330.1984382166906, 295.5964789452397, 278.32597203294944, 217.95815642044136, 209.69317090506752, 204.1491183754653, 195.93748060618802, 175.99877785280583, 171.65360876241928, 157.46727947661745, 155.36524870643402, 142.7706988195813, 135.2847596725971, 132.2979737198555, 129.64040019224092, 128.44776303564694, 127.86742385546638, 113.50665356465109, 111.71114966664874, 110.14410762856394, 104.9594957149617, 100.27897008593061, 100.06476765951939, 99.08414532267545, 98.39858218316037, 97.1803150200261, 96.6541406626588, 157.2630403831436, 512.3171482042324, 356.8109057192241, 238.16245521599225, 228.42356863100025, 207.6118338334072, 200.27591621324171, 195.1891722579757, 177.8806209968732, 159.22985652670795, 157.52983912239822, 150.9411799272001, 148.0522193301547, 145.8058136810377, 145.82871642919235, 144.84229953597753, 140.52096945365608, 114.37028328399181, 111.54417931319682, 105.04087509060976, 99.4424283929169, 98.99079867753194, 98.00247388956427, 97.43700234956877, 97.35044616284472, 90.718098914701, 90.26967773554715, 83.78610559967889, 76.10180926732849, 73.08282185837518, 72.56812070328805, 200.41109449612728, 156.71700184249045, 120.23707635782439, 201.16328046713298, 167.27969830974243, 153.75482682739352, 148.3189367587372, 143.72061177934216, 134.88987140908318, 93.10255618557277, 84.00877574374715, 82.91647929356743, 80.13754055515078, 75.3449566605757, 71.7657129520596, 66.1772448117637, 65.66594130130764, 63.72740006068508, 63.985905702550575, 62.51097121013831, 62.75628770474431, 61.41358023877093, 61.08825254509395, 59.76344918026187, 60.283229088834, 54.063460392471576, 53.63853102141548, 49.83715801527693, 50.36244390751669, 48.43606928460337, 48.25146403309205, 47.96493147093686, 48.05470804789687, 45.22198506046118, 102.51025379140322, 384.4664697602516, 186.23969231392192, 155.4593503337538, 153.3334766077894, 141.29733718986097, 113.41834782698078, 95.26502411249916, 91.03558096206022, 79.63303884257947, 75.06583924312977, 73.60313297516893, 71.68281190221452, 65.9853338023105, 58.1229666264767, 55.81578907851646, 47.99259724824196, 47.14075623133384, 46.60362829909091, 46.20534561161083, 45.857008378286146, 45.135640733277484, 44.26296378293857, 43.64616143877174, 43.430412057990736, 42.54123624270546, 41.76530143745946, 42.64881936849477, 42.19468345583964, 41.0179865529662, 38.9192534886797, 82.64015381639689, 45.20196959468219, 117.59937760954698, 112.63940788093944, 103.83312267355949, 94.25545028949536, 80.86651853400323, 72.39077161435347, 67.71040995915524, 68.42973033856003, 64.42048284980466, 58.431820506131885, 57.229251742436496, 56.52989596127853, 52.07285879751283, 50.781463789221014, 50.92896963401294, 49.50452099501477, 47.36295914237413, 44.863953104599176, 44.72510004284188, 44.81803502542339, 43.055463561258186, 42.10408642139482, 41.641406110949205, 41.73672158738972, 40.18165387607229, 39.397453398127944, 36.1085925169397, 35.79972078044567, 33.83096944369229, 33.89694780570484, 34.07672132372387], \"Category\": [\"Default\", \"Default\", \"Default\", \"Default\", \"Default\", \"Default\", \"Default\", \"Default\", \"Default\", \"Default\", \"Default\", \"Default\", \"Default\", \"Default\", \"Default\", \"Default\", \"Default\", \"Default\", \"Default\", \"Default\", \"Default\", \"Default\", \"Default\", \"Default\", \"Default\", \"Default\", \"Default\", \"Default\", \"Default\", \"Default\", \"Topic1\", \"Topic1\", \"Topic1\", \"Topic1\", \"Topic1\", \"Topic1\", \"Topic1\", \"Topic1\", \"Topic1\", \"Topic1\", \"Topic1\", \"Topic1\", \"Topic1\", \"Topic1\", \"Topic1\", \"Topic1\", \"Topic1\", \"Topic1\", \"Topic1\", \"Topic1\", \"Topic1\", \"Topic1\", \"Topic1\", \"Topic1\", \"Topic1\", \"Topic1\", \"Topic1\", \"Topic1\", \"Topic1\", \"Topic1\", \"Topic1\", \"Topic2\", \"Topic2\", \"Topic2\", \"Topic2\", \"Topic2\", \"Topic2\", \"Topic2\", \"Topic2\", \"Topic2\", \"Topic2\", \"Topic2\", \"Topic2\", \"Topic2\", \"Topic2\", \"Topic2\", \"Topic2\", \"Topic2\", \"Topic2\", \"Topic2\", \"Topic2\", \"Topic2\", \"Topic2\", \"Topic2\", \"Topic2\", \"Topic2\", \"Topic2\", \"Topic2\", \"Topic2\", \"Topic2\", \"Topic2\", \"Topic2\", \"Topic2\", \"Topic2\", \"Topic2\", \"Topic3\", \"Topic3\", \"Topic3\", \"Topic3\", \"Topic3\", \"Topic3\", \"Topic3\", \"Topic3\", \"Topic3\", \"Topic3\", \"Topic3\", \"Topic3\", \"Topic3\", \"Topic3\", \"Topic3\", \"Topic3\", \"Topic3\", \"Topic3\", \"Topic3\", \"Topic3\", \"Topic3\", \"Topic3\", \"Topic3\", \"Topic3\", \"Topic3\", \"Topic3\", \"Topic3\", \"Topic3\", \"Topic3\", \"Topic3\", \"Topic3\", \"Topic4\", \"Topic4\", \"Topic4\", \"Topic4\", \"Topic4\", \"Topic4\", \"Topic4\", \"Topic4\", \"Topic4\", \"Topic4\", \"Topic4\", \"Topic4\", \"Topic4\", \"Topic4\", \"Topic4\", \"Topic4\", \"Topic4\", \"Topic4\", \"Topic4\", \"Topic4\", \"Topic4\", \"Topic4\", \"Topic4\", \"Topic4\", \"Topic4\", \"Topic4\", \"Topic4\", \"Topic4\", \"Topic4\", \"Topic4\", \"Topic4\", \"Topic4\", \"Topic5\", \"Topic5\", \"Topic5\", \"Topic5\", \"Topic5\", \"Topic5\", \"Topic5\", \"Topic5\", \"Topic5\", \"Topic5\", \"Topic5\", \"Topic5\", \"Topic5\", \"Topic5\", \"Topic5\", \"Topic5\", \"Topic5\", \"Topic5\", \"Topic5\", \"Topic5\", \"Topic5\", \"Topic5\", \"Topic5\", \"Topic5\", \"Topic5\", \"Topic5\", \"Topic5\", \"Topic5\", \"Topic5\", \"Topic5\", \"Topic5\"], \"logprob\": [30.0, 29.0, 28.0, 27.0, 26.0, 25.0, 24.0, 23.0, 22.0, 21.0, 20.0, 19.0, 18.0, 17.0, 16.0, 15.0, 14.0, 13.0, 12.0, 11.0, 10.0, 9.0, 8.0, 7.0, 6.0, 5.0, 4.0, 3.0, 2.0, 1.0, -3.3489, -3.7756, -3.9393, -3.976, -4.0869, -4.1473, -4.3925, -4.4314, -4.4582, -4.4994, -4.6072, -4.6323, -4.719, -4.7325, -4.8174, -4.8716, -4.894, -4.9144, -4.9237, -4.9283, -5.0482, -5.0642, -5.0784, -5.127, -5.1729, -5.1752, -5.1851, -5.192, -5.2046, -5.2101, -4.755, -3.3549, -3.7173, -4.1226, -4.1645, -4.2604, -4.2964, -4.3223, -4.4155, -4.5268, -4.5376, -4.5805, -4.5999, -4.6153, -4.6152, -4.622, -4.6524, -4.8595, -4.8848, -4.9453, -5.0004, -5.005, -5.0151, -5.021, -5.0219, -5.093, -5.098, -5.1732, -5.2703, -5.3113, -5.3184, -4.339, -4.5978, -5.0194, -4.8803, -4.0586, -4.1433, -4.1795, -4.2112, -4.2749, -4.6482, -4.752, -4.7652, -4.7995, -4.8618, -4.9111, -4.993, -5.0009, -5.0311, -5.0271, -5.0505, -5.0467, -5.0685, -5.0739, -5.0962, -5.0877, -5.1979, -5.2061, -5.2805, -5.2701, -5.3092, -5.3133, -5.3193, -5.3176, -5.3791, -4.5827, -3.1952, -3.9224, -4.1037, -4.1175, -4.1997, -4.4208, -4.5966, -4.6423, -4.7774, -4.8372, -4.8572, -4.8838, -4.9677, -5.096, -5.1371, -5.2904, -5.3085, -5.3202, -5.329, -5.3367, -5.3526, -5.3725, -5.387, -5.392, -5.4129, -5.4317, -5.4107, -5.4218, -5.4503, -5.5036, -4.7535, -5.3546, -4.1592, -4.2026, -4.2846, -4.3821, -4.5369, -4.6487, -4.7161, -4.7057, -4.7668, -4.8655, -4.8865, -4.8991, -4.9825, -5.0077, -5.0049, -5.0336, -5.0787, -5.1336, -5.1368, -5.1349, -5.1761, -5.1985, -5.2104, -5.2081, -5.2463, -5.2668, -5.3552, -5.364, -5.4218, -5.4202, -5.4156], \"loglift\": [30.0, 29.0, 28.0, 27.0, 26.0, 25.0, 24.0, 23.0, 22.0, 21.0, 20.0, 19.0, 18.0, 17.0, 16.0, 15.0, 14.0, 13.0, 12.0, 11.0, 10.0, 9.0, 8.0, 7.0, 6.0, 5.0, 4.0, 3.0, 2.0, 1.0, 1.2056, 1.2049, 1.2046, 1.2045, 1.2042, 1.2041, 1.2033, 1.2032, 1.2031, 1.203, 1.2025, 1.2024, 1.202, 1.2019, 1.2015, 1.2012, 1.2011, 1.201, 1.2009, 1.2009, 1.2002, 1.2001, 1.1999, 1.1996, 1.1993, 1.1992, 1.1991, 1.1991, 1.199, 1.199, 1.1672, 1.3863, 1.3857, 1.3846, 1.3845, 1.3842, 1.384, 1.3839, 1.3836, 1.383, 1.383, 1.3828, 1.3827, 1.3826, 1.3826, 1.3826, 1.3824, 1.3812, 1.381, 1.3805, 1.3802, 1.3801, 1.3801, 1.38, 1.38, 1.3794, 1.3794, 1.3787, 1.3778, 1.3773, 1.3773, 1.3408, 1.328, 1.1713, 0.7958, 1.8019, 1.8015, 1.8014, 1.8012, 1.8009, 1.7983, 1.7972, 1.7972, 1.7969, 1.7963, 1.7957, 1.7948, 1.7947, 1.7945, 1.7944, 1.7943, 1.7942, 1.7941, 1.7939, 1.7936, 1.7934, 1.7921, 1.7918, 1.7909, 1.7909, 1.7907, 1.7904, 1.7904, 1.7902, 1.7895, 1.7675, 1.8331, 1.8307, 1.8301, 1.83, 1.8296, 1.8283, 1.8269, 1.8266, 1.8253, 1.8246, 1.8243, 1.8242, 1.8231, 1.8216, 1.821, 1.8187, 1.8185, 1.8183, 1.8181, 1.818, 1.8179, 1.8175, 1.817, 1.817, 1.8168, 1.8165, 1.8164, 1.8161, 1.8158, 1.8151, 1.8122, 1.8145, 2.0537, 2.0534, 2.0528, 2.052, 2.0505, 2.0494, 2.0488, 2.0487, 2.0479, 2.0468, 2.0467, 2.0463, 2.045, 2.045, 2.0449, 2.0445, 2.0437, 2.043, 2.0429, 2.0427, 2.0416, 2.0416, 2.0407, 2.0407, 2.0405, 2.0397, 2.0384, 2.0382, 2.037, 2.0367, 2.0359]}, \"token.table\": {\"Topic\": [4, 4, 3, 4, 4, 5, 2, 1, 4, 2, 5, 3, 4, 4, 5, 1, 1, 3, 3, 2, 3, 5, 4, 1, 1, 4, 1, 2, 4, 1, 2, 4, 2, 3, 5, 5, 3, 1, 1, 1, 5, 1, 2, 2, 5, 4, 5, 3, 5, 3, 3, 2, 1, 5, 1, 3, 4, 1, 4, 2, 5, 4, 1, 4, 3, 5, 2, 5, 2, 3, 3, 2, 3, 5, 3, 3, 2, 1, 1, 1, 2, 2, 5, 3, 4, 1, 2, 1, 2, 3, 5, 5, 2, 5, 4, 3, 1, 3, 2, 1, 2, 5, 4, 2, 4, 5, 3, 2, 3, 1, 5, 1, 3, 2, 3, 3, 5, 5, 2, 3, 4, 3, 1, 3, 2, 4, 1, 2, 3, 3, 5, 4, 5, 5, 2, 4, 2, 2, 4, 4, 2, 1, 2, 3, 2, 4, 2, 1, 4, 5, 5, 1, 1, 5, 4, 1, 1, 2, 4, 4, 1, 1, 2, 5, 2, 4, 1], \"Freq\": [0.9904745379806532, 0.9851954578026707, 0.9954216356891714, 0.988624437268195, 0.9933435654960581, 0.9919763303644566, 0.9943171931462844, 0.9890583370412608, 0.996311462519107, 0.9922762190864521, 0.9754859552317559, 0.9729780756234517, 0.9870476115031868, 0.9758010621268822, 0.9937201222855341, 0.997218059921322, 0.9936340314393788, 0.9740637085698838, 0.9934029782978705, 0.9962925856853849, 0.9953016934707225, 0.9846112393989933, 0.9847869324848401, 0.9970325296901644, 0.9992786541160641, 0.9793177009548422, 0.9601747469215602, 0.03815263895052557, 0.9978251545900677, 0.9988288120200625, 0.9928929175468266, 0.9716863984276602, 0.02926536506391508, 0.9657570471091976, 0.9754376106462056, 0.9705922041009877, 0.9879920194668206, 0.9893592151920807, 0.9943250864296277, 0.9878543816226273, 0.9684030246485518, 0.9908584191604025, 0.9855219044338607, 0.9906177092961592, 0.9817595046456129, 0.980679468174889, 0.994903224645142, 0.9880956653872467, 0.9692983736095605, 0.9798825633364756, 0.9983279602213023, 0.9944733775650367, 0.9963705515290653, 0.9735389802395753, 0.9956039432697665, 0.9918258955148751, 0.9850673817114796, 0.9978951090035105, 0.9900896160640607, 0.992084281711236, 0.989911698248323, 0.9763804953518166, 0.9965140456706694, 0.9813112889699113, 0.9932656549713765, 0.9845969151656347, 0.9951214010758118, 0.9807428225821989, 0.9970125324216046, 0.9909970133612394, 0.9893303790826811, 0.9977273516413699, 0.9879488138574657, 0.9785205693764998, 0.980329405762202, 0.9832021317302984, 0.9939075910604097, 0.9991976839829618, 0.9896126297339283, 0.19128874966613643, 0.8067395094615318, 0.9941847130384152, 0.9926098399400962, 0.9898586498859131, 0.9872773738962919, 0.997982117556447, 0.9964001586365767, 0.29329408360707115, 0.5517905640743203, 0.14913258488495143, 0.9866803427744563, 0.9892845821767525, 0.9899910022873992, 0.9923366455781814, 0.9867210014978289, 0.9845918301581331, 0.9932162248263727, 0.9780519310023562, 0.9986223195556477, 0.9943711812982123, 0.9970529915269756, 0.9823483599245536, 0.9714668048634966, 0.9921712082691112, 0.9739132865330642, 0.9793969675894946, 0.9822107309678382, 0.9993809533697163, 0.9928032899240897, 0.9959493096921006, 0.9946019139506452, 0.9952154095107906, 0.987225483288973, 0.9900907614325196, 0.9881576163883713, 0.9949860234351873, 0.9934728392088429, 0.9895081131603873, 0.9897709328165131, 0.9858051476590061, 0.973408911039496, 0.9950907113424095, 0.9985804297475981, 0.988585756519293, 0.012100655115208497, 0.9801530643318882, 0.9961922806800764, 0.995550909203778, 0.9821855676049888, 0.9889469584167627, 0.973777214630792, 0.9816761423689124, 0.9898085874810186, 0.9906262703607045, 0.9955150267451685, 0.9918056073051618, 0.9981456877084146, 0.9966365792960244, 0.9748393793723149, 0.9970452061405916, 0.9851836337070625, 0.04490769347189966, 0.9530410503480927, 0.9978496558449849, 0.9951190660386079, 0.985384259687364, 0.9950493707974593, 0.9966943563203527, 0.9751819472744797, 0.9943234087166429, 0.981747637419638, 0.9976490965034004, 0.9977477076067207, 0.983787626139521, 0.9987867088629537, 0.9932321506541362, 0.9950601803813373, 0.9937645914279056, 0.985801274536109, 0.9978956631754394, 0.9946018417927951, 0.057428357448067534, 0.9443774335904439, 0.9776612564843665, 0.9967624170076386, 0.9920505502266356, 0.9955363536080067], \"Term\": [\"actually\", \"admit\", \"allow\", \"also\", \"andrewbowiemp\", \"answer\", \"ask\", \"away\", \"back\", \"believe\", \"benclatworthy\", \"big\", \"bit\", \"break\", \"call\", \"care_home\", \"case\", \"catch\", \"child\", \"come\", \"committee\", \"contract\", \"corrupt\", \"country\", \"covid\", \"d\", \"datum\", \"datum\", \"day\", \"death\", \"die\", \"dig\", \"do\", \"do\", \"doctor\", \"dominic\", \"england\", \"enough\", \"even\", \"evidence\", \"exist\", \"face\", \"fact\", \"family\", \"feel\", \"figure\", \"find\", \"follow\", \"form\", \"friend\", \"get\", \"give\", \"go\", \"gon\", \"government\", \"gp\", \"hand\", \"happen\", \"head\", \"health\", \"hole\", \"hope\", \"hospital\", \"ignore\", \"jab\", \"jail\", \"job\", \"june\", \"keep\", \"kid\", \"kill\", \"know\", \"last\", \"law\", \"lead\", \"leoniedelt\", \"liar\", \"lie\", \"life\", \"live\", \"live\", \"look\", \"lose\", \"lot\", \"m\", \"make\", \"man\", \"many\", \"many\", \"many\", \"mask\", \"maybe\", \"mean\", \"michaelgove\", \"money\", \"move\", \"much\", \"national\", \"need\", \"never\", \"nhs\", \"nope\", \"number\", \"open\", \"other\", \"part\", \"pay\", \"people\", \"person\", \"point\", \"ppaulcharle\", \"ppe\", \"public\", \"put\", \"question\", \"really\", \"remember\", \"resign\", \"right\", \"risk\", \"robertjenrick\", \"s\", \"say\", \"school\", \"scotland\", \"scotland\", \"see\", \"seem\", \"shit\", \"show\", \"sick\", \"sign\", \"skynews\", \"stand\", \"start\", \"state\", \"still\", \"stop\", \"sure\", \"take\", \"talk\", \"tell\", \"tell\", \"test\", \"think\", \"thousand\", \"time\", \"tory\", \"true\", \"try\", \"turn\", \"uk\", \"use\", \"vaccination\", \"vaccine\", \"variant\", \"virus\", \"want\", \"watch\", \"way\", \"week\", \"well\", \"well\", \"whole\", \"work\", \"wrong\", \"yet\"]}, \"R\": 30, \"lambda.step\": 0.01, \"plot.opts\": {\"xlab\": \"PC1\", \"ylab\": \"PC2\"}, \"topic.order\": [4, 2, 3, 5, 1]};\n",
       "\n",
       "function LDAvis_load_lib(url, callback){\n",
       "  var s = document.createElement('script');\n",
       "  s.src = url;\n",
       "  s.async = true;\n",
       "  s.onreadystatechange = s.onload = callback;\n",
       "  s.onerror = function(){console.warn(\"failed to load library \" + url);};\n",
       "  document.getElementsByTagName(\"head\")[0].appendChild(s);\n",
       "}\n",
       "\n",
       "if(typeof(LDAvis) !== \"undefined\"){\n",
       "   // already loaded: just create the visualization\n",
       "   !function(LDAvis){\n",
       "       new LDAvis(\"#\" + \"ldavis_el6856555084722726582837970\", ldavis_el6856555084722726582837970_data);\n",
       "   }(LDAvis);\n",
       "}else if(typeof define === \"function\" && define.amd){\n",
       "   // require.js is available: use it to load d3/LDAvis\n",
       "   require.config({paths: {d3: \"https://d3js.org/d3.v5\"}});\n",
       "   require([\"d3\"], function(d3){\n",
       "      window.d3 = d3;\n",
       "      LDAvis_load_lib(\"https://cdn.jsdelivr.net/gh/bmabey/pyLDAvis@3.3.1/pyLDAvis/js/ldavis.v3.0.0.js\", function(){\n",
       "        new LDAvis(\"#\" + \"ldavis_el6856555084722726582837970\", ldavis_el6856555084722726582837970_data);\n",
       "      });\n",
       "    });\n",
       "}else{\n",
       "    // require.js not available: dynamically load d3 & LDAvis\n",
       "    LDAvis_load_lib(\"https://d3js.org/d3.v5.js\", function(){\n",
       "         LDAvis_load_lib(\"https://cdn.jsdelivr.net/gh/bmabey/pyLDAvis@3.3.1/pyLDAvis/js/ldavis.v3.0.0.js\", function(){\n",
       "                 new LDAvis(\"#\" + \"ldavis_el6856555084722726582837970\", ldavis_el6856555084722726582837970_data);\n",
       "            })\n",
       "         });\n",
       "}\n",
       "</script>"
      ],
      "text/plain": [
       "PreparedData(topic_coordinates=              x         y  topics  cluster       Freq\n",
       "topic                                                \n",
       "3      0.319225  0.035417       1        1  29.915673\n",
       "1     -0.117262  0.284566       2        1  24.961775\n",
       "2     -0.068983 -0.099974       3        1  16.422598\n",
       "4     -0.077282 -0.134915       4        1  15.959064\n",
       "0     -0.055698 -0.085094       5        1  12.740890, topic_info=         Term        Freq       Total Category  logprob  loglift\n",
       "103       lie  617.000000  617.000000  Default  30.0000  30.0000\n",
       "16     people  512.000000  512.000000  Default  29.0000  29.0000\n",
       "295   vaccine  384.000000  384.000000  Default  28.0000  28.0000\n",
       "89       know  356.000000  356.000000  Default  27.0000  27.0000\n",
       "1       covid  403.000000  403.000000  Default  26.0000  26.0000\n",
       "...       ...         ...         ...      ...      ...      ...\n",
       "2407     form   35.325256   36.108593   Topic5  -5.3552   2.0384\n",
       "356     whole   35.015658   35.799721   Topic5  -5.3640   2.0382\n",
       "29     doctor   33.049838   33.830969   Topic5  -5.4218   2.0370\n",
       "1945      gon   33.104229   33.896948   Topic5  -5.4202   2.0367\n",
       "138     exist   33.254150   34.076721   Topic5  -5.4156   2.0359\n",
       "\n",
       "[189 rows x 6 columns], token_table=      Topic      Freq           Term\n",
       "term                                \n",
       "1074      4  0.990475       actually\n",
       "751       4  0.985195          admit\n",
       "596       3  0.995422          allow\n",
       "780       4  0.988624           also\n",
       "358       4  0.993344  andrewbowiemp\n",
       "...     ...       ...            ...\n",
       "242       2  0.944377           well\n",
       "356       5  0.977661          whole\n",
       "196       2  0.996762           work\n",
       "713       4  0.992051          wrong\n",
       "583       1  0.995536            yet\n",
       "\n",
       "[167 rows x 3 columns], R=30, lambda_step=0.01, plot_opts={'xlab': 'PC1', 'ylab': 'PC2'}, topic_order=[4, 2, 3, 5, 1])"
      ]
     },
     "execution_count": 55,
     "metadata": {},
     "output_type": "execute_result"
    }
   ],
   "source": [
    "pyLDAvis.enable_notebook()\n",
    "vis = pyLDAvis.gensim_models.prepare(lda_model, corpus, id2word)\n",
    "vis\n"
   ]
  },
  {
   "cell_type": "markdown",
   "id": "d81b984c",
   "metadata": {},
   "source": [
    "## Building LDA Mallet Model"
   ]
  },
  {
   "cell_type": "code",
   "execution_count": 56,
   "id": "66e9ab5a",
   "metadata": {
    "ExecuteTime": {
     "end_time": "2021-06-14T08:08:28.259197Z",
     "start_time": "2021-06-14T08:08:27.950806Z"
    },
    "scrolled": true
   },
   "outputs": [
    {
     "ename": "AttributeError",
     "evalue": "module 'gensim.models' has no attribute 'wrappers'",
     "output_type": "error",
     "traceback": [
      "\u001b[0;31m---------------------------------------------------------------------------\u001b[0m",
      "\u001b[0;31mAttributeError\u001b[0m                            Traceback (most recent call last)",
      "\u001b[0;32m<ipython-input-56-77994cdf478d>\u001b[0m in \u001b[0;36m<module>\u001b[0;34m\u001b[0m\n\u001b[1;32m      1\u001b[0m \u001b[0mmallet_path\u001b[0m \u001b[0;34m=\u001b[0m \u001b[0;34m'mallet-2.0.8/bin/mallet'\u001b[0m \u001b[0;31m# update this path\u001b[0m\u001b[0;34m\u001b[0m\u001b[0;34m\u001b[0m\u001b[0m\n\u001b[0;32m----> 2\u001b[0;31m \u001b[0mldamallet\u001b[0m \u001b[0;34m=\u001b[0m \u001b[0mgensim\u001b[0m\u001b[0;34m.\u001b[0m\u001b[0mmodels\u001b[0m\u001b[0;34m.\u001b[0m\u001b[0mwrappers\u001b[0m\u001b[0;34m.\u001b[0m\u001b[0mLdaMallet\u001b[0m\u001b[0;34m(\u001b[0m\u001b[0mmallet_path\u001b[0m\u001b[0;34m,\u001b[0m \u001b[0mcorpus\u001b[0m\u001b[0;34m=\u001b[0m\u001b[0mcorpus\u001b[0m\u001b[0;34m,\u001b[0m \u001b[0mnum_topics\u001b[0m\u001b[0;34m=\u001b[0m\u001b[0;36m20\u001b[0m\u001b[0;34m,\u001b[0m \u001b[0mid2word\u001b[0m\u001b[0;34m=\u001b[0m\u001b[0mid2word\u001b[0m\u001b[0;34m)\u001b[0m\u001b[0;34m\u001b[0m\u001b[0;34m\u001b[0m\u001b[0m\n\u001b[0m",
      "\u001b[0;31mAttributeError\u001b[0m: module 'gensim.models' has no attribute 'wrappers'"
     ]
    }
   ],
   "source": [
    "mallet_path = 'mallet-2.0.8/bin/mallet' # update this path\n",
    "ldamallet = gensim.models.wrappers.LdaMallet(mallet_path, corpus=corpus, num_topics=20, id2word=id2word)"
   ]
  },
  {
   "cell_type": "code",
   "execution_count": null,
   "id": "37a91463",
   "metadata": {},
   "outputs": [],
   "source": []
  }
 ],
 "metadata": {
  "kernelspec": {
   "display_name": "le_kingmakers",
   "language": "python",
   "name": "le_kingmakers"
  },
  "language_info": {
   "codemirror_mode": {
    "name": "ipython",
    "version": 3
   },
   "file_extension": ".py",
   "mimetype": "text/x-python",
   "name": "python",
   "nbconvert_exporter": "python",
   "pygments_lexer": "ipython3",
   "version": "3.8.6"
  },
  "toc": {
   "base_numbering": 1,
   "nav_menu": {},
   "number_sections": true,
   "sideBar": true,
   "skip_h1_title": false,
   "title_cell": "Table of Contents",
   "title_sidebar": "Contents",
   "toc_cell": false,
   "toc_position": {},
   "toc_section_display": true,
   "toc_window_display": false
  },
  "varInspector": {
   "cols": {
    "lenName": 16,
    "lenType": 16,
    "lenVar": 40
   },
   "kernels_config": {
    "python": {
     "delete_cmd_postfix": "",
     "delete_cmd_prefix": "del ",
     "library": "var_list.py",
     "varRefreshCmd": "print(var_dic_list())"
    },
    "r": {
     "delete_cmd_postfix": ") ",
     "delete_cmd_prefix": "rm(",
     "library": "var_list.r",
     "varRefreshCmd": "cat(var_dic_list()) "
    }
   },
   "types_to_exclude": [
    "module",
    "function",
    "builtin_function_or_method",
    "instance",
    "_Feature"
   ],
   "window_display": false
  }
 },
 "nbformat": 4,
 "nbformat_minor": 5
}
